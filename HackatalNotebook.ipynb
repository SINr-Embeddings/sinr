{
 "cells": [
  {
   "cell_type": "code",
   "execution_count": 1,
   "id": "ed329f42-fd26-456d-8cc5-3bfd86558004",
   "metadata": {},
   "outputs": [],
   "source": [
    "%load_ext autoreload\n",
    "%autoreload 2"
   ]
  },
  {
   "cell_type": "code",
   "execution_count": 2,
   "id": "52d527ce-7110-44ee-98e5-af0ab3a52223",
   "metadata": {},
   "outputs": [
    {
     "data": {
      "text/html": [
       "\n",
       "\t\t\t<script type=\"text/javascript\">\n",
       "\t\t\t<!--\n",
       "\t\t\t\t\n",
       "\t\t\t{\n",
       "\t\t\t\tvar element = document.getElementById('NetworKit_script');\n",
       "\t\t\t\tif (element) {\n",
       "\t\t\t\t\telement.parentNode.removeChild(element);\n",
       "\t\t\t\t}\n",
       "\t\t\t\telement = document.createElement('script');\n",
       "\t\t\t\telement.type = 'text/javascript';\n",
       "\t\t\t\telement.innerHTML = 'function NetworKit_pageEmbed(id) { var i, j; var elements; elements = document.getElementById(id).getElementsByClassName(\"Plot\"); for (i=0; i<elements.length; i++) { elements[i].id = id + \"_Plot_\" + i; var data = elements[i].getAttribute(\"data-image\").split(\"|\"); elements[i].removeAttribute(\"data-image\"); var content = \"<div class=\\\\\"Image\\\\\" id=\\\\\"\" + elements[i].id + \"_Image\\\\\" />\"; elements[i].innerHTML = content; elements[i].setAttribute(\"data-image-index\", 0); elements[i].setAttribute(\"data-image-length\", data.length); for (j=0; j<data.length; j++) { elements[i].setAttribute(\"data-image-\" + j, data[j]); } NetworKit_plotUpdate(elements[i]); elements[i].onclick = function (e) { NetworKit_overlayShow((e.target) ? e.target : e.srcElement); } } elements = document.getElementById(id).getElementsByClassName(\"HeatCell\"); for (i=0; i<elements.length; i++) { var data = parseFloat(elements[i].getAttribute(\"data-heat\")); var color = \"#00FF00\"; if (data <= 1 && data > 0) { color = \"hsla(0, 100%, 75%, \" + (data) + \")\"; } else if (data <= 0 && data >= -1) { color = \"hsla(240, 100%, 75%, \" + (-data) + \")\"; } elements[i].style.backgroundColor = color; } elements = document.getElementById(id).getElementsByClassName(\"Details\"); for (i=0; i<elements.length; i++) { elements[i].setAttribute(\"data-title\", \"-\"); NetworKit_toggleDetails(elements[i]); elements[i].onclick = function (e) { NetworKit_toggleDetails((e.target) ? e.target : e.srcElement); } } elements = document.getElementById(id).getElementsByClassName(\"MathValue\"); for (i=elements.length-1; i>=0; i--) { value = elements[i].innerHTML.trim(); if (value === \"nan\") { elements[i].parentNode.innerHTML = \"\" } } elements = document.getElementById(id).getElementsByClassName(\"SubCategory\"); for (i=elements.length-1; i>=0; i--) { value = elements[i].innerHTML.trim(); if (value === \"\") { elements[i].parentNode.removeChild(elements[i]) } } elements = document.getElementById(id).getElementsByClassName(\"Category\"); for (i=elements.length-1; i>=0; i--) { value = elements[i].innerHTML.trim(); if (value === \"\") { elements[i].parentNode.removeChild(elements[i]) } } var isFirefox = false; try { isFirefox = typeof InstallTrigger !== \"undefined\"; } catch (e) {} if (!isFirefox) { alert(\"Currently the function\\'s output is only fully supported by Firefox.\"); } } function NetworKit_plotUpdate(source) { var index = source.getAttribute(\"data-image-index\"); var data = source.getAttribute(\"data-image-\" + index); var image = document.getElementById(source.id + \"_Image\"); image.style.backgroundImage = \"url(\" + data + \")\"; } function NetworKit_showElement(id, show) { var element = document.getElementById(id); element.style.display = (show) ? \"block\" : \"none\"; } function NetworKit_overlayShow(source) { NetworKit_overlayUpdate(source); NetworKit_showElement(\"NetworKit_Overlay\", true); } function NetworKit_overlayUpdate(source) { document.getElementById(\"NetworKit_Overlay_Title\").innerHTML = source.title; var index = source.getAttribute(\"data-image-index\"); var data = source.getAttribute(\"data-image-\" + index); var image = document.getElementById(\"NetworKit_Overlay_Image\"); image.setAttribute(\"data-id\", source.id); image.style.backgroundImage = \"url(\" + data + \")\"; var link = document.getElementById(\"NetworKit_Overlay_Toolbar_Bottom_Save\"); link.href = data; link.download = source.title + \".svg\"; } function NetworKit_overlayImageShift(delta) { var image = document.getElementById(\"NetworKit_Overlay_Image\"); var source = document.getElementById(image.getAttribute(\"data-id\")); var index = parseInt(source.getAttribute(\"data-image-index\")); var length = parseInt(source.getAttribute(\"data-image-length\")); var index = (index+delta) % length; if (index < 0) { index = length + index; } source.setAttribute(\"data-image-index\", index); NetworKit_overlayUpdate(source); } function NetworKit_toggleDetails(source) { var childs = source.children; var show = false; if (source.getAttribute(\"data-title\") == \"-\") { source.setAttribute(\"data-title\", \"+\"); show = false; } else { source.setAttribute(\"data-title\", \"-\"); show = true; } for (i=0; i<childs.length; i++) { if (show) { childs[i].style.display = \"block\"; } else { childs[i].style.display = \"none\"; } } }';\n",
       "\t\t\t\telement.setAttribute('id', 'NetworKit_script');\n",
       "\t\t\t\tdocument.head.appendChild(element);\n",
       "\t\t\t}\n",
       "\t\t\n",
       "\t\t\t\t\n",
       "\t\t\t{\n",
       "\t\t\t\tvar element = document.getElementById('NetworKit_style');\n",
       "\t\t\t\tif (element) {\n",
       "\t\t\t\t\telement.parentNode.removeChild(element);\n",
       "\t\t\t\t}\n",
       "\t\t\t\telement = document.createElement('style');\n",
       "\t\t\t\telement.type = 'text/css';\n",
       "\t\t\t\telement.innerHTML = '.NetworKit_Page { font-family: Arial, Helvetica, sans-serif; font-size: 14px; } .NetworKit_Page .Value:before { font-family: Arial, Helvetica, sans-serif; font-size: 1.05em; content: attr(data-title) \":\"; margin-left: -2.5em; padding-right: 0.5em; } .NetworKit_Page .Details .Value:before { display: block; } .NetworKit_Page .Value { font-family: monospace; white-space: pre; padding-left: 2.5em; white-space: -moz-pre-wrap !important; white-space: -pre-wrap; white-space: -o-pre-wrap; white-space: pre-wrap; word-wrap: break-word; tab-size: 4; -moz-tab-size: 4; } .NetworKit_Page .Category { clear: both; padding-left: 1em; margin-bottom: 1.5em; } .NetworKit_Page .Category:before { content: attr(data-title); font-size: 1.75em; display: block; margin-left: -0.8em; margin-bottom: 0.5em; } .NetworKit_Page .SubCategory { margin-bottom: 1.5em; padding-left: 1em; } .NetworKit_Page .SubCategory:before { font-size: 1.6em; display: block; margin-left: -0.8em; margin-bottom: 0.5em; } .NetworKit_Page .SubCategory[data-title]:before { content: attr(data-title); } .NetworKit_Page .Block { display: block; } .NetworKit_Page .Block:after { content: \".\"; visibility: hidden; display: block; height: 0; clear: both; } .NetworKit_Page .Block .Thumbnail_Overview, .NetworKit_Page .Block .Thumbnail_ScatterPlot { width: 260px; float: left; } .NetworKit_Page .Block .Thumbnail_Overview img, .NetworKit_Page .Block .Thumbnail_ScatterPlot img { width: 260px; } .NetworKit_Page .Block .Thumbnail_Overview:before, .NetworKit_Page .Block .Thumbnail_ScatterPlot:before { display: block; text-align: center; font-weight: bold; } .NetworKit_Page .Block .Thumbnail_Overview:before { content: attr(data-title); } .NetworKit_Page .HeatCell { font-family: \"Courier New\", Courier, monospace; cursor: pointer; } .NetworKit_Page .HeatCell, .NetworKit_Page .HeatCellName { display: inline; padding: 0.1em; margin-right: 2px; background-color: #FFFFFF } .NetworKit_Page .HeatCellName { margin-left: 0.25em; } .NetworKit_Page .HeatCell:before { content: attr(data-heat); display: inline-block; color: #000000; width: 4em; text-align: center; } .NetworKit_Page .Measure { clear: both; } .NetworKit_Page .Measure .Details { cursor: pointer; } .NetworKit_Page .Measure .Details:before { content: \"[\" attr(data-title) \"]\"; display: block; } .NetworKit_Page .Measure .Details .Value { border-left: 1px dotted black; margin-left: 0.4em; padding-left: 3.5em; pointer-events: none; } .NetworKit_Page .Measure .Details .Spacer:before { content: \".\"; opacity: 0.0; pointer-events: none; } .NetworKit_Page .Measure .Plot { width: 440px; height: 440px; cursor: pointer; float: left; margin-left: -0.9em; margin-right: 20px; } .NetworKit_Page .Measure .Plot .Image { background-repeat: no-repeat; background-position: center center; background-size: contain; height: 100%; pointer-events: none; } .NetworKit_Page .Measure .Stat { width: 500px; float: left; } .NetworKit_Page .Measure .Stat .Group { padding-left: 1.25em; margin-bottom: 0.75em; } .NetworKit_Page .Measure .Stat .Group .Title { font-size: 1.1em; display: block; margin-bottom: 0.3em; margin-left: -0.75em; border-right-style: dotted; border-right-width: 1px; border-bottom-style: dotted; border-bottom-width: 1px; background-color: #D0D0D0; padding-left: 0.2em; } .NetworKit_Page .Measure .Stat .Group .List { -webkit-column-count: 3; -moz-column-count: 3; column-count: 3; } .NetworKit_Page .Measure .Stat .Group .List .Entry { position: relative; line-height: 1.75em; } .NetworKit_Page .Measure .Stat .Group .List .Entry[data-tooltip]:before { position: absolute; left: 0; top: -40px; background-color: #808080; color: #ffffff; height: 30px; line-height: 30px; border-radius: 5px; padding: 0 15px; content: attr(data-tooltip); white-space: nowrap; display: none; } .NetworKit_Page .Measure .Stat .Group .List .Entry[data-tooltip]:after { position: absolute; left: 15px; top: -10px; border-top: 7px solid #808080; border-left: 7px solid transparent; border-right: 7px solid transparent; content: \"\"; display: none; } .NetworKit_Page .Measure .Stat .Group .List .Entry[data-tooltip]:hover:after, .NetworKit_Page .Measure .Stat .Group .List .Entry[data-tooltip]:hover:before { display: block; } .NetworKit_Page .Measure .Stat .Group .List .Entry .MathValue { font-family: \"Courier New\", Courier, monospace; } .NetworKit_Page .Measure:after { content: \".\"; visibility: hidden; display: block; height: 0; clear: both; } .NetworKit_Page .PartitionPie { clear: both; } .NetworKit_Page .PartitionPie img { width: 600px; } #NetworKit_Overlay { left: 0px; top: 0px; display: none; position: absolute; width: 100%; height: 100%; background-color: rgba(0,0,0,0.6); z-index: 1000; } #NetworKit_Overlay_Title { position: absolute; color: white; transform: rotate(-90deg); width: 32em; height: 32em; padding-right: 0.5em; padding-top: 0.5em; text-align: right; font-size: 40px; } #NetworKit_Overlay .button { background: white; cursor: pointer; } #NetworKit_Overlay .button:before { size: 13px; display: inline-block; text-align: center; margin-top: 0.5em; margin-bottom: 0.5em; width: 1.5em; height: 1.5em; } #NetworKit_Overlay .icon-close:before { content: \"X\"; } #NetworKit_Overlay .icon-previous:before { content: \"P\"; } #NetworKit_Overlay .icon-next:before { content: \"N\"; } #NetworKit_Overlay .icon-save:before { content: \"S\"; } #NetworKit_Overlay_Toolbar_Top, #NetworKit_Overlay_Toolbar_Bottom { position: absolute; width: 40px; right: 13px; text-align: right; z-index: 1100; } #NetworKit_Overlay_Toolbar_Top { top: 0.5em; } #NetworKit_Overlay_Toolbar_Bottom { Bottom: 0.5em; } #NetworKit_Overlay_ImageContainer { position: absolute; top: 5%; left: 5%; height: 90%; width: 90%; background-repeat: no-repeat; background-position: center center; background-size: contain; } #NetworKit_Overlay_Image { height: 100%; width: 100%; background-repeat: no-repeat; background-position: center center; background-size: contain; }';\n",
       "\t\t\t\telement.setAttribute('id', 'NetworKit_style');\n",
       "\t\t\t\tdocument.head.appendChild(element);\n",
       "\t\t\t}\n",
       "\t\t\n",
       "\t\t\t\t\n",
       "\t\t\t{\n",
       "\t\t\t\tvar element = document.getElementById('NetworKit_Overlay');\n",
       "\t\t\t\tif (element) {\n",
       "\t\t\t\t\telement.parentNode.removeChild(element);\n",
       "\t\t\t\t}\n",
       "\t\t\t\telement = document.createElement('div');\n",
       "\t\t\t\telement.innerHTML = '<div id=\"NetworKit_Overlay_Toolbar_Top\"><div class=\"button icon-close\" id=\"NetworKit_Overlay_Close\" /></div><div id=\"NetworKit_Overlay_Title\" /> <div id=\"NetworKit_Overlay_ImageContainer\"> <div id=\"NetworKit_Overlay_Image\" /> </div> <div id=\"NetworKit_Overlay_Toolbar_Bottom\"> <div class=\"button icon-previous\" onclick=\"NetworKit_overlayImageShift(-1)\" /> <div class=\"button icon-next\" onclick=\"NetworKit_overlayImageShift(1)\" /> <a id=\"NetworKit_Overlay_Toolbar_Bottom_Save\"><div class=\"button icon-save\" /></a> </div>';\n",
       "\t\t\t\telement.setAttribute('id', 'NetworKit_Overlay');\n",
       "\t\t\t\tdocument.body.appendChild(element);\n",
       "\t\t\t\tdocument.getElementById('NetworKit_Overlay_Close').onclick = function (e) {\n",
       "\t\t\t\t\tdocument.getElementById('NetworKit_Overlay').style.display = 'none';\n",
       "\t\t\t\t}\n",
       "\t\t\t}\n",
       "\t\t\n",
       "\t\t\t-->\n",
       "\t\t\t</script>\n",
       "\t\t"
      ]
     },
     "metadata": {},
     "output_type": "display_data"
    }
   ],
   "source": [
    "from sinr import graph_embeddings as ge"
   ]
  },
  {
   "cell_type": "code",
   "execution_count": 3,
   "id": "c5c0ea3a-b583-4112-a23e-5c9e26773116",
   "metadata": {},
   "outputs": [
    {
     "name": "stderr",
     "output_type": "stream",
     "text": [
      "/lium/buster1/dugue/miniconda3-2023/envs/hackatal23/lib/python3.9/site-packages/sklearn/base.py:318: UserWarning: Trying to unpickle estimator NearestNeighbors from version 1.1.1 when using version 1.2.2. This might lead to breaking code or invalid results. Use at your own risk. For more info please refer to:\n",
      "https://scikit-learn.org/stable/model_persistence.html#security-maintainability-limitations\n",
      "  warnings.warn(\n"
     ]
    }
   ],
   "source": [
    "model = ge.SINrVectors(\"/export/home/lium/sguillot/git/sinr3/sinr/sinr_news\")\n",
    "model.load()"
   ]
  },
  {
   "cell_type": "markdown",
   "id": "d61a2158-8fb6-454b-b725-58afd2f712cd",
   "metadata": {},
   "source": [
    "# I - Loi\n",
    "\n",
    "## Corpus CDP FI"
   ]
  },
  {
   "cell_type": "code",
   "execution_count": 64,
   "id": "852fe085-f7b0-4f08-a9d2-f4ab1ccb4beb",
   "metadata": {},
   "outputs": [],
   "source": [
    "import pickle as pk\n",
    "mot = \"loi\"\n",
    "f = open(\"/lium/raid01_c/sguillot/Corpus/HackaTAL/target_vocab/\"+mot+\"_fi.pk\", 'rb')\n",
    "dico = pk.load(f)\n",
    "f.close()"
   ]
  },
  {
   "cell_type": "code",
   "execution_count": 65,
   "id": "ca9d541d-02cf-4062-866d-bff4889bdd8a",
   "metadata": {},
   "outputs": [
    {
     "data": {
      "text/plain": [
       "[('finances', 19),\n",
       " ('sécurité', 18),\n",
       " ('visant', 15),\n",
       " ('«', 11),\n",
       " ('plusieurs', 10),\n",
       " ('a', 9),\n",
       " ('programmation', 9),\n",
       " ('respect', 9),\n",
       " ('globale', 9),\n",
       " ('constitutionnelle', 8)]"
      ]
     },
     "execution_count": 65,
     "metadata": {},
     "output_type": "execute_result"
    }
   ],
   "source": [
    "sorted(dico.items(), key=lambda x:x[1], reverse=True)[:10]"
   ]
  },
  {
   "cell_type": "code",
   "execution_count": 66,
   "id": "fd0a8907-f822-4a63-a309-f1d7ea198d27",
   "metadata": {},
   "outputs": [
    {
     "data": {
      "text/plain": [
       "{'object ': 'loi',\n",
       " 'neighbors ': [('intérieure', 0.37),\n",
       "  ('rectificative', 0.37),\n",
       "  ('publiques', 0.37),\n",
       "  ('rendues', 0.35),\n",
       "  ('terrorisme', 0.32),\n",
       "  ('lutter', 0.32),\n",
       "  ('périmètre', 0.31),\n",
       "  ('garantir', 0.31),\n",
       "  ('cybercriminalité', 0.31),\n",
       "  ('criminalité', 0.31),\n",
       "  ('matière', 0.31),\n",
       "  ('prévention', 0.31),\n",
       "  ('glissières', 0.31),\n",
       "  ('assurer', 0.31),\n",
       "  ('renforcée', 0.31),\n",
       "  ('efficacement', 0.31),\n",
       "  ('lutte', 0.3),\n",
       "  ('délinquance', 0.3),\n",
       "  ('insurge', 0.3),\n",
       "  ('failles', 0.3),\n",
       "  ('protestent', 0.29),\n",
       "  ('protester', 0.29),\n",
       "  ('assainir', 0.29),\n",
       "  ('fléau', 0.29)]}"
      ]
     },
     "execution_count": 66,
     "metadata": {},
     "output_type": "execute_result"
    }
   ],
   "source": [
    "import numpy as np\n",
    "vector = model.transfert_hackatal(\"loi\", dico)\n",
    "model.most_similar_vector(\"loi\",vector.reshape(1, -1))"
   ]
  },
  {
   "cell_type": "code",
   "execution_count": 67,
   "id": "2e936b86-31e9-4cbc-9734-20f7d093788c",
   "metadata": {},
   "outputs": [
    {
     "data": {
      "text/plain": [
       "[{'dimension': 2965,\n",
       "  'value': True,\n",
       "  'stereotypes': [(0.1, 'dgfip'),\n",
       "   (0.09, 'rectificative'),\n",
       "   (0.07, 'akinwumi')]},\n",
       " {'dimension': 7646,\n",
       "  'value': True,\n",
       "  'stereotypes': [(0.1, 'routière'), (0.09, 'dgsi'), (0.08, 'glissières')]},\n",
       " {'dimension': 5231,\n",
       "  'value': True,\n",
       "  'stereotypes': [(0.03, 'saintesophie'),\n",
       "   (0.02, 'citait'),\n",
       "   (0.02, 'offenses')]},\n",
       " {'dimension': 5891,\n",
       "  'value': True,\n",
       "  'stereotypes': [(0.2, 'lutter'), (0.19, 'lutte'), (0.13, 'terrorisme')]},\n",
       " {'dimension': 6506,\n",
       "  'value': True,\n",
       "  'stereotypes': [(0.06, 'pluriannuelle'),\n",
       "   (0.03, 'éclectique'),\n",
       "   (0.03, 'quinquennale')]}]"
      ]
     },
     "execution_count": 67,
     "metadata": {},
     "output_type": "execute_result"
    }
   ],
   "source": [
    "model.get_obj_stereotypes_vector(vector)"
   ]
  },
  {
   "cell_type": "code",
   "execution_count": 68,
   "id": "1e78d04c-bba4-4b4d-b41f-48ba8251ffcb",
   "metadata": {},
   "outputs": [
    {
     "data": {
      "text/plain": [
       "[{'dimension': 2965,\n",
       "  'value': True,\n",
       "  'descriptors': [(0.1, 'dgfip'),\n",
       "   (0.09, 'rectificative'),\n",
       "   (0.06, 'publiques'),\n",
       "   (0.04, 'imprévues'),\n",
       "   (0.04, 'rendues'),\n",
       "   (0.04, 'finances'),\n",
       "   (0.03, 'assainir'),\n",
       "   (0.03, 'dépenses')]},\n",
       " {'dimension': 7646,\n",
       "  'value': True,\n",
       "  'descriptors': [(0.1, 'routière'),\n",
       "   (0.08, 'glissières'),\n",
       "   (0.06, 'intérieure'),\n",
       "   (0.05, 'périmètre'),\n",
       "   (0.02, 'sécurité')]},\n",
       " {'dimension': 5231,\n",
       "  'value': True,\n",
       "  'descriptors': [(0.02, 'citait'), (0.02, 'transfuge'), (0.0, 'visant')]},\n",
       " {'dimension': 5891,\n",
       "  'value': True,\n",
       "  'descriptors': [(0.2, 'lutter'),\n",
       "   (0.19, 'lutte'),\n",
       "   (0.13, 'terrorisme'),\n",
       "   (0.12, 'protester'),\n",
       "   (0.07, 'contre')]},\n",
       " {'dimension': 6506,\n",
       "  'value': True,\n",
       "  'descriptors': [(0.06, 'pluriannuelle'),\n",
       "   (0.03, 'quinquennale'),\n",
       "   (0.03, 'éclectique'),\n",
       "   (0.02, 'lpm'),\n",
       "   (0.02, 'préconisons'),\n",
       "   (0.02, 'interfaces'),\n",
       "   (0.02, 'variée'),\n",
       "   (0.01, 'programmation'),\n",
       "   (0.01, 'diversifiée')]}]"
      ]
     },
     "execution_count": 68,
     "metadata": {},
     "output_type": "execute_result"
    }
   ],
   "source": [
    "model.get_obj_descriptors_vector(vector)"
   ]
  },
  {
   "cell_type": "markdown",
   "id": "ca68fd7c-e5b6-4b1f-816d-8301b1928bff",
   "metadata": {},
   "source": [
    "## Corpus CDP RN"
   ]
  },
  {
   "cell_type": "code",
   "execution_count": 102,
   "id": "f9971f34-96d3-44c2-acc8-ca777f257269",
   "metadata": {},
   "outputs": [
    {
     "data": {
      "text/plain": [
       "[('de', 186),\n",
       " ('et', 154),\n",
       " ('la', 102),\n",
       " ('à', 74),\n",
       " ('qui', 70),\n",
       " ('droite', 70),\n",
       " ('les', 66),\n",
       " ('le', 59),\n",
       " ('en', 55),\n",
       " ('l', 55)]"
      ]
     },
     "execution_count": 102,
     "metadata": {},
     "output_type": "execute_result"
    }
   ],
   "source": [
    "import pickle as pk\n",
    "f = open(\"/lium/raid01_c/sguillot/Corpus/HackaTAL/target_vocab/\"+mot+\"_rn.pk\", 'rb')\n",
    "dico = pk.load(f)\n",
    "f.close()\n",
    "vector = model.transfert_hackatal(\"loi\", dico)\n",
    "sorted(dico.items(), key=lambda x:x[1], reverse=True)[:10]"
   ]
  },
  {
   "cell_type": "code",
   "execution_count": 103,
   "id": "aedde1c3-85b5-4ccb-aefc-bf7bfb63c94f",
   "metadata": {},
   "outputs": [
    {
     "data": {
      "text/plain": [
       "{'object ': 'loi',\n",
       " 'neighbors ': [('droite', 0.89),\n",
       "  ('gauche', 0.85),\n",
       "  ('aile', 0.83),\n",
       "  ('rive', 0.8),\n",
       "  ('linke', 0.78),\n",
       "  ('radicale', 0.78),\n",
       "  ('extrème', 0.73),\n",
       "  ('extreme', 0.7),\n",
       "  ('décomplexée', 0.63),\n",
       "  ('latéral', 0.62),\n",
       "  ('chemnitz', 0.62),\n",
       "  ('groupuscules', 0.61),\n",
       "  ('sympathisants', 0.6),\n",
       "  ('fn', 0.6),\n",
       "  ('syriza', 0.59),\n",
       "  ('électorat', 0.58),\n",
       "  ('pcf', 0.57),\n",
       "  ('skinheads', 0.56),\n",
       "  ('socialistes', 0.56),\n",
       "  ('populiste', 0.55),\n",
       "  ('podemos', 0.55),\n",
       "  ('front', 0.55),\n",
       "  ('ps', 0.54),\n",
       "  ('groupuscule', 0.53)]}"
      ]
     },
     "execution_count": 103,
     "metadata": {},
     "output_type": "execute_result"
    }
   ],
   "source": [
    "model.most_similar_vector(\"loi\",vector.reshape(1, -1))"
   ]
  },
  {
   "cell_type": "code",
   "execution_count": 104,
   "id": "58afbece-4a0f-40bb-80e6-248ae001c3b3",
   "metadata": {},
   "outputs": [
    {
     "data": {
      "text/plain": [
       "[{'dimension': 1353,\n",
       "  'value': True,\n",
       "  'stereotypes': [(0.15, 'extrême'), (0.13, 'linke'), (0.12, 'extrème')]},\n",
       " {'dimension': 7574,\n",
       "  'value': True,\n",
       "  'stereotypes': [(0.1, 'geographic'), (0.08, 'syli'), (0.07, 'front')]},\n",
       " {'dimension': 5891,\n",
       "  'value': True,\n",
       "  'stereotypes': [(0.2, 'lutter'), (0.19, 'lutte'), (0.13, 'terrorisme')]},\n",
       " {'dimension': 2140,\n",
       "  'value': True,\n",
       "  'stereotypes': [(0.2, 'nigel'), (0.17, 'europhobe'), (0.16, 'farage')]},\n",
       " {'dimension': 4404,\n",
       "  'value': True,\n",
       "  'stereotypes': [(0.16, 'copé'), (0.12, 'jeanfrançois'), (0.09, 'sart')]}]"
      ]
     },
     "execution_count": 104,
     "metadata": {},
     "output_type": "execute_result"
    }
   ],
   "source": [
    "model.get_obj_stereotypes_vector(vector)"
   ]
  },
  {
   "cell_type": "code",
   "execution_count": 72,
   "id": "9c2384b4-617a-4763-b1a4-0e4d330222c1",
   "metadata": {},
   "outputs": [
    {
     "data": {
      "text/plain": [
       "[{'dimension': 2965,\n",
       "  'value': True,\n",
       "  'descriptors': [(0.1, 'dgfip'),\n",
       "   (0.09, 'rectificative'),\n",
       "   (0.06, 'publiques'),\n",
       "   (0.04, 'imprévues'),\n",
       "   (0.04, 'rendues'),\n",
       "   (0.04, 'finances'),\n",
       "   (0.03, 'assainir'),\n",
       "   (0.03, 'dépenses')]},\n",
       " {'dimension': 2639,\n",
       "  'value': True,\n",
       "  'descriptors': [(0.09, 'extraditions'),\n",
       "   (0.08, 'apuiat'),\n",
       "   (0.05, 'khomri'),\n",
       "   (0.04, 'structurant'),\n",
       "   (0.0, 'projet')]},\n",
       " {'dimension': 5891,\n",
       "  'value': True,\n",
       "  'descriptors': [(0.2, 'lutter'),\n",
       "   (0.19, 'lutte'),\n",
       "   (0.13, 'terrorisme'),\n",
       "   (0.12, 'protester'),\n",
       "   (0.07, 'contre')]},\n",
       " {'dimension': 1025,\n",
       "  'value': True,\n",
       "  'descriptors': [(0.03, 'el'),\n",
       "   (0.01, 'hadji'),\n",
       "   (0.01, 'para'),\n",
       "   (0.0, 'affecté')]},\n",
       " {'dimension': 6506,\n",
       "  'value': True,\n",
       "  'descriptors': [(0.06, 'pluriannuelle'),\n",
       "   (0.03, 'quinquennale'),\n",
       "   (0.03, 'éclectique'),\n",
       "   (0.02, 'lpm'),\n",
       "   (0.02, 'préconisons'),\n",
       "   (0.02, 'interfaces'),\n",
       "   (0.02, 'variée'),\n",
       "   (0.01, 'programmation'),\n",
       "   (0.01, 'diversifiée')]}]"
      ]
     },
     "execution_count": 72,
     "metadata": {},
     "output_type": "execute_result"
    }
   ],
   "source": [
    "model.get_obj_descriptors_vector(vector)"
   ]
  },
  {
   "cell_type": "markdown",
   "id": "3c33efd3-1c6b-4d08-805e-14f794239b5d",
   "metadata": {},
   "source": [
    "# II - Crise\n",
    "\n",
    "## Corpus CDP FI"
   ]
  },
  {
   "cell_type": "code",
   "execution_count": 105,
   "id": "93c69d28-e050-4ecf-be04-ec404a8cf5b3",
   "metadata": {},
   "outputs": [
    {
     "data": {
      "text/plain": [
       "[('sanitaire', 19),\n",
       " ('a', 13),\n",
       " ('sociale', 7),\n",
       " ('économique', 6),\n",
       " ('sanitaire,', 5),\n",
       " ('sanitaire.', 5),\n",
       " ('covid-19', 4),\n",
       " ('inégalités', 3),\n",
       " ('actuelle', 3),\n",
       " ('écologique', 3)]"
      ]
     },
     "execution_count": 105,
     "metadata": {},
     "output_type": "execute_result"
    }
   ],
   "source": [
    "mot = \"crise\"\n",
    "f = open(\"/lium/raid01_c/sguillot/Corpus/HackaTAL/target_vocab/\"+mot+\"_fi.pk\", 'rb')\n",
    "dico = pk.load(f)\n",
    "f.close()\n",
    "vector = model.transfert_hackatal(mot, dico)\n",
    "sorted(dico.items(), key=lambda x:x[1], reverse=True)[:10]"
   ]
  },
  {
   "cell_type": "code",
   "execution_count": 106,
   "id": "45b15c70-9e21-4898-adb3-d91f77395bf0",
   "metadata": {},
   "outputs": [
    {
     "data": {
      "text/plain": [
       "{'object ': 'crise',\n",
       " 'neighbors ': [('cordon', 0.46),\n",
       "  ('anses', 0.33),\n",
       "  ('invs', 0.31),\n",
       "  ('sociale', 0.27),\n",
       "  ('environnementale', 0.26),\n",
       "  ('crise', 0.26),\n",
       "  ('cohésion', 0.25),\n",
       "  ('inclusion', 0.24),\n",
       "  ('envahissants', 0.24),\n",
       "  ('burn', 0.24),\n",
       "  ('sanitaire', 0.24),\n",
       "  ('mixité', 0.23),\n",
       "  ('conjoncture', 0.23),\n",
       "  ('travailleuse', 0.23),\n",
       "  ('acceptabilité', 0.21),\n",
       "  ('financière', 0.21),\n",
       "  ('prévoyance', 0.21),\n",
       "  ('marasme', 0.2),\n",
       "  ('médicosocial', 0.19),\n",
       "  ('politique', 0.19),\n",
       "  ('solidaire', 0.19),\n",
       "  ('cnps', 0.18),\n",
       "  ('couverture', 0.18),\n",
       "  ('antipoison', 0.18)]}"
      ]
     },
     "execution_count": 106,
     "metadata": {},
     "output_type": "execute_result"
    }
   ],
   "source": [
    "model.most_similar_vector(mot,vector.reshape(1, -1))"
   ]
  },
  {
   "cell_type": "code",
   "execution_count": 107,
   "id": "9ebc5e32-c89b-44f6-9fea-2f3700af3fde",
   "metadata": {},
   "outputs": [
    {
     "data": {
      "text/plain": [
       "[{'dimension': 2242,\n",
       "  'value': True,\n",
       "  'stereotypes': [(0.1, 'ombilical'), (0.05, 'invs'), (0.04, 'énergisantes')]},\n",
       " {'dimension': 345,\n",
       "  'value': True,\n",
       "  'stereotypes': [(0.08, 'acceptabilité'),\n",
       "   (0.07, 'cnps'),\n",
       "   (0.06, 'cohésion')]},\n",
       " {'dimension': 5706,\n",
       "  'value': True,\n",
       "  'stereotypes': [(0.06, 'nkok'), (0.06, 'eurasiatique'), (0.04, 'marasme')]},\n",
       " {'dimension': 1188,\n",
       "  'value': True,\n",
       "  'stereotypes': [(0.11, 'postélectorale'),\n",
       "   (0.11, 'subprimes'),\n",
       "   (0.06, 'subprime')]},\n",
       " {'dimension': 6789,\n",
       "  'value': True,\n",
       "  'stereotypes': [(0.04, 'intimement'),\n",
       "   (0.03, 'dégénérescence'),\n",
       "   (0.02, 'neutralisent')]}]"
      ]
     },
     "execution_count": 107,
     "metadata": {},
     "output_type": "execute_result"
    }
   ],
   "source": [
    "model.get_obj_stereotypes_vector(vector)"
   ]
  },
  {
   "cell_type": "code",
   "execution_count": 76,
   "id": "e00daa78-c84b-4b73-9718-45afdc5627e1",
   "metadata": {},
   "outputs": [
    {
     "data": {
      "text/plain": [
       "[{'dimension': 2242,\n",
       "  'value': True,\n",
       "  'descriptors': [(0.1, 'ombilical'),\n",
       "   (0.04, 'cordon'),\n",
       "   (0.03, 'envahissants'),\n",
       "   (0.03, 'anses'),\n",
       "   (0.02, 'médicosocial'),\n",
       "   (0.02, 'burn'),\n",
       "   (0.01, 'sanitaire')]},\n",
       " {'dimension': 345,\n",
       "  'value': True,\n",
       "  'descriptors': [(0.08, 'acceptabilité'),\n",
       "   (0.07, 'cnps'),\n",
       "   (0.06, 'cohésion'),\n",
       "   (0.05, 'mixité'),\n",
       "   (0.05, 'prévoyance'),\n",
       "   (0.05, 'travailleuse'),\n",
       "   (0.05, 'plfss'),\n",
       "   (0.05, 'inps'),\n",
       "   (0.03, 'ccas'),\n",
       "   (0.02, 'sociale'),\n",
       "   (0.02, 'inclusion')]},\n",
       " {'dimension': 5706,\n",
       "  'value': True,\n",
       "  'descriptors': [(0.06, 'eurasiatique'),\n",
       "   (0.04, 'marasme'),\n",
       "   (0.03, 'conjoncture'),\n",
       "   (0.0, 'économique')]},\n",
       " {'dimension': 1188,\n",
       "  'value': True,\n",
       "  'descriptors': [(0.11, 'postélectorale'),\n",
       "   (0.11, 'subprimes'),\n",
       "   (0.06, 'subprime'),\n",
       "   (0.06, 'aggraverait'),\n",
       "   (0.05, 'secoue'),\n",
       "   (0.05, 'traverse'),\n",
       "   (0.04, 'sociopolitique'),\n",
       "   (0.03, 'crise'),\n",
       "   (0.03, 'financière')]},\n",
       " {'dimension': 6789,\n",
       "  'value': True,\n",
       "  'descriptors': [(0.04, 'intimement'),\n",
       "   (0.03, 'dégénérescence'),\n",
       "   (0.02, 'neutralisent'),\n",
       "   (0.01, 'liée')]}]"
      ]
     },
     "execution_count": 76,
     "metadata": {},
     "output_type": "execute_result"
    }
   ],
   "source": [
    "model.get_obj_descriptors_vector(vector)"
   ]
  },
  {
   "cell_type": "markdown",
   "id": "382cfcc4-0870-429f-9706-7a7aa44b74dd",
   "metadata": {},
   "source": [
    "## Corpus CDP RN"
   ]
  },
  {
   "cell_type": "code",
   "execution_count": 77,
   "id": "438b0940-1260-4baf-a9d2-d44e847e8b40",
   "metadata": {},
   "outputs": [
    {
     "data": {
      "text/plain": [
       "[('sanitaire', 93),\n",
       " ('migratoire', 70),\n",
       " ('économique', 62),\n",
       " ('sans', 45),\n",
       " ('a', 45),\n",
       " ('sociale', 35),\n",
       " ('sanitaire,', 34),\n",
       " ('précédent', 26),\n",
       " ('sanitaire.', 23),\n",
       " ('logement', 17)]"
      ]
     },
     "execution_count": 77,
     "metadata": {},
     "output_type": "execute_result"
    }
   ],
   "source": [
    "f = open(\"/lium/raid01_c/sguillot/Corpus/HackaTAL/target_vocab/\"+mot+\"_rn.pk\", 'rb')\n",
    "dico = pk.load(f)\n",
    "f.close()\n",
    "vector = model.transfert_hackatal(mot, dico)\n",
    "sorted(dico.items(), key=lambda x:x[1], reverse=True)[:10]"
   ]
  },
  {
   "cell_type": "code",
   "execution_count": 78,
   "id": "480be731-c951-415f-b238-1271a7310f0e",
   "metadata": {},
   "outputs": [
    {
     "data": {
      "text/plain": [
       "{'object ': 'crise',\n",
       " 'neighbors ': [('migratoires', 0.4),\n",
       "  ('crise', 0.38),\n",
       "  ('cordon', 0.36),\n",
       "  ('conjoncture', 0.34),\n",
       "  ('marasme', 0.31),\n",
       "  ('flux', 0.29),\n",
       "  ('traverse', 0.29),\n",
       "  ('inclusion', 0.29),\n",
       "  ('secoue', 0.27),\n",
       "  ('sociale', 0.27),\n",
       "  ('feedly', 0.27),\n",
       "  ('migratoire', 0.27),\n",
       "  ('agrégateur', 0.26),\n",
       "  ('anses', 0.26),\n",
       "  ('financière', 0.26),\n",
       "  ('profonde', 0.24),\n",
       "  ('invs', 0.24),\n",
       "  ('morose', 0.24),\n",
       "  ('compromettrait', 0.23),\n",
       "  ('modèle', 0.23),\n",
       "  ('environnementale', 0.23),\n",
       "  ('juguler', 0.23),\n",
       "  ('subprimes', 0.23),\n",
       "  ('postélectorale', 0.22)]}"
      ]
     },
     "execution_count": 78,
     "metadata": {},
     "output_type": "execute_result"
    }
   ],
   "source": [
    "model.most_similar_vector(mot,vector.reshape(1, -1))"
   ]
  },
  {
   "cell_type": "code",
   "execution_count": 79,
   "id": "1a553905-49f3-47e6-a54c-a52682ca9eb3",
   "metadata": {},
   "outputs": [
    {
     "data": {
      "text/plain": [
       "[{'dimension': 2242,\n",
       "  'value': True,\n",
       "  'stereotypes': [(0.1, 'ombilical'), (0.05, 'invs'), (0.04, 'énergisantes')]},\n",
       " {'dimension': 1276,\n",
       "  'value': True,\n",
       "  'stereotypes': [(0.07, 'feedly'),\n",
       "   (0.07, 'agrégateur'),\n",
       "   (0.06, 'migratoires')]},\n",
       " {'dimension': 5706,\n",
       "  'value': True,\n",
       "  'stereotypes': [(0.06, 'nkok'), (0.06, 'eurasiatique'), (0.04, 'marasme')]},\n",
       " {'dimension': 1188,\n",
       "  'value': True,\n",
       "  'stereotypes': [(0.11, 'postélectorale'),\n",
       "   (0.11, 'subprimes'),\n",
       "   (0.06, 'subprime')]},\n",
       " {'dimension': 345,\n",
       "  'value': True,\n",
       "  'stereotypes': [(0.08, 'acceptabilité'),\n",
       "   (0.07, 'cnps'),\n",
       "   (0.06, 'cohésion')]}]"
      ]
     },
     "execution_count": 79,
     "metadata": {},
     "output_type": "execute_result"
    }
   ],
   "source": [
    "model.get_obj_stereotypes_vector(vector)"
   ]
  },
  {
   "cell_type": "code",
   "execution_count": 80,
   "id": "59bf2eb8-32b7-4d58-a84d-d60a983c5e2e",
   "metadata": {},
   "outputs": [
    {
     "data": {
      "text/plain": [
       "[{'dimension': 2242,\n",
       "  'value': True,\n",
       "  'descriptors': [(0.1, 'ombilical'),\n",
       "   (0.04, 'cordon'),\n",
       "   (0.03, 'envahissants'),\n",
       "   (0.03, 'anses'),\n",
       "   (0.02, 'médicosocial'),\n",
       "   (0.02, 'burn'),\n",
       "   (0.01, 'sanitaire')]},\n",
       " {'dimension': 1276,\n",
       "  'value': True,\n",
       "  'descriptors': [(0.07, 'agrégateur'),\n",
       "   (0.07, 'feedly'),\n",
       "   (0.06, 'migratoires'),\n",
       "   (0.05, 'reader'),\n",
       "   (0.04, 'trésoreries'),\n",
       "   (0.03, 'digg'),\n",
       "   (0.03, 'flux'),\n",
       "   (0.02, 'rss'),\n",
       "   (0.01, 'migratoire'),\n",
       "   (0.01, 'trésorerie')]},\n",
       " {'dimension': 5706,\n",
       "  'value': True,\n",
       "  'descriptors': [(0.06, 'eurasiatique'),\n",
       "   (0.04, 'marasme'),\n",
       "   (0.03, 'conjoncture'),\n",
       "   (0.0, 'économique')]},\n",
       " {'dimension': 1188,\n",
       "  'value': True,\n",
       "  'descriptors': [(0.11, 'postélectorale'),\n",
       "   (0.11, 'subprimes'),\n",
       "   (0.06, 'subprime'),\n",
       "   (0.06, 'aggraverait'),\n",
       "   (0.05, 'secoue'),\n",
       "   (0.05, 'traverse'),\n",
       "   (0.04, 'sociopolitique'),\n",
       "   (0.03, 'crise'),\n",
       "   (0.03, 'financière')]},\n",
       " {'dimension': 345,\n",
       "  'value': True,\n",
       "  'descriptors': [(0.08, 'acceptabilité'),\n",
       "   (0.07, 'cnps'),\n",
       "   (0.06, 'cohésion'),\n",
       "   (0.05, 'mixité'),\n",
       "   (0.05, 'prévoyance'),\n",
       "   (0.05, 'travailleuse'),\n",
       "   (0.05, 'plfss'),\n",
       "   (0.05, 'inps'),\n",
       "   (0.03, 'ccas'),\n",
       "   (0.02, 'sociale'),\n",
       "   (0.02, 'inclusion')]}]"
      ]
     },
     "execution_count": 80,
     "metadata": {},
     "output_type": "execute_result"
    }
   ],
   "source": [
    "model.get_obj_descriptors_vector(vector)"
   ]
  },
  {
   "cell_type": "markdown",
   "id": "f2718a2a-edb8-4ce8-9b35-c56c7d6f53cc",
   "metadata": {},
   "source": [
    "# Emploi\n",
    "\n",
    "## Corpus CDP FI"
   ]
  },
  {
   "cell_type": "code",
   "execution_count": 81,
   "id": "18c9f675-e922-4328-a59c-2b996ab9ed79",
   "metadata": {},
   "outputs": [
    {
     "data": {
      "text/plain": [
       "[('depuis', 2),\n",
       " ('déscolarisation', 1),\n",
       " ('isolement', 1),\n",
       " ('services', 1),\n",
       " ('publics', 1),\n",
       " ('fin', 1),\n",
       " ('pays', 1),\n",
       " ('ordonnances', 1),\n",
       " ('mauvaise', 1),\n",
       " ('réponse', 1)]"
      ]
     },
     "execution_count": 81,
     "metadata": {},
     "output_type": "execute_result"
    }
   ],
   "source": [
    "mot = \"emploi\"\n",
    "f = open(\"/lium/raid01_c/sguillot/Corpus/HackaTAL/target_vocab/\"+mot+\"_fi.pk\", 'rb')\n",
    "dico = pk.load(f)\n",
    "f.close()\n",
    "vector = model.transfert_hackatal(mot, dico)\n",
    "sorted(dico.items(), key=lambda x:x[1], reverse=True)[:10]"
   ]
  },
  {
   "cell_type": "code",
   "execution_count": 82,
   "id": "4e42601c-6b96-4b41-b729-983676a3d428",
   "metadata": {},
   "outputs": [
    {
     "data": {
      "text/plain": [
       "{'object ': 'emploi',\n",
       " 'neighbors ': [('domaines', 0.25),\n",
       "  ('socioéconomique', 0.25),\n",
       "  ('doter', 0.24),\n",
       "  ('détérioration', 0.24),\n",
       "  ('développement', 0.23),\n",
       "  ('amélioration', 0.23),\n",
       "  ('mohammad', 0.23),\n",
       "  ('pauvreté', 0.23),\n",
       "  ('contribuer', 0.23),\n",
       "  ('coopération', 0.23),\n",
       "  ('priorités', 0.22),\n",
       "  ('sousrégion', 0.22),\n",
       "  ('mondialisation', 0.22),\n",
       "  ('renforcement', 0.22),\n",
       "  ('migration', 0.22),\n",
       "  ('matière', 0.21),\n",
       "  ('sécuritaire', 0.21),\n",
       "  ('ministère', 0.21),\n",
       "  ('injustices', 0.21),\n",
       "  ('délétère', 0.21),\n",
       "  ('intégrité', 0.21),\n",
       "  ('iranienne', 0.21),\n",
       "  ('gouvernance', 0.21),\n",
       "  ('insécurité', 0.21)]}"
      ]
     },
     "execution_count": 82,
     "metadata": {},
     "output_type": "execute_result"
    }
   ],
   "source": [
    "model.most_similar_vector(mot,vector.reshape(1, -1))"
   ]
  },
  {
   "cell_type": "code",
   "execution_count": 83,
   "id": "8a24d1ff-34b6-4da1-9a8c-1a5398fe9e32",
   "metadata": {},
   "outputs": [
    {
     "data": {
      "text/plain": [
       "[{'dimension': 630,\n",
       "  'value': True,\n",
       "  'stereotypes': [(0.71, 'souques'), (0.31, 'creissels'), (0.21, 'achille')]},\n",
       " {'dimension': 2386,\n",
       "  'value': True,\n",
       "  'stereotypes': [(0.06, 'délétère'), (0.05, 'anuna'), (0.04, 'katowice')]},\n",
       " {'dimension': 3141,\n",
       "  'value': True,\n",
       "  'stereotypes': [(0.09, 'loyaux'),\n",
       "   (0.08, 'déconcentrés'),\n",
       "   (0.07, 'défavorablement')]},\n",
       " {'dimension': 1185,\n",
       "  'value': True,\n",
       "  'stereotypes': [(0.11, 'préoccupante'),\n",
       "   (0.1, 'envenimée'),\n",
       "   (0.09, 'alarmante')]},\n",
       " {'dimension': 435,\n",
       "  'value': True,\n",
       "  'stereotypes': [(0.06, 'accomplis'), (0.04, 'undp'), (0.03, 'réservez')]}]"
      ]
     },
     "execution_count": 83,
     "metadata": {},
     "output_type": "execute_result"
    }
   ],
   "source": [
    "model.get_obj_stereotypes_vector(vector)"
   ]
  },
  {
   "cell_type": "code",
   "execution_count": 84,
   "id": "5600ae1b-0c9c-49c5-b8b4-28c49d8f1078",
   "metadata": {},
   "outputs": [
    {
     "data": {
      "text/plain": [
       "[{'dimension': 630,\n",
       "  'value': True,\n",
       "  'descriptors': [(0.71, 'souques'),\n",
       "   (0.31, 'creissels'),\n",
       "   (0.21, 'achille'),\n",
       "   (0.13, 'domiciliés'),\n",
       "   (0.08, 'tendon'),\n",
       "   (0.08, 'capelle'),\n",
       "   (0.08, 'saintaffrique'),\n",
       "   (0.07, 'pieix'),\n",
       "   (0.07, 'renélévesque'),\n",
       "   (0.07, 'domiciliée'),\n",
       "   (0.06, 'domicilié'),\n",
       "   (0.04, 'mandarous'),\n",
       "   (0.04, 'aveyron'),\n",
       "   (0.04, 'boulevard'),\n",
       "   (0.04, 'retraité'),\n",
       "   (0.04, 'retraitée'),\n",
       "   (0.04, 'meisenthal'),\n",
       "   (0.03, 'macdonald'),\n",
       "   (0.03, 'lozère'),\n",
       "   (0.03, 'laurier'),\n",
       "   (0.02, 'clemenceau')]},\n",
       " {'dimension': 2386,\n",
       "  'value': True,\n",
       "  'descriptors': [(0.06, 'délétère'),\n",
       "   (0.04, 'apaisé'),\n",
       "   (0.04, 'décrisper'),\n",
       "   (0.03, 'malsain'),\n",
       "   (0.03, 'reconstitue'),\n",
       "   (0.02, 'climat'),\n",
       "   (0.02, 'tempéré'),\n",
       "   (0.02, 'propice'),\n",
       "   (0.02, 'serein')]},\n",
       " {'dimension': 3141,\n",
       "  'value': True,\n",
       "  'descriptors': [(0.08, 'déconcentrés'),\n",
       "   (0.06, 'secrets'),\n",
       "   (0.05, 'renseignements'),\n",
       "   (0.05, 'compétents'),\n",
       "   (0.05, 'attacher'),\n",
       "   (0.04, 'offerts'),\n",
       "   (0.02, 'services')]},\n",
       " {'dimension': 1185,\n",
       "  'value': True,\n",
       "  'descriptors': [(0.11, 'préoccupante'),\n",
       "   (0.1, 'envenimée'),\n",
       "   (0.09, 'alarmante'),\n",
       "   (0.08, 'irrégulière'),\n",
       "   (0.08, 'régularisée'),\n",
       "   (0.08, 'inextricable'),\n",
       "   (0.07, 'empirer'),\n",
       "   (0.07, 'retournement'),\n",
       "   (0.07, 'précaire'),\n",
       "   (0.07, 'régulariser'),\n",
       "   (0.07, 'détériorée'),\n",
       "   (0.06, 'dégrade'),\n",
       "   (0.06, 'dégradée'),\n",
       "   (0.06, 'normalisée'),\n",
       "   (0.06, 'envenime'),\n",
       "   (0.06, 'dégénère'),\n",
       "   (0.06, 'prévaut'),\n",
       "   (0.06, 'régularisé'),\n",
       "   (0.06, 'ubuesque'),\n",
       "   (0.06, 'confuse'),\n",
       "   (0.05, 'envenimer'),\n",
       "   (0.05, 'aggrave'),\n",
       "   (0.05, 'prévalant'),\n",
       "   (0.05, 'détériorer'),\n",
       "   (0.05, 'sécuritaire'),\n",
       "   (0.05, 'paradoxale'),\n",
       "   (0.04, 'handicap'),\n",
       "   (0.04, 'situation'),\n",
       "   (0.04, 'stabilisée')]},\n",
       " {'dimension': 435,\n",
       "  'value': True,\n",
       "  'descriptors': [(0.06, 'accomplis'),\n",
       "   (0.03, 'niederkorn'),\n",
       "   (0.02, 'réalisés'),\n",
       "   (0.02, 'proposerai'),\n",
       "   (0.02, 'significatifs'),\n",
       "   (0.02, 'progrès')]}]"
      ]
     },
     "execution_count": 84,
     "metadata": {},
     "output_type": "execute_result"
    }
   ],
   "source": [
    "model.get_obj_descriptors_vector(vector)"
   ]
  },
  {
   "cell_type": "markdown",
   "id": "d74f67d7-2d4b-4b17-b15d-a1c41255c745",
   "metadata": {},
   "source": [
    "## Corpus CDP RN"
   ]
  },
  {
   "cell_type": "code",
   "execution_count": 85,
   "id": "8a124f6d-410b-4a27-9500-a022b1c1e60e",
   "metadata": {},
   "outputs": [
    {
     "data": {
      "text/plain": [
       "[('sociales', 30),\n",
       " ('affaires', 25),\n",
       " ('a', 25),\n",
       " ('france', 21),\n",
       " ('français', 20),\n",
       " ('cette', 14),\n",
       " ('jeunes', 13),\n",
       " ('logement', 13),\n",
       " ('plus', 13),\n",
       " ('parlement', 11)]"
      ]
     },
     "execution_count": 85,
     "metadata": {},
     "output_type": "execute_result"
    }
   ],
   "source": [
    "f = open(\"/lium/raid01_c/sguillot/Corpus/HackaTAL/target_vocab/\"+mot+\"_rn.pk\", 'rb')\n",
    "dico = pk.load(f)\n",
    "f.close()\n",
    "vector = model.transfert_hackatal(mot, dico)\n",
    "sorted(dico.items(), key=lambda x:x[1], reverse=True)[:10]"
   ]
  },
  {
   "cell_type": "code",
   "execution_count": 86,
   "id": "65787612-346b-41f1-9149-6c1882e9f480",
   "metadata": {},
   "outputs": [
    {
     "data": {
      "text/plain": [
       "{'object ': 'emploi',\n",
       " 'neighbors ': [('othmani', 0.38),\n",
       "  ('affaires', 0.37),\n",
       "  ('courantes', 0.37),\n",
       "  ('benkirane', 0.37),\n",
       "  ('telquelmael', 0.37),\n",
       "  ('abdelilah', 0.37),\n",
       "  ('mezouar', 0.37),\n",
       "  ('céder', 0.36),\n",
       "  ('étrangères', 0.36),\n",
       "  ('quitté', 0.35),\n",
       "  ('salariales', 0.35),\n",
       "  ('intérieures', 0.35),\n",
       "  ('expatriés', 0.34),\n",
       "  ('exonérées', 0.34),\n",
       "  ('saâdeddine', 0.34),\n",
       "  ('etrangères', 0.33),\n",
       "  ('igas', 0.33),\n",
       "  ('inégalités', 0.33),\n",
       "  ('cotisations', 0.33),\n",
       "  ('demande', 0.33),\n",
       "  ('viceministre', 0.33),\n",
       "  ('criantes', 0.32),\n",
       "  ('ingérer', 0.31),\n",
       "  ('consolidé', 0.31)]}"
      ]
     },
     "execution_count": 86,
     "metadata": {},
     "output_type": "execute_result"
    }
   ],
   "source": [
    "model.most_similar_vector(mot,vector.reshape(1, -1))"
   ]
  },
  {
   "cell_type": "code",
   "execution_count": 87,
   "id": "56cc2589-a348-4581-a273-a955942a83be",
   "metadata": {},
   "outputs": [
    {
     "data": {
      "text/plain": [
       "[{'dimension': 496,\n",
       "  'value': True,\n",
       "  'stereotypes': [(0.1, 'exonérées'), (0.09, 'crds'), (0.06, 'patronales')]},\n",
       " {'dimension': 65,\n",
       "  'value': True,\n",
       "  'stereotypes': [(0.61, 'mezouar'),\n",
       "   (0.55, 'telquelmael'),\n",
       "   (0.49, 'benkirane')]},\n",
       " {'dimension': 4745,\n",
       "  'value': True,\n",
       "  'stereotypes': [(0.11, 'consult'),\n",
       "   (0.08, 'prévisionniste'),\n",
       "   (0.07, 'marcotte')]},\n",
       " {'dimension': 2105,\n",
       "  'value': True,\n",
       "  'stereotypes': [(0.14, 'soustitré'),\n",
       "   (0.09, 'doublages'),\n",
       "   (0.08, 'soustitrée')]},\n",
       " {'dimension': 7282,\n",
       "  'value': True,\n",
       "  'stereotypes': [(0.05, 'ppe'), (0.05, 'antifraude'), (0.05, 'surendettés')]}]"
      ]
     },
     "execution_count": 87,
     "metadata": {},
     "output_type": "execute_result"
    }
   ],
   "source": [
    "model.get_obj_stereotypes_vector(vector)"
   ]
  },
  {
   "cell_type": "code",
   "execution_count": 89,
   "id": "d5b51004-c044-4b28-b668-7d0669dc7131",
   "metadata": {},
   "outputs": [
    {
     "data": {
      "text/plain": [
       "[{'dimension': 496,\n",
       "  'value': True,\n",
       "  'descriptors': [(0.1, 'exonérées'),\n",
       "   (0.09, 'crds'),\n",
       "   (0.06, 'csg'),\n",
       "   (0.06, 'criantes'),\n",
       "   (0.05, 'cotisations'),\n",
       "   (0.05, 'exonérée'),\n",
       "   (0.05, 'salariales'),\n",
       "   (0.04, 'constatetelle'),\n",
       "   (0.04, 'accroissent'),\n",
       "   (0.04, 'inégalités'),\n",
       "   (0.03, 'injustices'),\n",
       "   (0.03, 'sociales'),\n",
       "   (0.02, 'précocité')]},\n",
       " {'dimension': 65,\n",
       "  'value': True,\n",
       "  'descriptors': [(0.61, 'mezouar'),\n",
       "   (0.55, 'telquelmael'),\n",
       "   (0.49, 'benkirane'),\n",
       "   (0.42, 'othmani'),\n",
       "   (0.24, 'céder'),\n",
       "   (0.21, 'étrangères'),\n",
       "   (0.16, 'affaires'),\n",
       "   (0.13, 'quitté'),\n",
       "   (0.12, 'etrangères'),\n",
       "   (0.11, 'saâdeddine'),\n",
       "   (0.11, 'chiffre'),\n",
       "   (0.1, 'abdelilah'),\n",
       "   (0.1, 'viceministre'),\n",
       "   (0.1, 'salaheddine')]},\n",
       " {'dimension': 4745,\n",
       "  'value': True,\n",
       "  'descriptors': [(0.11, 'consult'),\n",
       "   (0.08, 'prévisionniste'),\n",
       "   (0.06, 'clémente'),\n",
       "   (0.06, 'made'),\n",
       "   (0.06, 'capricieuse'),\n",
       "   (0.05, 'domtom'),\n",
       "   (0.05, 'météo'),\n",
       "   (0.04, 'métropolitaine'),\n",
       "   (0.04, 'morocco'),\n",
       "   (0.02, 'france')]},\n",
       " {'dimension': 2105,\n",
       "  'value': True,\n",
       "  'descriptors': [(0.14, 'soustitré'),\n",
       "   (0.09, 'doublages'),\n",
       "   (0.08, 'soustitrée'),\n",
       "   (0.08, 'trilingue'),\n",
       "   (0.06, 'naturalisé'),\n",
       "   (0.05, 'polyglotte'),\n",
       "   (0.04, 'anglais'),\n",
       "   (0.04, 'couramment'),\n",
       "   (0.01, 'français')]},\n",
       " {'dimension': 7282,\n",
       "  'value': True,\n",
       "  'descriptors': [(0.05, 'ppe'),\n",
       "   (0.05, 'surendettés'),\n",
       "   (0.04, 'européen'),\n",
       "   (0.03, 'eurodéputé'),\n",
       "   (0.03, 'parlement')]}]"
      ]
     },
     "execution_count": 89,
     "metadata": {},
     "output_type": "execute_result"
    }
   ],
   "source": [
    "model.get_obj_descriptors_vector(vector)"
   ]
  },
  {
   "cell_type": "markdown",
   "id": "9c02f057-8df0-4099-92f5-d4250bfd36a4",
   "metadata": {},
   "source": [
    "# Européenne\n",
    "\n",
    "## Corpus CDP FI"
   ]
  },
  {
   "cell_type": "code",
   "execution_count": 90,
   "id": "07b22c8f-a48a-477f-9f13-57e2fb7a812b",
   "metadata": {},
   "outputs": [
    {
     "data": {
      "text/plain": [
       "[('a', 8),\n",
       " ('doit', 5),\n",
       " ('autre', 4),\n",
       " ('état', 4),\n",
       " ('projet', 4),\n",
       " ('droits', 4),\n",
       " ('nouveau', 4),\n",
       " ('fait', 3),\n",
       " ('fois', 3),\n",
       " ('états', 3)]"
      ]
     },
     "execution_count": 90,
     "metadata": {},
     "output_type": "execute_result"
    }
   ],
   "source": [
    "mot = \"européenne\"\n",
    "f = open(\"/lium/raid01_c/sguillot/Corpus/HackaTAL/target_vocab/\"+mot+\"_fi.pk\", 'rb')\n",
    "dico = pk.load(f)\n",
    "f.close()\n",
    "vector = model.transfert_hackatal(mot, dico)\n",
    "sorted(dico.items(), key=lambda x:x[1], reverse=True)[:10]"
   ]
  },
  {
   "cell_type": "code",
   "execution_count": 91,
   "id": "bd4b20de-6c25-4c8b-bf77-6cb8371b210b",
   "metadata": {},
   "outputs": [
    {
     "data": {
      "text/plain": [
       "{'object ': 'européenne',\n",
       " 'neighbors ': [('mouture', 0.38),\n",
       "  ('civiques', 0.38),\n",
       "  ('violations', 0.37),\n",
       "  ('bafoués', 0.36),\n",
       "  ('génération', 0.35),\n",
       "  ('providentiel', 0.35),\n",
       "  ('droits', 0.34),\n",
       "  ('défenseurs', 0.34),\n",
       "  ('vieil', 0.34),\n",
       "  ('cndh', 0.33),\n",
       "  ('humains', 0.32),\n",
       "  ('violés', 0.32),\n",
       "  ('zélande', 0.32),\n",
       "  ('fondamentaux', 0.32),\n",
       "  ('fidh', 0.32),\n",
       "  ('calédonie', 0.32),\n",
       "  ('fois', 0.32),\n",
       "  ('garantis', 0.31),\n",
       "  ('devoirs', 0.31),\n",
       "  ('coutume', 0.31),\n",
       "  ('douane', 0.3),\n",
       "  ('énième', 0.3),\n",
       "  ('hcdh', 0.3),\n",
       "  ('amdh', 0.29)]}"
      ]
     },
     "execution_count": 91,
     "metadata": {},
     "output_type": "execute_result"
    }
   ],
   "source": [
    "model.most_similar_vector(mot,vector.reshape(1, -1))"
   ]
  },
  {
   "cell_type": "code",
   "execution_count": 92,
   "id": "ef99e5a0-88bf-4bae-8f57-65968f18b5f2",
   "metadata": {},
   "outputs": [
    {
     "data": {
      "text/plain": [
       "[{'dimension': 3599,\n",
       "  'value': True,\n",
       "  'stereotypes': [(0.12, 'bafoués'), (0.12, 'violations'), (0.11, 'cnidh')]},\n",
       " {'dimension': 4665,\n",
       "  'value': True,\n",
       "  'stereotypes': [(0.27, 'visionnée'),\n",
       "   (0.1, 'zélande'),\n",
       "   (0.1, 'poinçonneur')]},\n",
       " {'dimension': 1188,\n",
       "  'value': True,\n",
       "  'stereotypes': [(0.11, 'postélectorale'),\n",
       "   (0.11, 'subprimes'),\n",
       "   (0.06, 'subprime')]},\n",
       " {'dimension': 5423,\n",
       "  'value': True,\n",
       "  'stereotypes': [(0.13, 'végétatif'), (0.11, 'ébriété'), (0.09, 'piteux')]},\n",
       " {'dimension': 2639,\n",
       "  'value': True,\n",
       "  'stereotypes': [(0.09, 'extraditions'),\n",
       "   (0.08, 'apuiat'),\n",
       "   (0.06, 'transcanada')]}]"
      ]
     },
     "execution_count": 92,
     "metadata": {},
     "output_type": "execute_result"
    }
   ],
   "source": [
    "model.get_obj_stereotypes_vector(vector)"
   ]
  },
  {
   "cell_type": "code",
   "execution_count": 93,
   "id": "1596d3a9-8990-4358-b4d6-465aad2617f4",
   "metadata": {},
   "outputs": [
    {
     "data": {
      "text/plain": [
       "[{'dimension': 3599,\n",
       "  'value': True,\n",
       "  'descriptors': [(0.12, 'violations'),\n",
       "   (0.12, 'bafoués'),\n",
       "   (0.1, 'hcdh'),\n",
       "   (0.1, 'droits'),\n",
       "   (0.1, 'providentiel'),\n",
       "   (0.1, 'cndh'),\n",
       "   (0.1, 'interaméricaine'),\n",
       "   (0.1, 'civiques'),\n",
       "   (0.09, 'laddh'),\n",
       "   (0.09, 'cedh'),\n",
       "   (0.08, 'violés'),\n",
       "   (0.05, 'homme')]},\n",
       " {'dimension': 4665,\n",
       "  'value': True,\n",
       "  'descriptors': [(0.27, 'visionnée'),\n",
       "   (0.1, 'zélande'),\n",
       "   (0.08, 'calédonie'),\n",
       "   (0.06, 'génération'),\n",
       "   (0.06, 'nouvelle'),\n",
       "   (0.05, 'fois')]},\n",
       " {'dimension': 1188,\n",
       "  'value': True,\n",
       "  'descriptors': [(0.11, 'postélectorale'),\n",
       "   (0.11, 'subprimes'),\n",
       "   (0.06, 'subprime'),\n",
       "   (0.06, 'aggraverait'),\n",
       "   (0.05, 'secoue'),\n",
       "   (0.05, 'traverse'),\n",
       "   (0.04, 'sociopolitique'),\n",
       "   (0.03, 'crise'),\n",
       "   (0.03, 'financière')]},\n",
       " {'dimension': 5423,\n",
       "  'value': True,\n",
       "  'descriptors': [(0.13, 'végétatif'),\n",
       "   (0.11, 'ébriété'),\n",
       "   (0.09, 'piteux'),\n",
       "   (0.08, 'délabrement'),\n",
       "   (0.08, 'ivresse'),\n",
       "   (0.08, 'comateux'),\n",
       "   (0.07, 'stationnaire'),\n",
       "   (0.07, 'tétraplégique'),\n",
       "   (0.06, 'lamentable'),\n",
       "   (0.05, 'critique'),\n",
       "   (0.05, 'délabré'),\n",
       "   (0.04, 'état'),\n",
       "   (0.04, 'esprit'),\n",
       "   (0.04, 'préoccupant'),\n",
       "   (0.04, 'détérioré')]},\n",
       " {'dimension': 2639,\n",
       "  'value': True,\n",
       "  'descriptors': [(0.09, 'extraditions'),\n",
       "   (0.08, 'apuiat'),\n",
       "   (0.05, 'khomri'),\n",
       "   (0.04, 'structurant'),\n",
       "   (0.0, 'projet')]}]"
      ]
     },
     "execution_count": 93,
     "metadata": {},
     "output_type": "execute_result"
    }
   ],
   "source": [
    "model.get_obj_descriptors_vector(vector)"
   ]
  },
  {
   "cell_type": "markdown",
   "id": "2c6127f8-ee4d-4833-983b-d52184a3ee68",
   "metadata": {},
   "source": [
    "## Corpus CDP RN"
   ]
  },
  {
   "cell_type": "code",
   "execution_count": 94,
   "id": "11124929-c768-4837-89ba-a41e421c3803",
   "metadata": {},
   "outputs": [
    {
     "data": {
      "text/plain": [
       "[('a', 189),\n",
       " ('cette', 68),\n",
       " ('plus', 65),\n",
       " ('droits', 41),\n",
       " ('comme', 38),\n",
       " ('vient', 35),\n",
       " ('france', 34),\n",
       " ('français', 34),\n",
       " ('donc', 33),\n",
       " ('contre', 33)]"
      ]
     },
     "execution_count": 94,
     "metadata": {},
     "output_type": "execute_result"
    }
   ],
   "source": [
    "f = open(\"/lium/raid01_c/sguillot/Corpus/HackaTAL/target_vocab/\"+mot+\"_rn.pk\", 'rb')\n",
    "dico = pk.load(f)\n",
    "f.close()\n",
    "vector = model.transfert_hackatal(mot, dico)\n",
    "sorted(dico.items(), key=lambda x:x[1], reverse=True)[:10]"
   ]
  },
  {
   "cell_type": "code",
   "execution_count": 95,
   "id": "c94317fb-29e6-4950-b9fc-0a3e517ac0b3",
   "metadata": {},
   "outputs": [
    {
     "data": {
      "text/plain": [
       "{'object ': 'européenne',\n",
       " 'neighbors ': [('civiques', 0.5),\n",
       "  ('bafoués', 0.48),\n",
       "  ('cedh', 0.48),\n",
       "  ('providentiel', 0.46),\n",
       "  ('cndh', 0.46),\n",
       "  ('vieil', 0.46),\n",
       "  ('droits', 0.44),\n",
       "  ('fidh', 0.44),\n",
       "  ('humains', 0.43),\n",
       "  ('défenseurs', 0.42),\n",
       "  ('douane', 0.4),\n",
       "  ('violés', 0.4),\n",
       "  ('fondamentaux', 0.39),\n",
       "  ('garantis', 0.39),\n",
       "  ('laddh', 0.37),\n",
       "  ('pillay', 0.37),\n",
       "  ('observatoire', 0.37),\n",
       "  ('amdh', 0.37),\n",
       "  ('hcdh', 0.37),\n",
       "  ('devoirs', 0.37),\n",
       "  ('hautcommissaire', 0.37),\n",
       "  ('militante', 0.37),\n",
       "  ('onda', 0.36),\n",
       "  ('antidumping', 0.35)]}"
      ]
     },
     "execution_count": 95,
     "metadata": {},
     "output_type": "execute_result"
    }
   ],
   "source": [
    "model.most_similar_vector(mot,vector.reshape(1, -1))"
   ]
  },
  {
   "cell_type": "code",
   "execution_count": 96,
   "id": "79599532-6b0e-4a3a-b80d-d2f2082e0995",
   "metadata": {},
   "outputs": [
    {
     "data": {
      "text/plain": [
       "[{'dimension': 3599,\n",
       "  'value': True,\n",
       "  'stereotypes': [(0.12, 'bafoués'), (0.12, 'violations'), (0.11, 'cnidh')]},\n",
       " {'dimension': 5891,\n",
       "  'value': True,\n",
       "  'stereotypes': [(0.2, 'lutter'), (0.19, 'lutte'), (0.13, 'terrorisme')]},\n",
       " {'dimension': 4665,\n",
       "  'value': True,\n",
       "  'stereotypes': [(0.27, 'visionnée'),\n",
       "   (0.1, 'zélande'),\n",
       "   (0.1, 'poinçonneur')]},\n",
       " {'dimension': 2186,\n",
       "  'value': True,\n",
       "  'stereotypes': [(0.06, 'revengeance'),\n",
       "   (0.05, 'annoncer'),\n",
       "   (0.04, 'neverwinter')]},\n",
       " {'dimension': 4745,\n",
       "  'value': True,\n",
       "  'stereotypes': [(0.11, 'consult'),\n",
       "   (0.08, 'prévisionniste'),\n",
       "   (0.07, 'marcotte')]}]"
      ]
     },
     "execution_count": 96,
     "metadata": {},
     "output_type": "execute_result"
    }
   ],
   "source": [
    "model.get_obj_stereotypes_vector(vector)"
   ]
  },
  {
   "cell_type": "code",
   "execution_count": 97,
   "id": "46f5481b-e584-4e9e-9917-723b74c4a423",
   "metadata": {},
   "outputs": [
    {
     "data": {
      "text/plain": [
       "[{'dimension': 3599,\n",
       "  'value': True,\n",
       "  'descriptors': [(0.12, 'violations'),\n",
       "   (0.12, 'bafoués'),\n",
       "   (0.1, 'hcdh'),\n",
       "   (0.1, 'droits'),\n",
       "   (0.1, 'providentiel'),\n",
       "   (0.1, 'cndh'),\n",
       "   (0.1, 'interaméricaine'),\n",
       "   (0.1, 'civiques'),\n",
       "   (0.09, 'laddh'),\n",
       "   (0.09, 'cedh'),\n",
       "   (0.08, 'violés'),\n",
       "   (0.05, 'homme')]},\n",
       " {'dimension': 5891,\n",
       "  'value': True,\n",
       "  'descriptors': [(0.2, 'lutter'),\n",
       "   (0.19, 'lutte'),\n",
       "   (0.13, 'terrorisme'),\n",
       "   (0.12, 'protester'),\n",
       "   (0.07, 'contre')]},\n",
       " {'dimension': 4665,\n",
       "  'value': True,\n",
       "  'descriptors': [(0.27, 'visionnée'),\n",
       "   (0.1, 'zélande'),\n",
       "   (0.08, 'calédonie'),\n",
       "   (0.06, 'génération'),\n",
       "   (0.06, 'nouvelle'),\n",
       "   (0.05, 'fois')]},\n",
       " {'dimension': 2186,\n",
       "  'value': True,\n",
       "  'descriptors': [(0.05, 'annoncer'),\n",
       "   (0.03, 'officialiser'),\n",
       "   (0.03, 'dévoiler'),\n",
       "   (0.02, 'vient')]},\n",
       " {'dimension': 4745,\n",
       "  'value': True,\n",
       "  'descriptors': [(0.11, 'consult'),\n",
       "   (0.08, 'prévisionniste'),\n",
       "   (0.06, 'clémente'),\n",
       "   (0.06, 'made'),\n",
       "   (0.06, 'capricieuse'),\n",
       "   (0.05, 'domtom'),\n",
       "   (0.05, 'météo'),\n",
       "   (0.04, 'métropolitaine'),\n",
       "   (0.04, 'morocco'),\n",
       "   (0.02, 'france')]}]"
      ]
     },
     "execution_count": 97,
     "metadata": {},
     "output_type": "execute_result"
    }
   ],
   "source": [
    "model.get_obj_descriptors_vector(vector)"
   ]
  },
  {
   "cell_type": "markdown",
   "id": "dec16fd4-dd10-40e3-884a-a3a515e56160",
   "metadata": {
    "tags": []
   },
   "source": [
    "# Gauche\n",
    "\n",
    "## Corpus CDP FI"
   ]
  },
  {
   "cell_type": "code",
   "execution_count": 98,
   "id": "0e619dae-1ea7-4d61-b8dd-6a8bba3bf515",
   "metadata": {},
   "outputs": [
    {
     "data": {
      "text/plain": [
       "[('démocrate', 27),\n",
       " ('france', 20),\n",
       " ('républicaine,', 15),\n",
       " ('républicaine', 11),\n",
       " ('unitaire', 5),\n",
       " ('européenne', 4),\n",
       " ('écologistes', 3),\n",
       " ('valérie', 2),\n",
       " ('jean', 2),\n",
       " ('luc', 2)]"
      ]
     },
     "execution_count": 98,
     "metadata": {},
     "output_type": "execute_result"
    }
   ],
   "source": [
    "mot = \"gauche\"\n",
    "f = open(\"/lium/raid01_c/sguillot/Corpus/HackaTAL/target_vocab/\"+mot+\"_fi.pk\", 'rb')\n",
    "dico = pk.load(f)\n",
    "f.close()\n",
    "vector = model.transfert_hackatal(mot, dico)\n",
    "sorted(dico.items(), key=lambda x:x[1], reverse=True)[:10]"
   ]
  },
  {
   "cell_type": "code",
   "execution_count": 99,
   "id": "91de92a5-35fe-402a-b8d7-9c8c6dd6324f",
   "metadata": {},
   "outputs": [
    {
     "data": {
      "text/plain": [
       "{'object ': 'gauche',\n",
       " 'neighbors ': [('vermont', 0.54),\n",
       "  ('latortue', 0.53),\n",
       "  ('mccain', 0.47),\n",
       "  ('made', 0.46),\n",
       "  ('républicain', 0.46),\n",
       "  ('sénateur', 0.45),\n",
       "  ('sanders', 0.4),\n",
       "  ('démocrate', 0.4),\n",
       "  ('prévisionniste', 0.39),\n",
       "  ('capricieuse', 0.38),\n",
       "  ('consult', 0.38),\n",
       "  ('républicaine', 0.37),\n",
       "  ('clémente', 0.35),\n",
       "  ('chp', 0.35),\n",
       "  ('milliardaire', 0.34),\n",
       "  ('facho', 0.33),\n",
       "  ('sénatrice', 0.33),\n",
       "  ('saucourt', 0.32),\n",
       "  ('métropolitaine', 0.32),\n",
       "  ('météo', 0.3),\n",
       "  ('duffy', 0.28),\n",
       "  ('arizona', 0.28),\n",
       "  ('damnés', 0.27),\n",
       "  ('saharienne', 0.27)]}"
      ]
     },
     "execution_count": 99,
     "metadata": {},
     "output_type": "execute_result"
    }
   ],
   "source": [
    "model.most_similar_vector(mot,vector.reshape(1, -1))"
   ]
  },
  {
   "cell_type": "code",
   "execution_count": 100,
   "id": "5e077555-70e6-4d5a-bfc2-f538a8c61d6b",
   "metadata": {},
   "outputs": [
    {
     "data": {
      "text/plain": [
       "[{'dimension': 6614,\n",
       "  'value': True,\n",
       "  'stereotypes': [(0.13, 'saucourt'), (0.09, 'latortue'), (0.07, 'lorrain')]},\n",
       " {'dimension': 4745,\n",
       "  'value': True,\n",
       "  'stereotypes': [(0.11, 'consult'),\n",
       "   (0.08, 'prévisionniste'),\n",
       "   (0.07, 'marcotte')]},\n",
       " {'dimension': 4332,\n",
       "  'value': True,\n",
       "  'stereotypes': [(0.06, 'kisumu'), (0.05, 'cbg'), (0.05, 'boycottée')]},\n",
       " {'dimension': 5577,\n",
       "  'value': True,\n",
       "  'stereotypes': [(0.03, 'conasysed'),\n",
       "   (0.03, 'gabonactu'),\n",
       "   (0.03, 'unitaire')]},\n",
       " {'dimension': 768,\n",
       "  'value': True,\n",
       "  'stereotypes': [(0.13, 'union'),\n",
       "   (0.12, 'saintgilloise'),\n",
       "   (0.11, 'européenne')]}]"
      ]
     },
     "execution_count": 100,
     "metadata": {},
     "output_type": "execute_result"
    }
   ],
   "source": [
    "model.get_obj_stereotypes_vector(vector)"
   ]
  },
  {
   "cell_type": "code",
   "execution_count": 101,
   "id": "e1671abb-0000-4ab2-bdc2-bec1bb6526a7",
   "metadata": {},
   "outputs": [
    {
     "data": {
      "text/plain": [
       "[{'dimension': 6614,\n",
       "  'value': True,\n",
       "  'descriptors': [(0.09, 'latortue'),\n",
       "   (0.07, 'lorrain'),\n",
       "   (0.06, 'vermont'),\n",
       "   (0.06, 'mccain'),\n",
       "   (0.05, 'républicain'),\n",
       "   (0.04, 'sénateur'),\n",
       "   (0.04, 'duffy'),\n",
       "   (0.04, 'sanders'),\n",
       "   (0.03, 'rusé'),\n",
       "   (0.03, 'démocrate'),\n",
       "   (0.02, 'investiture'),\n",
       "   (0.02, 'milliardaire')]},\n",
       " {'dimension': 4745,\n",
       "  'value': True,\n",
       "  'descriptors': [(0.11, 'consult'),\n",
       "   (0.08, 'prévisionniste'),\n",
       "   (0.06, 'clémente'),\n",
       "   (0.06, 'made'),\n",
       "   (0.06, 'capricieuse'),\n",
       "   (0.05, 'domtom'),\n",
       "   (0.05, 'météo'),\n",
       "   (0.04, 'métropolitaine'),\n",
       "   (0.04, 'morocco'),\n",
       "   (0.02, 'france')]},\n",
       " {'dimension': 4332,\n",
       "  'value': True,\n",
       "  'descriptors': [(0.06, 'kisumu'),\n",
       "   (0.05, 'boycottée'),\n",
       "   (0.04, 'sottise'),\n",
       "   (0.04, 'cfop'),\n",
       "   (0.03, 'boycotté'),\n",
       "   (0.03, 'républicaine'),\n",
       "   (0.01, 'opposition')]},\n",
       " {'dimension': 5577,\n",
       "  'value': True,\n",
       "  'descriptors': [(0.03, 'unitaire'),\n",
       "   (0.03, 'conasysed'),\n",
       "   (0.03, 'insuffler'),\n",
       "   (0.02, 'impulser'),\n",
       "   (0.02, 'impulsée'),\n",
       "   (0.02, 'inscrira'),\n",
       "   (0.01, 'créeront'),\n",
       "   (0.01, 'dynamique')]},\n",
       " {'dimension': 768,\n",
       "  'value': True,\n",
       "  'descriptors': [(0.13, 'union'),\n",
       "   (0.12, 'saintgilloise'),\n",
       "   (0.11, 'européenne'),\n",
       "   (0.09, 'chrétiennedémocrate'),\n",
       "   (0.08, 'douanière'),\n",
       "   (0.07, 'africaine'),\n",
       "   (0.07, 'addisabeba'),\n",
       "   (0.06, 'cjue'),\n",
       "   (0.05, 'soviétique')]}]"
      ]
     },
     "execution_count": 101,
     "metadata": {},
     "output_type": "execute_result"
    }
   ],
   "source": [
    "model.get_obj_descriptors_vector(vector)"
   ]
  },
  {
   "cell_type": "markdown",
   "id": "5980c000-bea9-4765-9db7-3f2f45554cd8",
   "metadata": {},
   "source": [
    "## Corpus CDP RN"
   ]
  },
  {
   "cell_type": "code",
   "execution_count": 109,
   "id": "b7fe0dc3-2d81-4ad7-af49-5df5b01b4785",
   "metadata": {},
   "outputs": [
    {
     "data": {
      "text/plain": [
       "[('sanitaire', 93),\n",
       " ('migratoire', 70),\n",
       " ('économique', 62),\n",
       " ('sans', 45),\n",
       " ('a', 45),\n",
       " ('sociale', 35),\n",
       " ('sanitaire,', 34),\n",
       " ('précédent', 26),\n",
       " ('sanitaire.', 23),\n",
       " ('logement', 17)]"
      ]
     },
     "execution_count": 109,
     "metadata": {},
     "output_type": "execute_result"
    }
   ],
   "source": [
    "f = open(\"/lium/raid01_c/sguillot/Corpus/HackaTAL/target_vocab/\"+mot+\"_rn.pk\", 'rb')\n",
    "dico = pk.load(f)\n",
    "f.close()\n",
    "vector = model.transfert_hackatal(mot, dico)\n",
    "sorted(dico.items(), key=lambda x:x[1], reverse=True)[:10]"
   ]
  },
  {
   "cell_type": "code",
   "execution_count": 110,
   "id": "86d0dfce-6293-45c0-8dc8-71f35cab9521",
   "metadata": {},
   "outputs": [
    {
     "data": {
      "text/plain": [
       "{'object ': 'crise',\n",
       " 'neighbors ': [('migratoires', 0.4),\n",
       "  ('crise', 0.38),\n",
       "  ('cordon', 0.36),\n",
       "  ('conjoncture', 0.34),\n",
       "  ('marasme', 0.31),\n",
       "  ('flux', 0.29),\n",
       "  ('traverse', 0.29),\n",
       "  ('inclusion', 0.29),\n",
       "  ('secoue', 0.27),\n",
       "  ('sociale', 0.27),\n",
       "  ('feedly', 0.27),\n",
       "  ('migratoire', 0.27),\n",
       "  ('agrégateur', 0.26),\n",
       "  ('anses', 0.26),\n",
       "  ('financière', 0.26),\n",
       "  ('profonde', 0.24),\n",
       "  ('invs', 0.24),\n",
       "  ('morose', 0.24),\n",
       "  ('compromettrait', 0.23),\n",
       "  ('modèle', 0.23),\n",
       "  ('environnementale', 0.23),\n",
       "  ('juguler', 0.23),\n",
       "  ('subprimes', 0.23),\n",
       "  ('postélectorale', 0.22)]}"
      ]
     },
     "execution_count": 110,
     "metadata": {},
     "output_type": "execute_result"
    }
   ],
   "source": [
    "model.most_similar_vector(mot,vector.reshape(1, -1))"
   ]
  },
  {
   "cell_type": "code",
   "execution_count": 111,
   "id": "59e0d9db-bec2-49e5-b36a-8e619ec51a4c",
   "metadata": {},
   "outputs": [
    {
     "data": {
      "text/plain": [
       "[{'dimension': 2242,\n",
       "  'value': True,\n",
       "  'stereotypes': [(0.1, 'ombilical'), (0.05, 'invs'), (0.04, 'énergisantes')]},\n",
       " {'dimension': 1276,\n",
       "  'value': True,\n",
       "  'stereotypes': [(0.07, 'feedly'),\n",
       "   (0.07, 'agrégateur'),\n",
       "   (0.06, 'migratoires')]},\n",
       " {'dimension': 5706,\n",
       "  'value': True,\n",
       "  'stereotypes': [(0.06, 'nkok'), (0.06, 'eurasiatique'), (0.04, 'marasme')]},\n",
       " {'dimension': 1188,\n",
       "  'value': True,\n",
       "  'stereotypes': [(0.11, 'postélectorale'),\n",
       "   (0.11, 'subprimes'),\n",
       "   (0.06, 'subprime')]},\n",
       " {'dimension': 345,\n",
       "  'value': True,\n",
       "  'stereotypes': [(0.08, 'acceptabilité'),\n",
       "   (0.07, 'cnps'),\n",
       "   (0.06, 'cohésion')]}]"
      ]
     },
     "execution_count": 111,
     "metadata": {},
     "output_type": "execute_result"
    }
   ],
   "source": [
    "model.get_obj_stereotypes_vector(vector)"
   ]
  },
  {
   "cell_type": "code",
   "execution_count": 112,
   "id": "022218e2-85b7-49a7-9e0f-136a3bc5058e",
   "metadata": {},
   "outputs": [
    {
     "data": {
      "text/plain": [
       "[{'dimension': 2242,\n",
       "  'value': True,\n",
       "  'descriptors': [(0.1, 'ombilical'),\n",
       "   (0.04, 'cordon'),\n",
       "   (0.03, 'envahissants'),\n",
       "   (0.03, 'anses'),\n",
       "   (0.02, 'médicosocial'),\n",
       "   (0.02, 'burn'),\n",
       "   (0.01, 'sanitaire')]},\n",
       " {'dimension': 1276,\n",
       "  'value': True,\n",
       "  'descriptors': [(0.07, 'agrégateur'),\n",
       "   (0.07, 'feedly'),\n",
       "   (0.06, 'migratoires'),\n",
       "   (0.05, 'reader'),\n",
       "   (0.04, 'trésoreries'),\n",
       "   (0.03, 'digg'),\n",
       "   (0.03, 'flux'),\n",
       "   (0.02, 'rss'),\n",
       "   (0.01, 'migratoire'),\n",
       "   (0.01, 'trésorerie')]},\n",
       " {'dimension': 5706,\n",
       "  'value': True,\n",
       "  'descriptors': [(0.06, 'eurasiatique'),\n",
       "   (0.04, 'marasme'),\n",
       "   (0.03, 'conjoncture'),\n",
       "   (0.0, 'économique')]},\n",
       " {'dimension': 1188,\n",
       "  'value': True,\n",
       "  'descriptors': [(0.11, 'postélectorale'),\n",
       "   (0.11, 'subprimes'),\n",
       "   (0.06, 'subprime'),\n",
       "   (0.06, 'aggraverait'),\n",
       "   (0.05, 'secoue'),\n",
       "   (0.05, 'traverse'),\n",
       "   (0.04, 'sociopolitique'),\n",
       "   (0.03, 'crise'),\n",
       "   (0.03, 'financière')]},\n",
       " {'dimension': 345,\n",
       "  'value': True,\n",
       "  'descriptors': [(0.08, 'acceptabilité'),\n",
       "   (0.07, 'cnps'),\n",
       "   (0.06, 'cohésion'),\n",
       "   (0.05, 'mixité'),\n",
       "   (0.05, 'prévoyance'),\n",
       "   (0.05, 'travailleuse'),\n",
       "   (0.05, 'plfss'),\n",
       "   (0.05, 'inps'),\n",
       "   (0.03, 'ccas'),\n",
       "   (0.02, 'sociale'),\n",
       "   (0.02, 'inclusion')]}]"
      ]
     },
     "execution_count": 112,
     "metadata": {},
     "output_type": "execute_result"
    }
   ],
   "source": [
    "model.get_obj_descriptors_vector(vector)"
   ]
  },
  {
   "cell_type": "markdown",
   "id": "10a1e0c0-0d1d-4d65-8631-616632b6ff83",
   "metadata": {
    "tags": []
   },
   "source": [
    "# Liberté\n",
    "\n",
    "## Corpus CDP FI"
   ]
  },
  {
   "cell_type": "code",
   "execution_count": 113,
   "id": "b3ddfb64-107c-49a4-935b-374a6ad32f1d",
   "metadata": {},
   "outputs": [
    {
     "data": {
      "text/plain": [
       "[('conscience', 16),\n",
       " ('expression', 14),\n",
       " ('d’expression', 9),\n",
       " ('d’association.', 9),\n",
       " ('individuelle', 7),\n",
       " ('égalité', 6),\n",
       " ('liberté', 6),\n",
       " ('presse', 6),\n",
       " ('d’association', 6),\n",
       " ('d’aller', 6)]"
      ]
     },
     "execution_count": 113,
     "metadata": {},
     "output_type": "execute_result"
    }
   ],
   "source": [
    "mot = \"liberté\"\n",
    "f = open(\"/lium/raid01_c/sguillot/Corpus/HackaTAL/target_vocab/\"+mot+\"_fi.pk\", 'rb')\n",
    "dico = pk.load(f)\n",
    "f.close()\n",
    "vector = model.transfert_hackatal(mot, dico)\n",
    "sorted(dico.items(), key=lambda x:x[1], reverse=True)[:10]"
   ]
  },
  {
   "cell_type": "code",
   "execution_count": 114,
   "id": "e4bcbe1a-5098-4117-bd1c-ffd417fd0b42",
   "metadata": {},
   "outputs": [
    {
     "data": {
      "text/plain": [
       "{'object ': 'liberté',\n",
       " 'neighbors ': [('liberté', 0.62),\n",
       "  ('recouvré', 0.47),\n",
       "  ('individuelle', 0.46),\n",
       "  ('recouvrer', 0.45),\n",
       "  ('restreindre', 0.45),\n",
       "  ('conscience', 0.43),\n",
       "  ('privation', 0.42),\n",
       "  ('prise', 0.41),\n",
       "  ('importuner', 0.39),\n",
       "  ('liberticide', 0.39),\n",
       "  ('liberte', 0.38),\n",
       "  ('privatives', 0.38),\n",
       "  ('garantit', 0.35),\n",
       "  ('garantissent', 0.34),\n",
       "  ('charge', 0.34),\n",
       "  ('libertés', 0.33),\n",
       "  ('laïcité', 0.33),\n",
       "  ('croyance', 0.33),\n",
       "  ('collective', 0.32),\n",
       "  ('agoravox', 0.32),\n",
       "  ('fraternité', 0.32),\n",
       "  ('décision', 0.31),\n",
       "  ('psychosociale', 0.3),\n",
       "  ('objecté', 0.3)]}"
      ]
     },
     "execution_count": 114,
     "metadata": {},
     "output_type": "execute_result"
    }
   ],
   "source": [
    "model.most_similar_vector(mot,vector.reshape(1, -1))"
   ]
  },
  {
   "cell_type": "code",
   "execution_count": 115,
   "id": "3df1a2cf-061b-4da7-9c7d-46263aa79c6f",
   "metadata": {},
   "outputs": [
    {
     "data": {
      "text/plain": [
       "[{'dimension': 1233,\n",
       "  'value': True,\n",
       "  'stereotypes': [(0.08, 'privatives'),\n",
       "   (0.08, 'expression'),\n",
       "   (0.07, 'seydi')]},\n",
       " {'dimension': 5034,\n",
       "  'value': True,\n",
       "  'stereotypes': [(0.09, 'prise'),\n",
       "   (0.07, 'psychosociale'),\n",
       "   (0.06, 'raymonde')]},\n",
       " {'dimension': 5390,\n",
       "  'value': True,\n",
       "  'stereotypes': [(0.1, 'échue'), (0.04, 'signée'), (0.04, 'collective')]},\n",
       " {'dimension': 1169,\n",
       "  'value': True,\n",
       "  'stereotypes': [(0.17, 'dogan'),\n",
       "   (0.16, 'anadolu'),\n",
       "   (0.14, 'progouvernementale')]},\n",
       " {'dimension': 1873,\n",
       "  'value': True,\n",
       "  'stereotypes': [(0.1, 'femmeshommes'),\n",
       "   (0.09, 'hommesfemmes'),\n",
       "   (0.08, 'hommefemme')]}]"
      ]
     },
     "execution_count": 115,
     "metadata": {},
     "output_type": "execute_result"
    }
   ],
   "source": [
    "model.get_obj_stereotypes_vector(vector)"
   ]
  },
  {
   "cell_type": "code",
   "execution_count": 116,
   "id": "265e3843-c10c-43f3-86f4-187faacc799b",
   "metadata": {},
   "outputs": [
    {
     "data": {
      "text/plain": [
       "[{'dimension': 1233,\n",
       "  'value': True,\n",
       "  'descriptors': [(0.08, 'expression'),\n",
       "   (0.08, 'privatives'),\n",
       "   (0.06, 'privative'),\n",
       "   (0.06, 'importuner'),\n",
       "   (0.06, 'objecté'),\n",
       "   (0.05, 'liberte'),\n",
       "   (0.05, 'recouvré'),\n",
       "   (0.05, 'liberticide'),\n",
       "   (0.04, 'recouvrer'),\n",
       "   (0.04, 'liberté'),\n",
       "   (0.04, 'dura'),\n",
       "   (0.04, 'privation'),\n",
       "   (0.03, 'restreindre'),\n",
       "   (0.03, 'agoravox')]},\n",
       " {'dimension': 5034,\n",
       "  'value': True,\n",
       "  'descriptors': [(0.09, 'prise'),\n",
       "   (0.07, 'psychosociale'),\n",
       "   (0.06, 'qt'),\n",
       "   (0.05, 'charge'),\n",
       "   (0.04, 'conscience')]},\n",
       " {'dimension': 5390,\n",
       "  'value': True,\n",
       "  'descriptors': [(0.1, 'échue'),\n",
       "   (0.04, 'collective'),\n",
       "   (0.04, 'ratifiée'),\n",
       "   (0.04, 'convention'),\n",
       "   (0.04, 'signée'),\n",
       "   (0.03, 'hallucination'),\n",
       "   (0.02, 'hystérie'),\n",
       "   (0.02, 'rétroactivement'),\n",
       "   (0.02, 'individuelle')]},\n",
       " {'dimension': 1169,\n",
       "  'value': True,\n",
       "  'descriptors': [(0.17, 'dogan'),\n",
       "   (0.16, 'anadolu'),\n",
       "   (0.14, 'progouvernementale'),\n",
       "   (0.14, 'ansa'),\n",
       "   (0.13, 'francepresse'),\n",
       "   (0.13, 'qmi'),\n",
       "   (0.13, 'kyodo'),\n",
       "   (0.12, 'yonhap'),\n",
       "   (0.12, 'aprèsmatch'),\n",
       "   (0.12, 'conférence'),\n",
       "   (0.11, 'tass'),\n",
       "   (0.11, 'isna'),\n",
       "   (0.11, 'dpa'),\n",
       "   (0.1, 'épiscopale'),\n",
       "   (0.1, 'presse'),\n",
       "   (0.1, 'fars'),\n",
       "   (0.1, 'interfax'),\n",
       "   (0.1, 'anatolie'),\n",
       "   (0.08, 'fides'),\n",
       "   (0.05, 'agence')]},\n",
       " {'dimension': 1873,\n",
       "  'value': True,\n",
       "  'descriptors': [(0.1, 'femmeshommes'),\n",
       "   (0.09, 'hommesfemmes'),\n",
       "   (0.08, 'hommefemme'),\n",
       "   (0.07, 'sexes'),\n",
       "   (0.07, 'interfédéral'),\n",
       "   (0.07, 'amenuisent'),\n",
       "   (0.05, 'minces'),\n",
       "   (0.04, 'egalité'),\n",
       "   (0.04, 'intactes'),\n",
       "   (0.04, 'eurodollar'),\n",
       "   (0.04, 'compromises'),\n",
       "   (0.04, 'unia'),\n",
       "   (0.04, 'égalité'),\n",
       "   (0.03, 'chances'),\n",
       "   (0.03, 'nulles'),\n",
       "   (0.02, 'maximiser'),\n",
       "   (0.02, 'inégalité'),\n",
       "   (0.02, 'parité')]}]"
      ]
     },
     "execution_count": 116,
     "metadata": {},
     "output_type": "execute_result"
    }
   ],
   "source": [
    "model.get_obj_descriptors_vector(vector)"
   ]
  },
  {
   "cell_type": "markdown",
   "id": "da54138b-1dda-49f1-a6c9-557928a11a45",
   "metadata": {},
   "source": [
    "## Corpus CDP RN"
   ]
  },
  {
   "cell_type": "code",
   "execution_count": 117,
   "id": "efcc24c7-c8c2-4f6e-9440-a6e81df41b6d",
   "metadata": {},
   "outputs": [
    {
     "data": {
      "text/plain": [
       "[('expression', 80),\n",
       " ('d’expression', 21),\n",
       " ('internet', 18),\n",
       " ('circulation', 12),\n",
       " ('donc', 10),\n",
       " ('presse', 9),\n",
       " ('fraternité', 9),\n",
       " ('peuple', 8),\n",
       " ('sécurité', 8),\n",
       " ('égalité', 8)]"
      ]
     },
     "execution_count": 117,
     "metadata": {},
     "output_type": "execute_result"
    }
   ],
   "source": [
    "f = open(\"/lium/raid01_c/sguillot/Corpus/HackaTAL/target_vocab/\"+mot+\"_rn.pk\", 'rb')\n",
    "dico = pk.load(f)\n",
    "f.close()\n",
    "vector = model.transfert_hackatal(mot, dico)\n",
    "sorted(dico.items(), key=lambda x:x[1], reverse=True)[:10]"
   ]
  },
  {
   "cell_type": "code",
   "execution_count": 118,
   "id": "a603b14d-3678-40a5-8815-036e5a39ac7d",
   "metadata": {},
   "outputs": [
    {
     "data": {
      "text/plain": [
       "{'object ': 'liberté',\n",
       " 'neighbors ': [('liberté', 0.67),\n",
       "  ('recouvrer', 0.57),\n",
       "  ('recouvré', 0.56),\n",
       "  ('restreindre', 0.54),\n",
       "  ('privation', 0.52),\n",
       "  ('liberticide', 0.52),\n",
       "  ('importuner', 0.52),\n",
       "  ('privatives', 0.5),\n",
       "  ('individuelle', 0.48),\n",
       "  ('liberte', 0.46),\n",
       "  ('objecté', 0.4),\n",
       "  ('privative', 0.39),\n",
       "  ('seydi', 0.39),\n",
       "  ('conditionnelle', 0.38),\n",
       "  ('fraternité', 0.37),\n",
       "  ('dura', 0.37),\n",
       "  ('garantissent', 0.36),\n",
       "  ('agoravox', 0.36),\n",
       "  ('entreprendre', 0.35),\n",
       "  ('guidant', 0.35),\n",
       "  ('garantit', 0.35),\n",
       "  ('statue', 0.34),\n",
       "  ('rebaptise', 0.34),\n",
       "  ('entrave', 0.33)]}"
      ]
     },
     "execution_count": 118,
     "metadata": {},
     "output_type": "execute_result"
    }
   ],
   "source": [
    "model.most_similar_vector(mot,vector.reshape(1, -1))"
   ]
  },
  {
   "cell_type": "code",
   "execution_count": 119,
   "id": "e8500953-1f4d-4034-bf9e-645515d3b362",
   "metadata": {},
   "outputs": [
    {
     "data": {
      "text/plain": [
       "[{'dimension': 1233,\n",
       "  'value': True,\n",
       "  'stereotypes': [(0.08, 'privatives'),\n",
       "   (0.08, 'expression'),\n",
       "   (0.07, 'seydi')]},\n",
       " {'dimension': 2704,\n",
       "  'value': True,\n",
       "  'stereotypes': [(0.14, 'almanarlibanleb'),\n",
       "   (0.08, 'zdneten'),\n",
       "   (0.08, 'breitbart')]},\n",
       " {'dimension': 1763,\n",
       "  'value': True,\n",
       "  'stereotypes': [(0.09, 'alternée'),\n",
       "   (0.08, 'markstein'),\n",
       "   (0.08, 'rouverte')]},\n",
       " {'dimension': 1169,\n",
       "  'value': True,\n",
       "  'stereotypes': [(0.17, 'dogan'),\n",
       "   (0.16, 'anadolu'),\n",
       "   (0.14, 'progouvernementale')]},\n",
       " {'dimension': 1205,\n",
       "  'value': True,\n",
       "  'stereotypes': [(0.07, 'déchirements'), (0.04, 'pétri'), (0.03, 'snvi')]}]"
      ]
     },
     "execution_count": 119,
     "metadata": {},
     "output_type": "execute_result"
    }
   ],
   "source": [
    "model.get_obj_stereotypes_vector(vector)"
   ]
  },
  {
   "cell_type": "code",
   "execution_count": 120,
   "id": "aa9d01c0-c11c-4ecc-9898-216db03266f9",
   "metadata": {},
   "outputs": [
    {
     "data": {
      "text/plain": [
       "[{'dimension': 1233,\n",
       "  'value': True,\n",
       "  'descriptors': [(0.08, 'expression'),\n",
       "   (0.08, 'privatives'),\n",
       "   (0.06, 'privative'),\n",
       "   (0.06, 'importuner'),\n",
       "   (0.06, 'objecté'),\n",
       "   (0.05, 'liberte'),\n",
       "   (0.05, 'recouvré'),\n",
       "   (0.05, 'liberticide'),\n",
       "   (0.04, 'recouvrer'),\n",
       "   (0.04, 'liberté'),\n",
       "   (0.04, 'dura'),\n",
       "   (0.04, 'privation'),\n",
       "   (0.03, 'restreindre'),\n",
       "   (0.03, 'agoravox')]},\n",
       " {'dimension': 2704,\n",
       "  'value': True,\n",
       "  'descriptors': [(0.08, 'breitbart'),\n",
       "   (0.08, 'consultables'),\n",
       "   (0.07, 'atlantico'),\n",
       "   (0.07, 'walla'),\n",
       "   (0.07, 'ynet'),\n",
       "   (0.06, 'microblogging'),\n",
       "   (0.06, 'consultable'),\n",
       "   (0.06, 'internet'),\n",
       "   (0.06, 'protocol'),\n",
       "   (0.06, 'pornhub'),\n",
       "   (0.05, 'archéologique'),\n",
       "   (0.04, 'site')]},\n",
       " {'dimension': 1763,\n",
       "  'value': True,\n",
       "  'descriptors': [(0.09, 'alternée'),\n",
       "   (0.08, 'markstein'),\n",
       "   (0.08, 'rouverte'),\n",
       "   (0.07, 'piétonnière'),\n",
       "   (0.07, 'perturbée'),\n",
       "   (0.06, 'ralentie'),\n",
       "   (0.06, 'rouverts'),\n",
       "   (0.05, 'rétablie'),\n",
       "   (0.05, 'coupée'),\n",
       "   (0.05, 'interrompue'),\n",
       "   (0.04, 'circulation'),\n",
       "   (0.04, 'régulée'),\n",
       "   (0.04, 'perturbant'),\n",
       "   (0.03, 'fermée'),\n",
       "   (0.03, 'fluide'),\n",
       "   (0.03, 'bloquée'),\n",
       "   (0.02, 'dense')]},\n",
       " {'dimension': 1169,\n",
       "  'value': True,\n",
       "  'descriptors': [(0.17, 'dogan'),\n",
       "   (0.16, 'anadolu'),\n",
       "   (0.14, 'progouvernementale'),\n",
       "   (0.14, 'ansa'),\n",
       "   (0.13, 'francepresse'),\n",
       "   (0.13, 'qmi'),\n",
       "   (0.13, 'kyodo'),\n",
       "   (0.12, 'yonhap'),\n",
       "   (0.12, 'aprèsmatch'),\n",
       "   (0.12, 'conférence'),\n",
       "   (0.11, 'tass'),\n",
       "   (0.11, 'isna'),\n",
       "   (0.11, 'dpa'),\n",
       "   (0.1, 'épiscopale'),\n",
       "   (0.1, 'presse'),\n",
       "   (0.1, 'fars'),\n",
       "   (0.1, 'interfax'),\n",
       "   (0.1, 'anatolie'),\n",
       "   (0.08, 'fides'),\n",
       "   (0.05, 'agence')]},\n",
       " {'dimension': 1205,\n",
       "  'value': True,\n",
       "  'descriptors': [(0.07, 'déchirements'),\n",
       "   (0.04, 'pétri'),\n",
       "   (0.03, 'entraide'),\n",
       "   (0.03, 'agissante'),\n",
       "   (0.02, 'solidarité'),\n",
       "   (0.02, 'fraternité'),\n",
       "   (0.02, 'compassion'),\n",
       "   (0.02, 'élan')]}]"
      ]
     },
     "execution_count": 120,
     "metadata": {},
     "output_type": "execute_result"
    }
   ],
   "source": [
    "model.get_obj_descriptors_vector(vector)"
   ]
  },
  {
   "cell_type": "markdown",
   "id": "077732ff-afcf-413f-8254-3da989e0f1bc",
   "metadata": {
    "tags": []
   },
   "source": [
    "# Macron\n",
    "\n",
    "## Corpus CDP FI"
   ]
  },
  {
   "cell_type": "code",
   "execution_count": 121,
   "id": "48bc841f-2fe8-411c-99b9-aa7b3d76ff31",
   "metadata": {},
   "outputs": [
    {
     "data": {
      "text/plain": [
       "[('a', 27),\n",
       " ('france', 11),\n",
       " ('gouvernement', 7),\n",
       " ('fait', 6),\n",
       " ('politique', 6),\n",
       " ('veut', 5),\n",
       " ('«', 5),\n",
       " ('choisi', 4),\n",
       " ('déjà', 4),\n",
       " ('contre', 4)]"
      ]
     },
     "execution_count": 121,
     "metadata": {},
     "output_type": "execute_result"
    }
   ],
   "source": [
    "mot = \"macron\"\n",
    "f = open(\"/lium/raid01_c/sguillot/Corpus/HackaTAL/target_vocab/\"+mot+\"_fi.pk\", 'rb')\n",
    "dico = pk.load(f)\n",
    "f.close()\n",
    "vector = model.transfert_hackatal(mot, dico)\n",
    "sorted(dico.items(), key=lambda x:x[1], reverse=True)[:10]"
   ]
  },
  {
   "cell_type": "code",
   "execution_count": 122,
   "id": "e44be5f0-9d27-4217-ba73-64d098fe6e2c",
   "metadata": {},
   "outputs": [
    {
     "data": {
      "text/plain": [
       "{'object ': 'macron',\n",
       " 'neighbors ': [('capricieuse', 0.4),\n",
       "  ('prévisionniste', 0.38),\n",
       "  ('consult', 0.36),\n",
       "  ('clémente', 0.35),\n",
       "  ('couillard', 0.33),\n",
       "  ('badibanga', 0.33),\n",
       "  ('partout', 0.32),\n",
       "  ('legault', 0.32),\n",
       "  ('fustige', 0.31),\n",
       "  ('technocrates', 0.31),\n",
       "  ('trudeau', 0.3),\n",
       "  ('hollande', 0.3),\n",
       "  ('peuple', 0.29),\n",
       "  ('domtom', 0.29),\n",
       "  ('austérité', 0.29),\n",
       "  ('métropolitaine', 0.29),\n",
       "  ('météo', 0.29),\n",
       "  ('engagement', 0.29),\n",
       "  ('ayrault', 0.28),\n",
       "  ('nommer', 0.28),\n",
       "  ('senat', 0.28),\n",
       "  ('congolais', 0.28),\n",
       "  ('détermination', 0.28),\n",
       "  ('harper', 0.28)]}"
      ]
     },
     "execution_count": 122,
     "metadata": {},
     "output_type": "execute_result"
    }
   ],
   "source": [
    "model.most_similar_vector(mot,vector.reshape(1, -1))"
   ]
  },
  {
   "cell_type": "code",
   "execution_count": 123,
   "id": "9218658c-7414-48df-be03-9dc7a8fbba0d",
   "metadata": {},
   "outputs": [
    {
     "data": {
      "text/plain": [
       "[{'dimension': 4745,\n",
       "  'value': True,\n",
       "  'stereotypes': [(0.11, 'consult'),\n",
       "   (0.08, 'prévisionniste'),\n",
       "   (0.07, 'marcotte')]},\n",
       " {'dimension': 3591,\n",
       "  'value': True,\n",
       "  'stereotypes': [(0.08, 'legault'), (0.08, 'letta'), (0.08, 'hazem')]},\n",
       " {'dimension': 5265,\n",
       "  'value': True,\n",
       "  'stereotypes': [(0.09, 'accommodante'),\n",
       "   (0.09, 'échiquier'),\n",
       "   (0.07, 'politicienne')]},\n",
       " {'dimension': 8482,\n",
       "  'value': True,\n",
       "  'stereotypes': [(0.04, 'virtonais'), (0.03, 'tangente'), (0.03, 'monet')]},\n",
       " {'dimension': 2655,\n",
       "  'value': True,\n",
       "  'stereotypes': [(0.19, 'entier'), (0.18, 'nonuple'), (0.16, 'étrangersle')]}]"
      ]
     },
     "execution_count": 123,
     "metadata": {},
     "output_type": "execute_result"
    }
   ],
   "source": [
    "model.get_obj_stereotypes_vector(vector)"
   ]
  },
  {
   "cell_type": "code",
   "execution_count": 124,
   "id": "497715ba-ae6c-499e-81db-59a4570c1014",
   "metadata": {},
   "outputs": [
    {
     "data": {
      "text/plain": [
       "[{'dimension': 4745,\n",
       "  'value': True,\n",
       "  'descriptors': [(0.11, 'consult'),\n",
       "   (0.08, 'prévisionniste'),\n",
       "   (0.06, 'clémente'),\n",
       "   (0.06, 'made'),\n",
       "   (0.06, 'capricieuse'),\n",
       "   (0.05, 'domtom'),\n",
       "   (0.05, 'météo'),\n",
       "   (0.04, 'métropolitaine'),\n",
       "   (0.04, 'morocco'),\n",
       "   (0.02, 'france')]},\n",
       " {'dimension': 3591,\n",
       "  'value': True,\n",
       "  'descriptors': [(0.08, 'legault'),\n",
       "   (0.08, 'badibanga'),\n",
       "   (0.07, 'couillard'),\n",
       "   (0.0, 'gouvernement')]},\n",
       " {'dimension': 5265,\n",
       "  'value': True,\n",
       "  'descriptors': [(0.09, 'échiquier'),\n",
       "   (0.07, 'politicienne'),\n",
       "   (0.06, 'classe'),\n",
       "   (0.06, 'étrangère'),\n",
       "   (0.02, 'politique')]},\n",
       " {'dimension': 8482,\n",
       "  'value': True,\n",
       "  'descriptors': [(0.03, 'tangente'), (0.0, 'veut')]},\n",
       " {'dimension': 2655,\n",
       "  'value': True,\n",
       "  'descriptors': [(0.19, 'entier'),\n",
       "   (0.18, 'nonuple'),\n",
       "   (0.16, 'étrangersle'),\n",
       "   (0.13, 'septuple'),\n",
       "   (0.13, 'sextuple'),\n",
       "   (0.12, 'confédérations'),\n",
       "   (0.12, 'coupe'),\n",
       "   (0.1, 'monde'),\n",
       "   (0.09, 'cyclocross'),\n",
       "   (0.09, 'arabomusulman'),\n",
       "   (0.09, 'champion'),\n",
       "   (0.09, 'championnats'),\n",
       "   (0.08, 'vicechampion')]}]"
      ]
     },
     "execution_count": 124,
     "metadata": {},
     "output_type": "execute_result"
    }
   ],
   "source": [
    "model.get_obj_descriptors_vector(vector)"
   ]
  },
  {
   "cell_type": "markdown",
   "id": "2f8a3b23-8844-463e-8fd5-091eb75251ba",
   "metadata": {},
   "source": [
    "## Corpus CDP RN"
   ]
  },
  {
   "cell_type": "code",
   "execution_count": 125,
   "id": "005824df-1c27-45fc-b8dd-4fa70f7b96fa",
   "metadata": {},
   "outputs": [
    {
     "data": {
      "text/plain": [
       "[('a', 128),\n",
       " ('gouvernement', 27),\n",
       " ('faire', 23),\n",
       " ('plus', 21),\n",
       " ('fait', 21),\n",
       " ('merkel', 17),\n",
       " ('cette', 16),\n",
       " ('donc', 16),\n",
       " ('ministre', 14),\n",
       " ('français', 13)]"
      ]
     },
     "execution_count": 125,
     "metadata": {},
     "output_type": "execute_result"
    }
   ],
   "source": [
    "f = open(\"/lium/raid01_c/sguillot/Corpus/HackaTAL/target_vocab/\"+mot+\"_rn.pk\", 'rb')\n",
    "dico = pk.load(f)\n",
    "f.close()\n",
    "vector = model.transfert_hackatal(mot, dico)\n",
    "sorted(dico.items(), key=lambda x:x[1], reverse=True)[:10]"
   ]
  },
  {
   "cell_type": "code",
   "execution_count": 126,
   "id": "ea378d05-7bcc-4937-88be-c56f4e738773",
   "metadata": {},
   "outputs": [
    {
     "data": {
      "text/plain": [
       "{'object ': 'macron',\n",
       " 'neighbors ': [('couillard', 0.43),\n",
       "  ('entend', 0.42),\n",
       "  ('legault', 0.42),\n",
       "  ('trudeau', 0.41),\n",
       "  ('plier', 0.4),\n",
       "  ('reculer', 0.38),\n",
       "  ('rayonner', 0.37),\n",
       "  ('merkel', 0.37),\n",
       "  ('veut', 0.37),\n",
       "  ('harper', 0.36),\n",
       "  ('ayrault', 0.36),\n",
       "  ('réélire', 0.36),\n",
       "  ('grec', 0.36),\n",
       "  ('effort', 0.36),\n",
       "  ('bedoui', 0.35),\n",
       "  ('savent', 0.35),\n",
       "  ('essayé', 0.35),\n",
       "  ('technocrates', 0.35),\n",
       "  ('adopter', 0.35),\n",
       "  ('croire', 0.35),\n",
       "  ('fléchir', 0.35),\n",
       "  ('vois', 0.34),\n",
       "  ('culpabiliser', 0.34),\n",
       "  ('concessions', 0.34)]}"
      ]
     },
     "execution_count": 126,
     "metadata": {},
     "output_type": "execute_result"
    }
   ],
   "source": [
    "model.most_similar_vector(mot,vector.reshape(1, -1))"
   ]
  },
  {
   "cell_type": "code",
   "execution_count": 127,
   "id": "9c280bc8-2dae-4482-91e4-39ac9091b142",
   "metadata": {},
   "outputs": [
    {
     "data": {
      "text/plain": [
       "[{'dimension': 3591,\n",
       "  'value': True,\n",
       "  'stereotypes': [(0.08, 'legault'), (0.08, 'letta'), (0.08, 'hazem')]},\n",
       " {'dimension': 1621,\n",
       "  'value': True,\n",
       "  'stereotypes': [(0.09, 'chancelière'),\n",
       "   (0.08, 'angelique'),\n",
       "   (0.06, 'angela')]},\n",
       " {'dimension': 7398,\n",
       "  'value': True,\n",
       "  'stereotypes': [(0.1, 'réélire'),\n",
       "   (0.09, 'quelquechose'),\n",
       "   (0.08, 'fructifier')]},\n",
       " {'dimension': 4665,\n",
       "  'value': True,\n",
       "  'stereotypes': [(0.27, 'visionnée'),\n",
       "   (0.1, 'zélande'),\n",
       "   (0.1, 'poinçonneur')]},\n",
       " {'dimension': 7004,\n",
       "  'value': True,\n",
       "  'stereotypes': [(0.17, 'vicepremier'),\n",
       "   (0.17, 'padei'),\n",
       "   (0.13, 'expremier')]}]"
      ]
     },
     "execution_count": 127,
     "metadata": {},
     "output_type": "execute_result"
    }
   ],
   "source": [
    "model.get_obj_stereotypes_vector(vector)"
   ]
  },
  {
   "cell_type": "code",
   "execution_count": 128,
   "id": "87e64031-adc3-4db4-886a-f014c71ae59e",
   "metadata": {},
   "outputs": [
    {
     "data": {
      "text/plain": [
       "[{'dimension': 3591,\n",
       "  'value': True,\n",
       "  'descriptors': [(0.08, 'legault'),\n",
       "   (0.08, 'badibanga'),\n",
       "   (0.07, 'couillard'),\n",
       "   (0.0, 'gouvernement')]},\n",
       " {'dimension': 1621,\n",
       "  'value': True,\n",
       "  'descriptors': [(0.09, 'chancelière'),\n",
       "   (0.06, 'angela'),\n",
       "   (0.05, 'merkel'),\n",
       "   (0.05, 'allemande'),\n",
       "   (0.04, 'cdu'),\n",
       "   (0.04, 'schulz'),\n",
       "   (0.03, 'bernd'),\n",
       "   (0.03, 'exrda'),\n",
       "   (0.02, 'chancellerie'),\n",
       "   (0.02, 'berlin'),\n",
       "   (0.02, 'autoriserait'),\n",
       "   (0.02, 'quarantesept'),\n",
       "   (0.02, 'spd')]},\n",
       " {'dimension': 7398,\n",
       "  'value': True,\n",
       "  'descriptors': [(0.1, 'réélire'),\n",
       "   (0.08, 'mousser'),\n",
       "   (0.08, 'fructifier'),\n",
       "   (0.07, 'valoir'),\n",
       "   (0.07, 'taire'),\n",
       "   (0.01, 'faire')]},\n",
       " {'dimension': 4665,\n",
       "  'value': True,\n",
       "  'descriptors': [(0.27, 'visionnée'),\n",
       "   (0.1, 'zélande'),\n",
       "   (0.08, 'calédonie'),\n",
       "   (0.06, 'génération'),\n",
       "   (0.06, 'nouvelle'),\n",
       "   (0.05, 'fois')]},\n",
       " {'dimension': 7004,\n",
       "  'value': True,\n",
       "  'descriptors': [(0.17, 'vicepremier'),\n",
       "   (0.13, 'expremier'),\n",
       "   (0.1, 'economie'),\n",
       "   (0.08, 'ecologie'),\n",
       "   (0.01, 'ministre')]}]"
      ]
     },
     "execution_count": 128,
     "metadata": {},
     "output_type": "execute_result"
    }
   ],
   "source": [
    "model.get_obj_descriptors_vector(vector)"
   ]
  },
  {
   "cell_type": "markdown",
   "id": "3cdba8a5-be43-4a46-b30e-bbb322da5e49",
   "metadata": {
    "tags": []
   },
   "source": [
    "# Répression\n",
    "\n",
    "## Corpus CDP FI"
   ]
  },
  {
   "cell_type": "code",
   "execution_count": 129,
   "id": "6cd8fba9-42fb-4f41-838e-4a31ecaab952",
   "metadata": {},
   "outputs": [
    {
     "data": {
      "text/plain": [
       "[('contre', 6),\n",
       " ('a', 4),\n",
       " ('jeudi', 2),\n",
       " ('brutale', 2),\n",
       " ('dont', 2),\n",
       " ('sanglante', 2),\n",
       " ('réunir', 1),\n",
       " ('juin', 1),\n",
       " ('migrant', 1),\n",
       " ('proposer', 1)]"
      ]
     },
     "execution_count": 129,
     "metadata": {},
     "output_type": "execute_result"
    }
   ],
   "source": [
    "mot = \"répression\"\n",
    "f = open(\"/lium/raid01_c/sguillot/Corpus/HackaTAL/target_vocab/\"+mot+\"_fi.pk\", 'rb')\n",
    "dico = pk.load(f)\n",
    "f.close()\n",
    "vector = model.transfert_hackatal(mot, dico)\n",
    "sorted(dico.items(), key=lambda x:x[1], reverse=True)[:10]"
   ]
  },
  {
   "cell_type": "code",
   "execution_count": 130,
   "id": "c5274c90-8c82-4ea0-8466-7d5d4a259fde",
   "metadata": {},
   "outputs": [
    {
     "data": {
      "text/plain": [
       "{'object ': 'répression',\n",
       " 'neighbors ': [('lutte', 0.67),\n",
       "  ('terrorisme', 0.65),\n",
       "  ('protestent', 0.65),\n",
       "  ('protester', 0.65),\n",
       "  ('corruption', 0.63),\n",
       "  ('luttant', 0.62),\n",
       "  ('luttons', 0.62),\n",
       "  ('criminalité', 0.61),\n",
       "  ('fléau', 0.61),\n",
       "  ('cybercriminalité', 0.61),\n",
       "  ('insurge', 0.61),\n",
       "  ('délinquance', 0.61),\n",
       "  ('discriminations', 0.6),\n",
       "  ('luttent', 0.6),\n",
       "  ('apartheid', 0.6),\n",
       "  ('protestaient', 0.59),\n",
       "  ('combat', 0.58),\n",
       "  ('lutté', 0.58),\n",
       "  ('illettrisme', 0.58),\n",
       "  ('contre', 0.57),\n",
       "  ('efficacement', 0.57),\n",
       "  ('apologie', 0.57),\n",
       "  ('extrémisme', 0.57),\n",
       "  ('piraterie', 0.56)]}"
      ]
     },
     "execution_count": 130,
     "metadata": {},
     "output_type": "execute_result"
    }
   ],
   "source": [
    "model.most_similar_vector(mot,vector.reshape(1, -1))"
   ]
  },
  {
   "cell_type": "code",
   "execution_count": 131,
   "id": "e42d31e2-b126-4c45-94fc-ffc10121267e",
   "metadata": {},
   "outputs": [
    {
     "data": {
      "text/plain": [
       "[{'dimension': 5891,\n",
       "  'value': True,\n",
       "  'stereotypes': [(0.2, 'lutter'), (0.19, 'lutte'), (0.13, 'terrorisme')]},\n",
       " {'dimension': 3720,\n",
       "  'value': True,\n",
       "  'stereotypes': [(0.1, 'brdp'), (0.07, 'dgccrf'), (0.05, 'militarisée')]},\n",
       " {'dimension': 8023,\n",
       "  'value': True,\n",
       "  'stereotypes': [(0.24, 'modifié'), (0.11, 'prémium'), (0.1, 'publié')]},\n",
       " {'dimension': 1486,\n",
       "  'value': True,\n",
       "  'stereotypes': [(0.16, 'bachar'), (0.16, 'alassad'), (0.13, 'elassad')]},\n",
       " {'dimension': 4437,\n",
       "  'value': True,\n",
       "  'stereotypes': [(0.04, 'vertigineuse'),\n",
       "   (0.03, 'clavicule'),\n",
       "   (0.03, 'salement')]}]"
      ]
     },
     "execution_count": 131,
     "metadata": {},
     "output_type": "execute_result"
    }
   ],
   "source": [
    "model.get_obj_stereotypes_vector(vector)"
   ]
  },
  {
   "cell_type": "code",
   "execution_count": 132,
   "id": "b2147b15-5015-42e0-98cb-c5b1afef5859",
   "metadata": {},
   "outputs": [
    {
     "data": {
      "text/plain": [
       "[{'dimension': 5891,\n",
       "  'value': True,\n",
       "  'descriptors': [(0.2, 'lutter'),\n",
       "   (0.19, 'lutte'),\n",
       "   (0.13, 'terrorisme'),\n",
       "   (0.12, 'protester'),\n",
       "   (0.07, 'contre')]},\n",
       " {'dimension': 3720,\n",
       "  'value': True,\n",
       "  'descriptors': [(0.07, 'dgccrf'),\n",
       "   (0.03, 'fraudes'),\n",
       "   (0.03, 'sanglante'),\n",
       "   (0.02, 'répression'),\n",
       "   (0.02, 'protestait'),\n",
       "   (0.01, 'banditisme'),\n",
       "   (0.01, 'intensifiée')]},\n",
       " {'dimension': 8023,\n",
       "  'value': True,\n",
       "  'descriptors': [(0.24, 'modifié'), (0.1, 'publié'), (0.03, 'jeudi')]},\n",
       " {'dimension': 1486,\n",
       "  'value': True,\n",
       "  'descriptors': [(0.16, 'bachar'),\n",
       "   (0.16, 'alassad'),\n",
       "   (0.13, 'elassad'),\n",
       "   (0.09, 'bashar'),\n",
       "   (0.08, 'dictatorial'),\n",
       "   (0.08, 'hafez'),\n",
       "   (0.07, 'indemnitaire'),\n",
       "   (0.07, 'despotique'),\n",
       "   (0.05, 'mollahs'),\n",
       "   (0.05, 'brusquer'),\n",
       "   (0.04, 'matrimonial'),\n",
       "   (0.04, 'assad'),\n",
       "   (0.03, 'totalitaire'),\n",
       "   (0.03, 'alliée'),\n",
       "   (0.03, 'stalinien'),\n",
       "   (0.03, 'régime')]},\n",
       " {'dimension': 4437,\n",
       "  'value': True,\n",
       "  'descriptors': [(0.04, 'vertigineuse'),\n",
       "   (0.03, 'moubarak'),\n",
       "   (0.03, 'escalator'),\n",
       "   (0.02, 'ravin'),\n",
       "   (0.01, 'chute'),\n",
       "   (0.01, 'brutale')]}]"
      ]
     },
     "execution_count": 132,
     "metadata": {},
     "output_type": "execute_result"
    }
   ],
   "source": [
    "model.get_obj_descriptors_vector(vector)"
   ]
  },
  {
   "cell_type": "markdown",
   "id": "a6423a0d-7c0e-4976-a743-4e88a1bb91cd",
   "metadata": {},
   "source": [
    "## Corpus CDP RN"
   ]
  },
  {
   "cell_type": "code",
   "execution_count": 133,
   "id": "0b3cbb19-2c12-4595-ada7-274eaf947f59",
   "metadata": {},
   "outputs": [
    {
     "data": {
      "text/plain": [
       "[('fraudes', 4),\n",
       " ('sans', 3),\n",
       " ('sévère', 3),\n",
       " ('pénale', 3),\n",
       " ('lesquelles', 2),\n",
       " ('fléau', 2),\n",
       " ('contre', 2),\n",
       " ('délinquance', 2),\n",
       " ('dgccrf', 2),\n",
       " ('prévention', 2)]"
      ]
     },
     "execution_count": 133,
     "metadata": {},
     "output_type": "execute_result"
    }
   ],
   "source": [
    "f = open(\"/lium/raid01_c/sguillot/Corpus/HackaTAL/target_vocab/\"+mot+\"_rn.pk\", 'rb')\n",
    "dico = pk.load(f)\n",
    "f.close()\n",
    "vector = model.transfert_hackatal(mot, dico)\n",
    "sorted(dico.items(), key=lambda x:x[1], reverse=True)[:10]"
   ]
  },
  {
   "cell_type": "code",
   "execution_count": 134,
   "id": "fea1b24f-5e25-417d-8ca6-11e1ffb9c67c",
   "metadata": {},
   "outputs": [
    {
     "data": {
      "text/plain": [
       "{'object ': 'répression',\n",
       " 'neighbors ': [('brdp', 0.36),\n",
       "  ('fraudes', 0.34),\n",
       "  ('dgccrf', 0.34),\n",
       "  ('sanglante', 0.33),\n",
       "  ('délinquance', 0.3),\n",
       "  ('massives', 0.29),\n",
       "  ('sévère', 0.27),\n",
       "  ('insécurité', 0.25),\n",
       "  ('fermeté', 0.24),\n",
       "  ('implacable', 0.24),\n",
       "  ('criminalité', 0.24),\n",
       "  ('pacifiques', 0.24),\n",
       "  ('révolte', 0.23),\n",
       "  ('malnutrition', 0.23),\n",
       "  ('brutale', 0.23),\n",
       "  ('gangrène', 0.23),\n",
       "  ('corruption', 0.23),\n",
       "  ('servitude', 0.23),\n",
       "  ('assimilées', 0.23),\n",
       "  ('sanction', 0.23),\n",
       "  ('délinquants', 0.23),\n",
       "  ('procureure', 0.22),\n",
       "  ('ntaganda', 0.22),\n",
       "  ('illicite', 0.22)]}"
      ]
     },
     "execution_count": 134,
     "metadata": {},
     "output_type": "execute_result"
    }
   ],
   "source": [
    "model.most_similar_vector(mot,vector.reshape(1, -1))"
   ]
  },
  {
   "cell_type": "code",
   "execution_count": 135,
   "id": "5b5c8e08-cb63-4b05-bec3-11579d5674b9",
   "metadata": {},
   "outputs": [
    {
     "data": {
      "text/plain": [
       "[{'dimension': 3720,\n",
       "  'value': True,\n",
       "  'descriptors': [(0.07, 'dgccrf'),\n",
       "   (0.03, 'fraudes'),\n",
       "   (0.03, 'sanglante'),\n",
       "   (0.02, 'répression'),\n",
       "   (0.02, 'protestait'),\n",
       "   (0.01, 'banditisme'),\n",
       "   (0.01, 'intensifiée')]},\n",
       " {'dimension': 2393,\n",
       "  'value': True,\n",
       "  'descriptors': [(0.1, 'brdp'),\n",
       "   (0.02, 'apatridie'),\n",
       "   (0.01, 'délinquance'),\n",
       "   (0.0, 'prévention')]},\n",
       " {'dimension': 1351,\n",
       "  'value': True,\n",
       "  'descriptors': [(0.06, 'raréfie'),\n",
       "   (0.05, 'malnutrition'),\n",
       "   (0.04, 'aiguë'),\n",
       "   (0.04, 'souffriront'),\n",
       "   (0.03, 'aigüe'),\n",
       "   (0.02, 'sévère'),\n",
       "   (0.01, 'souffrent')]},\n",
       " {'dimension': 674,\n",
       "  'value': True,\n",
       "  'descriptors': [(0.07, 'goudé'),\n",
       "   (0.06, 'cojep'),\n",
       "   (0.06, 'haye'),\n",
       "   (0.05, 'cpi'),\n",
       "   (0.04, 'progbagbo'),\n",
       "   (0.04, 'scheveningen'),\n",
       "   (0.04, 'ntaganda'),\n",
       "   (0.04, 'bemba'),\n",
       "   (0.03, 'pénale'),\n",
       "   (0.03, 'servitude'),\n",
       "   (0.02, 'acquittement'),\n",
       "   (0.02, 'acquitté'),\n",
       "   (0.02, 'irresponsabilité')]},\n",
       " {'dimension': 502,\n",
       "  'value': True,\n",
       "  'descriptors': [(0.02, 'sévérité'),\n",
       "   (0.01, 'tardive'),\n",
       "   (0.01, 'illustrant'),\n",
       "   (0.0, 'accrue')]}]"
      ]
     },
     "execution_count": 135,
     "metadata": {},
     "output_type": "execute_result"
    }
   ],
   "source": [
    "model.get_obj_descriptors_vector(vector)"
   ]
  },
  {
   "cell_type": "code",
   "execution_count": null,
   "id": "e7ddb81e-d85c-421f-b3d2-71d9bc30d8ae",
   "metadata": {},
   "outputs": [],
   "source": []
  }
 ],
 "metadata": {
  "kernelspec": {
   "display_name": "hackatal23",
   "language": "python",
   "name": "hackatal23"
  },
  "language_info": {
   "codemirror_mode": {
    "name": "ipython",
    "version": 3
   },
   "file_extension": ".py",
   "mimetype": "text/x-python",
   "name": "python",
   "nbconvert_exporter": "python",
   "pygments_lexer": "ipython3",
   "version": "3.9.16"
  }
 },
 "nbformat": 4,
 "nbformat_minor": 5
}
