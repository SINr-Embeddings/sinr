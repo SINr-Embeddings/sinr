{
 "cells": [
  {
   "cell_type": "markdown",
   "id": "98a8216c-cb7c-4775-bc30-f08af9643f06",
   "metadata": {},
   "source": [
    "<h1><center>SINr : preprocessing text and training a SINr model</center></h1>\n",
    "Github page : https://github.com/SINr-Embeddings/sinr/tree/main\n",
    "\n",
    "Documentation : https://sinr-embeddings.github.io/sinr/_build/html/modules.html\n",
    "\n",
    "Publications :\n",
    "-  (https://hal.science/hal-03197434). Thibault Prouteau, Victor Connes, Nicolas Dugué, Anthony Perez,\n",
    "   Jean-Charles Lamirel, et al.. SINr: Fast Computing of Sparse\n",
    "   Interpretable Node Representations is not a Sin!. Advances in\n",
    "   Intelligent Data Analysis XIX, 19th International Symposium on\n",
    "   Intelligent Data Analysis, IDA 2021, Apr 2021, Porto, Portugal.\n",
    "   pp.325-337,\n",
    "-  (https://hal.science/hal-03770444). Thibault Prouteau, Nicolas Dugué, Nathalie Camelin, Sylvain Meignier.\n",
    "   Are Embedding Spaces Interpretable? Results of an Intrusion Detection\n",
    "   Evaluation on a Large French Corpus. LREC 2022, Jun 2022, Marseille,\n",
    "   France.\n",
    "-  (https://hal.science/hal-04321407). Simon Guillot, Thibault Prouteau, Nicolas Dugué.\n",
    "   Sparser is better: one step closer to word embedding interpretability.\n",
    "   IWCS 2023, Nancy, France.\n",
    "-  (https://hal.science/hal-04398742). Anna Béranger, Nicolas Dugué, Simon Guillot, Thibault Prouteau.\n",
    "   Filtering communities in word co-occurrence networks to foster the\n",
    "   emergence of meaning. Complex Networks 2023, Menton, France.\n",
    "\n",
    "In this notebook :\n",
    "- How to preprocess textual corpus with SINr library\n",
    "- How to make a cooccurence matrix from the preprocessed text\n",
    "- How to train a SINr model\n",
    "- How to create a SINrVectors object (to explore and evaluate the model)\n",
    "- How to sparsify the model for better interpretability\n",
    "- How to filter dimensions with the SINr-filtered method\n",
    "- How to load an existing SINrVectors object\n",
    "\n",
    "For examples of manipulation and evaluations of models, see the notebooks sinrvec_en (english) or sinrvec_fr (french). "
   ]
  },
  {
   "cell_type": "code",
   "execution_count": 2,
   "id": "bd6c5d56-1c43-4bc3-9b6e-8a9b2d95f415",
   "metadata": {},
   "outputs": [
    {
     "data": {
      "text/html": [
       "\n",
       "\t\t\t<script type=\"text/javascript\">\n",
       "\t\t\t<!--\n",
       "\t\t\t\t\n",
       "\t\t\t{\n",
       "\t\t\t\tvar element = document.getElementById('NetworKit_script');\n",
       "\t\t\t\tif (element) {\n",
       "\t\t\t\t\telement.parentNode.removeChild(element);\n",
       "\t\t\t\t}\n",
       "\t\t\t\telement = document.createElement('script');\n",
       "\t\t\t\telement.type = 'text/javascript';\n",
       "\t\t\t\telement.innerHTML = 'function NetworKit_pageEmbed(id) { var i, j; var elements; elements = document.getElementById(id).getElementsByClassName(\"Plot\"); for (i=0; i<elements.length; i++) { elements[i].id = id + \"_Plot_\" + i; var data = elements[i].getAttribute(\"data-image\").split(\"|\"); elements[i].removeAttribute(\"data-image\"); var content = \"<div class=\\\\\"Image\\\\\" id=\\\\\"\" + elements[i].id + \"_Image\\\\\" />\"; elements[i].innerHTML = content; elements[i].setAttribute(\"data-image-index\", 0); elements[i].setAttribute(\"data-image-length\", data.length); for (j=0; j<data.length; j++) { elements[i].setAttribute(\"data-image-\" + j, data[j]); } NetworKit_plotUpdate(elements[i]); elements[i].onclick = function (e) { NetworKit_overlayShow((e.target) ? e.target : e.srcElement); } } elements = document.getElementById(id).getElementsByClassName(\"HeatCell\"); for (i=0; i<elements.length; i++) { var data = parseFloat(elements[i].getAttribute(\"data-heat\")); var color = \"#00FF00\"; if (data <= 1 && data > 0) { color = \"hsla(0, 100%, 75%, \" + (data) + \")\"; } else if (data <= 0 && data >= -1) { color = \"hsla(240, 100%, 75%, \" + (-data) + \")\"; } elements[i].style.backgroundColor = color; } elements = document.getElementById(id).getElementsByClassName(\"Details\"); for (i=0; i<elements.length; i++) { elements[i].setAttribute(\"data-title\", \"-\"); NetworKit_toggleDetails(elements[i]); elements[i].onclick = function (e) { NetworKit_toggleDetails((e.target) ? e.target : e.srcElement); } } elements = document.getElementById(id).getElementsByClassName(\"MathValue\"); for (i=elements.length-1; i>=0; i--) { value = elements[i].innerHTML.trim(); if (value === \"nan\") { elements[i].parentNode.innerHTML = \"\" } } elements = document.getElementById(id).getElementsByClassName(\"SubCategory\"); for (i=elements.length-1; i>=0; i--) { value = elements[i].innerHTML.trim(); if (value === \"\") { elements[i].parentNode.removeChild(elements[i]) } } elements = document.getElementById(id).getElementsByClassName(\"Category\"); for (i=elements.length-1; i>=0; i--) { value = elements[i].innerHTML.trim(); if (value === \"\") { elements[i].parentNode.removeChild(elements[i]) } } var isFirefox = false; try { isFirefox = typeof InstallTrigger !== \"undefined\"; } catch (e) {} if (!isFirefox) { alert(\"Currently the function\\'s output is only fully supported by Firefox.\"); } } function NetworKit_plotUpdate(source) { var index = source.getAttribute(\"data-image-index\"); var data = source.getAttribute(\"data-image-\" + index); var image = document.getElementById(source.id + \"_Image\"); image.style.backgroundImage = \"url(\" + data + \")\"; } function NetworKit_showElement(id, show) { var element = document.getElementById(id); element.style.display = (show) ? \"block\" : \"none\"; } function NetworKit_overlayShow(source) { NetworKit_overlayUpdate(source); NetworKit_showElement(\"NetworKit_Overlay\", true); } function NetworKit_overlayUpdate(source) { document.getElementById(\"NetworKit_Overlay_Title\").innerHTML = source.title; var index = source.getAttribute(\"data-image-index\"); var data = source.getAttribute(\"data-image-\" + index); var image = document.getElementById(\"NetworKit_Overlay_Image\"); image.setAttribute(\"data-id\", source.id); image.style.backgroundImage = \"url(\" + data + \")\"; var link = document.getElementById(\"NetworKit_Overlay_Toolbar_Bottom_Save\"); link.href = data; link.download = source.title + \".svg\"; } function NetworKit_overlayImageShift(delta) { var image = document.getElementById(\"NetworKit_Overlay_Image\"); var source = document.getElementById(image.getAttribute(\"data-id\")); var index = parseInt(source.getAttribute(\"data-image-index\")); var length = parseInt(source.getAttribute(\"data-image-length\")); var index = (index+delta) % length; if (index < 0) { index = length + index; } source.setAttribute(\"data-image-index\", index); NetworKit_overlayUpdate(source); } function NetworKit_toggleDetails(source) { var childs = source.children; var show = false; if (source.getAttribute(\"data-title\") == \"-\") { source.setAttribute(\"data-title\", \"+\"); show = false; } else { source.setAttribute(\"data-title\", \"-\"); show = true; } for (i=0; i<childs.length; i++) { if (show) { childs[i].style.display = \"block\"; } else { childs[i].style.display = \"none\"; } } }';\n",
       "\t\t\t\telement.setAttribute('id', 'NetworKit_script');\n",
       "\t\t\t\tdocument.head.appendChild(element);\n",
       "\t\t\t}\n",
       "\t\t\n",
       "\t\t\t\t\n",
       "\t\t\t{\n",
       "\t\t\t\tvar element = document.getElementById('NetworKit_style');\n",
       "\t\t\t\tif (element) {\n",
       "\t\t\t\t\telement.parentNode.removeChild(element);\n",
       "\t\t\t\t}\n",
       "\t\t\t\telement = document.createElement('style');\n",
       "\t\t\t\telement.type = 'text/css';\n",
       "\t\t\t\telement.innerHTML = '.NetworKit_Page { font-family: Arial, Helvetica, sans-serif; font-size: 14px; } .NetworKit_Page .Value:before { font-family: Arial, Helvetica, sans-serif; font-size: 1.05em; content: attr(data-title) \":\"; margin-left: -2.5em; padding-right: 0.5em; } .NetworKit_Page .Details .Value:before { display: block; } .NetworKit_Page .Value { font-family: monospace; white-space: pre; padding-left: 2.5em; white-space: -moz-pre-wrap !important; white-space: -pre-wrap; white-space: -o-pre-wrap; white-space: pre-wrap; word-wrap: break-word; tab-size: 4; -moz-tab-size: 4; } .NetworKit_Page .Category { clear: both; padding-left: 1em; margin-bottom: 1.5em; } .NetworKit_Page .Category:before { content: attr(data-title); font-size: 1.75em; display: block; margin-left: -0.8em; margin-bottom: 0.5em; } .NetworKit_Page .SubCategory { margin-bottom: 1.5em; padding-left: 1em; } .NetworKit_Page .SubCategory:before { font-size: 1.6em; display: block; margin-left: -0.8em; margin-bottom: 0.5em; } .NetworKit_Page .SubCategory[data-title]:before { content: attr(data-title); } .NetworKit_Page .Block { display: block; } .NetworKit_Page .Block:after { content: \".\"; visibility: hidden; display: block; height: 0; clear: both; } .NetworKit_Page .Block .Thumbnail_Overview, .NetworKit_Page .Block .Thumbnail_ScatterPlot { width: 260px; float: left; } .NetworKit_Page .Block .Thumbnail_Overview img, .NetworKit_Page .Block .Thumbnail_ScatterPlot img { width: 260px; } .NetworKit_Page .Block .Thumbnail_Overview:before, .NetworKit_Page .Block .Thumbnail_ScatterPlot:before { display: block; text-align: center; font-weight: bold; } .NetworKit_Page .Block .Thumbnail_Overview:before { content: attr(data-title); } .NetworKit_Page .HeatCell { font-family: \"Courier New\", Courier, monospace; cursor: pointer; } .NetworKit_Page .HeatCell, .NetworKit_Page .HeatCellName { display: inline; padding: 0.1em; margin-right: 2px; background-color: #FFFFFF } .NetworKit_Page .HeatCellName { margin-left: 0.25em; } .NetworKit_Page .HeatCell:before { content: attr(data-heat); display: inline-block; color: #000000; width: 4em; text-align: center; } .NetworKit_Page .Measure { clear: both; } .NetworKit_Page .Measure .Details { cursor: pointer; } .NetworKit_Page .Measure .Details:before { content: \"[\" attr(data-title) \"]\"; display: block; } .NetworKit_Page .Measure .Details .Value { border-left: 1px dotted black; margin-left: 0.4em; padding-left: 3.5em; pointer-events: none; } .NetworKit_Page .Measure .Details .Spacer:before { content: \".\"; opacity: 0.0; pointer-events: none; } .NetworKit_Page .Measure .Plot { width: 440px; height: 440px; cursor: pointer; float: left; margin-left: -0.9em; margin-right: 20px; } .NetworKit_Page .Measure .Plot .Image { background-repeat: no-repeat; background-position: center center; background-size: contain; height: 100%; pointer-events: none; } .NetworKit_Page .Measure .Stat { width: 500px; float: left; } .NetworKit_Page .Measure .Stat .Group { padding-left: 1.25em; margin-bottom: 0.75em; } .NetworKit_Page .Measure .Stat .Group .Title { font-size: 1.1em; display: block; margin-bottom: 0.3em; margin-left: -0.75em; border-right-style: dotted; border-right-width: 1px; border-bottom-style: dotted; border-bottom-width: 1px; background-color: #D0D0D0; padding-left: 0.2em; } .NetworKit_Page .Measure .Stat .Group .List { -webkit-column-count: 3; -moz-column-count: 3; column-count: 3; } .NetworKit_Page .Measure .Stat .Group .List .Entry { position: relative; line-height: 1.75em; } .NetworKit_Page .Measure .Stat .Group .List .Entry[data-tooltip]:before { position: absolute; left: 0; top: -40px; background-color: #808080; color: #ffffff; height: 30px; line-height: 30px; border-radius: 5px; padding: 0 15px; content: attr(data-tooltip); white-space: nowrap; display: none; } .NetworKit_Page .Measure .Stat .Group .List .Entry[data-tooltip]:after { position: absolute; left: 15px; top: -10px; border-top: 7px solid #808080; border-left: 7px solid transparent; border-right: 7px solid transparent; content: \"\"; display: none; } .NetworKit_Page .Measure .Stat .Group .List .Entry[data-tooltip]:hover:after, .NetworKit_Page .Measure .Stat .Group .List .Entry[data-tooltip]:hover:before { display: block; } .NetworKit_Page .Measure .Stat .Group .List .Entry .MathValue { font-family: \"Courier New\", Courier, monospace; } .NetworKit_Page .Measure:after { content: \".\"; visibility: hidden; display: block; height: 0; clear: both; } .NetworKit_Page .PartitionPie { clear: both; } .NetworKit_Page .PartitionPie img { width: 600px; } #NetworKit_Overlay { left: 0px; top: 0px; display: none; position: absolute; width: 100%; height: 100%; background-color: rgba(0,0,0,0.6); z-index: 1000; } #NetworKit_Overlay_Title { position: absolute; color: white; transform: rotate(-90deg); width: 32em; height: 32em; padding-right: 0.5em; padding-top: 0.5em; text-align: right; font-size: 40px; } #NetworKit_Overlay .button { background: white; cursor: pointer; } #NetworKit_Overlay .button:before { size: 13px; display: inline-block; text-align: center; margin-top: 0.5em; margin-bottom: 0.5em; width: 1.5em; height: 1.5em; } #NetworKit_Overlay .icon-close:before { content: \"X\"; } #NetworKit_Overlay .icon-previous:before { content: \"P\"; } #NetworKit_Overlay .icon-next:before { content: \"N\"; } #NetworKit_Overlay .icon-save:before { content: \"S\"; } #NetworKit_Overlay_Toolbar_Top, #NetworKit_Overlay_Toolbar_Bottom { position: absolute; width: 40px; right: 13px; text-align: right; z-index: 1100; } #NetworKit_Overlay_Toolbar_Top { top: 0.5em; } #NetworKit_Overlay_Toolbar_Bottom { Bottom: 0.5em; } #NetworKit_Overlay_ImageContainer { position: absolute; top: 5%; left: 5%; height: 90%; width: 90%; background-repeat: no-repeat; background-position: center center; background-size: contain; } #NetworKit_Overlay_Image { height: 100%; width: 100%; background-repeat: no-repeat; background-position: center center; background-size: contain; }';\n",
       "\t\t\t\telement.setAttribute('id', 'NetworKit_style');\n",
       "\t\t\t\tdocument.head.appendChild(element);\n",
       "\t\t\t}\n",
       "\t\t\n",
       "\t\t\t\t\n",
       "\t\t\t{\n",
       "\t\t\t\tvar element = document.getElementById('NetworKit_Overlay');\n",
       "\t\t\t\tif (element) {\n",
       "\t\t\t\t\telement.parentNode.removeChild(element);\n",
       "\t\t\t\t}\n",
       "\t\t\t\telement = document.createElement('div');\n",
       "\t\t\t\telement.innerHTML = '<div id=\"NetworKit_Overlay_Toolbar_Top\"><div class=\"button icon-close\" id=\"NetworKit_Overlay_Close\" /></div><div id=\"NetworKit_Overlay_Title\" /> <div id=\"NetworKit_Overlay_ImageContainer\"> <div id=\"NetworKit_Overlay_Image\" /> </div> <div id=\"NetworKit_Overlay_Toolbar_Bottom\"> <div class=\"button icon-previous\" onclick=\"NetworKit_overlayImageShift(-1)\" /> <div class=\"button icon-next\" onclick=\"NetworKit_overlayImageShift(1)\" /> <a id=\"NetworKit_Overlay_Toolbar_Bottom_Save\"><div class=\"button icon-save\" /></a> </div>';\n",
       "\t\t\t\telement.setAttribute('id', 'NetworKit_Overlay');\n",
       "\t\t\t\tdocument.body.appendChild(element);\n",
       "\t\t\t\tdocument.getElementById('NetworKit_Overlay_Close').onclick = function (e) {\n",
       "\t\t\t\t\tdocument.getElementById('NetworKit_Overlay').style.display = 'none';\n",
       "\t\t\t\t}\n",
       "\t\t\t}\n",
       "\t\t\n",
       "\t\t\t-->\n",
       "\t\t\t</script>\n",
       "\t\t"
      ]
     },
     "metadata": {},
     "output_type": "display_data"
    }
   ],
   "source": [
    "import nltk # For textual resources\n",
    "\n",
    "import sinr.text.preprocess as ppcs\n",
    "from sinr.text.cooccurrence import Cooccurrence\n",
    "from sinr.text.pmi import pmi_filter\n",
    "import sinr.graph_embeddings as ge"
   ]
  },
  {
   "cell_type": "markdown",
   "id": "e71ffbb4-e62f-4b87-8bca-3d7ffe7311e1",
   "metadata": {},
   "source": [
    "## Textual corpus"
   ]
  },
  {
   "cell_type": "code",
   "execution_count": 3,
   "id": "7757a0e3-dece-4ac6-b246-6dd15f891273",
   "metadata": {},
   "outputs": [
    {
     "name": "stderr",
     "output_type": "stream",
     "text": [
      "[nltk_data] Downloading package gutenberg to\n",
      "[nltk_data]     /lium/home/aberanger/nltk_data...\n",
      "[nltk_data]   Package gutenberg is already up-to-date!\n"
     ]
    }
   ],
   "source": [
    "# Get a textual corpus\n",
    "# For example, texts from the Project Gutenberg electronic text archive,\n",
    "# hosted at http://www.gutenberg.org/\n",
    "nltk.download('gutenberg')\n",
    "gutenberg = nltk.corpus.gutenberg # contains 25,000 free electronic books\n",
    "file = open(\"my_corpus.txt\", \"w\")\n",
    "file.write(gutenberg.raw())\n",
    "file.close()"
   ]
  },
  {
   "cell_type": "markdown",
   "id": "0aa17373-0cf1-415f-9307-30fd32c6645d",
   "metadata": {},
   "source": [
    "## Preprocess the corpus"
   ]
  },
  {
   "cell_type": "code",
   "execution_count": null,
   "id": "eee92cfa-1035-40d5-a158-7d17c288ec82",
   "metadata": {
    "tags": []
   },
   "outputs": [],
   "source": [
    "# If required, download and install the spacy model used for preprocessin\n",
    "!python -m spacy download en_core_web_lg"
   ]
  },
  {
   "cell_type": "code",
   "execution_count": 4,
   "id": "d9f02d36-a98e-49cc-b3cc-139e16db0f5f",
   "metadata": {},
   "outputs": [
    {
     "name": "stderr",
     "output_type": "stream",
     "text": [
      "2024-06-13 11:23:04,445 - do_txt_to_vrt - INFO - 256893lines to preprocess\n"
     ]
    },
    {
     "data": {
      "application/vnd.jupyter.widget-view+json": {
       "model_id": "5086f988a633488ebdec1fe22c4b04ac",
       "version_major": 2,
       "version_minor": 0
      },
      "text/plain": [
       "  0%|          | 0/256893 [00:00<?, ?it/s]"
      ]
     },
     "metadata": {},
     "output_type": "display_data"
    },
    {
     "name": "stderr",
     "output_type": "stream",
     "text": [
      "2024-06-13 11:33:59,336 - do_txt_to_vrt - INFO - VRT-style file written in /export/home/lium/aberanger/sinr/notebooks/my_corpus.vrt\n"
     ]
    },
    {
     "data": {
      "application/vnd.jupyter.widget-view+json": {
       "model_id": "ccd2d693f1fd4c17a0c8efc85ce43244",
       "version_major": 2,
       "version_minor": 0
      },
      "text/plain": [
       "  0%|          | 0/3066063 [00:00<?, ?it/s]"
      ]
     },
     "metadata": {},
     "output_type": "display_data"
    }
   ],
   "source": [
    "vrt_maker = ppcs.VRTMaker(ppcs.Corpus(ppcs.Corpus.REGISTER_WEB,\n",
    "                                      ppcs.Corpus.LANGUAGE_EN,\n",
    "                                      \"my_corpus.txt\"),\n",
    "                                      \".\", n_jobs=8)\n",
    "vrt_maker.do_txt_to_vrt()\n",
    "sentences = ppcs.extract_text(\"my_corpus.vrt\", min_freq=20)"
   ]
  },
  {
   "cell_type": "markdown",
   "id": "24c94f2b-776d-4a27-bb1f-83064b6b25e2",
   "metadata": {},
   "source": [
    "## Construct cooccurrence matrix"
   ]
  },
  {
   "cell_type": "code",
   "execution_count": 5,
   "id": "b1b20acb-983d-4b68-b374-3ed347a0ee56",
   "metadata": {},
   "outputs": [],
   "source": [
    "c = Cooccurrence()\n",
    "c.fit(sentences, window=5)\n",
    "c.matrix = pmi_filter(c.matrix)\n",
    "c.save(\"my_cooc_matrix.pk\")"
   ]
  },
  {
   "cell_type": "markdown",
   "id": "28ac7313-0b1e-4b06-93e9-c7c656e73eaa",
   "metadata": {},
   "source": [
    "## Train a SINr model"
   ]
  },
  {
   "cell_type": "code",
   "execution_count": 6,
   "id": "06f91501-fbe0-47fb-a877-8cde52389c7d",
   "metadata": {},
   "outputs": [
    {
     "name": "stderr",
     "output_type": "stream",
     "text": [
      "2024-06-13 11:35:09,926 - load_from_cooc_pkl - INFO - Building Graph.\n",
      "2024-06-13 11:35:09,930 - load_pkl_text - INFO - Loading cooccurrence matrix and dictionary.\n",
      "2024-06-13 11:35:09,982 - load_pkl_text - INFO - Finished loading data.\n",
      "2024-06-13 11:35:10,350 - load_from_cooc_pkl - INFO - Finished building graph.\n",
      "2024-06-13 11:35:10,356 - detect_communities - INFO - Detecting communities.\n",
      "2024-06-13 11:35:10,550 - detect_communities - INFO - Finished detecting communities.\n",
      "2024-06-13 11:35:10,554 - extract_embeddings - INFO - Extracting embeddings.\n",
      "2024-06-13 11:35:10,556 - extract_embeddings - INFO - Applying NFM.\n"
     ]
    },
    {
     "name": "stdout",
     "output_type": "stream",
     "text": [
      "Gamma for louvain : 10\n",
      "Communities detected in 0.16205 [s]\n",
      "solution properties:\n",
      "-------------------  -----------\n",
      "# communities        678\n",
      "min community size     2\n",
      "max community size    53\n",
      "avg. community size    6.43658\n",
      "modularity             0.0823232\n",
      "-------------------  -----------\n"
     ]
    },
    {
     "name": "stderr",
     "output_type": "stream",
     "text": [
      "2024-06-13 11:35:10,561 - get_nfm_embeddings - INFO - Starting NFM\n",
      "2024-06-13 11:35:14,750 - extract_embeddings - INFO - NFM successfully applied.\n",
      "2024-06-13 11:35:14,752 - extract_embeddings - INFO - Finished extracting embeddings.\n"
     ]
    }
   ],
   "source": [
    "sinr = ge.SINr.load_from_cooc_pkl(\"my_cooc_matrix.pk\")\n",
    "commu = sinr.detect_communities(gamma=10)\n",
    "sinr.extract_embeddings(commu)"
   ]
  },
  {
   "cell_type": "markdown",
   "id": "d7a19fd4-bd2b-4020-a2be-251f1a86f894",
   "metadata": {},
   "source": [
    "## Construct a SINrVectors to work with the model"
   ]
  },
  {
   "cell_type": "code",
   "execution_count": 7,
   "id": "b27a70dc-5365-463a-909a-e4442c20d44e",
   "metadata": {},
   "outputs": [],
   "source": [
    "sinr_vec = ge.InterpretableWordsModelBuilder(sinr,\n",
    "                                             'my_sinr_vectors_name',\n",
    "                                             n_jobs=8,\n",
    "                                             n_neighbors=25).build()\n",
    "sinr_vec.save('./models/my_sinrvec.pk')"
   ]
  },
  {
   "cell_type": "markdown",
   "id": "308ec26b-7ee7-4886-ae4a-42c2e3b55ae0",
   "metadata": {},
   "source": [
    "## Sparsify word vectors for better interpretability and performances\n",
    "\n",
    "Sparsifying word vectors can increase performances and interpretability. You can play with different thresholds of sparsity and compare results of similarity task and DistRatio. These evaluations are available in the SINr library, see the notebooks sinrvec_en or sinrvec_fr for examples.\n",
    "\n",
    "For more more informations about sparsity of word embeddings :\n",
    "-  (https://hal.science/hal-04321407). Simon Guillot, Thibault Prouteau, Nicolas Dugué.\n",
    "   Sparser is better: one step closer to word embedding interpretability.\n",
    "   IWCS 2023, Nancy, France."
   ]
  },
  {
   "cell_type": "code",
   "execution_count": null,
   "id": "a3111eba-8ff0-4da5-8413-fe93e8851419",
   "metadata": {},
   "outputs": [],
   "source": [
    "sinr_vec.sparsify(100)\n",
    "# Save your sparse model\n",
    "sinr_vec.save('./models/my_spars_sinrvec.pk')"
   ]
  },
  {
   "cell_type": "markdown",
   "id": "e4987dd9-7ada-4a37-a59b-786646659d29",
   "metadata": {},
   "source": [
    "## Use SINr-filtered method for better performances, better interpretability and to reduce memory footprint\n",
    "\n",
    "SINr-filtered is a method which filter the dimensions of the model according to their number of non zero values. It relies on the similarity task and calculate the similarity for different filtering thresholds to select the better ones. For this method, it is better to first sparsify the vectors. It works with different thresholds according to the size of the model and the number of values on its dimensions.\n",
    "\n",
    "For more informations you can refer at :\n",
    "-  (https://hal.science/hal-04398742) Anna Béranger, Nicolas Dugué, Simon Guillot, Thibault Prouteau.\n",
    "   Filtering communities in word co-occurrence networks to foster the\n",
    "   emergence of meaning. Complex Networks 2023, Menton, France."
   ]
  },
  {
   "cell_type": "markdown",
   "id": "1a0f11de-77f7-43dd-899c-ded00786b5bf",
   "metadata": {
    "tags": []
   },
   "source": [
    "#### How to calculate the thresholds for a model"
   ]
  },
  {
   "cell_type": "code",
   "execution_count": 34,
   "id": "3ac64f38-02b1-4363-a273-c80a0d5087d0",
   "metadata": {
    "tags": []
   },
   "outputs": [
    {
     "name": "stdout",
     "output_type": "stream",
     "text": [
      "Minimum of non zero values in dimensions : 36\n",
      "Maximum of non zero values in dimensions : 2053\n",
      "Mean similarity of the model with all dimensions (MEN, WS353, SCWS, SimLex-999) : 0.15279358314888308\n",
      "\n",
      "10 : 0.1528 20 : 0.1528 30 : 0.1528 40 : 0.1577 50 : 0.1583 60 : 0.158 70 : 0.1585 80 : 0.1621 90 : 0.163 100 : 0.159 110 : 0.1589 120 : 0.157 130 : 0.1587 140 : 0.1533 150 : 0.1594 160 : 0.1595 170 : 0.1543 180 : 0.1611 190 : 0.1602 200 : 0.1546 210 : 0.1681 220 : 0.1586 230 : 0.1688 240 : 0.1681 250 : 0.1583 260 : 0.1681 270 : 0.1641 280 : 0.1638 290 : 0.1651 300 : 0.1701 310 : 0.1705 320 : 0.1642 330 : 0.166 340 : 0.1651 350 : 0.1665 360 : 0.1657 370 : 0.1667 380 : 0.1672 390 : 0.1661 400 : 0.1662 410 : 0.1704 420 : 0.1676 430 : 0.1718 440 : 0.1663 450 : 0.1612 460 : 0.1614 470 : 0.161 480 : 0.173 490 : 0.1673 500 : 0.168 510 : 0.1623 520 : 0.1681 530 : 0.1728 540 : 0.172 550 : 0.1715 560 : 0.1716 570 : 0.1698 580 : 0.1663 590 : 0.1766 600 : 0.172 610 : 0.1725 620 : 0.1673 630 : 0.1723 640 : 0.177 650 : 0.1676 660 : 0.1716 670 : 0.1725 680 : 0.1718 690 : 0.1735 700 : 0.168 710 : 0.1734 720 : 0.173 730 : 0.1778 740 : 0.1729 750 : 0.1741 760 : 0.1687 770 : 0.1687 780 : 0.1745 790 : 0.1808 800 : 0.1759 810 : 0.181 820 : 0.1702 830 : 0.1776 840 : 0.1752 850 : 0.1744 860 : 0.1742 870 : 0.1745 880 : 0.1747 890 : 0.1826 900 : 0.1753 910 : 0.1753 920 : 0.1765 930 : 0.1765 940 : 0.1786 950 : 0.1785 960 : 0.1726 970 : 0.1726 980 : 0.1732 990 : 0.1794 1000 : 0.1794 1010 : 0.1771 1020 : 0.178 1030 : 0.1785 1040 : 0.1761 1050 : 0.1827 1060 : 0.1758 1070 : 0.1764 1080 : 0.177 1090 : 0.18 1100 : 0.1754 1110 : 0.1807 1120 : 0.1866 1130 : 0.175 1140 : 0.1785 1150 : 0.1785 1160 : 0.1826 1170 : 0.1777 1180 : 0.1816 1190 : 0.1753 1200 : 0.1809 1210 : 0.1809 1220 : 0.1809 1230 : 0.1803 1240 : 0.1797 1250 : 0.1785 1260 : 0.1785 1270 : 0.1798 1280 : 0.1755 1290 : 0.1632 1300 : 0.1632 1310 : 0.1765 1320 : 0.1763 1330 : 0.1609 \n",
      "\n",
      "Low threshold : 1330\n",
      "\n",
      "2060 : 0.1528 2050 : 0.1477 2040 : 0.1477 2030 : 0.1477 2020 : 0.1477 2010 : 0.1477 2000 : 0.1477 1990 : 0.1477 1980 : 0.1477 1970 : 0.1477 1960 : 0.1477 1950 : 0.1477 1940 : 0.1477 1930 : 0.1477 1920 : 0.1477 1910 : 0.1477 1900 : 0.1477 1890 : 0.1477 1880 : 0.1477 1870 : 0.1477 1860 : 0.1477 1850 : 0.1513 1840 : 0.1583 1830 : 0.1583 1820 : 0.1583 1810 : 0.1583 1800 : 0.1583 1790 : 0.1583 1780 : 0.148 1770 : 0.148 1760 : 0.148 1750 : 0.146 1740 : 0.1469 1730 : 0.1469 1720 : 0.1486 1710 : 0.1486 1700 : 0.1486 1690 : 0.1486 1680 : 0.1486 1670 : 0.1486 1660 : 0.1502 1650 : 0.1502 1640 : 0.1502 1630 : 0.1502 1620 : 0.1502 1610 : 0.1527 1600 : 0.1527 1590 : 0.1498 1580 : 0.1498 1570 : 0.1498 1560 : 0.1498 1550 : 0.1498 1540 : 0.1498 1530 : 0.1498 1520 : 0.1511 1510 : 0.1568 1500 : 0.1568 1490 : 0.1517 1480 : 0.1517 1470 : 0.1526 1460 : 0.1526 1450 : 0.1526 1440 : 0.1518 1430 : 0.1518 1420 : 0.1518 1410 : 0.145 1400 : 0.1498 1390 : 0.1556 1380 : 0.15 1370 : 0.153 1360 : 0.1471 1350 : 0.144 1340 : 0.1494 1330 : 0.1512 1320 : 0.1406 1310 : 0.1406 1300 : 0.1463 1290 : 0.1386 1280 : 0.1321 1270 : 0.1375 1260 : 0.136 1250 : 0.136 1240 : 0.1362 1230 : 0.1313 1220 : 0.1337 1210 : 0.1287 1200 : 0.1287 1190 : 0.1273 1180 : 0.1334 1170 : 0.133 1160 : 0.1306 1150 : 0.1243 1140 : 0.1243 1130 : 0.1308 1120 : 0.1198 1110 : 0.1248 1100 : 0.1185 1090 : 0.125 1080 : 0.1267 1070 : 0.1215 1060 : 0.1283 1050 : 0.1242 1040 : 0.1234 1030 : 0.1191 1020 : 0.1194 1010 : 0.1252 1000 : 0.1262 990 : 0.1262 980 : 0.1206 970 : 0.1211 960 : 0.1211 950 : 0.1155 940 : 0.1155 930 : 0.122 920 : 0.122 910 : 0.1187 900 : 0.1187 890 : 0.1167 880 : 0.12 870 : 0.1202 860 : 0.1191 850 : 0.1164 840 : 0.1134 830 : 0.127 820 : 0.1268 810 : 0.1261 800 : 0.1192 790 : 0.1303 780 : 0.1334 770 : 0.1227 760 : 0.1227 750 : 0.1289 740 : 0.1246 730 : 0.1242 720 : 0.1248 710 : 0.1247 700 : 0.1317 690 : 0.1275 680 : 0.1274 670 : 0.1284 660 : 0.1229 650 : 0.1338 640 : 0.1202 630 : 0.1291 620 : 0.1333 610 : 0.1272 600 : 0.1238 590 : 0.1278 580 : 0.1251 570 : 0.1255 560 : 0.126 550 : 0.1325 540 : 0.1191 \n",
      "\n",
      "High threshold : 1840\n",
      "Similarity with high threshold : 0.1583441296369442\n",
      "\n"
     ]
    }
   ],
   "source": [
    "low_threshold, high_threshold = sinr_vec.dim_nnz_thresholds(step=10, diff_tol=0.001)"
   ]
  },
  {
   "cell_type": "markdown",
   "id": "66dc810b-e4ee-4401-bc7b-b05f410baf38",
   "metadata": {},
   "source": [
    "#### And how to filter the model"
   ]
  },
  {
   "cell_type": "code",
   "execution_count": 43,
   "id": "c7bd1ab3-2e0d-494f-b8e4-0b8faef5a544",
   "metadata": {},
   "outputs": [
    {
     "data": {
      "application/vnd.jupyter.widget-view+json": {
       "model_id": "44f86b22506a4816b1d2a4b8669c63f8",
       "version_major": 2,
       "version_minor": 0
      },
      "text/plain": [
       "  0%|          | 0/678 [00:00<?, ?it/s]"
      ]
     },
     "metadata": {},
     "output_type": "display_data"
    }
   ],
   "source": [
    "sinr_vec.remove_communities_dim_nnz(threshold_min=low_threshold, threshold_max=high_threshold)"
   ]
  },
  {
   "cell_type": "markdown",
   "id": "fdf1c776-048d-4af3-907b-442f9dc0f824",
   "metadata": {},
   "source": [
    "## Load an existing SinrVectors object"
   ]
  },
  {
   "cell_type": "code",
   "execution_count": 42,
   "id": "d4fda7b3-5d3f-4714-ba34-204c2c654977",
   "metadata": {},
   "outputs": [],
   "source": [
    "sinr_vec = ge.SINrVectors('my_sinr_vectors_name')\n",
    "sinr_vec.load('./models/my_spars_sinrvec.pk')"
   ]
  }
 ],
 "metadata": {
  "kernelspec": {
   "display_name": "sinr",
   "language": "python",
   "name": "sinr"
  },
  "language_info": {
   "codemirror_mode": {
    "name": "ipython",
    "version": 3
   },
   "file_extension": ".py",
   "mimetype": "text/x-python",
   "name": "python",
   "nbconvert_exporter": "python",
   "pygments_lexer": "ipython3",
   "version": "3.9.0"
  }
 },
 "nbformat": 4,
 "nbformat_minor": 5
}
