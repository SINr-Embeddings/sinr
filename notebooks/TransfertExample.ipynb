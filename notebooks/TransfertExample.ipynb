{
 "cells": [
  {
   "cell_type": "code",
   "execution_count": 1,
   "id": "f38ae951-486e-4a47-9eac-af96a4bff6d4",
   "metadata": {},
   "outputs": [],
   "source": [
    "%load_ext autoreload\n",
    "%autoreload 2"
   ]
  },
  {
   "cell_type": "code",
   "execution_count": 2,
   "id": "8ccf10dc-c324-4146-9801-e2a7685a0ae2",
   "metadata": {},
   "outputs": [
    {
     "data": {
      "text/html": [
       "\n",
       "\t\t\t<script type=\"text/javascript\">\n",
       "\t\t\t<!--\n",
       "\t\t\t\t\n",
       "\t\t\t{\n",
       "\t\t\t\tvar element = document.getElementById('NetworKit_script');\n",
       "\t\t\t\tif (element) {\n",
       "\t\t\t\t\telement.parentNode.removeChild(element);\n",
       "\t\t\t\t}\n",
       "\t\t\t\telement = document.createElement('script');\n",
       "\t\t\t\telement.type = 'text/javascript';\n",
       "\t\t\t\telement.innerHTML = 'function NetworKit_pageEmbed(id) { var i, j; var elements; elements = document.getElementById(id).getElementsByClassName(\"Plot\"); for (i=0; i<elements.length; i++) { elements[i].id = id + \"_Plot_\" + i; var data = elements[i].getAttribute(\"data-image\").split(\"|\"); elements[i].removeAttribute(\"data-image\"); var content = \"<div class=\\\\\"Image\\\\\" id=\\\\\"\" + elements[i].id + \"_Image\\\\\" />\"; elements[i].innerHTML = content; elements[i].setAttribute(\"data-image-index\", 0); elements[i].setAttribute(\"data-image-length\", data.length); for (j=0; j<data.length; j++) { elements[i].setAttribute(\"data-image-\" + j, data[j]); } NetworKit_plotUpdate(elements[i]); elements[i].onclick = function (e) { NetworKit_overlayShow((e.target) ? e.target : e.srcElement); } } elements = document.getElementById(id).getElementsByClassName(\"HeatCell\"); for (i=0; i<elements.length; i++) { var data = parseFloat(elements[i].getAttribute(\"data-heat\")); var color = \"#00FF00\"; if (data <= 1 && data > 0) { color = \"hsla(0, 100%, 75%, \" + (data) + \")\"; } else if (data <= 0 && data >= -1) { color = \"hsla(240, 100%, 75%, \" + (-data) + \")\"; } elements[i].style.backgroundColor = color; } elements = document.getElementById(id).getElementsByClassName(\"Details\"); for (i=0; i<elements.length; i++) { elements[i].setAttribute(\"data-title\", \"-\"); NetworKit_toggleDetails(elements[i]); elements[i].onclick = function (e) { NetworKit_toggleDetails((e.target) ? e.target : e.srcElement); } } elements = document.getElementById(id).getElementsByClassName(\"MathValue\"); for (i=elements.length-1; i>=0; i--) { value = elements[i].innerHTML.trim(); if (value === \"nan\") { elements[i].parentNode.innerHTML = \"\" } } elements = document.getElementById(id).getElementsByClassName(\"SubCategory\"); for (i=elements.length-1; i>=0; i--) { value = elements[i].innerHTML.trim(); if (value === \"\") { elements[i].parentNode.removeChild(elements[i]) } } elements = document.getElementById(id).getElementsByClassName(\"Category\"); for (i=elements.length-1; i>=0; i--) { value = elements[i].innerHTML.trim(); if (value === \"\") { elements[i].parentNode.removeChild(elements[i]) } } var isFirefox = false; try { isFirefox = typeof InstallTrigger !== \"undefined\"; } catch (e) {} if (!isFirefox) { alert(\"Currently the function\\'s output is only fully supported by Firefox.\"); } } function NetworKit_plotUpdate(source) { var index = source.getAttribute(\"data-image-index\"); var data = source.getAttribute(\"data-image-\" + index); var image = document.getElementById(source.id + \"_Image\"); image.style.backgroundImage = \"url(\" + data + \")\"; } function NetworKit_showElement(id, show) { var element = document.getElementById(id); element.style.display = (show) ? \"block\" : \"none\"; } function NetworKit_overlayShow(source) { NetworKit_overlayUpdate(source); NetworKit_showElement(\"NetworKit_Overlay\", true); } function NetworKit_overlayUpdate(source) { document.getElementById(\"NetworKit_Overlay_Title\").innerHTML = source.title; var index = source.getAttribute(\"data-image-index\"); var data = source.getAttribute(\"data-image-\" + index); var image = document.getElementById(\"NetworKit_Overlay_Image\"); image.setAttribute(\"data-id\", source.id); image.style.backgroundImage = \"url(\" + data + \")\"; var link = document.getElementById(\"NetworKit_Overlay_Toolbar_Bottom_Save\"); link.href = data; link.download = source.title + \".svg\"; } function NetworKit_overlayImageShift(delta) { var image = document.getElementById(\"NetworKit_Overlay_Image\"); var source = document.getElementById(image.getAttribute(\"data-id\")); var index = parseInt(source.getAttribute(\"data-image-index\")); var length = parseInt(source.getAttribute(\"data-image-length\")); var index = (index+delta) % length; if (index < 0) { index = length + index; } source.setAttribute(\"data-image-index\", index); NetworKit_overlayUpdate(source); } function NetworKit_toggleDetails(source) { var childs = source.children; var show = false; if (source.getAttribute(\"data-title\") == \"-\") { source.setAttribute(\"data-title\", \"+\"); show = false; } else { source.setAttribute(\"data-title\", \"-\"); show = true; } for (i=0; i<childs.length; i++) { if (show) { childs[i].style.display = \"block\"; } else { childs[i].style.display = \"none\"; } } }';\n",
       "\t\t\t\telement.setAttribute('id', 'NetworKit_script');\n",
       "\t\t\t\tdocument.head.appendChild(element);\n",
       "\t\t\t}\n",
       "\t\t\n",
       "\t\t\t\t\n",
       "\t\t\t{\n",
       "\t\t\t\tvar element = document.getElementById('NetworKit_style');\n",
       "\t\t\t\tif (element) {\n",
       "\t\t\t\t\telement.parentNode.removeChild(element);\n",
       "\t\t\t\t}\n",
       "\t\t\t\telement = document.createElement('style');\n",
       "\t\t\t\telement.type = 'text/css';\n",
       "\t\t\t\telement.innerHTML = '.NetworKit_Page { font-family: Arial, Helvetica, sans-serif; font-size: 14px; } .NetworKit_Page .Value:before { font-family: Arial, Helvetica, sans-serif; font-size: 1.05em; content: attr(data-title) \":\"; margin-left: -2.5em; padding-right: 0.5em; } .NetworKit_Page .Details .Value:before { display: block; } .NetworKit_Page .Value { font-family: monospace; white-space: pre; padding-left: 2.5em; white-space: -moz-pre-wrap !important; white-space: -pre-wrap; white-space: -o-pre-wrap; white-space: pre-wrap; word-wrap: break-word; tab-size: 4; -moz-tab-size: 4; } .NetworKit_Page .Category { clear: both; padding-left: 1em; margin-bottom: 1.5em; } .NetworKit_Page .Category:before { content: attr(data-title); font-size: 1.75em; display: block; margin-left: -0.8em; margin-bottom: 0.5em; } .NetworKit_Page .SubCategory { margin-bottom: 1.5em; padding-left: 1em; } .NetworKit_Page .SubCategory:before { font-size: 1.6em; display: block; margin-left: -0.8em; margin-bottom: 0.5em; } .NetworKit_Page .SubCategory[data-title]:before { content: attr(data-title); } .NetworKit_Page .Block { display: block; } .NetworKit_Page .Block:after { content: \".\"; visibility: hidden; display: block; height: 0; clear: both; } .NetworKit_Page .Block .Thumbnail_Overview, .NetworKit_Page .Block .Thumbnail_ScatterPlot { width: 260px; float: left; } .NetworKit_Page .Block .Thumbnail_Overview img, .NetworKit_Page .Block .Thumbnail_ScatterPlot img { width: 260px; } .NetworKit_Page .Block .Thumbnail_Overview:before, .NetworKit_Page .Block .Thumbnail_ScatterPlot:before { display: block; text-align: center; font-weight: bold; } .NetworKit_Page .Block .Thumbnail_Overview:before { content: attr(data-title); } .NetworKit_Page .HeatCell { font-family: \"Courier New\", Courier, monospace; cursor: pointer; } .NetworKit_Page .HeatCell, .NetworKit_Page .HeatCellName { display: inline; padding: 0.1em; margin-right: 2px; background-color: #FFFFFF } .NetworKit_Page .HeatCellName { margin-left: 0.25em; } .NetworKit_Page .HeatCell:before { content: attr(data-heat); display: inline-block; color: #000000; width: 4em; text-align: center; } .NetworKit_Page .Measure { clear: both; } .NetworKit_Page .Measure .Details { cursor: pointer; } .NetworKit_Page .Measure .Details:before { content: \"[\" attr(data-title) \"]\"; display: block; } .NetworKit_Page .Measure .Details .Value { border-left: 1px dotted black; margin-left: 0.4em; padding-left: 3.5em; pointer-events: none; } .NetworKit_Page .Measure .Details .Spacer:before { content: \".\"; opacity: 0.0; pointer-events: none; } .NetworKit_Page .Measure .Plot { width: 440px; height: 440px; cursor: pointer; float: left; margin-left: -0.9em; margin-right: 20px; } .NetworKit_Page .Measure .Plot .Image { background-repeat: no-repeat; background-position: center center; background-size: contain; height: 100%; pointer-events: none; } .NetworKit_Page .Measure .Stat { width: 500px; float: left; } .NetworKit_Page .Measure .Stat .Group { padding-left: 1.25em; margin-bottom: 0.75em; } .NetworKit_Page .Measure .Stat .Group .Title { font-size: 1.1em; display: block; margin-bottom: 0.3em; margin-left: -0.75em; border-right-style: dotted; border-right-width: 1px; border-bottom-style: dotted; border-bottom-width: 1px; background-color: #D0D0D0; padding-left: 0.2em; } .NetworKit_Page .Measure .Stat .Group .List { -webkit-column-count: 3; -moz-column-count: 3; column-count: 3; } .NetworKit_Page .Measure .Stat .Group .List .Entry { position: relative; line-height: 1.75em; } .NetworKit_Page .Measure .Stat .Group .List .Entry[data-tooltip]:before { position: absolute; left: 0; top: -40px; background-color: #808080; color: #ffffff; height: 30px; line-height: 30px; border-radius: 5px; padding: 0 15px; content: attr(data-tooltip); white-space: nowrap; display: none; } .NetworKit_Page .Measure .Stat .Group .List .Entry[data-tooltip]:after { position: absolute; left: 15px; top: -10px; border-top: 7px solid #808080; border-left: 7px solid transparent; border-right: 7px solid transparent; content: \"\"; display: none; } .NetworKit_Page .Measure .Stat .Group .List .Entry[data-tooltip]:hover:after, .NetworKit_Page .Measure .Stat .Group .List .Entry[data-tooltip]:hover:before { display: block; } .NetworKit_Page .Measure .Stat .Group .List .Entry .MathValue { font-family: \"Courier New\", Courier, monospace; } .NetworKit_Page .Measure:after { content: \".\"; visibility: hidden; display: block; height: 0; clear: both; } .NetworKit_Page .PartitionPie { clear: both; } .NetworKit_Page .PartitionPie img { width: 600px; } #NetworKit_Overlay { left: 0px; top: 0px; display: none; position: absolute; width: 100%; height: 100%; background-color: rgba(0,0,0,0.6); z-index: 1000; } #NetworKit_Overlay_Title { position: absolute; color: white; transform: rotate(-90deg); width: 32em; height: 32em; padding-right: 0.5em; padding-top: 0.5em; text-align: right; font-size: 40px; } #NetworKit_Overlay .button { background: white; cursor: pointer; } #NetworKit_Overlay .button:before { size: 13px; display: inline-block; text-align: center; margin-top: 0.5em; margin-bottom: 0.5em; width: 1.5em; height: 1.5em; } #NetworKit_Overlay .icon-close:before { content: \"X\"; } #NetworKit_Overlay .icon-previous:before { content: \"P\"; } #NetworKit_Overlay .icon-next:before { content: \"N\"; } #NetworKit_Overlay .icon-save:before { content: \"S\"; } #NetworKit_Overlay_Toolbar_Top, #NetworKit_Overlay_Toolbar_Bottom { position: absolute; width: 40px; right: 13px; text-align: right; z-index: 1100; } #NetworKit_Overlay_Toolbar_Top { top: 0.5em; } #NetworKit_Overlay_Toolbar_Bottom { Bottom: 0.5em; } #NetworKit_Overlay_ImageContainer { position: absolute; top: 5%; left: 5%; height: 90%; width: 90%; background-repeat: no-repeat; background-position: center center; background-size: contain; } #NetworKit_Overlay_Image { height: 100%; width: 100%; background-repeat: no-repeat; background-position: center center; background-size: contain; }';\n",
       "\t\t\t\telement.setAttribute('id', 'NetworKit_style');\n",
       "\t\t\t\tdocument.head.appendChild(element);\n",
       "\t\t\t}\n",
       "\t\t\n",
       "\t\t\t\t\n",
       "\t\t\t{\n",
       "\t\t\t\tvar element = document.getElementById('NetworKit_Overlay');\n",
       "\t\t\t\tif (element) {\n",
       "\t\t\t\t\telement.parentNode.removeChild(element);\n",
       "\t\t\t\t}\n",
       "\t\t\t\telement = document.createElement('div');\n",
       "\t\t\t\telement.innerHTML = '<div id=\"NetworKit_Overlay_Toolbar_Top\"><div class=\"button icon-close\" id=\"NetworKit_Overlay_Close\" /></div><div id=\"NetworKit_Overlay_Title\" /> <div id=\"NetworKit_Overlay_ImageContainer\"> <div id=\"NetworKit_Overlay_Image\" /> </div> <div id=\"NetworKit_Overlay_Toolbar_Bottom\"> <div class=\"button icon-previous\" onclick=\"NetworKit_overlayImageShift(-1)\" /> <div class=\"button icon-next\" onclick=\"NetworKit_overlayImageShift(1)\" /> <a id=\"NetworKit_Overlay_Toolbar_Bottom_Save\"><div class=\"button icon-save\" /></a> </div>';\n",
       "\t\t\t\telement.setAttribute('id', 'NetworKit_Overlay');\n",
       "\t\t\t\tdocument.body.appendChild(element);\n",
       "\t\t\t\tdocument.getElementById('NetworKit_Overlay_Close').onclick = function (e) {\n",
       "\t\t\t\t\tdocument.getElementById('NetworKit_Overlay').style.display = 'none';\n",
       "\t\t\t\t}\n",
       "\t\t\t}\n",
       "\t\t\n",
       "\t\t\t-->\n",
       "\t\t\t</script>\n",
       "\t\t"
      ]
     },
     "metadata": {},
     "output_type": "display_data"
    },
    {
     "name": "stderr",
     "output_type": "stream",
     "text": [
      "/lium/buster1/dugue/miniconda3-2023/envs/sinr-dev/lib/python3.9/site-packages/tqdm/auto.py:21: TqdmWarning: IProgress not found. Please update jupyter and ipywidgets. See https://ipywidgets.readthedocs.io/en/stable/user_install.html\n",
      "  from .autonotebook import tqdm as notebook_tqdm\n",
      "2024-07-19 17:48:01,117 - load_from_cooc_pkl - INFO - Building Graph.\n",
      "2024-07-19 17:48:01,118 - load_pkl_text - INFO - Loading cooccurrence matrix and dictionary.\n",
      "2024-07-19 17:48:01,152 - load_pkl_text - INFO - Finished loading data.\n",
      "2024-07-19 17:48:03,631 - load_from_cooc_pkl - INFO - Finished building graph.\n"
     ]
    }
   ],
   "source": [
    "import sinr.graph_embeddings as ge\n",
    "import sinr.text.evaluate as ev\n",
    "#Subsample of OANC corpus as a co-occurrence matrix\n",
    "sinr = ge.SINr.load_from_cooc_pkl(\"oanc_extracted_min_freq20_max_freq5900_prct_sampling1_matrix.pkl\")"
   ]
  },
  {
   "cell_type": "code",
   "execution_count": 3,
   "id": "a3ce6ca7-a4b9-4539-8850-09829157afc3",
   "metadata": {},
   "outputs": [
    {
     "data": {
      "text/plain": [
       "(17706, 'words of vocabulary in this subsample')"
      ]
     },
     "execution_count": 3,
     "metadata": {},
     "output_type": "execute_result"
    }
   ],
   "source": [
    "len(sinr.wrd_to_idx), \"words of vocabulary in this subsample\""
   ]
  },
  {
   "cell_type": "code",
   "execution_count": 4,
   "id": "ff36b06d-a6f7-487e-84bb-481d8065dfb6",
   "metadata": {},
   "outputs": [
    {
     "name": "stderr",
     "output_type": "stream",
     "text": [
      "2024-07-19 17:48:03,755 - detect_communities - INFO - Detecting communities.\n"
     ]
    },
    {
     "name": "stdout",
     "output_type": "stream",
     "text": [
      "Gamma for louvain : 80\n"
     ]
    },
    {
     "name": "stderr",
     "output_type": "stream",
     "text": [
      "2024-07-19 17:48:04,714 - detect_communities - INFO - Finished detecting communities.\n"
     ]
    },
    {
     "name": "stdout",
     "output_type": "stream",
     "text": [
      "Communities detected in 0.90354 [s]\n",
      "solution properties:\n",
      "-------------------  ------------\n",
      "# communities        4933\n",
      "min community size      1\n",
      "max community size     32\n",
      "avg. community size     3.5893\n",
      "modularity              0.0345125\n",
      "-------------------  ------------\n"
     ]
    },
    {
     "data": {
      "text/plain": [
       "<networkit.structures.Partition at 0x7f6c4dc89ad0>"
      ]
     },
     "execution_count": 4,
     "metadata": {},
     "output_type": "execute_result"
    }
   ],
   "source": [
    "sinr.detect_communities(gamma=80)"
   ]
  },
  {
   "cell_type": "code",
   "execution_count": 5,
   "id": "903e3116-25e3-4feb-a4d8-521732aef5bf",
   "metadata": {},
   "outputs": [
    {
     "name": "stderr",
     "output_type": "stream",
     "text": [
      "2024-07-19 17:48:04,767 - extract_embeddings - INFO - Extracting embeddings.\n",
      "2024-07-19 17:48:04,767 - extract_embeddings - INFO - Applying NFM.\n",
      "2024-07-19 17:48:04,769 - get_nfm_embeddings - INFO - Starting NFM\n",
      "2024-07-19 17:48:30,492 - extract_embeddings - INFO - NFM successfully applied.\n",
      "2024-07-19 17:48:30,494 - extract_embeddings - INFO - Finished extracting embeddings.\n"
     ]
    }
   ],
   "source": [
    "sinr.extract_embeddings()"
   ]
  },
  {
   "cell_type": "code",
   "execution_count": 6,
   "id": "c36d77c4-9bed-484b-8933-f3b80c87d626",
   "metadata": {},
   "outputs": [
    {
     "name": "stderr",
     "output_type": "stream",
     "text": [
      "                                                                      \r"
     ]
    },
    {
     "name": "stdout",
     "output_type": "stream",
     "text": [
      "94 missing words\n"
     ]
    },
    {
     "name": "stderr",
     "output_type": "stream",
     "text": [
      "                                                                    \r"
     ]
    },
    {
     "name": "stdout",
     "output_type": "stream",
     "text": [
      "27 missing words\n"
     ]
    },
    {
     "name": "stderr",
     "output_type": "stream",
     "text": [
      "                                                                      "
     ]
    },
    {
     "name": "stdout",
     "output_type": "stream",
     "text": [
      "235 missing words\n"
     ]
    },
    {
     "name": "stderr",
     "output_type": "stream",
     "text": [
      "\r"
     ]
    },
    {
     "data": {
      "text/plain": [
       "{'MEN': 0.46094523263674375,\n",
       " 'WS353': 0.4636897182566408,\n",
       " 'SCWS': 0.42946339109424253}"
      ]
     },
     "execution_count": 6,
     "metadata": {},
     "output_type": "execute_result"
    }
   ],
   "source": [
    "modele = ge.InterpretableWordsModelBuilder(sinr, \"modele\", n_jobs=8, n_neighbors=4).build()\n",
    "ev.similarity_MEN_WS353_SCWS(modele)"
   ]
  },
  {
   "cell_type": "code",
   "execution_count": 7,
   "id": "14fa05a2-a6f2-4f1c-be06-45a0868fe538",
   "metadata": {},
   "outputs": [
    {
     "data": {
      "text/plain": [
       "((17706, 4933), '(nb of words, dimensions)')"
      ]
     },
     "execution_count": 7,
     "metadata": {},
     "output_type": "execute_result"
    }
   ],
   "source": [
    "modele.vectors.shape, \"(nb of words, dimensions)\""
   ]
  },
  {
   "cell_type": "code",
   "execution_count": 8,
   "id": "c315614c-fa14-4c3f-bcfe-1315e762f25f",
   "metadata": {},
   "outputs": [
    {
     "name": "stderr",
     "output_type": "stream",
     "text": [
      "2024-07-19 17:48:39,768 - load_from_cooc_pkl - INFO - Building Graph.\n",
      "2024-07-19 17:48:39,768 - load_pkl_text - INFO - Loading cooccurrence matrix and dictionary.\n",
      "2024-07-19 17:48:39,787 - load_pkl_text - INFO - Finished loading data.\n",
      "2024-07-19 17:48:41,251 - load_from_cooc_pkl - INFO - Finished building graph.\n"
     ]
    }
   ],
   "source": [
    "#Small Subsample of OANC corpus as a co-occurrence matrix\n",
    "sinr_small = ge.SINr.load_from_cooc_pkl(\"oanc_extracted_min_freq50_max_freq3000_prct_sampling08_matrix.pkl\")"
   ]
  },
  {
   "cell_type": "code",
   "execution_count": 9,
   "id": "f06e8450-0489-41fe-b026-3ff891d75e8a",
   "metadata": {},
   "outputs": [
    {
     "data": {
      "text/plain": [
       "(9494, 'words of vocabulary')"
      ]
     },
     "execution_count": 9,
     "metadata": {},
     "output_type": "execute_result"
    }
   ],
   "source": [
    "len(sinr_small.wrd_to_idx), \"words of vocabulary\""
   ]
  },
  {
   "cell_type": "code",
   "execution_count": 10,
   "id": "63bbbfa5-5ead-46d3-9911-635b10a60243",
   "metadata": {},
   "outputs": [
    {
     "data": {
      "text/plain": [
       "(8212, 'words are present in the big subsample, but absent in the small one')"
      ]
     },
     "execution_count": 10,
     "metadata": {},
     "output_type": "execute_result"
    }
   ],
   "source": [
    "len(sinr.wrd_to_idx) - len(sinr_small.wrd_to_idx), \"words are present in the big subsample, but absent in the small one\""
   ]
  },
  {
   "cell_type": "code",
   "execution_count": 11,
   "id": "5abeefd5-4a8f-48e3-925f-80ff3bbc6a67",
   "metadata": {},
   "outputs": [],
   "source": [
    "#Transferring the communities of the bigger model to the small one\n",
    "sinr_small.transfert_communities_labels(modele.get_communities_as_labels_sets())"
   ]
  },
  {
   "cell_type": "code",
   "execution_count": 12,
   "id": "06808028-4389-4af3-99c0-d35a815ba5d2",
   "metadata": {},
   "outputs": [
    {
     "name": "stderr",
     "output_type": "stream",
     "text": [
      "2024-07-19 17:48:41,443 - extract_embeddings - INFO - Extracting embeddings.\n",
      "2024-07-19 17:48:41,443 - extract_embeddings - INFO - Applying NFM.\n",
      "2024-07-19 17:48:41,445 - get_nfm_embeddings - INFO - Starting NFM\n",
      "2024-07-19 17:48:56,453 - extract_embeddings - INFO - NFM successfully applied.\n",
      "2024-07-19 17:48:56,454 - extract_embeddings - INFO - Finished extracting embeddings.\n"
     ]
    }
   ],
   "source": [
    "sinr_small.extract_embeddings()"
   ]
  },
  {
   "cell_type": "code",
   "execution_count": 13,
   "id": "b9a8fccd-d4db-43a5-9dbd-0031a00c08e9",
   "metadata": {},
   "outputs": [
    {
     "name": "stderr",
     "output_type": "stream",
     "text": [
      "                                                                      \r"
     ]
    },
    {
     "name": "stdout",
     "output_type": "stream",
     "text": [
      "205 missing words\n"
     ]
    },
    {
     "name": "stderr",
     "output_type": "stream",
     "text": [
      "                                                                    \r"
     ]
    },
    {
     "name": "stdout",
     "output_type": "stream",
     "text": [
      "86 missing words\n"
     ]
    },
    {
     "name": "stderr",
     "output_type": "stream",
     "text": [
      "                                                                      "
     ]
    },
    {
     "name": "stdout",
     "output_type": "stream",
     "text": [
      "482 missing words\n"
     ]
    },
    {
     "name": "stderr",
     "output_type": "stream",
     "text": [
      "\r"
     ]
    },
    {
     "data": {
      "text/plain": [
       "{'MEN': 0.3092365066427464,\n",
       " 'WS353': 0.37938716672217637,\n",
       " 'SCWS': 0.3762601899389452}"
      ]
     },
     "execution_count": 13,
     "metadata": {},
     "output_type": "execute_result"
    }
   ],
   "source": [
    "modele_small = ge.InterpretableWordsModelBuilder(sinr_small, \"modele\", n_jobs=8, n_neighbors=4).build()\n",
    "ev.similarity_MEN_WS353_SCWS(modele_small)"
   ]
  },
  {
   "cell_type": "code",
   "execution_count": 14,
   "id": "164a049b-cc48-4798-9a53-b8cc2793b1a5",
   "metadata": {},
   "outputs": [
    {
     "data": {
      "text/plain": [
       "('Small model : ', (9494, 4700), '(nb of words, dimensions)')"
      ]
     },
     "execution_count": 14,
     "metadata": {},
     "output_type": "execute_result"
    }
   ],
   "source": [
    "\"Small model : \", modele_small.vectors.shape, \"(nb of words, dimensions)\""
   ]
  },
  {
   "cell_type": "code",
   "execution_count": 15,
   "id": "68946821-0157-4e6a-807a-a00040cc962a",
   "metadata": {},
   "outputs": [
    {
     "data": {
      "text/plain": [
       "('Big modele : ', (17706, 4933), '(nb of words, dimensions)')"
      ]
     },
     "execution_count": 15,
     "metadata": {},
     "output_type": "execute_result"
    }
   ],
   "source": [
    "\"Big modele : \", modele.vectors.shape, \"(nb of words, dimensions)\""
   ]
  },
  {
   "cell_type": "markdown",
   "id": "2be5f6b1-4c51-43b6-8071-5e78f842addc",
   "metadata": {},
   "source": [
    "### Interpreting the small model in the big one's referential\n",
    "\n",
    "The small model and its projected version into the big one's referential have the same neighborings, but their neighboring may be different from the big one."
   ]
  },
  {
   "cell_type": "code",
   "execution_count": 16,
   "id": "2ea44036-bffd-4fc7-add8-34efb881070e",
   "metadata": {},
   "outputs": [],
   "source": [
    "modele_small_bigasaref = modele.get_vectors_using_self_space(modele_small)"
   ]
  },
  {
   "cell_type": "code",
   "execution_count": 17,
   "id": "6bad3dda-bf1b-4f9b-9b5e-42120f3e3c7c",
   "metadata": {},
   "outputs": [
    {
     "data": {
      "text/plain": [
       "{'object ': 'cheese',\n",
       " 'neighbors ': [('bread', 0.37), ('wine', 0.35), ('bottle', 0.32)]}"
      ]
     },
     "execution_count": 17,
     "metadata": {},
     "output_type": "execute_result"
    }
   ],
   "source": [
    "modele_small_bigasaref.most_similar(\"cheese\")"
   ]
  },
  {
   "cell_type": "code",
   "execution_count": 18,
   "id": "aa0f8771-d871-4c22-a2ea-9e89849e9b52",
   "metadata": {},
   "outputs": [
    {
     "data": {
      "text/plain": [
       "{'object ': 'cheese',\n",
       " 'neighbors ': [('bread', 0.37), ('wine', 0.35), ('bottle', 0.32)]}"
      ]
     },
     "execution_count": 18,
     "metadata": {},
     "output_type": "execute_result"
    }
   ],
   "source": [
    "modele_small.most_similar(\"cheese\")"
   ]
  },
  {
   "cell_type": "code",
   "execution_count": 19,
   "id": "bb693b80-d6b6-45f3-802f-9de397dd71b9",
   "metadata": {},
   "outputs": [
    {
     "data": {
      "text/plain": [
       "{'object ': 'cheese',\n",
       " 'neighbors ': [('foodstuff', 0.49), ('sausage', 0.45), ('bread', 0.41)]}"
      ]
     },
     "execution_count": 19,
     "metadata": {},
     "output_type": "execute_result"
    }
   ],
   "source": [
    "modele.most_similar(\"cheese\")"
   ]
  },
  {
   "cell_type": "markdown",
   "id": "bc020130-d66c-4693-8c45-4977c16907ad",
   "metadata": {},
   "source": [
    "The small model and its projected version into the big one's referential have the same stereotypes, but the dimensions ids are different. The dimensions ids of the projected versions are aligned with the big model."
   ]
  },
  {
   "cell_type": "code",
   "execution_count": 20,
   "id": "ec58906c-a556-4bcd-8115-5864af8734a1",
   "metadata": {},
   "outputs": [
    {
     "data": {
      "text/plain": [
       "[{'dimension': 769,\n",
       "  'value': True,\n",
       "  'stereotypes': [(0.23, 'hippocampus'),\n",
       "   (0.22, 'amygdala'),\n",
       "   (0.21, 'furrow')]},\n",
       " {'dimension': 1968,\n",
       "  'value': True,\n",
       "  'stereotypes': [(0.38, 'tclr'), (0.1, 'spleen'), (0.09, 'intestine')]},\n",
       " {'dimension': 1944,\n",
       "  'value': True,\n",
       "  'stereotypes': [(0.34, 'cord'), (0.32, 'l6-s1'), (0.3, 'spinal')]},\n",
       " {'dimension': 1196,\n",
       "  'value': True,\n",
       "  'stereotypes': [(0.1, 'autistic'), (0.06, 'amyloid'), (0.06, 'amygdala')]},\n",
       " {'dimension': 291,\n",
       "  'value': True,\n",
       "  'stereotypes': [(0.47, 'rdta'), (0.36, 'scid'), (0.3, 'balb')]}]"
      ]
     },
     "execution_count": 20,
     "metadata": {},
     "output_type": "execute_result"
    }
   ],
   "source": [
    "modele.get_obj_stereotypes(\"hippocampus\")"
   ]
  },
  {
   "cell_type": "code",
   "execution_count": 21,
   "id": "2543b046-e608-45e1-a4a2-1e3aa2e7ab14",
   "metadata": {},
   "outputs": [
    {
     "data": {
      "text/plain": [
       "[{'dimension': 1812,\n",
       "  'value': True,\n",
       "  'stereotypes': [(0.26, 'furrow'), (0.23, 'hippocampus'), (0.2, 'cortex')]},\n",
       " {'dimension': 757,\n",
       "  'value': True,\n",
       "  'stereotypes': [(0.11, 'cirrhosis'), (0.11, 'intestine'), (0.09, 'spleen')]},\n",
       " {'dimension': 1494,\n",
       "  'value': True,\n",
       "  'stereotypes': [(0.35, 'cord'), (0.29, 'spinal'), (0.28, 'dorsal')]},\n",
       " {'dimension': 1673,\n",
       "  'value': True,\n",
       "  'stereotypes': [(0.03, 'hippocampus'), (0.03, 'lifelong'), (0.03, 'diet')]},\n",
       " {'dimension': 2862,\n",
       "  'value': True,\n",
       "  'stereotypes': [(0.12, 'translocation'),\n",
       "   (0.07, 'localization'),\n",
       "   (0.07, 'chloroplast')]}]"
      ]
     },
     "execution_count": 21,
     "metadata": {},
     "output_type": "execute_result"
    }
   ],
   "source": [
    "modele_small.get_obj_stereotypes(\"hippocampus\")"
   ]
  },
  {
   "cell_type": "code",
   "execution_count": 22,
   "id": "d7097aeb-9e59-4f0f-a229-58b5a48d837b",
   "metadata": {},
   "outputs": [
    {
     "data": {
      "text/plain": [
       "[{'dimension': 769,\n",
       "  'value': True,\n",
       "  'stereotypes': [(0.26, 'furrow'), (0.23, 'hippocampus'), (0.2, 'cortex')]},\n",
       " {'dimension': 1968,\n",
       "  'value': True,\n",
       "  'stereotypes': [(0.11, 'cirrhosis'), (0.11, 'intestine'), (0.09, 'spleen')]},\n",
       " {'dimension': 3455,\n",
       "  'value': True,\n",
       "  'stereotypes': [(0.03, 'hippocampus'), (0.03, 'lifelong'), (0.03, 'diet')]},\n",
       " {'dimension': 1944,\n",
       "  'value': True,\n",
       "  'stereotypes': [(0.35, 'cord'), (0.29, 'spinal'), (0.28, 'dorsal')]},\n",
       " {'dimension': 1670,\n",
       "  'value': True,\n",
       "  'stereotypes': [(0.12, 'phytoestrogen'), (0.1, 'rodent'), (0.1, 'pufa')]}]"
      ]
     },
     "execution_count": 22,
     "metadata": {},
     "output_type": "execute_result"
    }
   ],
   "source": [
    "modele_small_bigasaref.get_obj_stereotypes(\"hippocampus\")"
   ]
  },
  {
   "cell_type": "code",
   "execution_count": 23,
   "id": "235e87c1-6d7f-4cae-96d5-0539d6eb0d06",
   "metadata": {},
   "outputs": [
    {
     "data": {
      "text/plain": [
       "[{'dimension': 640,\n",
       "  'value': True,\n",
       "  'stereotypes': [(0.12, 'caloric'), (0.11, 'beverage'), (0.08, 'intake')]},\n",
       " {'dimension': 641,\n",
       "  'value': True,\n",
       "  'stereotypes': [(0.1, 'beverage'), (0.08, 'alcoholic'), (0.08, 'foc')]},\n",
       " {'dimension': 4784,\n",
       "  'value': True,\n",
       "  'stereotypes': [(0.18, 'overdominance'),\n",
       "   (0.16, 'k1'),\n",
       "   (0.11, 'phosphatidylinositol')]},\n",
       " {'dimension': 713,\n",
       "  'value': True,\n",
       "  'stereotypes': [(0.1, 'bottled'), (0.05, 'gin'), (0.04, 'vodka')]},\n",
       " {'dimension': 439,\n",
       "  'value': True,\n",
       "  'stereotypes': [(0.17, 'parenchyma'),\n",
       "   (0.15, 'extravascular'),\n",
       "   (0.13, 'artifactual')]}]"
      ]
     },
     "execution_count": 23,
     "metadata": {},
     "output_type": "execute_result"
    }
   ],
   "source": [
    "modele.get_obj_stereotypes(\"beverage\")"
   ]
  },
  {
   "cell_type": "code",
   "execution_count": 24,
   "id": "8d1883f7-5e87-4ba1-be06-6b3c20cb80e8",
   "metadata": {},
   "outputs": [
    {
     "data": {
      "text/plain": [
       "[{'dimension': 2220,\n",
       "  'value': True,\n",
       "  'stereotypes': [(0.14, 'beverage'), (0.09, 'intake'), (0.06, 'calorie')]},\n",
       " {'dimension': 183,\n",
       "  'value': True,\n",
       "  'stereotypes': [(0.11, 'beverage'), (0.07, 'alcoholic'), (0.02, 'citrus')]},\n",
       " {'dimension': 1362,\n",
       "  'value': True,\n",
       "  'stereotypes': [(0.04, 'alcoholic'), (0.03, 'beverage'), (0.02, 'liquor')]},\n",
       " {'dimension': 524,\n",
       "  'value': True,\n",
       "  'stereotypes': [(0.05, 'antioxidant'), (0.04, 'fortify'), (0.04, 'bottle')]},\n",
       " {'dimension': 2511,\n",
       "  'value': True,\n",
       "  'stereotypes': [(0.07, 'adherent'),\n",
       "   (0.07, 'emphysema'),\n",
       "   (0.06, 'neutrophil')]}]"
      ]
     },
     "execution_count": 24,
     "metadata": {},
     "output_type": "execute_result"
    }
   ],
   "source": [
    "modele_small.get_obj_stereotypes(\"beverage\")"
   ]
  },
  {
   "cell_type": "code",
   "execution_count": 25,
   "id": "18193578-e3a1-4c37-a600-64ce76df0feb",
   "metadata": {},
   "outputs": [
    {
     "data": {
      "text/plain": [
       "[{'dimension': 640,\n",
       "  'value': True,\n",
       "  'stereotypes': [(0.14, 'beverage'), (0.09, 'intake'), (0.06, 'calorie')]},\n",
       " {'dimension': 641,\n",
       "  'value': True,\n",
       "  'stereotypes': [(0.11, 'beverage'), (0.07, 'alcoholic'), (0.02, 'citrus')]},\n",
       " {'dimension': 713,\n",
       "  'value': True,\n",
       "  'stereotypes': [(0.04, 'alcoholic'), (0.03, 'beverage'), (0.02, 'liquor')]},\n",
       " {'dimension': 1618,\n",
       "  'value': True,\n",
       "  'stereotypes': [(0.05, 'antioxidant'), (0.04, 'fortify'), (0.04, 'bottle')]},\n",
       " {'dimension': 439,\n",
       "  'value': True,\n",
       "  'stereotypes': [(0.07, 'adherent'),\n",
       "   (0.07, 'emphysema'),\n",
       "   (0.06, 'neutrophil')]}]"
      ]
     },
     "execution_count": 25,
     "metadata": {},
     "output_type": "execute_result"
    }
   ],
   "source": [
    "modele_small_bigasaref.get_obj_stereotypes(\"beverage\")"
   ]
  },
  {
   "cell_type": "code",
   "execution_count": null,
   "id": "6154d09c-56f5-4690-9125-90a996e41f1e",
   "metadata": {},
   "outputs": [],
   "source": []
  },
  {
   "cell_type": "code",
   "execution_count": null,
   "id": "fa124f22-269f-438e-9725-f418055e6510",
   "metadata": {},
   "outputs": [],
   "source": []
  }
 ],
 "metadata": {
  "kernelspec": {
   "display_name": "sinr-dev",
   "language": "python",
   "name": "sinr-dev"
  },
  "language_info": {
   "codemirror_mode": {
    "name": "ipython",
    "version": 3
   },
   "file_extension": ".py",
   "mimetype": "text/x-python",
   "name": "python",
   "nbconvert_exporter": "python",
   "pygments_lexer": "ipython3",
   "version": "3.9.16"
  }
 },
 "nbformat": 4,
 "nbformat_minor": 5
}
