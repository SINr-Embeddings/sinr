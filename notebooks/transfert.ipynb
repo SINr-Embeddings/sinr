{
 "cells": [
  {
   "cell_type": "markdown",
   "id": "32863cee-a9cc-4756-a042-7f2ef631b02d",
   "metadata": {},
   "source": [
    "### Toy Corpus"
   ]
  },
  {
   "cell_type": "code",
   "execution_count": 41,
   "id": "2d7b605b-f268-40e6-879d-3720ef935428",
   "metadata": {},
   "outputs": [
    {
     "name": "stdout",
     "output_type": "stream",
     "text": [
      "The autoreload extension is already loaded. To reload it, use:\n",
      "  %reload_ext autoreload\n"
     ]
    }
   ],
   "source": [
    "%load_ext autoreload\n",
    "%autoreload 2"
   ]
  },
  {
   "cell_type": "code",
   "execution_count": 40,
   "id": "28ce7bd7-a15d-426a-9ac9-60390723f628",
   "metadata": {},
   "outputs": [],
   "source": [
    "corpus1 = [[\"je\", \"suis\", \"nicolas\"], [\"je\", \"suis\", \"enseignant\"]]\n",
    "corpus2 = [[\"je\", \"suis\", \"rémi\"], [\"je\", \"suis\", \"enseignant\", \"maintenant\"]]"
   ]
  },
  {
   "cell_type": "code",
   "execution_count": 42,
   "id": "f4fbaf7a-4ff4-4de2-95d6-94c0e010a3eb",
   "metadata": {},
   "outputs": [],
   "source": [
    "from sinr.text.cooccurrence import Cooccurrence\n",
    "from sinr.text.pmi import pmi_filter\n",
    "c = Cooccurrence()\n",
    "c.fit(corpus1, window=10)\n",
    "c.save(\"matrix1.pk\")"
   ]
  },
  {
   "cell_type": "code",
   "execution_count": 43,
   "id": "809e858f-b30c-435f-acc0-af38edd07f46",
   "metadata": {},
   "outputs": [
    {
     "name": "stderr",
     "output_type": "stream",
     "text": [
      "2023-01-31 11:36:51,874 - load_from_cooc_pkl - INFO - Building Graph.\n",
      "2023-01-31 11:36:51,876 - load_pkl_text - INFO - Loading cooccurrence matrix and dictionary.\n",
      "2023-01-31 11:36:51,877 - load_pkl_text - INFO - Finished loading data.\n",
      "2023-01-31 11:36:51,877 - load_from_cooc_pkl - INFO - Finished building graph.\n",
      "2023-01-31 11:36:51,878 - detect_communities - INFO - Detecting communities.\n",
      "2023-01-31 11:36:51,879 - detect_communities - INFO - Finished detecting communities.\n",
      "2023-01-31 11:36:51,880 - extract_embeddings - INFO - Extracting embeddings.\n",
      "2023-01-31 11:36:51,880 - extract_embeddings - INFO - Applying NFM.\n",
      "2023-01-31 11:36:51,880 - get_nfm_embeddings - INFO - Starting NFM\n",
      "2023-01-31 11:36:51,881 - extract_embeddings - INFO - NFM successfully applied.\n",
      "2023-01-31 11:36:51,882 - extract_embeddings - INFO - Finished extracting embeddings.\n"
     ]
    },
    {
     "name": "stdout",
     "output_type": "stream",
     "text": [
      "Communities detected in 0.00011 [s]\n",
      "solution properties:\n",
      "-------------------  -\n",
      "# communities        1\n",
      "min community size   4\n",
      "max community size   4\n",
      "avg. community size  4\n",
      "imbalance            1\n",
      "edge cut             0\n",
      "edge cut (portion)   0\n",
      "modularity           0\n",
      "-------------------  -\n",
      "[{'suis', 'nicolas', 'enseignant', 'je'}]\n"
     ]
    }
   ],
   "source": [
    "import sinr.graph_embeddings as ge\n",
    "sinr = ge.SINr.load_from_cooc_pkl(\"matrix1.pk\")\n",
    "communities = sinr.detect_communities(gamma=1)\n",
    "sinr.extract_embeddings(communities)\n",
    "sinr_vectors = ge.InterpretableWordsModelBuilder(sinr, \"corpus1\", n_jobs=8, n_neighbors=4).build()\n",
    "print(sinr_vectors.get_communities_as_labels_sets())"
   ]
  },
  {
   "cell_type": "code",
   "execution_count": 44,
   "id": "066b3f72-bf44-4761-b213-19c9a3fbe110",
   "metadata": {},
   "outputs": [
    {
     "name": "stderr",
     "output_type": "stream",
     "text": [
      "2023-01-31 11:36:51,898 - load_from_cooc_pkl - INFO - Building Graph.\n",
      "2023-01-31 11:36:51,899 - load_pkl_text - INFO - Loading cooccurrence matrix and dictionary.\n",
      "2023-01-31 11:36:51,899 - load_pkl_text - INFO - Finished loading data.\n",
      "2023-01-31 11:36:51,900 - load_from_cooc_pkl - INFO - Finished building graph.\n",
      "2023-01-31 11:36:51,900 - extract_embeddings - INFO - Extracting embeddings.\n",
      "2023-01-31 11:36:51,900 - extract_embeddings - INFO - Applying NFM.\n",
      "2023-01-31 11:36:51,900 - get_nfm_embeddings - INFO - Starting NFM\n",
      "2023-01-31 11:36:51,902 - extract_embeddings - INFO - NFM successfully applied.\n",
      "2023-01-31 11:36:51,902 - extract_embeddings - INFO - Finished extracting embeddings.\n"
     ]
    },
    {
     "name": "stdout",
     "output_type": "stream",
     "text": [
      "[4, 0, 1] 0\n",
      "[4, 0, 1] 1\n"
     ]
    }
   ],
   "source": [
    "c = Cooccurrence()\n",
    "c.fit(corpus2, window=10)\n",
    "c.save(\"matrix2.pk\")\n",
    "import sinr.graph_embeddings as ge\n",
    "sinr = ge.SINr.load_from_cooc_pkl(\"matrix2.pk\")\n",
    "#TRANSFERT IS DONE HERE\n",
    "sinr.transfert_communities_labels(sinr_vectors.get_communities_as_labels_sets())\n",
    "sinr.extract_embeddings()"
   ]
  },
  {
   "cell_type": "code",
   "execution_count": 45,
   "id": "6d781ffa-c7ca-4680-9615-16a6aeae1853",
   "metadata": {},
   "outputs": [],
   "source": [
    "sinr_vectors = ge.InterpretableWordsModelBuilder(sinr, \"corpus2\", n_jobs=8, n_neighbors=4).build()"
   ]
  },
  {
   "cell_type": "code",
   "execution_count": 46,
   "id": "7d7f8933-aeb4-46cb-936f-38cfa960c7f2",
   "metadata": {},
   "outputs": [
    {
     "data": {
      "text/plain": [
       "{'object ': 'maintenant',\n",
       " 'neighbors ': [('maintenant', 1.0), ('suis', 0.9), ('je', 0.9)]}"
      ]
     },
     "execution_count": 46,
     "metadata": {},
     "output_type": "execute_result"
    }
   ],
   "source": [
    "sinr_vectors.most_similar(\"maintenant\")"
   ]
  },
  {
   "cell_type": "code",
   "execution_count": 47,
   "id": "568e8189-f83e-467b-aa7b-2b8aa8bf6cec",
   "metadata": {},
   "outputs": [
    {
     "data": {
      "text/plain": [
       "[{'maintenant'}, {'rémi'}, {'enseignant', 'je', 'suis'}]"
      ]
     },
     "execution_count": 47,
     "metadata": {},
     "output_type": "execute_result"
    }
   ],
   "source": [
    "sinr_vectors.get_communities_as_labels_sets()"
   ]
  },
  {
   "cell_type": "markdown",
   "id": "7f5bbe6e-1099-4db5-a3c7-b140cc7c49ad",
   "metadata": {},
   "source": [
    "### Reuters"
   ]
  },
  {
   "cell_type": "code",
   "execution_count": 67,
   "id": "475807de-8251-4994-b64e-bd21c014e59d",
   "metadata": {},
   "outputs": [
    {
     "name": "stderr",
     "output_type": "stream",
     "text": [
      "2023-01-31 12:57:44,376 - load_from_cooc_pkl - INFO - Building Graph.\n",
      "2023-01-31 12:57:44,377 - load_pkl_text - INFO - Loading cooccurrence matrix and dictionary.\n",
      "2023-01-31 12:57:44,395 - load_pkl_text - INFO - Finished loading data.\n",
      "2023-01-31 12:57:45,740 - load_from_cooc_pkl - INFO - Finished building graph.\n",
      "2023-01-31 12:57:45,755 - detect_communities - INFO - Detecting communities.\n",
      "/home/dugue/miniconda3/envs/py39/lib/python3.9/site-packages/networkit/stopwatch.py:49: UserWarning: networkit.Timer is deprecated, will be removed in future updates.\n",
      "  warn(\"networkit.Timer is deprecated, will be removed in future updates.\")\n",
      "2023-01-31 12:57:46,419 - detect_communities - INFO - Finished detecting communities.\n"
     ]
    },
    {
     "name": "stdout",
     "output_type": "stream",
     "text": [
      "Communities detected in 0.59354 [s]\n",
      "solution properties:\n",
      "-------------------  --------------\n",
      "# communities        9054\n",
      "min community size      1\n",
      "max community size     39\n",
      "avg. community size     4.56505\n",
      "imbalance               7.8\n",
      "edge cut                2.47269e+07\n",
      "edge cut (portion)      7.00815\n",
      "modularity              0.00946038\n",
      "-------------------  --------------\n"
     ]
    }
   ],
   "source": [
    "# import nltk\n",
    "# nltk.download('brown')\n",
    "from sinr.text.cooccurrence import Cooccurrence\n",
    "from sinr.text.pmi import pmi_filter\n",
    "from nltk.corpus import brown\n",
    "from nltk.corpus import reuters\n",
    "c = Cooccurrence()\n",
    "c.fit(reuters.sents()[0:len(reuters.sents()) - 1000], window=100)\n",
    "c.matrix = pmi_filter(c.matrix)\n",
    "c.save(\"matrix.pk\")\n",
    "import sinr.graph_embeddings as ge\n",
    "sinr = ge.SINr.load_from_cooc_pkl(\"matrix.pk\")\n",
    "communities = sinr.detect_communities(gamma=300)"
   ]
  },
  {
   "cell_type": "code",
   "execution_count": 68,
   "id": "60d2afdb-5d04-48f9-8c38-5d4f14ea8c6f",
   "metadata": {},
   "outputs": [
    {
     "name": "stderr",
     "output_type": "stream",
     "text": [
      "2023-01-31 12:57:46,434 - extract_embeddings - INFO - Extracting embeddings.\n",
      "2023-01-31 12:57:46,435 - extract_embeddings - INFO - Applying NFM.\n",
      "2023-01-31 12:57:46,436 - get_nfm_embeddings - INFO - Starting NFM\n",
      "/home/dugue/Depotgit/sinr/sinr/nfm.py:40: RuntimeWarning: divide by zero encountered in reciprocal\n",
      "  np.reciprocal(community_weights).astype('float'))  # 1/community_weight for each column of the membership matrix\n",
      "2023-01-31 12:57:57,327 - extract_embeddings - INFO - NFM successfully applied.\n",
      "2023-01-31 12:57:57,327 - extract_embeddings - INFO - Finished extracting embeddings.\n"
     ]
    },
    {
     "data": {
      "text/plain": [
       "{'object ': 'liberal',\n",
       " 'neighbors ': [('Republicans', 0.67),\n",
       "  ('revolt', 0.66),\n",
       "  ('defeat', 0.65),\n",
       "  ('alliance', 0.65),\n",
       "  ('legislators', 0.63),\n",
       "  ('winning', 0.62),\n",
       "  ('Democrats', 0.62),\n",
       "  ('conservative', 0.59),\n",
       "  ('statement', 0.55),\n",
       "  ('sharp', 0.51),\n",
       "  ('drop', 0.5),\n",
       "  ('speech', 0.5),\n",
       "  ('slight', 0.5),\n",
       "  ('minute', 0.49)]}"
      ]
     },
     "execution_count": 68,
     "metadata": {},
     "output_type": "execute_result"
    }
   ],
   "source": [
    "sinr.extract_embeddings(communities)\n",
    "sinr_vectors = ge.InterpretableWordsModelBuilder(sinr, \"reuters1\", n_jobs=8, n_neighbors=15).build()\n",
    "sinr_vectors.most_similar(\"liberal\")"
   ]
  },
  {
   "cell_type": "code",
   "execution_count": 69,
   "id": "b0a94e8f-f218-4988-8ead-5bd6232e93e3",
   "metadata": {},
   "outputs": [
    {
     "data": {
      "text/plain": [
       "{'dimension': 4415, 'descriptors': [(0.12, 'revolt'), (0.1, 'alliance'), (0.09, 'defeat'), (0.08, 'legislators'), (0.08, 'Republicans'), (0.07, 'liberal'), (0.06, 'winning'), (0.05, 'Democrats'), (0.04, 'conservative'), (0.04, 'minute')]}"
      ]
     },
     "execution_count": 69,
     "metadata": {},
     "output_type": "execute_result"
    }
   ],
   "source": [
    "sinr_vectors.get_dimension_descriptors(\"liberal\")"
   ]
  },
  {
   "cell_type": "code",
   "execution_count": 70,
   "id": "9a82b277-a747-4af4-8547-1f438da36dc2",
   "metadata": {},
   "outputs": [
    {
     "data": {
      "text/plain": [
       "9054"
      ]
     },
     "execution_count": 70,
     "metadata": {},
     "output_type": "execute_result"
    }
   ],
   "source": [
    "sinr_vectors.get_number_of_dimensions()"
   ]
  },
  {
   "cell_type": "code",
   "execution_count": 71,
   "id": "31d8503a-76c9-4979-99ed-b87b76165822",
   "metadata": {},
   "outputs": [
    {
     "name": "stderr",
     "output_type": "stream",
     "text": [
      "2023-01-31 12:58:05,876 - load_from_cooc_pkl - INFO - Building Graph.\n",
      "2023-01-31 12:58:05,877 - load_pkl_text - INFO - Loading cooccurrence matrix and dictionary.\n",
      "2023-01-31 12:58:05,890 - load_pkl_text - INFO - Finished loading data.\n",
      "2023-01-31 12:58:07,084 - load_from_cooc_pkl - INFO - Finished building graph.\n",
      "2023-01-31 12:58:07,126 - extract_embeddings - INFO - Extracting embeddings.\n",
      "2023-01-31 12:58:07,127 - extract_embeddings - INFO - Applying NFM.\n",
      "2023-01-31 12:58:07,128 - get_nfm_embeddings - INFO - Starting NFM\n",
      "2023-01-31 12:58:16,845 - extract_embeddings - INFO - NFM successfully applied.\n",
      "2023-01-31 12:58:16,845 - extract_embeddings - INFO - Finished extracting embeddings.\n"
     ]
    },
    {
     "data": {
      "text/plain": [
       "{'object ': 'liberal',\n",
       " 'neighbors ': [('conservatives', 0.63),\n",
       "  ('Democrats', 0.62),\n",
       "  ('alliance', 0.6),\n",
       "  ('economy', 0.58),\n",
       "  ('growing', 0.58),\n",
       "  ('pact', 0.58),\n",
       "  ('to', 0.58),\n",
       "  ('dollar', 0.58),\n",
       "  ('industry', 0.58),\n",
       "  ('bill', 0.57),\n",
       "  ('Republicans', 0.57),\n",
       "  ('market', 0.57),\n",
       "  ('made', 0.57),\n",
       "  ('proposed', 0.57)]}"
      ]
     },
     "execution_count": 71,
     "metadata": {},
     "output_type": "execute_result"
    }
   ],
   "source": [
    "c = Cooccurrence()\n",
    "c.fit(reuters.sents()[1000:], window=10)\n",
    "c.save(\"matrix2.pk\")\n",
    "import sinr.graph_embeddings as ge\n",
    "sinr = ge.SINr.load_from_cooc_pkl(\"matrix2.pk\")\n",
    "sinr.transfert_communities_labels(sinr_vectors.get_communities_as_labels_sets())\n",
    "sinr.extract_embeddings()\n",
    "sinr_vectors = ge.InterpretableWordsModelBuilder(sinr, \"reuters2\", n_jobs=8, n_neighbors=15).build()\n",
    "sinr_vectors.most_similar(\"liberal\")"
   ]
  },
  {
   "cell_type": "code",
   "execution_count": 72,
   "id": "402921ee-f8e6-485f-ae34-40b6f5b93ad6",
   "metadata": {},
   "outputs": [
    {
     "data": {
      "text/plain": [
       "{'dimension': 6139, 'descriptors': [(0.1, 'defeat'), (0.1, 'alliance'), (0.1, 'revolt'), (0.06, 'Republicans'), (0.05, 'liberal'), (0.04, 'Democrats'), (0.04, 'minute'), (0.03, 'conservative'), (0.02, 'legislators'), (0.0, 'winning')]}"
      ]
     },
     "execution_count": 72,
     "metadata": {},
     "output_type": "execute_result"
    }
   ],
   "source": [
    "sinr_vectors.get_dimension_descriptors(\"liberal\")"
   ]
  },
  {
   "cell_type": "code",
   "execution_count": 73,
   "id": "c047691e-9a39-4db5-9750-e63965e5dfdf",
   "metadata": {},
   "outputs": [
    {
     "data": {
      "text/plain": [
       "9309"
      ]
     },
     "execution_count": 73,
     "metadata": {},
     "output_type": "execute_result"
    }
   ],
   "source": [
    "sinr_vectors.get_number_of_dimensions()"
   ]
  },
  {
   "cell_type": "code",
   "execution_count": null,
   "id": "120f586b-e801-4308-a632-107ac2ad6458",
   "metadata": {},
   "outputs": [],
   "source": []
  }
 ],
 "metadata": {
  "kernelspec": {
   "display_name": "py39",
   "language": "python",
   "name": "py39"
  },
  "language_info": {
   "codemirror_mode": {
    "name": "ipython",
    "version": 3
   },
   "file_extension": ".py",
   "mimetype": "text/x-python",
   "name": "python",
   "nbconvert_exporter": "python",
   "pygments_lexer": "ipython3",
   "version": "3.9.12"
  }
 },
 "nbformat": 4,
 "nbformat_minor": 5
}
