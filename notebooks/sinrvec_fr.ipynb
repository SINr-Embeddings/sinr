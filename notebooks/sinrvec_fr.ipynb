{
 "cells": [
  {
   "cell_type": "markdown",
   "id": "23970218-d9ab-436e-aded-3c11ceaac1af",
   "metadata": {},
   "source": [
    "<h1><center>SINr : manipuler et évaluer un modèle SINr</center></h1>\n",
    "Page Github : https://github.com/SINr-Embeddings/sinr/tree/main\n",
    "    \n",
    "Documentation : https://sinr-embeddings.github.io/sinr/_build/html/modules.html\n",
    "\n",
    "Publications :\n",
    "-  (https://hal.science/hal-03197434). Thibault Prouteau, Victor Connes, Nicolas Dugué, Anthony Perez,\n",
    "   Jean-Charles Lamirel, et al.. SINr: Fast Computing of Sparse\n",
    "   Interpretable Node Representations is not a Sin!. Advances in\n",
    "   Intelligent Data Analysis XIX, 19th International Symposium on\n",
    "   Intelligent Data Analysis, IDA 2021, Apr 2021, Porto, Portugal.\n",
    "   pp.325-337,\n",
    "-  (https://hal.science/hal-03770444). Thibault Prouteau, Nicolas Dugué, Nathalie Camelin, Sylvain Meignier.\n",
    "   Are Embedding Spaces Interpretable? Results of an Intrusion Detection\n",
    "   Evaluation on a Large French Corpus. LREC 2022, Jun 2022, Marseille,\n",
    "   France.\n",
    "-  (https://hal.science/hal-04321407). Simon Guillot, Thibault Prouteau, Nicolas Dugué.\n",
    "   Sparser is better: one step closer to word embedding interpretability.\n",
    "   IWCS 2023, Nancy, France.\n",
    "-  (https://hal.science/hal-04398742). Anna Béranger, Nicolas Dugué, Simon Guillot, Thibault Prouteau.\n",
    "   Filtering communities in word co-occurrence networks to foster the\n",
    "   emergence of meaning. Complex Networks 2023, Menton, France.\n",
    "\n",
    "Dans ce notebook :\n",
    "- À quoi ressemble le modèle ?\n",
    "- Présentation des modèles, sparsification, méthode SINr-filtered\n",
    "- Comment évaluer les performances d'un modèle avec la similarité\n",
    "- Comment évaluer l'interprétabilité d'un modèle avec le DistRatio\n",
    "- Comment utiliser un modèle SINr dans une tâche de classification\n",
    "- Comment charger un modèle Word2vec avec la librairie SINr\n",
    "\n",
    "Pour un exemple de pré-traitement, d'entraînement, de sparsification et de l'application de la méthode SINr-Filtered sur un modèle SINr, voir le notebook preprocess_train. "
   ]
  },
  {
   "cell_type": "code",
   "execution_count": 3,
   "id": "746cb515-c787-4ac0-8a91-a32c858f22d5",
   "metadata": {},
   "outputs": [
    {
     "data": {
      "text/html": [
       "\n",
       "\t\t\t<script type=\"text/javascript\">\n",
       "\t\t\t<!--\n",
       "\t\t\t\t\n",
       "\t\t\t{\n",
       "\t\t\t\tvar element = document.getElementById('NetworKit_script');\n",
       "\t\t\t\tif (element) {\n",
       "\t\t\t\t\telement.parentNode.removeChild(element);\n",
       "\t\t\t\t}\n",
       "\t\t\t\telement = document.createElement('script');\n",
       "\t\t\t\telement.type = 'text/javascript';\n",
       "\t\t\t\telement.innerHTML = 'function NetworKit_pageEmbed(id) { var i, j; var elements; elements = document.getElementById(id).getElementsByClassName(\"Plot\"); for (i=0; i<elements.length; i++) { elements[i].id = id + \"_Plot_\" + i; var data = elements[i].getAttribute(\"data-image\").split(\"|\"); elements[i].removeAttribute(\"data-image\"); var content = \"<div class=\\\\\"Image\\\\\" id=\\\\\"\" + elements[i].id + \"_Image\\\\\" />\"; elements[i].innerHTML = content; elements[i].setAttribute(\"data-image-index\", 0); elements[i].setAttribute(\"data-image-length\", data.length); for (j=0; j<data.length; j++) { elements[i].setAttribute(\"data-image-\" + j, data[j]); } NetworKit_plotUpdate(elements[i]); elements[i].onclick = function (e) { NetworKit_overlayShow((e.target) ? e.target : e.srcElement); } } elements = document.getElementById(id).getElementsByClassName(\"HeatCell\"); for (i=0; i<elements.length; i++) { var data = parseFloat(elements[i].getAttribute(\"data-heat\")); var color = \"#00FF00\"; if (data <= 1 && data > 0) { color = \"hsla(0, 100%, 75%, \" + (data) + \")\"; } else if (data <= 0 && data >= -1) { color = \"hsla(240, 100%, 75%, \" + (-data) + \")\"; } elements[i].style.backgroundColor = color; } elements = document.getElementById(id).getElementsByClassName(\"Details\"); for (i=0; i<elements.length; i++) { elements[i].setAttribute(\"data-title\", \"-\"); NetworKit_toggleDetails(elements[i]); elements[i].onclick = function (e) { NetworKit_toggleDetails((e.target) ? e.target : e.srcElement); } } elements = document.getElementById(id).getElementsByClassName(\"MathValue\"); for (i=elements.length-1; i>=0; i--) { value = elements[i].innerHTML.trim(); if (value === \"nan\") { elements[i].parentNode.innerHTML = \"\" } } elements = document.getElementById(id).getElementsByClassName(\"SubCategory\"); for (i=elements.length-1; i>=0; i--) { value = elements[i].innerHTML.trim(); if (value === \"\") { elements[i].parentNode.removeChild(elements[i]) } } elements = document.getElementById(id).getElementsByClassName(\"Category\"); for (i=elements.length-1; i>=0; i--) { value = elements[i].innerHTML.trim(); if (value === \"\") { elements[i].parentNode.removeChild(elements[i]) } } var isFirefox = false; try { isFirefox = typeof InstallTrigger !== \"undefined\"; } catch (e) {} if (!isFirefox) { alert(\"Currently the function\\'s output is only fully supported by Firefox.\"); } } function NetworKit_plotUpdate(source) { var index = source.getAttribute(\"data-image-index\"); var data = source.getAttribute(\"data-image-\" + index); var image = document.getElementById(source.id + \"_Image\"); image.style.backgroundImage = \"url(\" + data + \")\"; } function NetworKit_showElement(id, show) { var element = document.getElementById(id); element.style.display = (show) ? \"block\" : \"none\"; } function NetworKit_overlayShow(source) { NetworKit_overlayUpdate(source); NetworKit_showElement(\"NetworKit_Overlay\", true); } function NetworKit_overlayUpdate(source) { document.getElementById(\"NetworKit_Overlay_Title\").innerHTML = source.title; var index = source.getAttribute(\"data-image-index\"); var data = source.getAttribute(\"data-image-\" + index); var image = document.getElementById(\"NetworKit_Overlay_Image\"); image.setAttribute(\"data-id\", source.id); image.style.backgroundImage = \"url(\" + data + \")\"; var link = document.getElementById(\"NetworKit_Overlay_Toolbar_Bottom_Save\"); link.href = data; link.download = source.title + \".svg\"; } function NetworKit_overlayImageShift(delta) { var image = document.getElementById(\"NetworKit_Overlay_Image\"); var source = document.getElementById(image.getAttribute(\"data-id\")); var index = parseInt(source.getAttribute(\"data-image-index\")); var length = parseInt(source.getAttribute(\"data-image-length\")); var index = (index+delta) % length; if (index < 0) { index = length + index; } source.setAttribute(\"data-image-index\", index); NetworKit_overlayUpdate(source); } function NetworKit_toggleDetails(source) { var childs = source.children; var show = false; if (source.getAttribute(\"data-title\") == \"-\") { source.setAttribute(\"data-title\", \"+\"); show = false; } else { source.setAttribute(\"data-title\", \"-\"); show = true; } for (i=0; i<childs.length; i++) { if (show) { childs[i].style.display = \"block\"; } else { childs[i].style.display = \"none\"; } } }';\n",
       "\t\t\t\telement.setAttribute('id', 'NetworKit_script');\n",
       "\t\t\t\tdocument.head.appendChild(element);\n",
       "\t\t\t}\n",
       "\t\t\n",
       "\t\t\t\t\n",
       "\t\t\t{\n",
       "\t\t\t\tvar element = document.getElementById('NetworKit_style');\n",
       "\t\t\t\tif (element) {\n",
       "\t\t\t\t\telement.parentNode.removeChild(element);\n",
       "\t\t\t\t}\n",
       "\t\t\t\telement = document.createElement('style');\n",
       "\t\t\t\telement.type = 'text/css';\n",
       "\t\t\t\telement.innerHTML = '.NetworKit_Page { font-family: Arial, Helvetica, sans-serif; font-size: 14px; } .NetworKit_Page .Value:before { font-family: Arial, Helvetica, sans-serif; font-size: 1.05em; content: attr(data-title) \":\"; margin-left: -2.5em; padding-right: 0.5em; } .NetworKit_Page .Details .Value:before { display: block; } .NetworKit_Page .Value { font-family: monospace; white-space: pre; padding-left: 2.5em; white-space: -moz-pre-wrap !important; white-space: -pre-wrap; white-space: -o-pre-wrap; white-space: pre-wrap; word-wrap: break-word; tab-size: 4; -moz-tab-size: 4; } .NetworKit_Page .Category { clear: both; padding-left: 1em; margin-bottom: 1.5em; } .NetworKit_Page .Category:before { content: attr(data-title); font-size: 1.75em; display: block; margin-left: -0.8em; margin-bottom: 0.5em; } .NetworKit_Page .SubCategory { margin-bottom: 1.5em; padding-left: 1em; } .NetworKit_Page .SubCategory:before { font-size: 1.6em; display: block; margin-left: -0.8em; margin-bottom: 0.5em; } .NetworKit_Page .SubCategory[data-title]:before { content: attr(data-title); } .NetworKit_Page .Block { display: block; } .NetworKit_Page .Block:after { content: \".\"; visibility: hidden; display: block; height: 0; clear: both; } .NetworKit_Page .Block .Thumbnail_Overview, .NetworKit_Page .Block .Thumbnail_ScatterPlot { width: 260px; float: left; } .NetworKit_Page .Block .Thumbnail_Overview img, .NetworKit_Page .Block .Thumbnail_ScatterPlot img { width: 260px; } .NetworKit_Page .Block .Thumbnail_Overview:before, .NetworKit_Page .Block .Thumbnail_ScatterPlot:before { display: block; text-align: center; font-weight: bold; } .NetworKit_Page .Block .Thumbnail_Overview:before { content: attr(data-title); } .NetworKit_Page .HeatCell { font-family: \"Courier New\", Courier, monospace; cursor: pointer; } .NetworKit_Page .HeatCell, .NetworKit_Page .HeatCellName { display: inline; padding: 0.1em; margin-right: 2px; background-color: #FFFFFF } .NetworKit_Page .HeatCellName { margin-left: 0.25em; } .NetworKit_Page .HeatCell:before { content: attr(data-heat); display: inline-block; color: #000000; width: 4em; text-align: center; } .NetworKit_Page .Measure { clear: both; } .NetworKit_Page .Measure .Details { cursor: pointer; } .NetworKit_Page .Measure .Details:before { content: \"[\" attr(data-title) \"]\"; display: block; } .NetworKit_Page .Measure .Details .Value { border-left: 1px dotted black; margin-left: 0.4em; padding-left: 3.5em; pointer-events: none; } .NetworKit_Page .Measure .Details .Spacer:before { content: \".\"; opacity: 0.0; pointer-events: none; } .NetworKit_Page .Measure .Plot { width: 440px; height: 440px; cursor: pointer; float: left; margin-left: -0.9em; margin-right: 20px; } .NetworKit_Page .Measure .Plot .Image { background-repeat: no-repeat; background-position: center center; background-size: contain; height: 100%; pointer-events: none; } .NetworKit_Page .Measure .Stat { width: 500px; float: left; } .NetworKit_Page .Measure .Stat .Group { padding-left: 1.25em; margin-bottom: 0.75em; } .NetworKit_Page .Measure .Stat .Group .Title { font-size: 1.1em; display: block; margin-bottom: 0.3em; margin-left: -0.75em; border-right-style: dotted; border-right-width: 1px; border-bottom-style: dotted; border-bottom-width: 1px; background-color: #D0D0D0; padding-left: 0.2em; } .NetworKit_Page .Measure .Stat .Group .List { -webkit-column-count: 3; -moz-column-count: 3; column-count: 3; } .NetworKit_Page .Measure .Stat .Group .List .Entry { position: relative; line-height: 1.75em; } .NetworKit_Page .Measure .Stat .Group .List .Entry[data-tooltip]:before { position: absolute; left: 0; top: -40px; background-color: #808080; color: #ffffff; height: 30px; line-height: 30px; border-radius: 5px; padding: 0 15px; content: attr(data-tooltip); white-space: nowrap; display: none; } .NetworKit_Page .Measure .Stat .Group .List .Entry[data-tooltip]:after { position: absolute; left: 15px; top: -10px; border-top: 7px solid #808080; border-left: 7px solid transparent; border-right: 7px solid transparent; content: \"\"; display: none; } .NetworKit_Page .Measure .Stat .Group .List .Entry[data-tooltip]:hover:after, .NetworKit_Page .Measure .Stat .Group .List .Entry[data-tooltip]:hover:before { display: block; } .NetworKit_Page .Measure .Stat .Group .List .Entry .MathValue { font-family: \"Courier New\", Courier, monospace; } .NetworKit_Page .Measure:after { content: \".\"; visibility: hidden; display: block; height: 0; clear: both; } .NetworKit_Page .PartitionPie { clear: both; } .NetworKit_Page .PartitionPie img { width: 600px; } #NetworKit_Overlay { left: 0px; top: 0px; display: none; position: absolute; width: 100%; height: 100%; background-color: rgba(0,0,0,0.6); z-index: 1000; } #NetworKit_Overlay_Title { position: absolute; color: white; transform: rotate(-90deg); width: 32em; height: 32em; padding-right: 0.5em; padding-top: 0.5em; text-align: right; font-size: 40px; } #NetworKit_Overlay .button { background: white; cursor: pointer; } #NetworKit_Overlay .button:before { size: 13px; display: inline-block; text-align: center; margin-top: 0.5em; margin-bottom: 0.5em; width: 1.5em; height: 1.5em; } #NetworKit_Overlay .icon-close:before { content: \"X\"; } #NetworKit_Overlay .icon-previous:before { content: \"P\"; } #NetworKit_Overlay .icon-next:before { content: \"N\"; } #NetworKit_Overlay .icon-save:before { content: \"S\"; } #NetworKit_Overlay_Toolbar_Top, #NetworKit_Overlay_Toolbar_Bottom { position: absolute; width: 40px; right: 13px; text-align: right; z-index: 1100; } #NetworKit_Overlay_Toolbar_Top { top: 0.5em; } #NetworKit_Overlay_Toolbar_Bottom { Bottom: 0.5em; } #NetworKit_Overlay_ImageContainer { position: absolute; top: 5%; left: 5%; height: 90%; width: 90%; background-repeat: no-repeat; background-position: center center; background-size: contain; } #NetworKit_Overlay_Image { height: 100%; width: 100%; background-repeat: no-repeat; background-position: center center; background-size: contain; }';\n",
       "\t\t\t\telement.setAttribute('id', 'NetworKit_style');\n",
       "\t\t\t\tdocument.head.appendChild(element);\n",
       "\t\t\t}\n",
       "\t\t\n",
       "\t\t\t\t\n",
       "\t\t\t{\n",
       "\t\t\t\tvar element = document.getElementById('NetworKit_Overlay');\n",
       "\t\t\t\tif (element) {\n",
       "\t\t\t\t\telement.parentNode.removeChild(element);\n",
       "\t\t\t\t}\n",
       "\t\t\t\telement = document.createElement('div');\n",
       "\t\t\t\telement.innerHTML = '<div id=\"NetworKit_Overlay_Toolbar_Top\"><div class=\"button icon-close\" id=\"NetworKit_Overlay_Close\" /></div><div id=\"NetworKit_Overlay_Title\" /> <div id=\"NetworKit_Overlay_ImageContainer\"> <div id=\"NetworKit_Overlay_Image\" /> </div> <div id=\"NetworKit_Overlay_Toolbar_Bottom\"> <div class=\"button icon-previous\" onclick=\"NetworKit_overlayImageShift(-1)\" /> <div class=\"button icon-next\" onclick=\"NetworKit_overlayImageShift(1)\" /> <a id=\"NetworKit_Overlay_Toolbar_Bottom_Save\"><div class=\"button icon-save\" /></a> </div>';\n",
       "\t\t\t\telement.setAttribute('id', 'NetworKit_Overlay');\n",
       "\t\t\t\tdocument.body.appendChild(element);\n",
       "\t\t\t\tdocument.getElementById('NetworKit_Overlay_Close').onclick = function (e) {\n",
       "\t\t\t\t\tdocument.getElementById('NetworKit_Overlay').style.display = 'none';\n",
       "\t\t\t\t}\n",
       "\t\t\t}\n",
       "\t\t\n",
       "\t\t\t-->\n",
       "\t\t\t</script>\n",
       "\t\t"
      ]
     },
     "metadata": {},
     "output_type": "display_data"
    }
   ],
   "source": [
    "import sinr.graph_embeddings as ge\n",
    "import sinr.text.evaluate as ev\n",
    "import sinr.viz as viz\n",
    "import sinr.text.preprocess as ppcs\n",
    "from sklearn.datasets import fetch_20newsgroups\n",
    "import xgboost as xgb"
   ]
  },
  {
   "cell_type": "markdown",
   "id": "be065df5-dc13-441c-8e0a-27629cdc4cc9",
   "metadata": {},
   "source": [
    "## Présentation des modèles\n",
    "\n",
    "Dans ce notebook, deux modèles sont utilisés, un entraîné sur FrWac, corpus en français, et un entraîné sur BNC (British National Corpus), corpus en anglais. Les deux corpus sont disponibles dans le répertoire notebooks du projet GitHub.\n",
    "\n",
    "Les deux corpus sont pré-traités, de sorte à avoir :\n",
    "- Des mots lemmatisés\n",
    "- Uniquement des noms communs, des adjectifs et des verbes\n",
    "- Des mots présents plus de 20 fois dans les corpus\n",
    "\n",
    "Le corpus FrWac a été filtré avec le lefff (https://www.labri.fr/perso/clement/lefff/).\n",
    "\n",
    "Les modèles sont entraînés avec un gamma de 50.\n",
    "\n",
    "Le modèle FrWac a été sparsifié pour avoir maximum 100 valeurs non nulles par vecteur de mot. Le modèle BNC a été sparsifié pour avoir maximum 160 valeurs non nulles par vecteur de mot.\n",
    "\n",
    "Les deux modèles ont été filtrés par la méthode SINr-Filtered.\n",
    "\n",
    "SINr-Filtered s'appuyant sur la tâche de similarité et n'ayant pas de data set de similarité en français à disposition, les seuils de filtrage d'un modèle en anglais de même taille ont été calculés avec la méthode SINr-Filtered. Ces seuils ont été appliqués sur le modèle français :\n",
    "- Les dimensions avec moins de 800 valeurs non nulles ont été supprimées\n",
    "- Les dimensions avec plus de 3800 valeurs non nulles ont été supprimées\n",
    "\n",
    "Pour le modèle BNC :\n",
    "- Les dimensions avec moins de 600 valeurs non nulles ont été supprimées\n",
    "- Les dimensions avec plus de 2900 valeurs non nulles ont été supprimées"
   ]
  },
  {
   "cell_type": "code",
   "execution_count": 5,
   "id": "657c5e11-7fce-4f7b-a6a6-ded99a60e24f",
   "metadata": {},
   "outputs": [],
   "source": [
    "# charge le fichier sinrvec_frwac.pk\n",
    "model_fr = ge.SINrVectors('frwac_gamma50_spars20_filtered')\n",
    "model_fr.load('./sinrvec_frwac.pk')\n",
    "\n",
    "# charge le fichier sinrvec_bnc.pk\n",
    "model_en = ge.SINrVectors('bnc_gamma50_spars20_filtered')\n",
    "model_en.load('./sinrvec_bnc.pk')"
   ]
  },
  {
   "cell_type": "markdown",
   "id": "8123bd89-ff12-4a9c-8410-cb0ff61fe7e0",
   "metadata": {},
   "source": [
    "## Représentations du modèle français\n",
    "\n",
    "Dans la librairie SINr :\n",
    "- les 'stereotypes' d'une dimension sont des mots ayant une valeur non nulle sur cette dimension\n",
    "- les 'descriptors' d'une dimension sont les mots qui constituent la communauté qui est associée à la dimension"
   ]
  },
  {
   "cell_type": "markdown",
   "id": "ee05a22d-8a45-4ccb-90f2-398696efa10c",
   "metadata": {},
   "source": [
    "Quels sont les mots les plus proches de 'montagne'?"
   ]
  },
  {
   "cell_type": "code",
   "execution_count": 8,
   "id": "203e2ed8-7ec5-432a-8995-744600b2b414",
   "metadata": {},
   "outputs": [
    {
     "data": {
      "text/plain": [
       "{'object ': 'montagne',\n",
       " 'neighbors ': [('colline', 0.79),\n",
       "  ('plaine', 0.7),\n",
       "  ('vallée', 0.7),\n",
       "  ('surplomber', 0.65),\n",
       "  ('contrebas', 0.64),\n",
       "  ('boisé', 0.63),\n",
       "  ('escarpé', 0.62),\n",
       "  ('rocheux', 0.62),\n",
       "  ('mont', 0.61),\n",
       "  ('coteau', 0.61),\n",
       "  ('lac', 0.61),\n",
       "  ('falaise', 0.6),\n",
       "  ('enneigé', 0.59),\n",
       "  ('flanc', 0.58),\n",
       "  ('percher', 0.58),\n",
       "  ('ravin', 0.58),\n",
       "  ('forêt', 0.57),\n",
       "  ('promontoire', 0.57),\n",
       "  ('dévaler', 0.57),\n",
       "  ('border', 0.57),\n",
       "  ('vallon', 0.57),\n",
       "  ('rocher', 0.56),\n",
       "  ('versant', 0.55),\n",
       "  ('montagnard', 0.55),\n",
       "  ('rivière', 0.55),\n",
       "  ('pente', 0.54),\n",
       "  ('abrupt', 0.52),\n",
       "  ('bordure', 0.52),\n",
       "  ('butte', 0.52),\n",
       "  ('désert', 0.51)]}"
      ]
     },
     "execution_count": 8,
     "metadata": {},
     "output_type": "execute_result"
    }
   ],
   "source": [
    "model_fr.most_similar('montagne')"
   ]
  },
  {
   "cell_type": "markdown",
   "id": "13525909-94a1-4729-ad3a-b2aecd428d01",
   "metadata": {},
   "source": [
    "De quelle communauté le mot 'montagne' est-il membre ?"
   ]
  },
  {
   "cell_type": "code",
   "execution_count": 9,
   "id": "d33a1384-ed77-4d5a-8ce9-7402f235c48d",
   "metadata": {},
   "outputs": [
    {
     "data": {
      "text/plain": [
       "{'dimension': 61, 'descriptors': [(0.05, 'enneiger'), (0.05, 'treillage'), (0.01, 'accompagnateur'), (0.01, 'montagne'), (0.01, 'renoncer')]}"
      ]
     },
     "execution_count": 9,
     "metadata": {},
     "output_type": "execute_result"
    }
   ],
   "source": [
    "model_fr.get_dimension_descriptors('montagne')"
   ]
  },
  {
   "cell_type": "code",
   "execution_count": 10,
   "id": "2e0b0b43-5ae9-4280-afc7-f7fa3a1e3da4",
   "metadata": {},
   "outputs": [
    {
     "data": {
      "text/plain": [
       "{'dimension': 61, 'descriptors': [(0.05, 'enneiger'), (0.05, 'treillage'), (0.01, 'accompagnateur'), (0.01, 'montagne'), (0.01, 'renoncer')]}"
      ]
     },
     "execution_count": 10,
     "metadata": {},
     "output_type": "execute_result"
    }
   ],
   "source": [
    "# La communauté d'une dimension peut être également obtenue en passant par l'index de la dimension\n",
    "model_fr.get_dimension_descriptors_idx(61)"
   ]
  },
  {
   "cell_type": "markdown",
   "id": "31e1b288-b8f4-4011-bede-f75911ed138e",
   "metadata": {},
   "source": [
    "Quels mots ont les plus grandes valeurs sur cette dimension ?"
   ]
  },
  {
   "cell_type": "code",
   "execution_count": 12,
   "id": "dac08461-a41e-4515-a38c-9c3c6f544224",
   "metadata": {},
   "outputs": [
    {
     "data": {
      "text/plain": [
       "{'dimension': 61, 'stereotypes': [(0.11, 'verglacer'), (0.05, 'treillage'), (0.05, 'enneiger'), (0.04, 'enneigé'), (0.03, 'remontrer')]}"
      ]
     },
     "execution_count": 12,
     "metadata": {},
     "output_type": "execute_result"
    }
   ],
   "source": [
    "model_fr.get_dimension_stereotypes('montagne')\n",
    "# voir aussi model_fr.get_dimension_stereotypes_idx(61)"
   ]
  },
  {
   "cell_type": "markdown",
   "id": "e6624177-f065-4eed-985f-2c7bb9b3ae4e",
   "metadata": {},
   "source": [
    "Par quelles dimensions 'montagne' est représenté ?"
   ]
  },
  {
   "cell_type": "code",
   "execution_count": 14,
   "id": "f7a870d0-1f31-44bd-ab76-241fae4a88df",
   "metadata": {},
   "outputs": [
    {
     "data": {
      "text/plain": [
       "[{'dimension': 28,\n",
       "  'value': True,\n",
       "  'stereotypes': [(0.15, 'crayeux'),\n",
       "   (0.11, 'anfractuosité'),\n",
       "   (0.08, 'abrupt')],\n",
       "  'descriptors': [(0.15, 'crayeux'),\n",
       "   (0.11, 'anfractuosité'),\n",
       "   (0.08, 'abrupt')]},\n",
       " {'dimension': 61,\n",
       "  'value': True,\n",
       "  'stereotypes': [(0.11, 'verglacer'),\n",
       "   (0.05, 'treillage'),\n",
       "   (0.05, 'enneiger')],\n",
       "  'descriptors': [(0.05, 'enneiger'),\n",
       "   (0.05, 'treillage'),\n",
       "   (0.01, 'accompagnateur')]},\n",
       " {'dimension': 166,\n",
       "  'value': True,\n",
       "  'stereotypes': [(0.11, 'oued'), (0.1, 'mugir'), (0.08, 'torrentiel')],\n",
       "  'descriptors': [(0.11, 'oued'), (0.07, 'affluent'), (0.05, 'draine')]},\n",
       " {'dimension': 428,\n",
       "  'value': True,\n",
       "  'stereotypes': [(0.15, 'transitif'),\n",
       "   (0.12, 'verglacer'),\n",
       "   (0.12, 'automorphisme')],\n",
       "  'descriptors': [(0.15, 'transitif'),\n",
       "   (0.12, 'automorphisme'),\n",
       "   (0.07, 'morphisme')]},\n",
       " {'dimension': 448,\n",
       "  'value': True,\n",
       "  'stereotypes': [(0.17, 'finage'), (0.12, 'comtal'), (0.11, 'inexpugnable')],\n",
       "  'descriptors': [(0.17, 'finage'), (0.12, 'comtal'), (0.11, 'inexpugnable')]}]"
      ]
     },
     "execution_count": 14,
     "metadata": {},
     "output_type": "execute_result"
    }
   ],
   "source": [
    "model_fr.get_obj_stereotypes_and_descriptors('montagne')\n",
    "# voir aussi get_obj_stereotypes('montagne') et get_obj_descriptors('montagne')"
   ]
  },
  {
   "cell_type": "markdown",
   "id": "ff222719-0b72-4575-9684-1b2ba1afcc80",
   "metadata": {},
   "source": [
    "Le module viz permet de comparer des mots par leur stéréotypes :"
   ]
  },
  {
   "cell_type": "code",
   "execution_count": 15,
   "id": "c8de3ff8-a4cb-4510-9d55-ad734677c6be",
   "metadata": {},
   "outputs": [],
   "source": [
    "sinr_viz = viz.SINrViz(model_fr)"
   ]
  },
  {
   "cell_type": "code",
   "execution_count": 34,
   "id": "09ada571-cbb1-4480-886c-0ac64cc582f3",
   "metadata": {},
   "outputs": [
    {
     "name": "stdout",
     "output_type": "stream",
     "text": [
      "{705, 643, 932, 231, 136, 393, 616, 296, 140, 13, 685, 175, 780, 849, 178, 249}\n"
     ]
    },
    {
     "data": {
      "image/png": "[encoded data removed]",
      "text/plain": [
       "<Figure size 640x480 with 2 Axes>"
      ]
     },
     "metadata": {},
     "output_type": "display_data"
    }
   ],
   "source": [
    "sinr_viz.compare_stereotypes([\"chien\", \"chat\", \"ville\", \"commune\"], topk_dim=5)"
   ]
  },
  {
   "cell_type": "markdown",
   "id": "e5bd234c-6756-4c61-97af-5788f8d92656",
   "metadata": {},
   "source": [
    "## Tâche de similarité : évaluer les performances du modèle\n",
    "\n",
    "La librairie SINr permet de récupérer plusieurs data sets de similarité : MEN, WS353, SCWS et SimLex (665, 999, 222 et 111). Ce sont des data sets en anglais, on ne peut donc pas évaluer le modèle français.\n",
    "\n",
    "Pour effectuer la tâche sur un modèle anglais, on peut, soit récupérer un data set en particulier et évaluer le modèle :"
   ]
  },
  {
   "cell_type": "code",
   "execution_count": 35,
   "id": "09f79a17-b3a6-4941-97ed-f4a604b6ddfc",
   "metadata": {},
   "outputs": [
    {
     "data": {
      "application/vnd.jupyter.widget-view+json": {
       "model_id": "cc89be29674543caadf084ccc3eff174",
       "version_major": 2,
       "version_minor": 0
      },
      "text/plain": [
       "eval similarity:   0%|          | 0/3000 [00:00<?, ?it/s]"
      ]
     },
     "metadata": {},
     "output_type": "display_data"
    },
    {
     "name": "stdout",
     "output_type": "stream",
     "text": [
      "1 missing words\n"
     ]
    },
    {
     "data": {
      "text/plain": [
       "0.7101779663902481"
      ]
     },
     "execution_count": 35,
     "metadata": {},
     "output_type": "execute_result"
    }
   ],
   "source": [
    "men = ev.fetch_data_MEN()\n",
    "ev.eval_similarity(model_en, men)"
   ]
  },
  {
   "cell_type": "markdown",
   "id": "6da8869c-19c5-41be-8d52-bdda89b15a46",
   "metadata": {},
   "source": [
    "soit utiliser une méthode qui évalue le modèle sur MEN, WS353 et SCWS :"
   ]
  },
  {
   "cell_type": "code",
   "execution_count": 36,
   "id": "4215dfd7-9d69-47af-859e-5313250c1a6d",
   "metadata": {},
   "outputs": [
    {
     "data": {
      "application/vnd.jupyter.widget-view+json": {
       "model_id": "a80b983e34e44bd38b3fcf2219338907",
       "version_major": 2,
       "version_minor": 0
      },
      "text/plain": [
       "eval similarity:   0%|          | 0/3000 [00:00<?, ?it/s]"
      ]
     },
     "metadata": {},
     "output_type": "display_data"
    },
    {
     "name": "stdout",
     "output_type": "stream",
     "text": [
      "1 missing words\n"
     ]
    },
    {
     "data": {
      "application/vnd.jupyter.widget-view+json": {
       "model_id": "6e92a2ea38bb49a6a975008b724653f5",
       "version_major": 2,
       "version_minor": 0
      },
      "text/plain": [
       "eval similarity:   0%|          | 0/353 [00:00<?, ?it/s]"
      ]
     },
     "metadata": {},
     "output_type": "display_data"
    },
    {
     "name": "stdout",
     "output_type": "stream",
     "text": [
      "0 missing words\n"
     ]
    },
    {
     "data": {
      "application/vnd.jupyter.widget-view+json": {
       "model_id": "2f70a6d322684890b0a63cab12bdab25",
       "version_major": 2,
       "version_minor": 0
      },
      "text/plain": [
       "eval similarity:   0%|          | 0/1994 [00:00<?, ?it/s]"
      ]
     },
     "metadata": {},
     "output_type": "display_data"
    },
    {
     "name": "stdout",
     "output_type": "stream",
     "text": [
      "15 missing words\n"
     ]
    },
    {
     "data": {
      "text/plain": [
       "{'MEN': 0.7101779663902481,\n",
       " 'WS353': 0.5719125743645842,\n",
       " 'SCWS': 0.5707449776963844}"
      ]
     },
     "execution_count": 36,
     "metadata": {},
     "output_type": "execute_result"
    }
   ],
   "source": [
    "ev.similarity_MEN_WS353_SCWS(model_en)"
   ]
  },
  {
   "cell_type": "markdown",
   "id": "58987f60-a95a-42f4-bcff-5aa0fd9b32ce",
   "metadata": {},
   "source": [
    "## DistRatio : évaluer l'interprétabilité d'un modèle\n",
    "Cette évaluation ne nécessite pas de data set, il est donc possible de l'appliquer sur un modèle quelque soit la langue."
   ]
  },
  {
   "cell_type": "code",
   "execution_count": 37,
   "id": "21b60aa9-1e68-41ac-9c3a-ba8f7535a497",
   "metadata": {},
   "outputs": [
    {
     "data": {
      "application/vnd.jupyter.widget-view+json": {
       "model_id": "b64982cbda7a4cb994ca3d51f179f60b",
       "version_major": 2,
       "version_minor": 0
      },
      "text/plain": [
       "  0%|          | 0/944 [00:00<?, ?it/s]"
      ]
     },
     "metadata": {},
     "output_type": "display_data"
    },
    {
     "data": {
      "application/vnd.jupyter.widget-view+json": {
       "model_id": "324b4e2cc96d4250be2ec03024a1d795",
       "version_major": 2,
       "version_minor": 0
      },
      "text/plain": [
       "  0%|          | 0/944 [00:00<?, ?it/s]"
      ]
     },
     "metadata": {},
     "output_type": "display_data"
    },
    {
     "data": {
      "text/plain": [
       "2.8858133390138496"
      ]
     },
     "execution_count": 37,
     "metadata": {},
     "output_type": "execute_result"
    }
   ],
   "source": [
    "ev.dist_ratio(model_fr)"
   ]
  },
  {
   "cell_type": "code",
   "execution_count": 38,
   "id": "946f2100-99c4-4bd2-b8fd-f57b2b3a2ffd",
   "metadata": {},
   "outputs": [
    {
     "data": {
      "application/vnd.jupyter.widget-view+json": {
       "model_id": "55ca2ea9b94d4756b81954e568c6a36a",
       "version_major": 2,
       "version_minor": 0
      },
      "text/plain": [
       "  0%|          | 0/1431 [00:00<?, ?it/s]"
      ]
     },
     "metadata": {},
     "output_type": "display_data"
    },
    {
     "data": {
      "application/vnd.jupyter.widget-view+json": {
       "model_id": "e225f95b110d4ea9ae5d8b15998dff00",
       "version_major": 2,
       "version_minor": 0
      },
      "text/plain": [
       "  0%|          | 0/1431 [00:00<?, ?it/s]"
      ]
     },
     "metadata": {},
     "output_type": "display_data"
    },
    {
     "data": {
      "text/plain": [
       "2.6505558240643543"
      ]
     },
     "execution_count": 38,
     "metadata": {},
     "output_type": "execute_result"
    }
   ],
   "source": [
    "ev.dist_ratio(model_en)"
   ]
  },
  {
   "cell_type": "markdown",
   "id": "3dbe0156-ae82-49f0-b198-f760ff298f3f",
   "metadata": {},
   "source": [
    "## Classification de documents textuels\n",
    "\n",
    "Pour cet exemple, on utilisera le data set de classification 20 Newsgroup, la tâche sera donc appliquée sur le modèle anglais."
   ]
  },
  {
   "cell_type": "markdown",
   "id": "233c7f5d-634d-44c7-ae3c-bf2a964c23a7",
   "metadata": {},
   "source": [
    "Récupération du data set :"
   ]
  },
  {
   "cell_type": "code",
   "execution_count": 39,
   "id": "43c49f88-1144-4604-8f40-939c7285635a",
   "metadata": {},
   "outputs": [],
   "source": [
    "datas_test = fetch_20newsgroups(subset='test', remove=('headers', 'footers', 'quotes'), categories=['alt.atheism', 'soc.religion.christian'])\n",
    "X_test = datas_test.data\n",
    "y_test = datas_test.target\n",
    "\n",
    "datas_train = fetch_20newsgroups(subset='train', remove=('headers', 'footers', 'quotes'), categories=['alt.atheism', 'soc.religion.christian'])\n",
    "X_train = datas_train.data\n",
    "y_train = datas_train.target"
   ]
  },
  {
   "cell_type": "markdown",
   "id": "4b610e1e-943d-4860-a302-2c0a61af7479",
   "metadata": {},
   "source": [
    "Pré-traitement des documents, similaire à celui appliqué sur le corpus BNC pour l'entraînement du modèle SINr:"
   ]
  },
  {
   "cell_type": "code",
   "execution_count": 40,
   "id": "ca8121f3-ac4b-4513-bd96-00c7b5fbb630",
   "metadata": {},
   "outputs": [],
   "source": [
    "# Tout d'abord, il faut mettre les documents dans un fichier .txt en séparant les documents par un séparateur\n",
    "separator = '#DOC#'\n",
    "\n",
    "with open('./train_#DOC#.txt', 'w+') as file:\n",
    "    for x in X_train:\n",
    "        file.write(separator)\n",
    "        file.write(x)\n",
    "file.close()\n",
    "\n",
    "with open('./test_#DOC#.txt', 'w+') as file:\n",
    "    for x in X_test:\n",
    "        file.write(separator)\n",
    "        file.write(x)\n",
    "file.close()"
   ]
  },
  {
   "cell_type": "code",
   "execution_count": 41,
   "id": "96441e91-1701-4435-a235-d7fcdb077243",
   "metadata": {},
   "outputs": [
    {
     "name": "stderr",
     "output_type": "stream",
     "text": [
      "2024-06-14 09:30:52,182 - do_txt_to_vrt - INFO - 1079lines to preprocess\n"
     ]
    },
    {
     "data": {
      "application/vnd.jupyter.widget-view+json": {
       "model_id": "6e2fd4d44ad54e8db24f5c1efe65ae3a",
       "version_major": 2,
       "version_minor": 0
      },
      "text/plain": [
       "  0%|          | 0/1079 [00:00<?, ?it/s]"
      ]
     },
     "metadata": {},
     "output_type": "display_data"
    },
    {
     "name": "stderr",
     "output_type": "stream",
     "text": [
      "2024-06-14 09:31:44,647 - do_txt_to_vrt - INFO - VRT-style file written in /export/home/lium/aberanger/sinr/notebooks/train_#DOC#.vrt\n"
     ]
    },
    {
     "data": {
      "application/vnd.jupyter.widget-view+json": {
       "model_id": "23657bf995b14431b683cbd0578affae",
       "version_major": 2,
       "version_minor": 0
      },
      "text/plain": [
       "  0%|          | 0/392185 [00:00<?, ?it/s]"
      ]
     },
     "metadata": {},
     "output_type": "display_data"
    },
    {
     "name": "stderr",
     "output_type": "stream",
     "text": [
      "2024-06-14 09:31:52,890 - do_txt_to_vrt - INFO - 717lines to preprocess\n"
     ]
    },
    {
     "data": {
      "application/vnd.jupyter.widget-view+json": {
       "model_id": "8ab0be2ea36842d59b4324bef4ae2168",
       "version_major": 2,
       "version_minor": 0
      },
      "text/plain": [
       "  0%|          | 0/717 [00:00<?, ?it/s]"
      ]
     },
     "metadata": {},
     "output_type": "display_data"
    },
    {
     "name": "stderr",
     "output_type": "stream",
     "text": [
      "2024-06-14 09:32:30,610 - do_txt_to_vrt - INFO - VRT-style file written in /export/home/lium/aberanger/sinr/notebooks/test_#DOC#.vrt\n"
     ]
    },
    {
     "data": {
      "application/vnd.jupyter.widget-view+json": {
       "model_id": "e745ad44fb594db68cb61740133eb72e",
       "version_major": 2,
       "version_minor": 0
      },
      "text/plain": [
       "  0%|          | 0/286318 [00:00<?, ?it/s]"
      ]
     },
     "metadata": {},
     "output_type": "display_data"
    }
   ],
   "source": [
    "# Ensuite, il faut créer un fichier .vrt, afin de pouvoir appliquer le pré-traitement de notre choix\n",
    "vrt_maker = ppcs.VRTMaker(ppcs.Corpus(ppcs.Corpus.REGISTER_WEB,\n",
    "                                  ppcs.Corpus.LANGUAGE_EN,\n",
    "                                  './train_#DOC#.txt'),\n",
    "                                  \".\", n_jobs=8)\n",
    "vrt_maker.do_txt_to_vrt(separator=separator)\n",
    "docs_train = ppcs.extract_text('./train_#DOC#.vrt', min_length_doc=-1)\n",
    "\n",
    "vrt_maker = ppcs.VRTMaker(ppcs.Corpus(ppcs.Corpus.REGISTER_WEB,\n",
    "                                  ppcs.Corpus.LANGUAGE_EN,\n",
    "                                  './test_#DOC#.txt'),\n",
    "                                  \".\", n_jobs=8)\n",
    "vrt_maker.do_txt_to_vrt(separator=separator)\n",
    "docs_test = ppcs.extract_text('./test_#DOC#.vrt', min_length_doc=-1)"
   ]
  },
  {
   "cell_type": "markdown",
   "id": "3ae4fffd-7e27-4a3c-b93b-367573362343",
   "metadata": {},
   "source": [
    "Vectorisation des documents avec les embeddings SINr"
   ]
  },
  {
   "cell_type": "code",
   "execution_count": 43,
   "id": "ddf70866-6763-4f1e-b507-359fd3e4bcf8",
   "metadata": {},
   "outputs": [],
   "source": [
    "X_train, y_train = ev.vectorizer(model_en, docs_train, y=y_train)\n",
    "X_test, y_test = ev.vectorizer(model_en, docs_test, y=y_test)"
   ]
  },
  {
   "cell_type": "markdown",
   "id": "3e78736a-6cd1-4451-ae18-337232f90c2b",
   "metadata": {},
   "source": [
    "Il faut maintenant choisir un modèle de classification (par défaut, XGBoost) et l'entraîner sur les données d'entraînement. On peut alors obtenir le score de la tâche sur les données de test."
   ]
  },
  {
   "cell_type": "code",
   "execution_count": 44,
   "id": "37987a9f-a6a4-4cba-916c-b09e7c0f95e3",
   "metadata": {},
   "outputs": [
    {
     "data": {
      "text/plain": [
       "0.7266081871345029"
      ]
     },
     "execution_count": 44,
     "metadata": {},
     "output_type": "execute_result"
    }
   ],
   "source": [
    "clf = ev.clf_fit(X_train, y_train, clf=xgb.XGBClassifier())\n",
    "ev.clf_score(clf, X_test, y_test)"
   ]
  },
  {
   "cell_type": "markdown",
   "id": "852a2c6c-4462-47af-b5ba-8e1ea75081e1",
   "metadata": {},
   "source": [
    "Avec XGBoost, il est possible de regarder quelles dimensions ont été le plus utilisées :"
   ]
  },
  {
   "cell_type": "code",
   "execution_count": 46,
   "id": "9d126e24-5fce-48c9-b1b8-540050cbdb77",
   "metadata": {},
   "outputs": [
    {
     "data": {
      "text/plain": [
       "([{'dimension': 1133, 'stereotypes': [(0.14, 'mantis'), (0.09, 'supplication'), (0.07, 'thanksgiving'), (0.06, 'thankfulness'), (0.06, 'meditation')]},\n",
       "  {'dimension': 257, 'stereotypes': [(0.26, 'fructose'), (0.23, 'beet'), (0.18, 'cornflour'), (0.16, 'granulated'), (0.16, 'caster')]},\n",
       "  {'dimension': 619, 'stereotypes': [(0.19, 'bungee'), (0.13, 'bandwagon'), (0.09, 'ya'), (0.04, 'parachute'), (0.04, 'jumping')]},\n",
       "  {'dimension': 31, 'stereotypes': [(0.07, 'genocidal'), (0.06, 'tsarist'), (0.06, 'authoritarian'), (0.06, 'totalitarian'), (0.05, 'repressive')]},\n",
       "  {'dimension': 837, 'stereotypes': [(0.12, 'jerry'), (0.05, 'bodyshell'), (0.05, 'obsolescence'), (0.04, 'mw'), (0.04, 'basilican')]},\n",
       "  {'dimension': 1264, 'stereotypes': [(0.08, 'fourpence'), (0.07, 'thruppence'), (0.06, 'threepence'), (0.06, 'sixpence'), (0.06, 'ninepence')]},\n",
       "  {'dimension': 850, 'stereotypes': [(0.09, 'inhumation'), (0.07, 'cremate'), (0.07, 'hatchet'), (0.07, 'cemetery'), (0.06, 'churchyard')]},\n",
       "  {'dimension': 1055, 'stereotypes': [(0.08, 'tarnished'), (0.07, 'eidetic'), (0.06, 'retinal'), (0.05, 'digitised'), (0.05, 'silvered')]},\n",
       "  {'dimension': 1228, 'stereotypes': [(0.13, 'crus'), (0.12, 'cru'), (0.11, 'nil'), (0.1, 'meiotic'), (0.06, 'premier')]},\n",
       "  {'dimension': 939, 'stereotypes': [(0.06, 'chapter'), (0.06, 'subheading'), (0.06, 'vagotomy'), (0.05, 'incarnation'), (0.04, 'previous')]}],\n",
       " [('f1133', 24.363935470581055),\n",
       "  ('f257', 15.798433303833008),\n",
       "  ('f619', 14.831531524658203),\n",
       "  ('f31', 13.694483757019043),\n",
       "  ('f837', 13.539789199829102),\n",
       "  ('f1264', 13.243057250976562),\n",
       "  ('f850', 13.217266082763672),\n",
       "  ('f1055', 12.823446273803711),\n",
       "  ('f1228', 11.974653244018555),\n",
       "  ('f939', 11.934610366821289)])"
      ]
     },
     "execution_count": 46,
     "metadata": {},
     "output_type": "execute_result"
    }
   ],
   "source": [
    "ev.clf_xgb_interpretability(model_en, clf, 'stereotypes', topk_dim=10, topk=5, importance_type='gain')"
   ]
  },
  {
   "cell_type": "markdown",
   "id": "467c6632-5acc-410c-975d-c48f3235a5ee",
   "metadata": {},
   "source": [
    "## Charger un modèle Word2vec\n",
    "Il est possible de charger un modèle Word2vec dans un objet SINrVectors afin de l'évaluer."
   ]
  },
  {
   "cell_type": "code",
   "execution_count": null,
   "id": "af2bd05a-66a5-4e37-b44b-4b0b2118d5ec",
   "metadata": {},
   "outputs": [],
   "source": [
    "w2v_model = ge.SINrVectors.w2v_model(\"word2vec_model\")"
   ]
  }
 ],
 "metadata": {
  "kernelspec": {
   "display_name": "sinr",
   "language": "python",
   "name": "sinr"
  },
  "language_info": {
   "codemirror_mode": {
    "name": "ipython",
    "version": 3
   },
   "file_extension": ".py",
   "mimetype": "text/x-python",
   "name": "python",
   "nbconvert_exporter": "python",
   "pygments_lexer": "ipython3",
   "version": "3.9.0"
  }
 },
 "nbformat": 4,
 "nbformat_minor": 5
}
