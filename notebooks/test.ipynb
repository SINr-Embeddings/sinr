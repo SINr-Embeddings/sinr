{
 "cells": [
  {
   "cell_type": "code",
   "execution_count": 1,
   "id": "b0e0c055-5df0-46bc-ab4e-4b3f312db986",
   "metadata": {},
   "outputs": [
    {
     "data": {
      "text/plain": [
       "['sinr is fun.', 'sinr is a python package.']"
      ]
     },
     "execution_count": 1,
     "metadata": {},
     "output_type": "execute_result"
    }
   ],
   "source": [
    "corpus = \"sinr is fun. sinr is a python package.\"\n",
    "from nltk.tokenize import sent_tokenize\n",
    "sentences = sent_tokenize(corpus)\n",
    "sentences"
   ]
  },
  {
   "cell_type": "code",
   "execution_count": 2,
   "id": "f7a0be9c-3f1a-4554-9617-abba09eff8df",
   "metadata": {},
   "outputs": [
    {
     "data": {
      "text/plain": [
       "[['sinr', 'is', 'fun', '.'], ['sinr', 'is', 'a', 'python', 'package', '.']]"
      ]
     },
     "execution_count": 2,
     "metadata": {},
     "output_type": "execute_result"
    }
   ],
   "source": [
    "from nltk.tokenize import word_tokenize\n",
    "tokenized_sentences = [word_tokenize(s) for s in sentences]\n",
    "tokenized_sentences"
   ]
  },
  {
   "cell_type": "code",
   "execution_count": 1,
   "id": "9e7d618f-2c66-430b-a2e8-06c03845502d",
   "metadata": {},
   "outputs": [
    {
     "name": "stderr",
     "output_type": "stream",
     "text": [
      "/home/dugue/miniconda3/envs/py39/lib/python3.9/site-packages/numpy/core/getlimits.py:499: UserWarning: The value of the smallest subnormal for <class 'numpy.float64'> type is zero.\n",
      "  setattr(self, word, getattr(machar, word).flat[0])\n",
      "/home/dugue/miniconda3/envs/py39/lib/python3.9/site-packages/numpy/core/getlimits.py:89: UserWarning: The value of the smallest subnormal for <class 'numpy.float64'> type is zero.\n",
      "  return self._float_to_str(self.smallest_subnormal)\n",
      "/home/dugue/miniconda3/envs/py39/lib/python3.9/site-packages/numpy/core/getlimits.py:499: UserWarning: The value of the smallest subnormal for <class 'numpy.float32'> type is zero.\n",
      "  setattr(self, word, getattr(machar, word).flat[0])\n",
      "/home/dugue/miniconda3/envs/py39/lib/python3.9/site-packages/numpy/core/getlimits.py:89: UserWarning: The value of the smallest subnormal for <class 'numpy.float32'> type is zero.\n",
      "  return self._float_to_str(self.smallest_subnormal)\n"
     ]
    }
   ],
   "source": [
    "# import nltk\n",
    "# nltk.download('brown')\n",
    "from sinr.text.cooccurrence import Cooccurrence\n",
    "from sinr.text.pmi import pmi_filter\n",
    "from nltk.corpus import brown\n",
    "c = Cooccurrence()\n",
    "c.fit(brown.sents(), window=100)\n",
    "c.matrix = pmi_filter(c.matrix)\n",
    "c.save(\"matrix.pk\")"
   ]
  },
  {
   "cell_type": "code",
   "execution_count": 2,
   "id": "43c31ba0-2f52-4b5b-8677-038745983cec",
   "metadata": {},
   "outputs": [
    {
     "data": {
      "text/html": [
       "\n",
       "\t\t\t<script type=\"text/javascript\">\n",
       "\t\t\t<!--\n",
       "\t\t\t\t\n",
       "\t\t\t{\n",
       "\t\t\t\tvar element = document.getElementById('NetworKit_script');\n",
       "\t\t\t\tif (element) {\n",
       "\t\t\t\t\telement.parentNode.removeChild(element);\n",
       "\t\t\t\t}\n",
       "\t\t\t\telement = document.createElement('script');\n",
       "\t\t\t\telement.type = 'text/javascript';\n",
       "\t\t\t\telement.innerHTML = 'function NetworKit_pageEmbed(id) { var i, j; var elements; elements = document.getElementById(id).getElementsByClassName(\"Plot\"); for (i=0; i<elements.length; i++) { elements[i].id = id + \"_Plot_\" + i; var data = elements[i].getAttribute(\"data-image\").split(\"|\"); elements[i].removeAttribute(\"data-image\"); var content = \"<div class=\\\\\"Image\\\\\" id=\\\\\"\" + elements[i].id + \"_Image\\\\\" />\"; elements[i].innerHTML = content; elements[i].setAttribute(\"data-image-index\", 0); elements[i].setAttribute(\"data-image-length\", data.length); for (j=0; j<data.length; j++) { elements[i].setAttribute(\"data-image-\" + j, data[j]); } NetworKit_plotUpdate(elements[i]); elements[i].onclick = function (e) { NetworKit_overlayShow((e.target) ? e.target : e.srcElement); } } elements = document.getElementById(id).getElementsByClassName(\"HeatCell\"); for (i=0; i<elements.length; i++) { var data = parseFloat(elements[i].getAttribute(\"data-heat\")); var color = \"#00FF00\"; if (data <= 1 && data > 0) { color = \"hsla(0, 100%, 75%, \" + (data) + \")\"; } else if (data <= 0 && data >= -1) { color = \"hsla(240, 100%, 75%, \" + (-data) + \")\"; } elements[i].style.backgroundColor = color; } elements = document.getElementById(id).getElementsByClassName(\"Details\"); for (i=0; i<elements.length; i++) { elements[i].setAttribute(\"data-title\", \"-\"); NetworKit_toggleDetails(elements[i]); elements[i].onclick = function (e) { NetworKit_toggleDetails((e.target) ? e.target : e.srcElement); } } elements = document.getElementById(id).getElementsByClassName(\"MathValue\"); for (i=elements.length-1; i>=0; i--) { value = elements[i].innerHTML.trim(); if (value === \"nan\") { elements[i].parentNode.innerHTML = \"\" } } elements = document.getElementById(id).getElementsByClassName(\"SubCategory\"); for (i=elements.length-1; i>=0; i--) { value = elements[i].innerHTML.trim(); if (value === \"\") { elements[i].parentNode.removeChild(elements[i]) } } elements = document.getElementById(id).getElementsByClassName(\"Category\"); for (i=elements.length-1; i>=0; i--) { value = elements[i].innerHTML.trim(); if (value === \"\") { elements[i].parentNode.removeChild(elements[i]) } } var isFirefox = false; try { isFirefox = typeof InstallTrigger !== \"undefined\"; } catch (e) {} if (!isFirefox) { alert(\"Currently the function\\'s output is only fully supported by Firefox.\"); } } function NetworKit_plotUpdate(source) { var index = source.getAttribute(\"data-image-index\"); var data = source.getAttribute(\"data-image-\" + index); var image = document.getElementById(source.id + \"_Image\"); image.style.backgroundImage = \"url(\" + data + \")\"; } function NetworKit_showElement(id, show) { var element = document.getElementById(id); element.style.display = (show) ? \"block\" : \"none\"; } function NetworKit_overlayShow(source) { NetworKit_overlayUpdate(source); NetworKit_showElement(\"NetworKit_Overlay\", true); } function NetworKit_overlayUpdate(source) { document.getElementById(\"NetworKit_Overlay_Title\").innerHTML = source.title; var index = source.getAttribute(\"data-image-index\"); var data = source.getAttribute(\"data-image-\" + index); var image = document.getElementById(\"NetworKit_Overlay_Image\"); image.setAttribute(\"data-id\", source.id); image.style.backgroundImage = \"url(\" + data + \")\"; var link = document.getElementById(\"NetworKit_Overlay_Toolbar_Bottom_Save\"); link.href = data; link.download = source.title + \".svg\"; } function NetworKit_overlayImageShift(delta) { var image = document.getElementById(\"NetworKit_Overlay_Image\"); var source = document.getElementById(image.getAttribute(\"data-id\")); var index = parseInt(source.getAttribute(\"data-image-index\")); var length = parseInt(source.getAttribute(\"data-image-length\")); var index = (index+delta) % length; if (index < 0) { index = length + index; } source.setAttribute(\"data-image-index\", index); NetworKit_overlayUpdate(source); } function NetworKit_toggleDetails(source) { var childs = source.children; var show = false; if (source.getAttribute(\"data-title\") == \"-\") { source.setAttribute(\"data-title\", \"+\"); show = false; } else { source.setAttribute(\"data-title\", \"-\"); show = true; } for (i=0; i<childs.length; i++) { if (show) { childs[i].style.display = \"block\"; } else { childs[i].style.display = \"none\"; } } }';\n",
       "\t\t\t\telement.setAttribute('id', 'NetworKit_script');\n",
       "\t\t\t\tdocument.head.appendChild(element);\n",
       "\t\t\t}\n",
       "\t\t\n",
       "\t\t\t\t\n",
       "\t\t\t{\n",
       "\t\t\t\tvar element = document.getElementById('NetworKit_style');\n",
       "\t\t\t\tif (element) {\n",
       "\t\t\t\t\telement.parentNode.removeChild(element);\n",
       "\t\t\t\t}\n",
       "\t\t\t\telement = document.createElement('style');\n",
       "\t\t\t\telement.type = 'text/css';\n",
       "\t\t\t\telement.innerHTML = '.NetworKit_Page { font-family: Arial, Helvetica, sans-serif; font-size: 14px; } .NetworKit_Page .Value:before { font-family: Arial, Helvetica, sans-serif; font-size: 1.05em; content: attr(data-title) \":\"; margin-left: -2.5em; padding-right: 0.5em; } .NetworKit_Page .Details .Value:before { display: block; } .NetworKit_Page .Value { font-family: monospace; white-space: pre; padding-left: 2.5em; white-space: -moz-pre-wrap !important; white-space: -pre-wrap; white-space: -o-pre-wrap; white-space: pre-wrap; word-wrap: break-word; tab-size: 4; -moz-tab-size: 4; } .NetworKit_Page .Category { clear: both; padding-left: 1em; margin-bottom: 1.5em; } .NetworKit_Page .Category:before { content: attr(data-title); font-size: 1.75em; display: block; margin-left: -0.8em; margin-bottom: 0.5em; } .NetworKit_Page .SubCategory { margin-bottom: 1.5em; padding-left: 1em; } .NetworKit_Page .SubCategory:before { font-size: 1.6em; display: block; margin-left: -0.8em; margin-bottom: 0.5em; } .NetworKit_Page .SubCategory[data-title]:before { content: attr(data-title); } .NetworKit_Page .Block { display: block; } .NetworKit_Page .Block:after { content: \".\"; visibility: hidden; display: block; height: 0; clear: both; } .NetworKit_Page .Block .Thumbnail_Overview, .NetworKit_Page .Block .Thumbnail_ScatterPlot { width: 260px; float: left; } .NetworKit_Page .Block .Thumbnail_Overview img, .NetworKit_Page .Block .Thumbnail_ScatterPlot img { width: 260px; } .NetworKit_Page .Block .Thumbnail_Overview:before, .NetworKit_Page .Block .Thumbnail_ScatterPlot:before { display: block; text-align: center; font-weight: bold; } .NetworKit_Page .Block .Thumbnail_Overview:before { content: attr(data-title); } .NetworKit_Page .HeatCell { font-family: \"Courier New\", Courier, monospace; cursor: pointer; } .NetworKit_Page .HeatCell, .NetworKit_Page .HeatCellName { display: inline; padding: 0.1em; margin-right: 2px; background-color: #FFFFFF } .NetworKit_Page .HeatCellName { margin-left: 0.25em; } .NetworKit_Page .HeatCell:before { content: attr(data-heat); display: inline-block; color: #000000; width: 4em; text-align: center; } .NetworKit_Page .Measure { clear: both; } .NetworKit_Page .Measure .Details { cursor: pointer; } .NetworKit_Page .Measure .Details:before { content: \"[\" attr(data-title) \"]\"; display: block; } .NetworKit_Page .Measure .Details .Value { border-left: 1px dotted black; margin-left: 0.4em; padding-left: 3.5em; pointer-events: none; } .NetworKit_Page .Measure .Details .Spacer:before { content: \".\"; opacity: 0.0; pointer-events: none; } .NetworKit_Page .Measure .Plot { width: 440px; height: 440px; cursor: pointer; float: left; margin-left: -0.9em; margin-right: 20px; } .NetworKit_Page .Measure .Plot .Image { background-repeat: no-repeat; background-position: center center; background-size: contain; height: 100%; pointer-events: none; } .NetworKit_Page .Measure .Stat { width: 500px; float: left; } .NetworKit_Page .Measure .Stat .Group { padding-left: 1.25em; margin-bottom: 0.75em; } .NetworKit_Page .Measure .Stat .Group .Title { font-size: 1.1em; display: block; margin-bottom: 0.3em; margin-left: -0.75em; border-right-style: dotted; border-right-width: 1px; border-bottom-style: dotted; border-bottom-width: 1px; background-color: #D0D0D0; padding-left: 0.2em; } .NetworKit_Page .Measure .Stat .Group .List { -webkit-column-count: 3; -moz-column-count: 3; column-count: 3; } .NetworKit_Page .Measure .Stat .Group .List .Entry { position: relative; line-height: 1.75em; } .NetworKit_Page .Measure .Stat .Group .List .Entry[data-tooltip]:before { position: absolute; left: 0; top: -40px; background-color: #808080; color: #ffffff; height: 30px; line-height: 30px; border-radius: 5px; padding: 0 15px; content: attr(data-tooltip); white-space: nowrap; display: none; } .NetworKit_Page .Measure .Stat .Group .List .Entry[data-tooltip]:after { position: absolute; left: 15px; top: -10px; border-top: 7px solid #808080; border-left: 7px solid transparent; border-right: 7px solid transparent; content: \"\"; display: none; } .NetworKit_Page .Measure .Stat .Group .List .Entry[data-tooltip]:hover:after, .NetworKit_Page .Measure .Stat .Group .List .Entry[data-tooltip]:hover:before { display: block; } .NetworKit_Page .Measure .Stat .Group .List .Entry .MathValue { font-family: \"Courier New\", Courier, monospace; } .NetworKit_Page .Measure:after { content: \".\"; visibility: hidden; display: block; height: 0; clear: both; } .NetworKit_Page .PartitionPie { clear: both; } .NetworKit_Page .PartitionPie img { width: 600px; } #NetworKit_Overlay { left: 0px; top: 0px; display: none; position: absolute; width: 100%; height: 100%; background-color: rgba(0,0,0,0.6); z-index: 1000; } #NetworKit_Overlay_Title { position: absolute; color: white; transform: rotate(-90deg); width: 32em; height: 32em; padding-right: 0.5em; padding-top: 0.5em; text-align: right; font-size: 40px; } #NetworKit_Overlay .button { background: white; cursor: pointer; } #NetworKit_Overlay .button:before { size: 13px; display: inline-block; text-align: center; margin-top: 0.5em; margin-bottom: 0.5em; width: 1.5em; height: 1.5em; } #NetworKit_Overlay .icon-close:before { content: \"X\"; } #NetworKit_Overlay .icon-previous:before { content: \"P\"; } #NetworKit_Overlay .icon-next:before { content: \"N\"; } #NetworKit_Overlay .icon-save:before { content: \"S\"; } #NetworKit_Overlay_Toolbar_Top, #NetworKit_Overlay_Toolbar_Bottom { position: absolute; width: 40px; right: 13px; text-align: right; z-index: 1100; } #NetworKit_Overlay_Toolbar_Top { top: 0.5em; } #NetworKit_Overlay_Toolbar_Bottom { Bottom: 0.5em; } #NetworKit_Overlay_ImageContainer { position: absolute; top: 5%; left: 5%; height: 90%; width: 90%; background-repeat: no-repeat; background-position: center center; background-size: contain; } #NetworKit_Overlay_Image { height: 100%; width: 100%; background-repeat: no-repeat; background-position: center center; background-size: contain; }';\n",
       "\t\t\t\telement.setAttribute('id', 'NetworKit_style');\n",
       "\t\t\t\tdocument.head.appendChild(element);\n",
       "\t\t\t}\n",
       "\t\t\n",
       "\t\t\t\t\n",
       "\t\t\t{\n",
       "\t\t\t\tvar element = document.getElementById('NetworKit_Overlay');\n",
       "\t\t\t\tif (element) {\n",
       "\t\t\t\t\telement.parentNode.removeChild(element);\n",
       "\t\t\t\t}\n",
       "\t\t\t\telement = document.createElement('div');\n",
       "\t\t\t\telement.innerHTML = '<div id=\"NetworKit_Overlay_Toolbar_Top\"><div class=\"button icon-close\" id=\"NetworKit_Overlay_Close\" /></div><div id=\"NetworKit_Overlay_Title\" /> <div id=\"NetworKit_Overlay_ImageContainer\"> <div id=\"NetworKit_Overlay_Image\" /> </div> <div id=\"NetworKit_Overlay_Toolbar_Bottom\"> <div class=\"button icon-previous\" onclick=\"NetworKit_overlayImageShift(-1)\" /> <div class=\"button icon-next\" onclick=\"NetworKit_overlayImageShift(1)\" /> <a id=\"NetworKit_Overlay_Toolbar_Bottom_Save\"><div class=\"button icon-save\" /></a> </div>';\n",
       "\t\t\t\telement.setAttribute('id', 'NetworKit_Overlay');\n",
       "\t\t\t\tdocument.body.appendChild(element);\n",
       "\t\t\t\tdocument.getElementById('NetworKit_Overlay_Close').onclick = function (e) {\n",
       "\t\t\t\t\tdocument.getElementById('NetworKit_Overlay').style.display = 'none';\n",
       "\t\t\t\t}\n",
       "\t\t\t}\n",
       "\t\t\n",
       "\t\t\t-->\n",
       "\t\t\t</script>\n",
       "\t\t"
      ]
     },
     "metadata": {},
     "output_type": "display_data"
    },
    {
     "name": "stderr",
     "output_type": "stream",
     "text": [
      "2023-01-05 09:08:05,309 - load_from_cooc_pkl - INFO - Building Graph.\n",
      "2023-01-05 09:08:05,310 - load_pkl_text - INFO - Loading cooccurrence matrix and dictionary.\n",
      "2023-01-05 09:08:05,329 - load_pkl_text - INFO - Finished loading data.\n",
      "2023-01-05 09:08:06,611 - load_from_cooc_pkl - INFO - Finished building graph.\n",
      "2023-01-05 09:08:06,616 - detect_communities - INFO - Detecting communities.\n",
      "/home/dugue/miniconda3/envs/py39/lib/python3.9/site-packages/networkit/stopwatch.py:49: UserWarning: networkit.Timer is deprecated, will be removed in future updates.\n",
      "  warn(\"networkit.Timer is deprecated, will be removed in future updates.\")\n",
      "2023-01-05 09:08:07,291 - detect_communities - INFO - Finished detecting communities.\n"
     ]
    },
    {
     "name": "stdout",
     "output_type": "stream",
     "text": [
      "Communities detected in 0.59267 [s]\n",
      "solution properties:\n",
      "-------------------  ---------------\n",
      "# communities        11296\n",
      "min community size       1\n",
      "max community size      52\n",
      "avg. community size      4.96255\n",
      "imbalance               10.4\n",
      "edge cut                 9.14709e+06\n",
      "edge cut (portion)       2.92098\n",
      "modularity               0.0306692\n",
      "-------------------  ---------------\n"
     ]
    }
   ],
   "source": [
    "import sinr.graph_embeddings as ge\n",
    "sinr = ge.SINr.load_from_cooc_pkl(\"matrix.pk\")\n",
    "communities = sinr.detect_communities(gamma=300)"
   ]
  },
  {
   "cell_type": "code",
   "execution_count": 3,
   "id": "8e9a2e44-fae4-41dc-9e33-fbf05cc98908",
   "metadata": {},
   "outputs": [
    {
     "name": "stderr",
     "output_type": "stream",
     "text": [
      "2023-01-05 09:08:07,295 - extract_embeddings - INFO - Extracting embeddings.\n",
      "2023-01-05 09:08:07,296 - extract_embeddings - INFO - Applying NFM.\n",
      "2023-01-05 09:08:07,297 - get_nfm_embeddings - INFO - Starting NFM\n",
      "/home/dugue/Depotgit/sinr/sinr/nfm.py:37: RuntimeWarning: divide by zero encountered in reciprocal\n",
      "  weighted_membership = membership_matrix.multiply(np.reciprocal(community_weights).astype('float')) # 1/community_weight for each column of the membership matrix\n",
      "2023-01-05 09:08:17,743 - extract_embeddings - INFO - NFM successfully applied.\n",
      "2023-01-05 09:08:17,743 - extract_embeddings - INFO - Finished extracting embeddings.\n"
     ]
    }
   ],
   "source": [
    "sinr.extract_embeddings(communities)\n"
   ]
  },
  {
   "cell_type": "code",
   "execution_count": 4,
   "id": "7d14cfa9-7a41-4ac1-bb2f-2f04ebe337f3",
   "metadata": {},
   "outputs": [],
   "source": [
    "sinr_vectors = ge.ModelBuilder(sinr, \"brown\", n_jobs=8).with_embeddings_nr().with_vocabulary().build()"
   ]
  },
  {
   "cell_type": "code",
   "execution_count": 5,
   "id": "00399456-a2b9-4e7a-adb9-da4fdbfab443",
   "metadata": {},
   "outputs": [
    {
     "data": {
      "text/plain": [
       "{'word': 'gun',\n",
       " 'neighbors': [('pulled', 0.6208361507289605),\n",
       "  ('himself', 0.5942264535604981),\n",
       "  ('pocket', 0.5882113231620346),\n",
       "  ('him', 0.5781849825171255),\n",
       "  ('He', 0.5541495152591165),\n",
       "  ('walked', 0.5487217244705257),\n",
       "  ('horse', 0.5304479874606379),\n",
       "  ('man', 0.5215106084739105),\n",
       "  ('holster', 0.521458919846882),\n",
       "  ('hat', 0.5201928723639685),\n",
       "  ('swung', 0.515737517644327),\n",
       "  ('lifted', 0.5153671378289548),\n",
       "  ('biwa', 0.4990084813685072),\n",
       "  ('His', 0.49760352654799567),\n",
       "  ('turned', 0.495931755145105),\n",
       "  ('career', 0.49264888887729696),\n",
       "  ('leaned', 0.49217003555139993),\n",
       "  ('stepped', 0.49204454653648944),\n",
       "  ('rolled', 0.48710577951347944),\n",
       "  ('rifle', 0.486963338105072),\n",
       "  ('strode', 0.48584726621744734),\n",
       "  ('straightened', 0.4816143896599905),\n",
       "  ('head', 0.4794201750731488),\n",
       "  ('hands', 0.4751949173845528),\n",
       "  (\"Roberts'\", 0.4715408397322536),\n",
       "  ('fists', 0.46877606522514315),\n",
       "  ('fingers', 0.4674611018593837),\n",
       "  ('tears', 0.46191755806069557),\n",
       "  ('shirt', 0.4617583249582532),\n",
       "  ('jacket', 0.45860510413822153)]}"
      ]
     },
     "execution_count": 5,
     "metadata": {},
     "output_type": "execute_result"
    }
   ],
   "source": [
    "sinr_vectors.most_similar(\"gun\")"
   ]
  },
  {
   "cell_type": "code",
   "execution_count": 212,
   "id": "81aa6216-354a-41c5-8137-c9083f6a8471",
   "metadata": {},
   "outputs": [],
   "source": [
    "from nltk.corpus import reuters\n",
    "c = Cooccurrence()\n",
    "c.fit(reuters.sents(), window=2)\n",
    "c.matrix = pmi_filter(c.matrix)\n",
    "c.save(\"matrix.pk\")"
   ]
  },
  {
   "cell_type": "code",
   "execution_count": 213,
   "id": "98f2fe24-67cc-4640-b75a-443cadbfc358",
   "metadata": {},
   "outputs": [
    {
     "name": "stderr",
     "output_type": "stream",
     "text": [
      "2023-01-05 10:52:22,375 - load_from_cooc_pkl - INFO - Building Graph.\n",
      "2023-01-05 10:52:22,376 - load_pkl_text - INFO - Loading cooccurrence matrix and dictionary.\n",
      "2023-01-05 10:52:22,388 - load_pkl_text - INFO - Finished loading data.\n",
      "2023-01-05 10:52:22,723 - load_from_cooc_pkl - INFO - Finished building graph.\n",
      "2023-01-05 10:52:22,744 - detect_communities - INFO - Detecting communities.\n",
      "2023-01-05 10:52:22,900 - detect_communities - INFO - Finished detecting communities.\n"
     ]
    },
    {
     "name": "stdout",
     "output_type": "stream",
     "text": [
      "Communities detected in 0.11596 [s]\n",
      "solution properties:\n",
      "-------------------  ---------------\n",
      "# communities        11793\n",
      "min community size       1\n",
      "max community size     156\n",
      "avg. community size      3.52743\n",
      "imbalance               39\n",
      "edge cut                 4.33895e+06\n",
      "edge cut (portion)       7.23008\n",
      "modularity               0.0292498\n",
      "-------------------  ---------------\n"
     ]
    }
   ],
   "source": [
    "import sinr.graph_embeddings as ge\n",
    "sinr = ge.SINr.load_from_cooc_pkl(\"matrix.pk\")\n",
    "communities = sinr.detect_communities(gamma=400)"
   ]
  },
  {
   "cell_type": "code",
   "execution_count": 214,
   "id": "fad005f7-a1aa-4507-929b-92ba0aa9d738",
   "metadata": {},
   "outputs": [
    {
     "name": "stderr",
     "output_type": "stream",
     "text": [
      "2023-01-05 10:52:22,903 - extract_embeddings - INFO - Extracting embeddings.\n",
      "2023-01-05 10:52:22,904 - extract_embeddings - INFO - Applying NFM.\n",
      "2023-01-05 10:52:22,905 - get_nfm_embeddings - INFO - Starting NFM\n",
      "2023-01-05 10:52:24,791 - extract_embeddings - INFO - NFM successfully applied.\n",
      "2023-01-05 10:52:24,791 - extract_embeddings - INFO - Finished extracting embeddings.\n"
     ]
    }
   ],
   "source": [
    "sinr.extract_embeddings(communities)"
   ]
  },
  {
   "cell_type": "code",
   "execution_count": 215,
   "id": "a82341dc-0f07-4c7f-bc67-a9e252462076",
   "metadata": {},
   "outputs": [],
   "source": [
    "sinr_vectors = ge.ModelBuilder(sinr, \"brown\", n_jobs=8).with_embeddings_nr().with_vocabulary().build()"
   ]
  },
  {
   "cell_type": "code",
   "execution_count": 236,
   "id": "2d21e8c8-bd04-4492-860e-54e10a864af4",
   "metadata": {},
   "outputs": [
    {
     "data": {
      "text/plain": [
       "{'word': 'lowered',\n",
       " 'neighbors': [('raised', 0.9030072422910093),\n",
       "  ('ommitted', 0.7294269934861684),\n",
       "  ('upped', 0.7294269934861684),\n",
       "  ('reconsidered', 0.7294269934861684),\n",
       "  ('sold', 0.704743495216151),\n",
       "  ('amended', 0.664606415607883),\n",
       "  ('omitted', 0.6514889017528163),\n",
       "  ('reconstituted', 0.6430843301068422),\n",
       "  ('auditors', 0.6406425862874032),\n",
       "  ('bought', 0.6381247071342636),\n",
       "  ('Glatfelter', 0.621724664089189),\n",
       "  ('Ketchup', 0.6012844135494091),\n",
       "  ('Entertaiment', 0.5994232232272207),\n",
       "  ('Siemen', 0.5994232232272207),\n",
       "  ('raising', 0.5925839949584569),\n",
       "  ('acquired', 0.5782538871352461),\n",
       "  ('Inc', 0.5759327484375972),\n",
       "  ('terminated', 0.5708905974706102),\n",
       "  ('has', 0.5684806417723759),\n",
       "  ('CarePlus', 0.5642545615769492),\n",
       "  ('corp', 0.5608749348816102),\n",
       "  ('board', 0.5590080924515366),\n",
       "  ('regrets', 0.5513949783834093),\n",
       "  ('Healthvest', 0.5497411325927499),\n",
       "  ('elevating', 0.542141684347828),\n",
       "  ('beefing', 0.542141684347828),\n",
       "  ('emulsion', 0.5421416843478278),\n",
       "  ('releases', 0.5379172036905722),\n",
       "  ('retained', 0.5376980105621646),\n",
       "  ('expects', 0.5364059220985731)]}"
      ]
     },
     "execution_count": 236,
     "metadata": {},
     "output_type": "execute_result"
    }
   ],
   "source": [
    "sinr_vectors.most_similar(\"lowered\")"
   ]
  },
  {
   "cell_type": "code",
   "execution_count": null,
   "id": "ecd80d59-8163-4020-9907-c7a8b187a36c",
   "metadata": {},
   "outputs": [],
   "source": []
  }
 ],
 "metadata": {
  "kernelspec": {
   "display_name": "py39",
   "language": "python",
   "name": "py39"
  },
  "language_info": {
   "codemirror_mode": {
    "name": "ipython",
    "version": 3
   },
   "file_extension": ".py",
   "mimetype": "text/x-python",
   "name": "python",
   "nbconvert_exporter": "python",
   "pygments_lexer": "ipython3",
   "version": "3.9.12"
  }
 },
 "nbformat": 4,
 "nbformat_minor": 5
}
