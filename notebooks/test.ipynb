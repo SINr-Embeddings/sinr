{
 "cells": [
  {
   "cell_type": "code",
   "execution_count": 106,
   "id": "e052ddd5-50bf-46f3-930e-0c7b25dd47de",
   "metadata": {},
   "outputs": [
    {
     "name": "stdout",
     "output_type": "stream",
     "text": [
      "The autoreload extension is already loaded. To reload it, use:\n",
      "  %reload_ext autoreload\n"
     ]
    }
   ],
   "source": [
    "%load_ext autoreload\n",
    "%autoreload 2"
   ]
  },
  {
   "cell_type": "code",
   "execution_count": 107,
   "id": "9e7d618f-2c66-430b-a2e8-06c03845502d",
   "metadata": {},
   "outputs": [],
   "source": [
    "# import nltk\n",
    "# nltk.download('brown')\n",
    "from sinr.text.cooccurrence import Cooccurrence\n",
    "from sinr.text.pmi import pmi_filter\n",
    "from nltk.corpus import brown\n",
    "c = Cooccurrence()\n",
    "c.fit(brown.sents(), window=100)\n",
    "c.matrix = pmi_filter(c.matrix)\n",
    "c.save(\"matrix.pk\")"
   ]
  },
  {
   "cell_type": "code",
   "execution_count": 108,
   "id": "43c31ba0-2f52-4b5b-8677-038745983cec",
   "metadata": {},
   "outputs": [
    {
     "name": "stderr",
     "output_type": "stream",
     "text": [
      "2023-01-06 19:20:51,006 - load_from_cooc_pkl - INFO - Building Graph.\n",
      "2023-01-06 19:20:51,007 - load_pkl_text - INFO - Loading cooccurrence matrix and dictionary.\n",
      "2023-01-06 19:20:51,048 - load_pkl_text - INFO - Finished loading data.\n",
      "2023-01-06 19:20:52,469 - load_from_cooc_pkl - INFO - Finished building graph.\n",
      "2023-01-06 19:20:52,521 - detect_communities - INFO - Detecting communities.\n",
      "/home/dugue/miniconda3/envs/py39/lib/python3.9/site-packages/networkit/stopwatch.py:49: UserWarning: networkit.Timer is deprecated, will be removed in future updates.\n",
      "  warn(\"networkit.Timer is deprecated, will be removed in future updates.\")\n",
      "2023-01-06 19:20:53,201 - detect_communities - INFO - Finished detecting communities.\n"
     ]
    },
    {
     "name": "stdout",
     "output_type": "stream",
     "text": [
      "Communities detected in 0.59621 [s]\n",
      "solution properties:\n",
      "-------------------  ---------------\n",
      "# communities        11296\n",
      "min community size       1\n",
      "max community size      52\n",
      "avg. community size      4.96255\n",
      "imbalance               10.4\n",
      "edge cut                 9.14709e+06\n",
      "edge cut (portion)       2.92098\n",
      "modularity               0.0306692\n",
      "-------------------  ---------------\n"
     ]
    }
   ],
   "source": [
    "import sinr.graph_embeddings as ge\n",
    "sinr = ge.SINr.load_from_cooc_pkl(\"matrix.pk\")\n",
    "communities = sinr.detect_communities(gamma=300)"
   ]
  },
  {
   "cell_type": "code",
   "execution_count": 109,
   "id": "8e9a2e44-fae4-41dc-9e33-fbf05cc98908",
   "metadata": {},
   "outputs": [
    {
     "name": "stderr",
     "output_type": "stream",
     "text": [
      "2023-01-06 19:20:53,217 - extract_embeddings - INFO - Extracting embeddings.\n",
      "2023-01-06 19:20:53,217 - extract_embeddings - INFO - Applying NFM.\n",
      "2023-01-06 19:20:53,219 - get_nfm_embeddings - INFO - Starting NFM\n",
      "/home/dugue/Depotgit/sinr/sinr/nfm.py:37: RuntimeWarning: divide by zero encountered in reciprocal\n",
      "  weighted_membership = membership_matrix.multiply(np.reciprocal(community_weights).astype('float')) # 1/community_weight for each column of the membership matrix\n",
      "2023-01-06 19:21:05,016 - extract_embeddings - INFO - NFM successfully applied.\n",
      "2023-01-06 19:21:05,017 - extract_embeddings - INFO - Finished extracting embeddings.\n"
     ]
    }
   ],
   "source": [
    "sinr.extract_embeddings(communities)\n"
   ]
  },
  {
   "cell_type": "code",
   "execution_count": 110,
   "id": "7d14cfa9-7a41-4ac1-bb2f-2f04ebe337f3",
   "metadata": {},
   "outputs": [],
   "source": [
    "sinr_vectors = ge.ModelBuilder(sinr, \"brown\", n_jobs=8).with_embeddings_nr().with_vocabulary().build()"
   ]
  },
  {
   "cell_type": "code",
   "execution_count": 111,
   "id": "00399456-a2b9-4e7a-adb9-da4fdbfab443",
   "metadata": {},
   "outputs": [
    {
     "data": {
      "text/plain": [
       "{'object ': 'gun',\n",
       " 'neighbors ': [('pulled', 0.6208361507289605),\n",
       "  ('himself', 0.5942264535604981),\n",
       "  ('pocket', 0.5882113231620346),\n",
       "  ('him', 0.5781849825171255),\n",
       "  ('He', 0.5541495152591165),\n",
       "  ('walked', 0.5487217244705257),\n",
       "  ('horse', 0.5304479874606379),\n",
       "  ('man', 0.5215106084739105),\n",
       "  ('holster', 0.521458919846882),\n",
       "  ('hat', 0.5201928723639685),\n",
       "  ('swung', 0.515737517644327),\n",
       "  ('lifted', 0.5153671378289548),\n",
       "  ('biwa', 0.4990084813685072),\n",
       "  ('His', 0.49760352654799567),\n",
       "  ('turned', 0.495931755145105),\n",
       "  ('career', 0.49264888887729696),\n",
       "  ('leaned', 0.49217003555139993),\n",
       "  ('stepped', 0.49204454653648944),\n",
       "  ('rolled', 0.48710577951347944),\n",
       "  ('rifle', 0.486963338105072),\n",
       "  ('strode', 0.48584726621744734),\n",
       "  ('straightened', 0.4816143896599905),\n",
       "  ('head', 0.4794201750731488),\n",
       "  ('hands', 0.4751949173845528),\n",
       "  (\"Roberts'\", 0.4715408397322536),\n",
       "  ('fists', 0.46877606522514315),\n",
       "  ('fingers', 0.4674611018593837),\n",
       "  ('tears', 0.46191755806069557),\n",
       "  ('shirt', 0.4617583249582532),\n",
       "  ('jacket', 0.45860510413822153)]}"
      ]
     },
     "execution_count": 111,
     "metadata": {},
     "output_type": "execute_result"
    }
   ],
   "source": [
    "sinr_vectors.most_similar(\"gun\")"
   ]
  },
  {
   "cell_type": "code",
   "execution_count": 112,
   "id": "81aa6216-354a-41c5-8137-c9083f6a8471",
   "metadata": {},
   "outputs": [],
   "source": [
    "from nltk.corpus import reuters\n",
    "c = Cooccurrence()\n",
    "c.fit(reuters.sents(), window=100)\n",
    "c.matrix = pmi_filter(c.matrix)\n",
    "c.save(\"matrix.pk\")"
   ]
  },
  {
   "cell_type": "code",
   "execution_count": 113,
   "id": "98f2fe24-67cc-4640-b75a-443cadbfc358",
   "metadata": {},
   "outputs": [
    {
     "name": "stderr",
     "output_type": "stream",
     "text": [
      "2023-01-06 19:21:17,903 - load_from_cooc_pkl - INFO - Building Graph.\n",
      "2023-01-06 19:21:17,904 - load_pkl_text - INFO - Loading cooccurrence matrix and dictionary.\n",
      "2023-01-06 19:21:17,920 - load_pkl_text - INFO - Finished loading data.\n",
      "2023-01-06 19:21:19,348 - load_from_cooc_pkl - INFO - Finished building graph.\n",
      "2023-01-06 19:21:19,372 - detect_communities - INFO - Detecting communities.\n",
      "2023-01-06 19:21:20,152 - detect_communities - INFO - Finished detecting communities.\n"
     ]
    },
    {
     "name": "stdout",
     "output_type": "stream",
     "text": [
      "Communities detected in 0.70467 [s]\n",
      "solution properties:\n",
      "-------------------  -------------\n",
      "# communities        4454\n",
      "min community size      1\n",
      "max community size    138\n",
      "avg. community size     9.33969\n",
      "imbalance              13.8\n",
      "edge cut                2.4586e+07\n",
      "edge cut (portion)      6.90061\n",
      "modularity              0.0264611\n",
      "-------------------  -------------\n"
     ]
    }
   ],
   "source": [
    "import sinr.graph_embeddings as ge\n",
    "sinr = ge.SINr.load_from_cooc_pkl(\"matrix.pk\")\n",
    "communities = sinr.detect_communities(gamma=50)"
   ]
  },
  {
   "cell_type": "code",
   "execution_count": 114,
   "id": "fad005f7-a1aa-4507-929b-92ba0aa9d738",
   "metadata": {},
   "outputs": [
    {
     "name": "stderr",
     "output_type": "stream",
     "text": [
      "2023-01-06 19:21:20,167 - extract_embeddings - INFO - Extracting embeddings.\n",
      "2023-01-06 19:21:20,167 - extract_embeddings - INFO - Applying NFM.\n",
      "2023-01-06 19:21:20,172 - get_nfm_embeddings - INFO - Starting NFM\n",
      "2023-01-06 19:21:32,805 - extract_embeddings - INFO - NFM successfully applied.\n",
      "2023-01-06 19:21:32,806 - extract_embeddings - INFO - Finished extracting embeddings.\n"
     ]
    }
   ],
   "source": [
    "sinr.extract_embeddings(communities)"
   ]
  },
  {
   "cell_type": "code",
   "execution_count": 115,
   "id": "a82341dc-0f07-4c7f-bc67-a9e252462076",
   "metadata": {},
   "outputs": [],
   "source": [
    "sinr_vectors = ge.ModelBuilder(sinr, \"reuters\", n_jobs=8).with_embeddings_nr().build()"
   ]
  },
  {
   "cell_type": "code",
   "execution_count": 116,
   "id": "2d21e8c8-bd04-4492-860e-54e10a864af4",
   "metadata": {},
   "outputs": [
    {
     "data": {
      "text/plain": [
       "{'object ': 1,\n",
       " 'neighbors ': [(41261, 0.6920489140338091),\n",
       "  (26133, 0.6775287038469705),\n",
       "  (40033, 0.6722449348486441),\n",
       "  (27788, 0.6705612193241263),\n",
       "  (12234, 0.6593553192249343),\n",
       "  (27245, 0.6592465026955082),\n",
       "  (36958, 0.652741536036581),\n",
       "  (41046, 0.64586268056886),\n",
       "  (38792, 0.6455315627164755),\n",
       "  (30215, 0.6452271291060844),\n",
       "  (35298, 0.6444774645642454),\n",
       "  (25477, 0.6434941166806835),\n",
       "  (30898, 0.6376326717626708),\n",
       "  (39634, 0.6339404903003074),\n",
       "  (26132, 0.631732055956557),\n",
       "  (23839, 0.6219590524109876),\n",
       "  (27807, 0.6211493195592294),\n",
       "  (28006, 0.6206000306712488),\n",
       "  (73, 0.6205427864525893),\n",
       "  (33808, 0.6198545544735807),\n",
       "  (32046, 0.6160335268475128),\n",
       "  (34696, 0.602164059835874),\n",
       "  (40053, 0.6014208157720301),\n",
       "  (40007, 0.6003749317409102),\n",
       "  (40928, 0.5927822682270538),\n",
       "  (26600, 0.5913802206858728),\n",
       "  (40210, 0.590293906107984),\n",
       "  (34957, 0.5890071370537103),\n",
       "  (32117, 0.5874023152511675),\n",
       "  (39237, 0.5840896775331212)]}"
      ]
     },
     "execution_count": 116,
     "metadata": {},
     "output_type": "execute_result"
    }
   ],
   "source": [
    "sinr_vectors.most_similar(1)"
   ]
  },
  {
   "cell_type": "code",
   "execution_count": 117,
   "id": "ecd80d59-8163-4020-9907-c7a8b187a36c",
   "metadata": {},
   "outputs": [],
   "source": [
    "sinr_vectors = ge.ModelBuilder(sinr, \"reuters\", n_jobs=8).with_embeddings_nr().with_vocabulary().with_communities().build()"
   ]
  },
  {
   "cell_type": "code",
   "execution_count": 118,
   "id": "aaa566d5-6603-47e2-9068-754403b031ac",
   "metadata": {},
   "outputs": [
    {
     "data": {
      "text/plain": [
       "{'object ': 'trading',\n",
       " 'neighbors ': [('traded', 0.6048531603246535),\n",
       "  ('closed', 0.5736167211531841),\n",
       "  ('futures', 0.5428829157227548),\n",
       "  ('Friday', 0.5148830969733745),\n",
       "  ('Tuesday', 0.5102848661049046),\n",
       "  ('Stock', 0.4864170645885969),\n",
       "  ('put', 0.4834804475753083),\n",
       "  ('Thursday', 0.45556018105821106),\n",
       "  ('trades', 0.4537719078191018),\n",
       "  ('contracts', 0.44670604146181847),\n",
       "  ('opening', 0.43885236715964204),\n",
       "  ('London', 0.4355552892309089),\n",
       "  ('Wednesday', 0.43333758062672867),\n",
       "  ('firmer', 0.43260926214252793),\n",
       "  ('funds', 0.4297005083763401),\n",
       "  ('opened', 0.4283525030871267),\n",
       "  ('exchanges', 0.4273534111627355),\n",
       "  ('pushed', 0.42734084728813904),\n",
       "  ('aimed', 0.4192999565865785),\n",
       "  ('Tokyo', 0.41789749506280316),\n",
       "  ('Monday', 0.4125947451150995),\n",
       "  ('values', 0.4113755674276316),\n",
       "  ('meeting', 0.4090843553505352),\n",
       "  ('steady', 0.4080865116010809),\n",
       "  ('limits', 0.40726382295541486),\n",
       "  ('midday', 0.4028073407536068),\n",
       "  ('depending', 0.3960552498742196),\n",
       "  ('issues', 0.3951977712498429),\n",
       "  ('selling', 0.3944623167459824),\n",
       "  ('bond', 0.3933983551226903)]}"
      ]
     },
     "execution_count": 118,
     "metadata": {},
     "output_type": "execute_result"
    }
   ],
   "source": [
    "sinr_vectors.most_similar(\"trading\")"
   ]
  },
  {
   "cell_type": "code",
   "execution_count": 119,
   "id": "cdfa556f-abc7-4b14-b211-a9de2b95059d",
   "metadata": {},
   "outputs": [
    {
     "data": {
      "text/plain": [
       "['VOWS',\n",
       " 'labelled',\n",
       " 'VEG',\n",
       " 'VEGETABLE',\n",
       " 'domestically',\n",
       " 'NEGOTIATION',\n",
       " 'defeated',\n",
       " 'APPLAUDS',\n",
       " 'sun',\n",
       " 'Susanne',\n",
       " 'fiercely',\n",
       " 'coconut',\n",
       " 'groundnut',\n",
       " 'Stuffs',\n",
       " 'Balletto',\n",
       " 'scientists',\n",
       " 'Dick',\n",
       " 'FOSFA',\n",
       " 'lin',\n",
       " 'fats',\n",
       " 'fatty',\n",
       " 'Visible',\n",
       " 'oils',\n",
       " 'vegetable',\n",
       " 'LABELING',\n",
       " 'debilitating',\n",
       " 'palmkernel',\n",
       " 'Enough',\n",
       " 'DEFEAT',\n",
       " 'SCIENTISTS',\n",
       " 'administratively',\n",
       " 'PROTEINS',\n",
       " 'COPA',\n",
       " 'TROPICAL',\n",
       " 'condemn',\n",
       " 'CRITICISES',\n",
       " 'margarine',\n",
       " 'INTACT',\n",
       " 'marine',\n",
       " 'imported',\n",
       " 'TIGHTEN',\n",
       " 'OILS',\n",
       " 'DELEGATION',\n",
       " 'lymph',\n",
       " 'saturated',\n",
       " 'LONGER',\n",
       " 'sesame',\n",
       " 'polysaturated',\n",
       " 'proteins',\n",
       " 'Jopling',\n",
       " 'Copa',\n",
       " 'unsaturated',\n",
       " 'tropical',\n",
       " 'cottonseed',\n",
       " 'greases',\n",
       " 'Ericksen',\n",
       " 'soy',\n",
       " 'Bruyn',\n",
       " 'MFI',\n",
       " 'wondered',\n",
       " 'MVO',\n",
       " 'greeted']"
      ]
     },
     "execution_count": 119,
     "metadata": {},
     "output_type": "execute_result"
    }
   ],
   "source": [
    "sinr_vectors.get_dimension_descriptors(\"oils\")"
   ]
  },
  {
   "cell_type": "code",
   "execution_count": 120,
   "id": "ffb7b071-df90-4282-a8df-f89e1f086ffa",
   "metadata": {},
   "outputs": [
    {
     "data": {
      "text/plain": [
       "[{'dimension': 1383,\n",
       "  'value': 0.1154345006485084,\n",
       "  'descriptors': ['VOWS',\n",
       "   'labelled',\n",
       "   'VEG',\n",
       "   'VEGETABLE',\n",
       "   'domestically',\n",
       "   'NEGOTIATION',\n",
       "   'defeated',\n",
       "   'APPLAUDS',\n",
       "   'sun',\n",
       "   'Susanne',\n",
       "   'fiercely',\n",
       "   'coconut',\n",
       "   'groundnut',\n",
       "   'Stuffs',\n",
       "   'Balletto',\n",
       "   'scientists',\n",
       "   'Dick',\n",
       "   'FOSFA',\n",
       "   'lin',\n",
       "   'fats',\n",
       "   'fatty',\n",
       "   'Visible',\n",
       "   'oils',\n",
       "   'vegetable',\n",
       "   'LABELING',\n",
       "   'debilitating',\n",
       "   'palmkernel',\n",
       "   'Enough',\n",
       "   'DEFEAT',\n",
       "   'SCIENTISTS',\n",
       "   'administratively',\n",
       "   'PROTEINS',\n",
       "   'COPA',\n",
       "   'TROPICAL',\n",
       "   'condemn',\n",
       "   'CRITICISES',\n",
       "   'margarine',\n",
       "   'INTACT',\n",
       "   'marine',\n",
       "   'imported',\n",
       "   'TIGHTEN',\n",
       "   'OILS',\n",
       "   'DELEGATION',\n",
       "   'lymph',\n",
       "   'saturated',\n",
       "   'LONGER',\n",
       "   'sesame',\n",
       "   'polysaturated',\n",
       "   'proteins',\n",
       "   'Jopling',\n",
       "   'Copa',\n",
       "   'unsaturated',\n",
       "   'tropical',\n",
       "   'cottonseed',\n",
       "   'greases',\n",
       "   'Ericksen',\n",
       "   'soy',\n",
       "   'Bruyn',\n",
       "   'MFI',\n",
       "   'wondered',\n",
       "   'MVO',\n",
       "   'greeted']},\n",
       " {'dimension': 73,\n",
       "  'value': 0.07068741893644616,\n",
       "  'descriptors': ['commissioner',\n",
       "   'Andriessen',\n",
       "   'PACKAGES',\n",
       "   'DETAIL',\n",
       "   'Frans',\n",
       "   'european',\n",
       "   'hotly',\n",
       "   'COMMISSION',\n",
       "   'EXHAUST',\n",
       "   'SCHEME',\n",
       "   'Worse',\n",
       "   'DEVELOPMENTS',\n",
       "   'SOLVED',\n",
       "   'Community',\n",
       "   'objects',\n",
       "   'frictions',\n",
       "   'European',\n",
       "   'Coceral',\n",
       "   'Haecke',\n",
       "   'RAIMOND',\n",
       "   'Eurostat',\n",
       "   'COOL',\n",
       "   'Cogeca',\n",
       "   'LOBBIES',\n",
       "   'SUMMIT',\n",
       "   'ANDRIESSEN',\n",
       "   'EC',\n",
       "   'PRESIDENCY',\n",
       "   'Yves',\n",
       "   'TIES',\n",
       "   'FATS',\n",
       "   'HINTS',\n",
       "   'EMISSIONS',\n",
       "   'Tense',\n",
       "   'disquiet',\n",
       "   '.?',\n",
       "   'SPAGHETTI',\n",
       "   'AIDE',\n",
       "   'lobbies',\n",
       "   'PERMANENT',\n",
       "   'TENSE',\n",
       "   'DOMINATE',\n",
       "   'TENSIONS']},\n",
       " {'dimension': 1777,\n",
       "  'value': 0.06420233463035019,\n",
       "  'descriptors': ['den',\n",
       "   'Artic',\n",
       "   'Mayor',\n",
       "   'Dunnen',\n",
       "   'Roel',\n",
       "   'longitude',\n",
       "   'between',\n",
       "   'fruitful',\n",
       "   'and']}]"
      ]
     },
     "execution_count": 120,
     "metadata": {},
     "output_type": "execute_result"
    }
   ],
   "source": [
    "sinr_vectors.get_obj_descriptors(\"oils\", topk=3)"
   ]
  },
  {
   "cell_type": "code",
   "execution_count": 121,
   "id": "d80da7ff-4742-4629-9a34-ce747a18e8f8",
   "metadata": {},
   "outputs": [
    {
     "data": {
      "text/plain": [
       "['Beam',\n",
       " 'Distilling',\n",
       " 'SPIRITS',\n",
       " 'DISTILLERS',\n",
       " 'DR',\n",
       " 'Vineyards',\n",
       " 'MCGINNESS',\n",
       " 'whiskey',\n",
       " 'Grandad',\n",
       " 'gin']"
      ]
     },
     "execution_count": 121,
     "metadata": {},
     "output_type": "execute_result"
    }
   ],
   "source": [
    "sinr_vectors.get_dimension_stereotypes(\"wine\", topk=10)"
   ]
  },
  {
   "cell_type": "code",
   "execution_count": 122,
   "id": "6803967c-b200-4bc5-b1db-8b8513a9b24c",
   "metadata": {},
   "outputs": [
    {
     "data": {
      "text/plain": [
       "['Distillers',\n",
       " 'DR',\n",
       " 'Beam',\n",
       " 'DISTILLERS',\n",
       " 'Distilling',\n",
       " 'Enron',\n",
       " 'wine',\n",
       " 'AMB',\n",
       " 'SPIRITS',\n",
       " 'spirits',\n",
       " 'netted',\n",
       " '545',\n",
       " 'Vineyards']"
      ]
     },
     "execution_count": 122,
     "metadata": {},
     "output_type": "execute_result"
    }
   ],
   "source": [
    "sinr_vectors.get_dimension_descriptors(\"wine\")"
   ]
  },
  {
   "cell_type": "code",
   "execution_count": 123,
   "id": "8e2a18e7-1710-4b71-bc46-3608b7c08cc6",
   "metadata": {},
   "outputs": [
    {
     "data": {
      "text/plain": [
       "[{'dimension': 1777,\n",
       "  'value': 0.061488673139158574,\n",
       "  'stereotypes': ['Son', 'Dunnen', 'den', 'fruitful', 'Mayor']},\n",
       " {'dimension': 2912,\n",
       "  'value': 0.042071197411003236,\n",
       "  'stereotypes': ['Dropped',\n",
       "   'promotions',\n",
       "   'broadens',\n",
       "   'shafts',\n",
       "   'respectable']},\n",
       " {'dimension': 793,\n",
       "  'value': 0.042071197411003236,\n",
       "  'stereotypes': ['Beam', 'Distilling', 'SPIRITS', 'DISTILLERS', 'DR']},\n",
       " {'dimension': 4294,\n",
       "  'value': 0.02912621359223301,\n",
       "  'stereotypes': ['Raid',\n",
       "   'Capitalized',\n",
       "   'eliminations',\n",
       "   'specialties',\n",
       "   'reduiced']},\n",
       " {'dimension': 1286,\n",
       "  'value': 0.025889967637540454,\n",
       "  'stereotypes': ['Reichmann', 'HIRAM', 'distiller', 'Derrick', 'LYONS']},\n",
       " {'dimension': 978,\n",
       "  'value': 0.022653721682847898,\n",
       "  'stereotypes': ['brandy', 'liquors', 'liquers', 'MCGINNESS', 'HEUBLEIN']},\n",
       " {'dimension': 2117,\n",
       "  'value': 0.022653721682847898,\n",
       "  'stereotypes': ['Beans',\n",
       "   'distributorship',\n",
       "   'analysing',\n",
       "   'Humanistic',\n",
       "   'pets']},\n",
       " {'dimension': 343,\n",
       "  'value': 0.022653721682847894,\n",
       "  'stereotypes': ['reynolds', 'unfocused', '1915', 'atrocious', 'investming']}]"
      ]
     },
     "execution_count": 123,
     "metadata": {},
     "output_type": "execute_result"
    }
   ],
   "source": [
    "sinr_vectors.get_obj_stereotypes(\"wine\", topk=8)"
   ]
  },
  {
   "cell_type": "code",
   "execution_count": 124,
   "id": "8c756bf2-ba70-498f-b493-e53e96178207",
   "metadata": {},
   "outputs": [
    {
     "data": {
      "text/plain": [
       "[{'dimension': 1777,\n",
       "  'value': 0.061488673139158574,\n",
       "  'descriptors': ['den',\n",
       "   'Artic',\n",
       "   'Mayor',\n",
       "   'Dunnen',\n",
       "   'Roel',\n",
       "   'longitude',\n",
       "   'between',\n",
       "   'fruitful',\n",
       "   'and']},\n",
       " {'dimension': 2912,\n",
       "  'value': 0.042071197411003236,\n",
       "  'descriptors': ['Dropped', 'respectable', 'year', 'last']},\n",
       " {'dimension': 793,\n",
       "  'value': 0.042071197411003236,\n",
       "  'descriptors': ['Distillers',\n",
       "   'DR',\n",
       "   'Beam',\n",
       "   'DISTILLERS',\n",
       "   'Distilling',\n",
       "   'Enron',\n",
       "   'wine',\n",
       "   'AMB',\n",
       "   'SPIRITS',\n",
       "   'spirits',\n",
       "   'netted',\n",
       "   '545',\n",
       "   'Vineyards']},\n",
       " {'dimension': 4294, 'value': 0.02912621359223301, 'descriptors': ['dlrs']},\n",
       " {'dimension': 1286,\n",
       "  'value': 0.025889967637540454,\n",
       "  'descriptors': ['Allied',\n",
       "   'Reichmann',\n",
       "   'Reichmanns',\n",
       "   'commercially',\n",
       "   'distiller',\n",
       "   'shopping',\n",
       "   'Lyons',\n",
       "   'Toohey',\n",
       "   'Vintners',\n",
       "   'files',\n",
       "   'DEBARTOLO',\n",
       "   'Gooderham',\n",
       "   'SUBSTANTIAL',\n",
       "   'GARFINCKEL',\n",
       "   'Holden',\n",
       "   'CAMPEAU',\n",
       "   'Worts',\n",
       "   'thwarting',\n",
       "   'brewers',\n",
       "   'ASU',\n",
       "   'ALLD',\n",
       "   'obligate',\n",
       "   'ALLIED',\n",
       "   'LYONS',\n",
       "   'liquor',\n",
       "   'Vons',\n",
       "   'aquisition',\n",
       "   'VIOLATED',\n",
       "   'VIOLATIONS',\n",
       "   'Campeau',\n",
       "   'centers',\n",
       "   'Castlemaine',\n",
       "   'Walker',\n",
       "   'HIRAM',\n",
       "   'Raleigh',\n",
       "   'WALKER',\n",
       "   'Cromwell',\n",
       "   'DISCLOSURE',\n",
       "   'brothers',\n",
       "   'Derrick',\n",
       "   'Jackaman',\n",
       "   'dDrinks',\n",
       "   'Stories',\n",
       "   'DeBartolo',\n",
       "   'EDWARD',\n",
       "   'Hiram',\n",
       "   'Dunbar']},\n",
       " {'dimension': 978,\n",
       "  'value': 0.022653721682847898,\n",
       "  'descriptors': ['Distilleries',\n",
       "   'DISTILLERIES',\n",
       "   'liquors',\n",
       "   '8067',\n",
       "   'seperate',\n",
       "   'succesfull',\n",
       "   'Toronto',\n",
       "   'brandy',\n",
       "   'HEUBLEIN',\n",
       "   'McGuinness',\n",
       "   'MCGINNESS',\n",
       "   'CDL',\n",
       "   'Corby',\n",
       "   'schnapps',\n",
       "   'liquers',\n",
       "   'CORBY',\n",
       "   'cooler',\n",
       "   'coolers']},\n",
       " {'dimension': 2117,\n",
       "  'value': 0.022653721682847898,\n",
       "  'descriptors': ['PMI',\n",
       "   'distributorship',\n",
       "   'accounted',\n",
       "   'for',\n",
       "   'Inkey',\n",
       "   'analysing',\n",
       "   'Whites',\n",
       "   'Bellmon']},\n",
       " {'dimension': 343,\n",
       "  'value': 0.022653721682847894,\n",
       "  'descriptors': ['instalments',\n",
       "   'ambitous',\n",
       "   'CIA',\n",
       "   'over',\n",
       "   'Lozada',\n",
       "   'counterfeiting',\n",
       "   'vaccinate',\n",
       "   '1915',\n",
       "   'grace',\n",
       "   'unfocused',\n",
       "   'atrocious',\n",
       "   'afforded',\n",
       "   'repayable',\n",
       "   'reynolds',\n",
       "   'years',\n",
       "   'trademarkets',\n",
       "   'Gonzalo']}]"
      ]
     },
     "execution_count": 124,
     "metadata": {},
     "output_type": "execute_result"
    }
   ],
   "source": [
    "sinr_vectors.get_obj_descriptors(\"wine\", topk=8)"
   ]
  },
  {
   "cell_type": "code",
   "execution_count": null,
   "id": "9dcf5f37-2528-4128-a477-ce1e2b209581",
   "metadata": {},
   "outputs": [],
   "source": []
  }
 ],
 "metadata": {
  "kernelspec": {
   "display_name": "py39",
   "language": "python",
   "name": "py39"
  },
  "language_info": {
   "codemirror_mode": {
    "name": "ipython",
    "version": 3
   },
   "file_extension": ".py",
   "mimetype": "text/x-python",
   "name": "python",
   "nbconvert_exporter": "python",
   "pygments_lexer": "ipython3",
   "version": "3.9.12"
  }
 },
 "nbformat": 4,
 "nbformat_minor": 5
}
