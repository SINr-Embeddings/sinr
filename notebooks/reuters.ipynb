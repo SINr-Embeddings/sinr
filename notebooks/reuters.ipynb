{
 "cells": [
  {
   "cell_type": "code",
   "execution_count": 1,
   "id": "e052ddd5-50bf-46f3-930e-0c7b25dd47de",
   "metadata": {},
   "outputs": [],
   "source": [
    "%load_ext autoreload\n",
    "%autoreload 2"
   ]
  },
  {
   "cell_type": "markdown",
   "id": "5c9896d2-0d38-45f2-9223-78d50fbf9d34",
   "metadata": {},
   "source": [
    "### Building a cooccurrence matrix to deal with textual data using Reuters corpus"
   ]
  },
  {
   "cell_type": "code",
   "execution_count": 2,
   "id": "81aa6216-354a-41c5-8137-c9083f6a8471",
   "metadata": {},
   "outputs": [
    {
     "name": "stderr",
     "output_type": "stream",
     "text": [
      "/home/dugue/miniconda3/envs/py39/lib/python3.9/site-packages/numpy/core/getlimits.py:499: UserWarning: The value of the smallest subnormal for <class 'numpy.float64'> type is zero.\n",
      "  setattr(self, word, getattr(machar, word).flat[0])\n",
      "/home/dugue/miniconda3/envs/py39/lib/python3.9/site-packages/numpy/core/getlimits.py:89: UserWarning: The value of the smallest subnormal for <class 'numpy.float64'> type is zero.\n",
      "  return self._float_to_str(self.smallest_subnormal)\n",
      "/home/dugue/miniconda3/envs/py39/lib/python3.9/site-packages/numpy/core/getlimits.py:499: UserWarning: The value of the smallest subnormal for <class 'numpy.float32'> type is zero.\n",
      "  setattr(self, word, getattr(machar, word).flat[0])\n",
      "/home/dugue/miniconda3/envs/py39/lib/python3.9/site-packages/numpy/core/getlimits.py:89: UserWarning: The value of the smallest subnormal for <class 'numpy.float32'> type is zero.\n",
      "  return self._float_to_str(self.smallest_subnormal)\n"
     ]
    }
   ],
   "source": [
    "# import nltk\n",
    "# nltk.download('brown')\n",
    "from sinr.text.cooccurrence import Cooccurrence\n",
    "from sinr.text.pmi import pmi_filter\n",
    "from nltk.corpus import brown\n",
    "from nltk.corpus import reuters\n",
    "c = Cooccurrence()\n",
    "c.fit(reuters.sents(), window=100)\n",
    "c.matrix = pmi_filter(c.matrix)\n",
    "c.save(\"matrix.pk\")"
   ]
  },
  {
   "cell_type": "markdown",
   "id": "b10e1f21-0fed-4aa0-a586-3f78ae39f6ee",
   "metadata": {},
   "source": [
    "### Creating a SINr object from the cooccurrence matrix pickle, and detecting communities on the graph extracted from this matrix"
   ]
  },
  {
   "cell_type": "code",
   "execution_count": 3,
   "id": "98f2fe24-67cc-4640-b75a-443cadbfc358",
   "metadata": {},
   "outputs": [
    {
     "data": {
      "text/html": [
       "\n",
       "\t\t\t<script type=\"text/javascript\">\n",
       "\t\t\t<!--\n",
       "\t\t\t\t\n",
       "\t\t\t{\n",
       "\t\t\t\tvar element = document.getElementById('NetworKit_script');\n",
       "\t\t\t\tif (element) {\n",
       "\t\t\t\t\telement.parentNode.removeChild(element);\n",
       "\t\t\t\t}\n",
       "\t\t\t\telement = document.createElement('script');\n",
       "\t\t\t\telement.type = 'text/javascript';\n",
       "\t\t\t\telement.innerHTML = 'function NetworKit_pageEmbed(id) { var i, j; var elements; elements = document.getElementById(id).getElementsByClassName(\"Plot\"); for (i=0; i<elements.length; i++) { elements[i].id = id + \"_Plot_\" + i; var data = elements[i].getAttribute(\"data-image\").split(\"|\"); elements[i].removeAttribute(\"data-image\"); var content = \"<div class=\\\\\"Image\\\\\" id=\\\\\"\" + elements[i].id + \"_Image\\\\\" />\"; elements[i].innerHTML = content; elements[i].setAttribute(\"data-image-index\", 0); elements[i].setAttribute(\"data-image-length\", data.length); for (j=0; j<data.length; j++) { elements[i].setAttribute(\"data-image-\" + j, data[j]); } NetworKit_plotUpdate(elements[i]); elements[i].onclick = function (e) { NetworKit_overlayShow((e.target) ? e.target : e.srcElement); } } elements = document.getElementById(id).getElementsByClassName(\"HeatCell\"); for (i=0; i<elements.length; i++) { var data = parseFloat(elements[i].getAttribute(\"data-heat\")); var color = \"#00FF00\"; if (data <= 1 && data > 0) { color = \"hsla(0, 100%, 75%, \" + (data) + \")\"; } else if (data <= 0 && data >= -1) { color = \"hsla(240, 100%, 75%, \" + (-data) + \")\"; } elements[i].style.backgroundColor = color; } elements = document.getElementById(id).getElementsByClassName(\"Details\"); for (i=0; i<elements.length; i++) { elements[i].setAttribute(\"data-title\", \"-\"); NetworKit_toggleDetails(elements[i]); elements[i].onclick = function (e) { NetworKit_toggleDetails((e.target) ? e.target : e.srcElement); } } elements = document.getElementById(id).getElementsByClassName(\"MathValue\"); for (i=elements.length-1; i>=0; i--) { value = elements[i].innerHTML.trim(); if (value === \"nan\") { elements[i].parentNode.innerHTML = \"\" } } elements = document.getElementById(id).getElementsByClassName(\"SubCategory\"); for (i=elements.length-1; i>=0; i--) { value = elements[i].innerHTML.trim(); if (value === \"\") { elements[i].parentNode.removeChild(elements[i]) } } elements = document.getElementById(id).getElementsByClassName(\"Category\"); for (i=elements.length-1; i>=0; i--) { value = elements[i].innerHTML.trim(); if (value === \"\") { elements[i].parentNode.removeChild(elements[i]) } } var isFirefox = false; try { isFirefox = typeof InstallTrigger !== \"undefined\"; } catch (e) {} if (!isFirefox) { alert(\"Currently the function\\'s output is only fully supported by Firefox.\"); } } function NetworKit_plotUpdate(source) { var index = source.getAttribute(\"data-image-index\"); var data = source.getAttribute(\"data-image-\" + index); var image = document.getElementById(source.id + \"_Image\"); image.style.backgroundImage = \"url(\" + data + \")\"; } function NetworKit_showElement(id, show) { var element = document.getElementById(id); element.style.display = (show) ? \"block\" : \"none\"; } function NetworKit_overlayShow(source) { NetworKit_overlayUpdate(source); NetworKit_showElement(\"NetworKit_Overlay\", true); } function NetworKit_overlayUpdate(source) { document.getElementById(\"NetworKit_Overlay_Title\").innerHTML = source.title; var index = source.getAttribute(\"data-image-index\"); var data = source.getAttribute(\"data-image-\" + index); var image = document.getElementById(\"NetworKit_Overlay_Image\"); image.setAttribute(\"data-id\", source.id); image.style.backgroundImage = \"url(\" + data + \")\"; var link = document.getElementById(\"NetworKit_Overlay_Toolbar_Bottom_Save\"); link.href = data; link.download = source.title + \".svg\"; } function NetworKit_overlayImageShift(delta) { var image = document.getElementById(\"NetworKit_Overlay_Image\"); var source = document.getElementById(image.getAttribute(\"data-id\")); var index = parseInt(source.getAttribute(\"data-image-index\")); var length = parseInt(source.getAttribute(\"data-image-length\")); var index = (index+delta) % length; if (index < 0) { index = length + index; } source.setAttribute(\"data-image-index\", index); NetworKit_overlayUpdate(source); } function NetworKit_toggleDetails(source) { var childs = source.children; var show = false; if (source.getAttribute(\"data-title\") == \"-\") { source.setAttribute(\"data-title\", \"+\"); show = false; } else { source.setAttribute(\"data-title\", \"-\"); show = true; } for (i=0; i<childs.length; i++) { if (show) { childs[i].style.display = \"block\"; } else { childs[i].style.display = \"none\"; } } }';\n",
       "\t\t\t\telement.setAttribute('id', 'NetworKit_script');\n",
       "\t\t\t\tdocument.head.appendChild(element);\n",
       "\t\t\t}\n",
       "\t\t\n",
       "\t\t\t\t\n",
       "\t\t\t{\n",
       "\t\t\t\tvar element = document.getElementById('NetworKit_style');\n",
       "\t\t\t\tif (element) {\n",
       "\t\t\t\t\telement.parentNode.removeChild(element);\n",
       "\t\t\t\t}\n",
       "\t\t\t\telement = document.createElement('style');\n",
       "\t\t\t\telement.type = 'text/css';\n",
       "\t\t\t\telement.innerHTML = '.NetworKit_Page { font-family: Arial, Helvetica, sans-serif; font-size: 14px; } .NetworKit_Page .Value:before { font-family: Arial, Helvetica, sans-serif; font-size: 1.05em; content: attr(data-title) \":\"; margin-left: -2.5em; padding-right: 0.5em; } .NetworKit_Page .Details .Value:before { display: block; } .NetworKit_Page .Value { font-family: monospace; white-space: pre; padding-left: 2.5em; white-space: -moz-pre-wrap !important; white-space: -pre-wrap; white-space: -o-pre-wrap; white-space: pre-wrap; word-wrap: break-word; tab-size: 4; -moz-tab-size: 4; } .NetworKit_Page .Category { clear: both; padding-left: 1em; margin-bottom: 1.5em; } .NetworKit_Page .Category:before { content: attr(data-title); font-size: 1.75em; display: block; margin-left: -0.8em; margin-bottom: 0.5em; } .NetworKit_Page .SubCategory { margin-bottom: 1.5em; padding-left: 1em; } .NetworKit_Page .SubCategory:before { font-size: 1.6em; display: block; margin-left: -0.8em; margin-bottom: 0.5em; } .NetworKit_Page .SubCategory[data-title]:before { content: attr(data-title); } .NetworKit_Page .Block { display: block; } .NetworKit_Page .Block:after { content: \".\"; visibility: hidden; display: block; height: 0; clear: both; } .NetworKit_Page .Block .Thumbnail_Overview, .NetworKit_Page .Block .Thumbnail_ScatterPlot { width: 260px; float: left; } .NetworKit_Page .Block .Thumbnail_Overview img, .NetworKit_Page .Block .Thumbnail_ScatterPlot img { width: 260px; } .NetworKit_Page .Block .Thumbnail_Overview:before, .NetworKit_Page .Block .Thumbnail_ScatterPlot:before { display: block; text-align: center; font-weight: bold; } .NetworKit_Page .Block .Thumbnail_Overview:before { content: attr(data-title); } .NetworKit_Page .HeatCell { font-family: \"Courier New\", Courier, monospace; cursor: pointer; } .NetworKit_Page .HeatCell, .NetworKit_Page .HeatCellName { display: inline; padding: 0.1em; margin-right: 2px; background-color: #FFFFFF } .NetworKit_Page .HeatCellName { margin-left: 0.25em; } .NetworKit_Page .HeatCell:before { content: attr(data-heat); display: inline-block; color: #000000; width: 4em; text-align: center; } .NetworKit_Page .Measure { clear: both; } .NetworKit_Page .Measure .Details { cursor: pointer; } .NetworKit_Page .Measure .Details:before { content: \"[\" attr(data-title) \"]\"; display: block; } .NetworKit_Page .Measure .Details .Value { border-left: 1px dotted black; margin-left: 0.4em; padding-left: 3.5em; pointer-events: none; } .NetworKit_Page .Measure .Details .Spacer:before { content: \".\"; opacity: 0.0; pointer-events: none; } .NetworKit_Page .Measure .Plot { width: 440px; height: 440px; cursor: pointer; float: left; margin-left: -0.9em; margin-right: 20px; } .NetworKit_Page .Measure .Plot .Image { background-repeat: no-repeat; background-position: center center; background-size: contain; height: 100%; pointer-events: none; } .NetworKit_Page .Measure .Stat { width: 500px; float: left; } .NetworKit_Page .Measure .Stat .Group { padding-left: 1.25em; margin-bottom: 0.75em; } .NetworKit_Page .Measure .Stat .Group .Title { font-size: 1.1em; display: block; margin-bottom: 0.3em; margin-left: -0.75em; border-right-style: dotted; border-right-width: 1px; border-bottom-style: dotted; border-bottom-width: 1px; background-color: #D0D0D0; padding-left: 0.2em; } .NetworKit_Page .Measure .Stat .Group .List { -webkit-column-count: 3; -moz-column-count: 3; column-count: 3; } .NetworKit_Page .Measure .Stat .Group .List .Entry { position: relative; line-height: 1.75em; } .NetworKit_Page .Measure .Stat .Group .List .Entry[data-tooltip]:before { position: absolute; left: 0; top: -40px; background-color: #808080; color: #ffffff; height: 30px; line-height: 30px; border-radius: 5px; padding: 0 15px; content: attr(data-tooltip); white-space: nowrap; display: none; } .NetworKit_Page .Measure .Stat .Group .List .Entry[data-tooltip]:after { position: absolute; left: 15px; top: -10px; border-top: 7px solid #808080; border-left: 7px solid transparent; border-right: 7px solid transparent; content: \"\"; display: none; } .NetworKit_Page .Measure .Stat .Group .List .Entry[data-tooltip]:hover:after, .NetworKit_Page .Measure .Stat .Group .List .Entry[data-tooltip]:hover:before { display: block; } .NetworKit_Page .Measure .Stat .Group .List .Entry .MathValue { font-family: \"Courier New\", Courier, monospace; } .NetworKit_Page .Measure:after { content: \".\"; visibility: hidden; display: block; height: 0; clear: both; } .NetworKit_Page .PartitionPie { clear: both; } .NetworKit_Page .PartitionPie img { width: 600px; } #NetworKit_Overlay { left: 0px; top: 0px; display: none; position: absolute; width: 100%; height: 100%; background-color: rgba(0,0,0,0.6); z-index: 1000; } #NetworKit_Overlay_Title { position: absolute; color: white; transform: rotate(-90deg); width: 32em; height: 32em; padding-right: 0.5em; padding-top: 0.5em; text-align: right; font-size: 40px; } #NetworKit_Overlay .button { background: white; cursor: pointer; } #NetworKit_Overlay .button:before { size: 13px; display: inline-block; text-align: center; margin-top: 0.5em; margin-bottom: 0.5em; width: 1.5em; height: 1.5em; } #NetworKit_Overlay .icon-close:before { content: \"X\"; } #NetworKit_Overlay .icon-previous:before { content: \"P\"; } #NetworKit_Overlay .icon-next:before { content: \"N\"; } #NetworKit_Overlay .icon-save:before { content: \"S\"; } #NetworKit_Overlay_Toolbar_Top, #NetworKit_Overlay_Toolbar_Bottom { position: absolute; width: 40px; right: 13px; text-align: right; z-index: 1100; } #NetworKit_Overlay_Toolbar_Top { top: 0.5em; } #NetworKit_Overlay_Toolbar_Bottom { Bottom: 0.5em; } #NetworKit_Overlay_ImageContainer { position: absolute; top: 5%; left: 5%; height: 90%; width: 90%; background-repeat: no-repeat; background-position: center center; background-size: contain; } #NetworKit_Overlay_Image { height: 100%; width: 100%; background-repeat: no-repeat; background-position: center center; background-size: contain; }';\n",
       "\t\t\t\telement.setAttribute('id', 'NetworKit_style');\n",
       "\t\t\t\tdocument.head.appendChild(element);\n",
       "\t\t\t}\n",
       "\t\t\n",
       "\t\t\t\t\n",
       "\t\t\t{\n",
       "\t\t\t\tvar element = document.getElementById('NetworKit_Overlay');\n",
       "\t\t\t\tif (element) {\n",
       "\t\t\t\t\telement.parentNode.removeChild(element);\n",
       "\t\t\t\t}\n",
       "\t\t\t\telement = document.createElement('div');\n",
       "\t\t\t\telement.innerHTML = '<div id=\"NetworKit_Overlay_Toolbar_Top\"><div class=\"button icon-close\" id=\"NetworKit_Overlay_Close\" /></div><div id=\"NetworKit_Overlay_Title\" /> <div id=\"NetworKit_Overlay_ImageContainer\"> <div id=\"NetworKit_Overlay_Image\" /> </div> <div id=\"NetworKit_Overlay_Toolbar_Bottom\"> <div class=\"button icon-previous\" onclick=\"NetworKit_overlayImageShift(-1)\" /> <div class=\"button icon-next\" onclick=\"NetworKit_overlayImageShift(1)\" /> <a id=\"NetworKit_Overlay_Toolbar_Bottom_Save\"><div class=\"button icon-save\" /></a> </div>';\n",
       "\t\t\t\telement.setAttribute('id', 'NetworKit_Overlay');\n",
       "\t\t\t\tdocument.body.appendChild(element);\n",
       "\t\t\t\tdocument.getElementById('NetworKit_Overlay_Close').onclick = function (e) {\n",
       "\t\t\t\t\tdocument.getElementById('NetworKit_Overlay').style.display = 'none';\n",
       "\t\t\t\t}\n",
       "\t\t\t}\n",
       "\t\t\n",
       "\t\t\t-->\n",
       "\t\t\t</script>\n",
       "\t\t"
      ]
     },
     "metadata": {},
     "output_type": "display_data"
    },
    {
     "name": "stderr",
     "output_type": "stream",
     "text": [
      "2023-01-18 17:14:30,408 - load_from_cooc_pkl - INFO - Building Graph.\n",
      "2023-01-18 17:14:30,409 - load_pkl_text - INFO - Loading cooccurrence matrix and dictionary.\n",
      "2023-01-18 17:14:30,423 - load_pkl_text - INFO - Finished loading data.\n",
      "2023-01-18 17:14:31,780 - load_from_cooc_pkl - INFO - Finished building graph.\n",
      "2023-01-18 17:14:31,784 - detect_communities - INFO - Detecting communities.\n",
      "/home/dugue/miniconda3/envs/py39/lib/python3.9/site-packages/networkit/stopwatch.py:49: UserWarning: networkit.Timer is deprecated, will be removed in future updates.\n",
      "  warn(\"networkit.Timer is deprecated, will be removed in future updates.\")\n",
      "2023-01-18 17:14:32,405 - detect_communities - INFO - Finished detecting communities.\n"
     ]
    },
    {
     "name": "stdout",
     "output_type": "stream",
     "text": [
      "Communities detected in 0.54858 [s]\n",
      "solution properties:\n",
      "-------------------  --------------\n",
      "# communities        9095\n",
      "min community size      1\n",
      "max community size     39\n",
      "avg. community size     4.57383\n",
      "imbalance               7.8\n",
      "edge cut                2.50215e+07\n",
      "edge cut (portion)      7.02285\n",
      "modularity              0.00945736\n",
      "-------------------  --------------\n"
     ]
    }
   ],
   "source": [
    "import sinr.graph_embeddings as ge\n",
    "sinr = ge.SINr.load_from_cooc_pkl(\"matrix.pk\")\n",
    "communities = sinr.detect_communities(gamma=300)"
   ]
  },
  {
   "cell_type": "markdown",
   "id": "d7eb7442-4003-4e48-b934-7dfedc36af76",
   "metadata": {},
   "source": [
    "### Extracting the embeddings using the SINr approach"
   ]
  },
  {
   "cell_type": "code",
   "execution_count": 4,
   "id": "fad005f7-a1aa-4507-929b-92ba0aa9d738",
   "metadata": {},
   "outputs": [
    {
     "name": "stderr",
     "output_type": "stream",
     "text": [
      "2023-01-18 17:14:32,424 - extract_embeddings - INFO - Extracting embeddings.\n",
      "2023-01-18 17:14:32,425 - extract_embeddings - INFO - Applying NFM.\n",
      "2023-01-18 17:14:32,426 - get_nfm_embeddings - INFO - Starting NFM\n",
      "/home/dugue/Depotgit/sinr/sinr/nfm.py:37: RuntimeWarning: divide by zero encountered in reciprocal\n",
      "  weighted_membership = membership_matrix.multiply(np.reciprocal(community_weights).astype('float')) # 1/community_weight for each column of the membership matrix\n",
      "2023-01-18 17:14:44,278 - extract_embeddings - INFO - NFM successfully applied.\n",
      "2023-01-18 17:14:44,279 - extract_embeddings - INFO - Finished extracting embeddings.\n"
     ]
    }
   ],
   "source": [
    "sinr.extract_embeddings(communities)"
   ]
  },
  {
   "cell_type": "markdown",
   "id": "21808ce7-a58b-4177-bb1d-29e599fe6aad",
   "metadata": {},
   "source": [
    "### Using the ModelBuilder to get SINrVectors, a model that one can play with. Here we decide to use the node recall embedding. No additional information kept in the model."
   ]
  },
  {
   "cell_type": "code",
   "execution_count": 5,
   "id": "a82341dc-0f07-4c7f-bc67-a9e252462076",
   "metadata": {},
   "outputs": [],
   "source": [
    "sinr_vectors = ge.ModelBuilder(sinr, \"reuters\", n_jobs=8, n_neighbors=5).with_embeddings_nr().build()"
   ]
  },
  {
   "cell_type": "code",
   "execution_count": 6,
   "id": "2d21e8c8-bd04-4492-860e-54e10a864af4",
   "metadata": {},
   "outputs": [
    {
     "data": {
      "text/plain": [
       "{'object ': 1,\n",
       " 'neighbors ': [(26133, 0.68), (41261, 0.68), (40033, 0.66), (27788, 0.66)]}"
      ]
     },
     "execution_count": 6,
     "metadata": {},
     "output_type": "execute_result"
    }
   ],
   "source": [
    "sinr_vectors.most_similar(1)"
   ]
  },
  {
   "cell_type": "markdown",
   "id": "f77ee465-c436-41a3-b952-58470e31f44b",
   "metadata": {},
   "source": [
    "### Here, the ModelBuilder is used to keep the interpretability of the approach (using with_communities) and it allows also to use the words instead of integers (with_vocabulary)"
   ]
  },
  {
   "cell_type": "code",
   "execution_count": 7,
   "id": "ecd80d59-8163-4020-9907-c7a8b187a36c",
   "metadata": {},
   "outputs": [],
   "source": [
    "sinr_vectors = ge.ModelBuilder(sinr, \"reuters\", n_jobs=8, n_neighbors=15).with_embeddings_nr().with_vocabulary().with_communities().build()"
   ]
  },
  {
   "cell_type": "code",
   "execution_count": 8,
   "id": "aaa566d5-6603-47e2-9068-754403b031ac",
   "metadata": {},
   "outputs": [
    {
     "data": {
      "text/plain": [
       "{'object ': 'trading',\n",
       " 'neighbors ': [('closed', 0.59),\n",
       "  ('traded', 0.57),\n",
       "  ('Friday', 0.56),\n",
       "  ('Tuesday', 0.53),\n",
       "  ('put', 0.51),\n",
       "  ('Stock', 0.48),\n",
       "  ('Monday', 0.48),\n",
       "  ('futures', 0.47),\n",
       "  ('meeting', 0.46),\n",
       "  ('aimed', 0.45),\n",
       "  ('Thursday', 0.45),\n",
       "  ('firmer', 0.44),\n",
       "  ('pushed', 0.42),\n",
       "  ('1100', 0.42)]}"
      ]
     },
     "execution_count": 8,
     "metadata": {},
     "output_type": "execute_result"
    }
   ],
   "source": [
    "sinr_vectors.most_similar(\"trading\")"
   ]
  },
  {
   "cell_type": "markdown",
   "id": "ebb4a8e6-054e-406e-96e8-1afbbbcc7f83",
   "metadata": {},
   "source": [
    "### An InterpretableWordsModelBuilder could also be used for shorter code : no \"with\" to use, those are done by default"
   ]
  },
  {
   "cell_type": "code",
   "execution_count": 9,
   "id": "f8abc613-8d0e-48ed-89ab-881952bf934f",
   "metadata": {},
   "outputs": [],
   "source": [
    "sinr_vectors = ge.InterpretableWordsModelBuilder(sinr, \"reuters\", n_jobs=8, n_neighbors=15).build()"
   ]
  },
  {
   "cell_type": "code",
   "execution_count": 10,
   "id": "78ea94d2-6383-45b1-b558-dd88acaf765a",
   "metadata": {},
   "outputs": [
    {
     "data": {
      "text/plain": [
       "{'object ': 'trading',\n",
       " 'neighbors ': [('closed', 0.59),\n",
       "  ('traded', 0.57),\n",
       "  ('Friday', 0.56),\n",
       "  ('Tuesday', 0.53),\n",
       "  ('put', 0.51),\n",
       "  ('Stock', 0.48),\n",
       "  ('Monday', 0.48),\n",
       "  ('futures', 0.47),\n",
       "  ('meeting', 0.46),\n",
       "  ('aimed', 0.45),\n",
       "  ('Thursday', 0.45),\n",
       "  ('firmer', 0.44),\n",
       "  ('pushed', 0.42),\n",
       "  ('1100', 0.42)]}"
      ]
     },
     "execution_count": 10,
     "metadata": {},
     "output_type": "execute_result"
    }
   ],
   "source": [
    "sinr_vectors.most_similar(\"trading\")"
   ]
  },
  {
   "cell_type": "markdown",
   "id": "e5c4192f-9b86-4d39-8c12-16c02d42ba5b",
   "metadata": {},
   "source": [
    "### What is the community which \"liberal\" belongs to ?"
   ]
  },
  {
   "cell_type": "code",
   "execution_count": 11,
   "id": "cdfa556f-abc7-4b14-b211-a9de2b95059d",
   "metadata": {},
   "outputs": [
    {
     "data": {
      "text/plain": [
       "{'dimension': 4407, 'descriptors': [(0.12, 'revolt'), (0.1, 'alliance'), (0.09, 'defeat'), (0.08, 'legislators'), (0.08, 'Republicans'), (0.07, 'liberal'), (0.05, 'Democrats'), (0.05, 'winning'), (0.04, 'minute'), (0.03, 'conservative')]}"
      ]
     },
     "execution_count": 11,
     "metadata": {},
     "output_type": "execute_result"
    }
   ],
   "source": [
    "sinr_vectors.get_dimension_descriptors(\"liberal\")"
   ]
  },
  {
   "cell_type": "code",
   "execution_count": 12,
   "id": "e9f4dd45-769b-4fdb-a0f0-3cbfafdf17b7",
   "metadata": {},
   "outputs": [
    {
     "data": {
      "text/plain": [
       "{'dimension': 4407, 'descriptors': [(0.12, 'revolt'), (0.1, 'alliance'), (0.09, 'defeat'), (0.08, 'legislators'), (0.08, 'Republicans')]}"
      ]
     },
     "execution_count": 12,
     "metadata": {},
     "output_type": "execute_result"
    }
   ],
   "source": [
    "sinr_vectors.get_dimension_descriptors(\"liberal\", topk=5)"
   ]
  },
  {
   "cell_type": "markdown",
   "id": "b6d3a35e-651b-4aa4-8d02-4e45dadc6088",
   "metadata": {},
   "source": [
    "### What are the dimensions useful to describe \"liberal\" and what are the words that belong to the corresponding communities ?"
   ]
  },
  {
   "cell_type": "code",
   "execution_count": 13,
   "id": "ffb7b071-df90-4282-a8df-f89e1f086ffa",
   "metadata": {},
   "outputs": [
    {
     "data": {
      "text/plain": [
       "[{'dimension': 4407,\n",
       "  'value': 0.06927710843373494,\n",
       "  'descriptors': [(0.12, 'revolt'),\n",
       "   (0.1, 'alliance'),\n",
       "   (0.09, 'defeat'),\n",
       "   (0.08, 'legislators'),\n",
       "   (0.08, 'Republicans')]},\n",
       " {'dimension': 7244,\n",
       "  'value': 0.045180722891566265,\n",
       "  'descriptors': [(0.0, 'a')]},\n",
       " {'dimension': 8427,\n",
       "  'value': 0.04216867469879518,\n",
       "  'descriptors': [(0.0, 'in')]}]"
      ]
     },
     "execution_count": 13,
     "metadata": {},
     "output_type": "execute_result"
    }
   ],
   "source": [
    "sinr_vectors.get_obj_descriptors(\"liberal\", topk_dim=3,topk_val=5)"
   ]
  },
  {
   "cell_type": "markdown",
   "id": "6f69b570-df51-4589-bdb7-cdeb758f81d1",
   "metadata": {},
   "source": [
    "### What are the words that have high values on the dimension corresponding to the community wine belongs to ?"
   ]
  },
  {
   "cell_type": "code",
   "execution_count": 14,
   "id": "d80da7ff-4742-4629-9a34-ce747a18e8f8",
   "metadata": {},
   "outputs": [
    {
     "data": {
      "text/plain": [
       "{'dimension': 3427, 'stereotypes': [(0.29, 'MCGINNESS'), (0.25, 'HEUBLEIN'), (0.25, 'brandy'), (0.25, 'Calona'), (0.25, 'liquers'), (0.25, 'Wines'), (0.25, 'liquors'), (0.21, 'McGuinness'), (0.2, 'CORBY'), (0.2, 'DISTILLERIES')]}"
      ]
     },
     "execution_count": 14,
     "metadata": {},
     "output_type": "execute_result"
    }
   ],
   "source": [
    "sinr_vectors.get_dimension_stereotypes(\"wine\", topk=10)"
   ]
  },
  {
   "cell_type": "markdown",
   "id": "dd89eb8d-6af3-4845-9eb4-4b1e355cbeb6",
   "metadata": {},
   "source": [
    "It can be compared to the words that constitute the community"
   ]
  },
  {
   "cell_type": "code",
   "execution_count": 15,
   "id": "6803967c-b200-4bc5-b1db-8b8513a9b24c",
   "metadata": {},
   "outputs": [
    {
     "data": {
      "text/plain": [
       "{'dimension': 3427, 'descriptors': [(0.29, 'MCGINNESS'), (0.25, 'brandy'), (0.25, 'HEUBLEIN'), (0.25, 'Calona'), (0.25, 'liquers'), (0.25, 'liquors'), (0.25, 'Wines'), (0.21, 'McGuinness'), (0.2, 'DISTILLERIES'), (0.2, 'CORBY')]}"
      ]
     },
     "execution_count": 15,
     "metadata": {},
     "output_type": "execute_result"
    }
   ],
   "source": [
    "sinr_vectors.get_dimension_descriptors(\"wine\", topk=10)"
   ]
  },
  {
   "cell_type": "markdown",
   "id": "6717e075-8dc4-4512-bee4-a5d53a990b3c",
   "metadata": {},
   "source": [
    "### What are the 3 words that have high values on the 5 dimensions that are useful to describe \"liberal\" ?"
   ]
  },
  {
   "cell_type": "code",
   "execution_count": 16,
   "id": "8e2a18e7-1710-4b71-bc46-3608b7c08cc6",
   "metadata": {},
   "outputs": [
    {
     "data": {
      "text/plain": [
       "[{'dimension': 4407,\n",
       "  'value': 0.06927710843373494,\n",
       "  'stereotypes': [(0.12, 'revolt'), (0.1, 'alliance'), (0.09, 'defeat')]},\n",
       " {'dimension': 7244,\n",
       "  'value': 0.045180722891566265,\n",
       "  'stereotypes': [(0.19, 'Studebaker'),\n",
       "   (0.19, 'Dealerships'),\n",
       "   (0.19, 'Chevy')]},\n",
       " {'dimension': 8427,\n",
       "  'value': 0.04216867469879518,\n",
       "  'stereotypes': [(0.25, 'parentheses'), (0.2, 'Pesos'), (0.18, 'exile')]},\n",
       " {'dimension': 431,\n",
       "  'value': 0.018072289156626505,\n",
       "  'stereotypes': [(0.16, 'Kippur'), (0.16, 'Yom'), (0.1, 'pullout')]},\n",
       " {'dimension': 8998,\n",
       "  'value': 0.018072289156626505,\n",
       "  'stereotypes': [(0.2, 'Rumours'),\n",
       "   (0.12, 'acknowledging'),\n",
       "   (0.11, 'responsibly')]}]"
      ]
     },
     "execution_count": 16,
     "metadata": {},
     "output_type": "execute_result"
    }
   ],
   "source": [
    "sinr_vectors.get_obj_stereotypes(\"liberal\", topk_dim=5, topk_val=3)"
   ]
  },
  {
   "cell_type": "markdown",
   "id": "da3be6c5-64ff-4c17-80f3-848b45405d8e",
   "metadata": {},
   "source": [
    "It can be compared with the words that constitute the communities representing these dimensions"
   ]
  },
  {
   "cell_type": "code",
   "execution_count": 17,
   "id": "9dcf5f37-2528-4128-a477-ce1e2b209581",
   "metadata": {},
   "outputs": [
    {
     "data": {
      "text/plain": [
       "[{'dimension': 4407,\n",
       "  'value': 0.06927710843373494,\n",
       "  'stereotypes': [(0.12, 'revolt'), (0.1, 'alliance'), (0.09, 'defeat')],\n",
       "  'descriptors': [(0.12, 'revolt'), (0.1, 'alliance'), (0.09, 'defeat')]},\n",
       " {'dimension': 7244,\n",
       "  'value': 0.045180722891566265,\n",
       "  'stereotypes': [(0.19, 'Studebaker'),\n",
       "   (0.19, 'Dealerships'),\n",
       "   (0.19, 'Chevy')],\n",
       "  'descriptors': [(0.0, 'a')]},\n",
       " {'dimension': 8427,\n",
       "  'value': 0.04216867469879518,\n",
       "  'stereotypes': [(0.25, 'parentheses'), (0.2, 'Pesos'), (0.18, 'exile')],\n",
       "  'descriptors': [(0.0, 'in')]},\n",
       " {'dimension': 431,\n",
       "  'value': 0.018072289156626505,\n",
       "  'stereotypes': [(0.16, 'Kippur'), (0.16, 'Yom'), (0.1, 'pullout')],\n",
       "  'descriptors': [(0.16, 'Yom'), (0.16, 'Kippur'), (0.1, 'pullout')]},\n",
       " {'dimension': 8998,\n",
       "  'value': 0.018072289156626505,\n",
       "  'stereotypes': [(0.2, 'Rumours'),\n",
       "   (0.12, 'acknowledging'),\n",
       "   (0.11, 'responsibly')],\n",
       "  'descriptors': [(0.0, 'that')]}]"
      ]
     },
     "execution_count": 17,
     "metadata": {},
     "output_type": "execute_result"
    }
   ],
   "source": [
    "sinr_vectors.get_obj_stereotypes_and_descriptors(\"liberal\", topk_dim=5, topk_val=3)"
   ]
  },
  {
   "cell_type": "markdown",
   "id": "0ed210ec-c396-42b3-9043-9b76bf391078",
   "metadata": {},
   "source": [
    "### Saving and loading SINrVectors objects"
   ]
  },
  {
   "cell_type": "code",
   "execution_count": 18,
   "id": "6487882d-4a32-4af3-8c1c-a478edeb71e6",
   "metadata": {},
   "outputs": [],
   "source": [
    "sinr_vectors.save()"
   ]
  },
  {
   "cell_type": "code",
   "execution_count": 19,
   "id": "4c4ff556-b9bc-4fb1-812e-2db8e2a24f12",
   "metadata": {},
   "outputs": [],
   "source": [
    "# The name should be the same, it is used to load the pickle\n",
    "sinr_vectors_new = ge.SINrVectors(\"reuters\")\n",
    "sinr_vectors_new.load()"
   ]
  },
  {
   "cell_type": "code",
   "execution_count": 20,
   "id": "cd70a4f3-5307-4710-873e-03e9008ecf20",
   "metadata": {},
   "outputs": [
    {
     "data": {
      "text/plain": [
       "[{'dimension': 4407,\n",
       "  'value': 0.06927710843373494,\n",
       "  'stereotypes': [(0.12, 'revolt'), (0.1, 'alliance'), (0.09, 'defeat')],\n",
       "  'descriptors': [(0.12, 'revolt'), (0.1, 'alliance'), (0.09, 'defeat')]},\n",
       " {'dimension': 7244,\n",
       "  'value': 0.045180722891566265,\n",
       "  'stereotypes': [(0.19, 'Studebaker'),\n",
       "   (0.19, 'Dealerships'),\n",
       "   (0.19, 'Chevy')],\n",
       "  'descriptors': [(0.0, 'a')]},\n",
       " {'dimension': 8427,\n",
       "  'value': 0.04216867469879518,\n",
       "  'stereotypes': [(0.25, 'parentheses'), (0.2, 'Pesos'), (0.18, 'exile')],\n",
       "  'descriptors': [(0.0, 'in')]},\n",
       " {'dimension': 431,\n",
       "  'value': 0.018072289156626505,\n",
       "  'stereotypes': [(0.16, 'Kippur'), (0.16, 'Yom'), (0.1, 'pullout')],\n",
       "  'descriptors': [(0.16, 'Yom'), (0.16, 'Kippur'), (0.1, 'pullout')]},\n",
       " {'dimension': 8998,\n",
       "  'value': 0.018072289156626505,\n",
       "  'stereotypes': [(0.2, 'Rumours'),\n",
       "   (0.12, 'acknowledging'),\n",
       "   (0.11, 'responsibly')],\n",
       "  'descriptors': [(0.0, 'that')]}]"
      ]
     },
     "execution_count": 20,
     "metadata": {},
     "output_type": "execute_result"
    }
   ],
   "source": [
    "sinr_vectors_new.get_obj_stereotypes_and_descriptors(\"liberal\", topk_dim=5, topk_val=3)"
   ]
  },
  {
   "cell_type": "markdown",
   "id": "6928973f-5425-4395-9a9a-e6f225c1b3c3",
   "metadata": {},
   "source": [
    "### Visualisation"
   ]
  },
  {
   "cell_type": "code",
   "execution_count": 21,
   "id": "0482db8c-f5c3-4d51-aaa3-b0316974b8fd",
   "metadata": {},
   "outputs": [],
   "source": [
    "import sinr.viz as viz"
   ]
  },
  {
   "cell_type": "code",
   "execution_count": 22,
   "id": "40b2e234-ce90-43b6-8f03-f728c3d96c86",
   "metadata": {},
   "outputs": [],
   "source": [
    "sinr_viz = viz.SINrViz(sinr_vectors)"
   ]
  },
  {
   "cell_type": "code",
   "execution_count": 23,
   "id": "61580417-d063-4df2-8b62-bf1c3e144f27",
   "metadata": {},
   "outputs": [
    {
     "name": "stdout",
     "output_type": "stream",
     "text": [
      "{8998, 8427, 7244, 43, 431, 1973, 4407, 8508}\n"
     ]
    },
    {
     "data": {
      "image/png": "[encoded data removed]",
      "text/plain": [
       "<Figure size 432x288 with 2 Axes>"
      ]
     },
     "metadata": {
      "needs_background": "light"
     },
     "output_type": "display_data"
    }
   ],
   "source": [
    "sinr_viz.compare_stereotypes([\"liberal\", \"liberals\"])"
   ]
  },
  {
   "cell_type": "code",
   "execution_count": 24,
   "id": "bbc683c7-40c6-4a74-ae57-0d152a9912e6",
   "metadata": {},
   "outputs": [
    {
     "name": "stdout",
     "output_type": "stream",
     "text": [
      "{7677, 3427, 8999, 10, 8862, 5101, 7409, 8370, 4125, 4382}\n"
     ]
    },
    {
     "data": {
      "image/png": "[encoded data removed]",
      "text/plain": [
       "<Figure size 432x288 with 2 Axes>"
      ]
     },
     "metadata": {
      "needs_background": "light"
     },
     "output_type": "display_data"
    }
   ],
   "source": [
    "sinr_viz.compare_stereotypes([\"whiskey\", \"gin\", \"distilled\"])"
   ]
  },
  {
   "cell_type": "markdown",
   "id": "8b822568-e70a-4e51-a3d2-66a951bba3a2",
   "metadata": {},
   "source": [
    "### Thresholded"
   ]
  },
  {
   "cell_type": "code",
   "execution_count": 57,
   "id": "ff583faf-9649-4d49-b93f-f7a74f9fe5db",
   "metadata": {},
   "outputs": [
    {
     "name": "stdout",
     "output_type": "stream",
     "text": [
      "1.5460205339386501\n",
      "2\n"
     ]
    }
   ],
   "source": [
    "sinr_vectors = ge.ThresholdedModelBuilder(sinr, \"reuters\", n_jobs=8, n_neighbors=15).build(threshold=0)\n",
    "print(sinr_vectors.pct_nnz())\n",
    "print(sinr_vectors.get_nnv())"
   ]
  },
  {
   "cell_type": "code",
   "execution_count": 58,
   "id": "98e369b1-d9d4-4c07-80a6-ea6e52c3e79c",
   "metadata": {},
   "outputs": [
    {
     "data": {
      "text/plain": [
       "{'object ': 'trading',\n",
       " 'neighbors ': [('closed', 0.59),\n",
       "  ('traded', 0.57),\n",
       "  ('Friday', 0.56),\n",
       "  ('Tuesday', 0.53),\n",
       "  ('put', 0.51),\n",
       "  ('Stock', 0.48),\n",
       "  ('Monday', 0.48),\n",
       "  ('futures', 0.47),\n",
       "  ('meeting', 0.46),\n",
       "  ('aimed', 0.45),\n",
       "  ('Thursday', 0.45),\n",
       "  ('firmer', 0.44),\n",
       "  ('pushed', 0.42),\n",
       "  ('1100', 0.42)]}"
      ]
     },
     "execution_count": 58,
     "metadata": {},
     "output_type": "execute_result"
    }
   ],
   "source": [
    "sinr_vectors.most_similar(\"trading\")"
   ]
  },
  {
   "cell_type": "code",
   "execution_count": 59,
   "id": "e66d799a-54a0-47a5-beee-1ef2f87a808f",
   "metadata": {},
   "outputs": [
    {
     "name": "stdout",
     "output_type": "stream",
     "text": [
      "0.3004441169578692\n",
      "5\n"
     ]
    }
   ],
   "source": [
    "sinr_vectors = ge.ThresholdedModelBuilder(sinr, \"reuters\", n_jobs=8, n_neighbors=15).build(threshold=0.01)\n",
    "print(sinr_vectors.pct_nnz())\n",
    "print(sinr_vectors.get_nnv())"
   ]
  },
  {
   "cell_type": "code",
   "execution_count": 60,
   "id": "7c43cd2d-50ea-4c86-9823-67786641ef92",
   "metadata": {},
   "outputs": [
    {
     "data": {
      "text/plain": [
       "{'object ': 'trading',\n",
       " 'neighbors ': [('closed', 0.82),\n",
       "  ('put', 0.82),\n",
       "  ('meeting', 0.82),\n",
       "  ('Friday', 0.79),\n",
       "  ('Tuesday', 0.79),\n",
       "  ('traded', 0.72),\n",
       "  ('Saturday', 0.72),\n",
       "  ('Monday', 0.72),\n",
       "  ('reaching', 0.72),\n",
       "  ('values', 0.69),\n",
       "  ('Thursday', 0.67),\n",
       "  ('1100', 0.65),\n",
       "  ('firmer', 0.64),\n",
       "  ('closing', 0.63)]}"
      ]
     },
     "execution_count": 60,
     "metadata": {},
     "output_type": "execute_result"
    }
   ],
   "source": [
    "sinr_vectors.most_similar(\"trading\")"
   ]
  },
  {
   "cell_type": "code",
   "execution_count": 61,
   "id": "73da98ab-68c9-43c5-be75-2c72638cf817",
   "metadata": {},
   "outputs": [
    {
     "name": "stdout",
     "output_type": "stream",
     "text": [
      "0.15966283284736105\n",
      "298\n"
     ]
    }
   ],
   "source": [
    "sinr_vectors = ge.ThresholdedModelBuilder(sinr, \"reuters\", n_jobs=8, n_neighbors=15).build(threshold=0.02)\n",
    "print(sinr_vectors.pct_nnz())\n",
    "print(sinr_vectors.get_nnv())"
   ]
  },
  {
   "cell_type": "code",
   "execution_count": 62,
   "id": "453ed5ff-9fb1-4714-90a9-029cad3aa724",
   "metadata": {},
   "outputs": [
    {
     "data": {
      "text/plain": [
       "{'object ': 'trading',\n",
       " 'neighbors ': [('put', 0.99),\n",
       "  ('meeting', 0.99),\n",
       "  ('closed', 0.99),\n",
       "  ('closing', 0.99),\n",
       "  ('Friday', 0.93),\n",
       "  ('1100', 0.86),\n",
       "  ('traded', 0.85),\n",
       "  ('puts', 0.84),\n",
       "  ('firmer', 0.83),\n",
       "  ('nickel', 0.74),\n",
       "  ('insufficient', 0.73),\n",
       "  ('movements', 0.73),\n",
       "  ('differences', 0.73),\n",
       "  ('pact', 0.73)]}"
      ]
     },
     "execution_count": 62,
     "metadata": {},
     "output_type": "execute_result"
    }
   ],
   "source": [
    "sinr_vectors.most_similar(\"trading\")"
   ]
  },
  {
   "cell_type": "code",
   "execution_count": null,
   "id": "4893a3e2-5bb4-4b9c-8b39-982d57234bbf",
   "metadata": {},
   "outputs": [],
   "source": []
  }
 ],
 "metadata": {
  "kernelspec": {
   "display_name": "dalle",
   "language": "python",
   "name": "dalle"
  },
  "language_info": {
   "codemirror_mode": {
    "name": "ipython",
    "version": 3
   },
   "file_extension": ".py",
   "mimetype": "text/x-python",
   "name": "python",
   "nbconvert_exporter": "python",
   "pygments_lexer": "ipython3",
   "version": "3.8.0"
  }
 },
 "nbformat": 4,
 "nbformat_minor": 5
}
