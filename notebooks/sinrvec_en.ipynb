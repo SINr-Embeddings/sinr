{
 "cells": [
  {
   "cell_type": "markdown",
   "id": "5272e7a7-006d-4a88-8a8f-d1d0e8b23bad",
   "metadata": {},
   "source": [
    "<h1><center>SINr : manipulate and evaluate a SINr model</center></h1>\n",
    "Github page : https://github.com/SINr-Embeddings/sinr/tree/main\n",
    "    \n",
    "Documentation : https://sinr-embeddings.github.io/sinr/_build/html/modules.html\n",
    "\n",
    "Publications :\n",
    "-  (https://hal.science/hal-03197434). Thibault Prouteau, Victor Connes, Nicolas Dugué, Anthony Perez,\n",
    "   Jean-Charles Lamirel, et al.. SINr: Fast Computing of Sparse\n",
    "   Interpretable Node Representations is not a Sin!. Advances in\n",
    "   Intelligent Data Analysis XIX, 19th International Symposium on\n",
    "   Intelligent Data Analysis, IDA 2021, Apr 2021, Porto, Portugal.\n",
    "   pp.325-337,\n",
    "-  (https://hal.science/hal-03770444). Thibault Prouteau, Nicolas Dugué, Nathalie Camelin, Sylvain Meignier.\n",
    "   Are Embedding Spaces Interpretable? Results of an Intrusion Detection\n",
    "   Evaluation on a Large French Corpus. LREC 2022, Jun 2022, Marseille,\n",
    "   France.\n",
    "-  (https://hal.science/hal-04321407). Simon Guillot, Thibault Prouteau, Nicolas Dugué.\n",
    "   Sparser is better: one step closer to word embedding interpretability.\n",
    "   IWCS 2023, Nancy, France.\n",
    "-  (https://hal.science/hal-04398742). Anna Béranger, Nicolas Dugué, Simon Guillot, Thibault Prouteau.\n",
    "   Filtering communities in word co-occurrence networks to foster the\n",
    "   emergence of meaning. Complex Networks 2023, Menton, France.\n",
    "\n",
    "In this notebook :\n",
    "- Presentation of the model, sparsification, SINr-filtered method\n",
    "- How does the model looks like ?\n",
    "- How to evaluate performances with similarity task\n",
    "- How to evaluate interpretability with the DistRatio\n",
    "- How to use a SINr model for a categorization task\n",
    "- How to load a Word2vec model with SINr library\n",
    "\n",
    "For example of text preprocessing, model's training, sparsification and example of the SINr-Filtered method, see the notebook preprocess_train."
   ]
  },
  {
   "cell_type": "code",
   "execution_count": 104,
   "id": "596c0a9a-4e79-4cf3-b370-75fb0abd999d",
   "metadata": {},
   "outputs": [],
   "source": [
    "import sinr.graph_embeddings as ge\n",
    "import sinr.text.evaluate as ev\n",
    "import sinr.viz as viz\n",
    "import sinr.text.preprocess as ppcs\n",
    "from sklearn.datasets import fetch_20newsgroups\n",
    "import xgboost as xgb"
   ]
  },
  {
   "cell_type": "markdown",
   "id": "dbae382b-dadc-414b-a471-59f8cec09fe8",
   "metadata": {},
   "source": [
    "## Presentation of the model\n",
    "In this notebook, we work with a model trained on BNC (British National Corpus, 90 million tokens). The model is available in the notebook repertory of the github project.\n",
    "\n",
    "BNC is preprocessed to keep only:\n",
    "- Lemmatized words\n",
    "- Noun, adjective and verb\n",
    "- Words occurring more than 20 times in the corpus\n",
    "\n",
    "The model got trained with a gamma of 50.\n",
    "\n",
    "It is a sparse model with at most 160 non zero values per word vectors.\n",
    "\n",
    "The SINr-filtered method got applied (with a step of 100 and a diff_tol of 0.001):\n",
    "- The dimensions with less than 600 non zero values got removed from the model\n",
    "- The dimensions with more than 2900 non zero values got removed from the model"
   ]
  },
  {
   "cell_type": "code",
   "execution_count": 3,
   "id": "8b25acbb-3755-420b-ae93-d8186c1c4332",
   "metadata": {},
   "outputs": [],
   "source": [
    "# load the sinrvec_bnc.pk file\n",
    "model = ge.SINrVectors('bnc_spars20_filtered')\n",
    "model.load('./sinrvec_bnc.pk')"
   ]
  },
  {
   "cell_type": "markdown",
   "id": "a4e703e4-4743-4ea6-811e-bc7297b7011e",
   "metadata": {},
   "source": [
    "## Explore the model's representations\n",
    "In the SINr library we call :\n",
    "- 'stereotypes' of a dimension words that have a non-zero value on the dimension\n",
    "- 'descriptors' of a dimension words that constitute the community associated with the dimension"
   ]
  },
  {
   "cell_type": "markdown",
   "id": "faadc45e-348d-4640-961c-a0011f42f36d",
   "metadata": {},
   "source": [
    "What are the words similar to 'milk'?"
   ]
  },
  {
   "cell_type": "code",
   "execution_count": 21,
   "id": "5e957f1a-d0b2-469f-a2d8-1192f879edf0",
   "metadata": {},
   "outputs": [
    {
     "data": {
      "text/plain": [
       "{'object ': 'milk',\n",
       " 'neighbors ': [('whey', 0.81),\n",
       "  ('unpasteurised', 0.8),\n",
       "  ('skim', 0.78),\n",
       "  ('cow', 0.77),\n",
       "  ('dairy', 0.76),\n",
       "  ('pasteurise', 0.76),\n",
       "  ('skimmed', 0.75),\n",
       "  ('calve', 0.74),\n",
       "  ('heifer', 0.73),\n",
       "  ('suckler', 0.73),\n",
       "  ('milking', 0.71),\n",
       "  ('calf', 0.67),\n",
       "  ('powdered', 0.67),\n",
       "  ('cheese', 0.67),\n",
       "  ('udder', 0.67),\n",
       "  ('calving', 0.66),\n",
       "  ('bull', 0.66),\n",
       "  ('yoghurt', 0.66),\n",
       "  ('pint', 0.63),\n",
       "  ('dung', 0.62),\n",
       "  ('herd', 0.62),\n",
       "  ('curd', 0.61),\n",
       "  ('butterfat', 0.61),\n",
       "  ('terrier', 0.61),\n",
       "  ('milker', 0.61),\n",
       "  ('pail', 0.6),\n",
       "  ('beef', 0.6),\n",
       "  ('lactation', 0.59),\n",
       "  ('meat', 0.59),\n",
       "  ('condense', 0.58)]}"
      ]
     },
     "execution_count": 21,
     "metadata": {},
     "output_type": "execute_result"
    }
   ],
   "source": [
    "model.most_similar('milk')"
   ]
  },
  {
   "cell_type": "markdown",
   "id": "1d696b30-1926-4503-87be-2e76e3f3798c",
   "metadata": {},
   "source": [
    "What is the community of which 'milk' is a member?"
   ]
  },
  {
   "cell_type": "code",
   "execution_count": 24,
   "id": "bd592510-16b2-4927-8e3b-4a86a945dbcc",
   "metadata": {},
   "outputs": [
    {
     "data": {
      "text/plain": [
       "{'dimension': 840, 'descriptors': [(0.42, 'skimmed'), (0.29, 'suckler'), (0.27, 'calve'), (0.26, 'heifer'), (0.16, 'unpasteurised'), (0.16, 'cow'), (0.14, 'pasteurise'), (0.12, 'dairy'), (0.11, 'calving'), (0.11, 'skim'), (0.1, 'milker'), (0.08, 'udder'), (0.08, 'bull'), (0.08, 'moo'), (0.08, 'milking'), (0.08, 'herd'), (0.08, 'calf'), (0.07, 'terrier'), (0.07, 'milk'), (0.06, 'dung'), (0.06, 'teat'), (0.06, 'byre'), (0.06, 'leaping'), (0.05, 'sire'), (0.05, 'powdered'), (0.05, 'yak'), (0.04, 'bullock'), (0.04, 'owd'), (0.04, 'milkmaid'), (0.04, 'condense')]}"
      ]
     },
     "execution_count": 24,
     "metadata": {},
     "output_type": "execute_result"
    }
   ],
   "source": [
    "model.get_dimension_descriptors('milk')"
   ]
  },
  {
   "cell_type": "code",
   "execution_count": 25,
   "id": "c9c73434-a38a-4b2b-9769-a01e0c8da684",
   "metadata": {},
   "outputs": [
    {
     "data": {
      "text/plain": [
       "{'dimension': 840, 'descriptors': [(0.42, 'skimmed'), (0.29, 'suckler'), (0.27, 'calve'), (0.26, 'heifer'), (0.16, 'unpasteurised'), (0.16, 'cow'), (0.14, 'pasteurise'), (0.12, 'dairy'), (0.11, 'calving'), (0.11, 'skim'), (0.1, 'milker'), (0.08, 'udder'), (0.08, 'bull'), (0.08, 'moo'), (0.08, 'milking'), (0.08, 'herd'), (0.08, 'calf'), (0.07, 'terrier'), (0.07, 'milk'), (0.06, 'dung'), (0.06, 'teat'), (0.06, 'byre'), (0.06, 'leaping'), (0.05, 'sire'), (0.05, 'powdered'), (0.05, 'yak'), (0.04, 'bullock'), (0.04, 'owd'), (0.04, 'milkmaid'), (0.04, 'condense')]}"
      ]
     },
     "execution_count": 25,
     "metadata": {},
     "output_type": "execute_result"
    }
   ],
   "source": [
    "# The community of a dimension can be asked by the id of the dimension aswell\n",
    "model.get_dimension_descriptors_idx(840)"
   ]
  },
  {
   "cell_type": "markdown",
   "id": "a2d3cf86-5cdf-4933-9433-192e4dc0b15c",
   "metadata": {},
   "source": [
    "Which words have the highest values on this dimension?"
   ]
  },
  {
   "cell_type": "code",
   "execution_count": 26,
   "id": "432694c6-b72f-458e-85ef-7d2021be9833",
   "metadata": {},
   "outputs": [
    {
     "data": {
      "text/plain": [
       "{'dimension': 840, 'stereotypes': [(0.42, 'skimmed'), (0.29, 'suckler'), (0.27, 'calve'), (0.26, 'heifer'), (0.21, 'butterfat')]}"
      ]
     },
     "execution_count": 26,
     "metadata": {},
     "output_type": "execute_result"
    }
   ],
   "source": [
    "model.get_dimension_stereotypes('milk')\n",
    "# or model.get_dimension_stereotypes_idx(840)"
   ]
  },
  {
   "cell_type": "markdown",
   "id": "3b64b154-b0dc-4b83-8948-7f6c1d97e5ab",
   "metadata": {},
   "source": [
    "By which dimensions 'milk' is represented?"
   ]
  },
  {
   "cell_type": "code",
   "execution_count": 27,
   "id": "1e1bc688-4b89-402f-98e9-b2f2cd01fd75",
   "metadata": {},
   "outputs": [
    {
     "data": {
      "text/plain": [
       "[{'dimension': 840,\n",
       "  'value': True,\n",
       "  'stereotypes': [(0.42, 'skimmed'), (0.29, 'suckler'), (0.27, 'calve')],\n",
       "  'descriptors': [(0.42, 'skimmed'), (0.29, 'suckler'), (0.27, 'calve')]},\n",
       " {'dimension': 590,\n",
       "  'value': True,\n",
       "  'stereotypes': [(0.45, 'unsalted'), (0.4, 'pitta'), (0.35, 'wholemeal')],\n",
       "  'descriptors': [(0.45, 'unsalted'), (0.4, 'pitta'), (0.35, 'wholemeal')]},\n",
       " {'dimension': 229,\n",
       "  'value': True,\n",
       "  'stereotypes': [(0.16, 'alcoholic'), (0.14, 'cola'), (0.14, 'fizzy')],\n",
       "  'descriptors': [(0.16, 'alcoholic'), (0.14, 'fizzy'), (0.14, 'cola')]},\n",
       " {'dimension': 257,\n",
       "  'value': True,\n",
       "  'stereotypes': [(0.26, 'fructose'), (0.23, 'beet'), (0.18, 'cornflour')],\n",
       "  'descriptors': [(0.26, 'fructose'), (0.23, 'beet'), (0.18, 'cornflour')]},\n",
       " {'dimension': 593,\n",
       "  'value': True,\n",
       "  'stereotypes': [(0.23, 'shortbread'), (0.19, 'eclair'), (0.18, 'preheated')],\n",
       "  'descriptors': [(0.23, 'shortbread'),\n",
       "   (0.19, 'eclair'),\n",
       "   (0.17, 'buttercream')]}]"
      ]
     },
     "execution_count": 27,
     "metadata": {},
     "output_type": "execute_result"
    }
   ],
   "source": [
    "model.get_obj_stereotypes_and_descriptors('milk')\n",
    "# see also get_obj_stereotypes and get_obj_descriptors"
   ]
  },
  {
   "cell_type": "markdown",
   "id": "5e77a655-2cfd-4262-a019-2e3bfce584c0",
   "metadata": {},
   "source": [
    "You can compare words with the module viz :"
   ]
  },
  {
   "cell_type": "code",
   "execution_count": 29,
   "id": "863b4ac1-964d-4aef-86c5-c81ca11b1b7c",
   "metadata": {},
   "outputs": [],
   "source": [
    "sinr_viz = viz.SINrViz(model)"
   ]
  },
  {
   "cell_type": "code",
   "execution_count": 97,
   "id": "f4ba44d6-b76a-4bc1-9d8c-df9a095aac94",
   "metadata": {},
   "outputs": [
    {
     "name": "stdout",
     "output_type": "stream",
     "text": [
      "{704, 1, 1281, 902, 335, 1426, 82, 724, 854, 30, 1056, 1191, 1192, 1065, 299, 951, 376, 826}\n"
     ]
    },
    {
     "data": {
      "image/png": "[encoded data removed]",
      "text/plain": [
       "<Figure size 640x480 with 2 Axes>"
      ]
     },
     "metadata": {},
     "output_type": "display_data"
    }
   ],
   "source": [
    "sinr_viz.compare_stereotypes([\"king\", \"queen\", \"screwdriver\", \"hammer\"], topk_dim=5)"
   ]
  },
  {
   "cell_type": "markdown",
   "id": "89b7526a-b521-4e40-928b-3f0a59c173b1",
   "metadata": {},
   "source": [
    "## Similarity task : evaluate model's performances"
   ]
  },
  {
   "cell_type": "markdown",
   "id": "2ad7d3f7-427c-4a2c-86ff-f1f168928206",
   "metadata": {},
   "source": [
    "With the library several similarity data sets are available : MEN, WS353, SCWS and SimLex (665, 999, 222 and 111).\n",
    "You can fetch the dataset of your choice and evaluate the similarity of your model :"
   ]
  },
  {
   "cell_type": "code",
   "execution_count": 68,
   "id": "d48be9fb-24a4-4b23-ae05-e7ed2ea6d482",
   "metadata": {},
   "outputs": [
    {
     "data": {
      "application/vnd.jupyter.widget-view+json": {
       "model_id": "ffdf21fa52af44c985bac580fce5737c",
       "version_major": 2,
       "version_minor": 0
      },
      "text/plain": [
       "eval similarity:   0%|          | 0/3000 [00:00<?, ?it/s]"
      ]
     },
     "metadata": {},
     "output_type": "display_data"
    },
    {
     "name": "stdout",
     "output_type": "stream",
     "text": [
      "1 missing words\n"
     ]
    },
    {
     "data": {
      "text/plain": [
       "0.7101779663902481"
      ]
     },
     "execution_count": 68,
     "metadata": {},
     "output_type": "execute_result"
    }
   ],
   "source": [
    "men = ev.fetch_data_MEN()\n",
    "ev.eval_similarity(model, men)"
   ]
  },
  {
   "cell_type": "markdown",
   "id": "c9cbd699-a1b3-46f5-9228-28a8b5689b45",
   "metadata": {},
   "source": [
    "Or you can directly evaluate your model with MEN, WS353 and SCWS :"
   ]
  },
  {
   "cell_type": "code",
   "execution_count": 69,
   "id": "e0339f21-f00b-4673-9b15-82288a17fbb7",
   "metadata": {},
   "outputs": [
    {
     "data": {
      "application/vnd.jupyter.widget-view+json": {
       "model_id": "3cf5398f0559468aad587d48866b0f77",
       "version_major": 2,
       "version_minor": 0
      },
      "text/plain": [
       "eval similarity:   0%|          | 0/3000 [00:00<?, ?it/s]"
      ]
     },
     "metadata": {},
     "output_type": "display_data"
    },
    {
     "name": "stdout",
     "output_type": "stream",
     "text": [
      "1 missing words\n"
     ]
    },
    {
     "data": {
      "application/vnd.jupyter.widget-view+json": {
       "model_id": "d74ecbeccfc14f77a497b05991f73d2d",
       "version_major": 2,
       "version_minor": 0
      },
      "text/plain": [
       "eval similarity:   0%|          | 0/353 [00:00<?, ?it/s]"
      ]
     },
     "metadata": {},
     "output_type": "display_data"
    },
    {
     "name": "stdout",
     "output_type": "stream",
     "text": [
      "0 missing words\n"
     ]
    },
    {
     "data": {
      "application/vnd.jupyter.widget-view+json": {
       "model_id": "f280e81664614cfc9e478815eb8af361",
       "version_major": 2,
       "version_minor": 0
      },
      "text/plain": [
       "eval similarity:   0%|          | 0/1994 [00:00<?, ?it/s]"
      ]
     },
     "metadata": {},
     "output_type": "display_data"
    },
    {
     "name": "stdout",
     "output_type": "stream",
     "text": [
      "15 missing words\n"
     ]
    },
    {
     "data": {
      "text/plain": [
       "{'MEN': 0.7101779663902481,\n",
       " 'WS353': 0.5719125743645842,\n",
       " 'SCWS': 0.5707449776963844}"
      ]
     },
     "execution_count": 69,
     "metadata": {},
     "output_type": "execute_result"
    }
   ],
   "source": [
    "ev.similarity_MEN_WS353_SCWS(model)"
   ]
  },
  {
   "cell_type": "markdown",
   "id": "94a217ed-8434-4086-bb9b-a9bd74f902e9",
   "metadata": {},
   "source": [
    "## DistRatio : evaluate model's interpretability"
   ]
  },
  {
   "cell_type": "code",
   "execution_count": 70,
   "id": "4e96ec0d-d800-4bda-8e0b-18eea79c05c1",
   "metadata": {},
   "outputs": [
    {
     "data": {
      "application/vnd.jupyter.widget-view+json": {
       "model_id": "9335fff98f62493b8ef85e898c9188f1",
       "version_major": 2,
       "version_minor": 0
      },
      "text/plain": [
       "  0%|          | 0/1431 [00:00<?, ?it/s]"
      ]
     },
     "metadata": {},
     "output_type": "display_data"
    },
    {
     "data": {
      "application/vnd.jupyter.widget-view+json": {
       "model_id": "5fabe9b3f5684baba5ccf49350846895",
       "version_major": 2,
       "version_minor": 0
      },
      "text/plain": [
       "  0%|          | 0/1431 [00:00<?, ?it/s]"
      ]
     },
     "metadata": {},
     "output_type": "display_data"
    },
    {
     "data": {
      "text/plain": [
       "2.650840230782654"
      ]
     },
     "execution_count": 70,
     "metadata": {},
     "output_type": "execute_result"
    }
   ],
   "source": [
    "ev.dist_ratio(model)"
   ]
  },
  {
   "cell_type": "markdown",
   "id": "9314df1b-226c-495e-a31a-767cb96a4ae1",
   "metadata": {},
   "source": [
    "## Text categorization task"
   ]
  },
  {
   "cell_type": "markdown",
   "id": "97e1ae41-e067-4033-a44f-483bc89cdb95",
   "metadata": {},
   "source": [
    "Get datas with labels, for example, datas from the 20 Newsgroups dataset"
   ]
  },
  {
   "cell_type": "code",
   "execution_count": 99,
   "id": "4bf40565-5256-4028-8749-3dc486a6e74f",
   "metadata": {},
   "outputs": [],
   "source": [
    "datas_test = fetch_20newsgroups(subset='test', remove=('headers', 'footers', 'quotes'), categories=['alt.atheism', 'soc.religion.christian'])\n",
    "X_test = datas_test.data\n",
    "y_test = datas_test.target\n",
    "\n",
    "datas_train = fetch_20newsgroups(subset='train', remove=('headers', 'footers', 'quotes'), categories=['alt.atheism', 'soc.religion.christian'])\n",
    "X_train = datas_train.data\n",
    "y_train = datas_train.target"
   ]
  },
  {
   "cell_type": "markdown",
   "id": "9762d891-8639-4fa1-9e0c-826512f9087e",
   "metadata": {},
   "source": [
    "Preprocess documents as you preprocess the corpus to train the model"
   ]
  },
  {
   "cell_type": "code",
   "execution_count": 100,
   "id": "a2c11c75-bcaf-4ff7-a545-a604b2a71a78",
   "metadata": {},
   "outputs": [],
   "source": [
    "# First, make raw files with a separator between each document\n",
    "separator = '#DOC#'\n",
    "\n",
    "with open('./train_#DOC#.txt', 'w+') as file:\n",
    "    for x in X_train:\n",
    "        file.write(separator)\n",
    "        file.write(x)\n",
    "file.close()\n",
    "\n",
    "with open('./test_#DOC#.txt', 'w+') as file:\n",
    "    for x in X_test:\n",
    "        file.write(separator)\n",
    "        file.write(x)\n",
    "file.close()"
   ]
  },
  {
   "cell_type": "code",
   "execution_count": 101,
   "id": "938dc16d-2c24-442f-8b74-faac3ef530cf",
   "metadata": {},
   "outputs": [
    {
     "name": "stderr",
     "output_type": "stream",
     "text": [
      "2024-06-13 16:48:38,983 - do_txt_to_vrt - INFO - 1079lines to preprocess\n"
     ]
    },
    {
     "data": {
      "application/vnd.jupyter.widget-view+json": {
       "model_id": "65327876d35a429db921a28626ce1203",
       "version_major": 2,
       "version_minor": 0
      },
      "text/plain": [
       "  0%|          | 0/1079 [00:00<?, ?it/s]"
      ]
     },
     "metadata": {},
     "output_type": "display_data"
    },
    {
     "name": "stderr",
     "output_type": "stream",
     "text": [
      "2024-06-13 16:49:45,669 - do_txt_to_vrt - INFO - VRT-style file written in /export/home/lium/aberanger/sinr/notebooks/train_#DOC#.vrt\n"
     ]
    },
    {
     "data": {
      "application/vnd.jupyter.widget-view+json": {
       "model_id": "2e25387729284c4096b328b1c6e65986",
       "version_major": 2,
       "version_minor": 0
      },
      "text/plain": [
       "  0%|          | 0/392185 [00:00<?, ?it/s]"
      ]
     },
     "metadata": {},
     "output_type": "display_data"
    },
    {
     "name": "stderr",
     "output_type": "stream",
     "text": [
      "2024-06-13 16:49:56,172 - do_txt_to_vrt - INFO - 717lines to preprocess\n"
     ]
    },
    {
     "data": {
      "application/vnd.jupyter.widget-view+json": {
       "model_id": "ebfd51ecfb8a43e1b6eaee63adaa8079",
       "version_major": 2,
       "version_minor": 0
      },
      "text/plain": [
       "  0%|          | 0/717 [00:00<?, ?it/s]"
      ]
     },
     "metadata": {},
     "output_type": "display_data"
    },
    {
     "name": "stderr",
     "output_type": "stream",
     "text": [
      "2024-06-13 16:50:47,000 - do_txt_to_vrt - INFO - VRT-style file written in /export/home/lium/aberanger/sinr/notebooks/test_#DOC#.vrt\n"
     ]
    },
    {
     "data": {
      "application/vnd.jupyter.widget-view+json": {
       "model_id": "7a65411179c64fc18092d6383cba5e3a",
       "version_major": 2,
       "version_minor": 0
      },
      "text/plain": [
       "  0%|          | 0/286318 [00:00<?, ?it/s]"
      ]
     },
     "metadata": {},
     "output_type": "display_data"
    }
   ],
   "source": [
    "# Then, make vrt files to be able to preprocess the text as you want\n",
    "vrt_maker = ppcs.VRTMaker(ppcs.Corpus(ppcs.Corpus.REGISTER_WEB,\n",
    "                                  ppcs.Corpus.LANGUAGE_EN,\n",
    "                                  './train_#DOC#.txt'),\n",
    "                                  \".\", n_jobs=8)\n",
    "vrt_maker.do_txt_to_vrt(separator=separator)\n",
    "docs_train = ppcs.extract_text('./train_#DOC#.vrt', min_length_doc=-1)\n",
    "\n",
    "vrt_maker = ppcs.VRTMaker(ppcs.Corpus(ppcs.Corpus.REGISTER_WEB,\n",
    "                                  ppcs.Corpus.LANGUAGE_EN,\n",
    "                                  './test_#DOC#.txt'),\n",
    "                                  \".\", n_jobs=8)\n",
    "vrt_maker.do_txt_to_vrt(separator=separator)\n",
    "docs_test = ppcs.extract_text('./test_#DOC#.vrt', min_length_doc=-1)"
   ]
  },
  {
   "cell_type": "markdown",
   "id": "0034cc8c-1633-4166-8428-288f43653b91",
   "metadata": {},
   "source": [
    "Vectorize the documents with a SINrVectors object"
   ]
  },
  {
   "cell_type": "code",
   "execution_count": 102,
   "id": "b4ff1752-d99c-46f6-92f6-f69857e45499",
   "metadata": {},
   "outputs": [],
   "source": [
    "X_train, y_train = ev.vectorizer(model, docs_train, y=y_train)\n",
    "X_test, y_test = ev.vectorizer(model, docs_test, y=y_test)"
   ]
  },
  {
   "cell_type": "markdown",
   "id": "96c28a8f-6029-4782-a3f3-eb7766ab6ce7",
   "metadata": {},
   "source": [
    "Choose a classifier (default : XGBoost), fit the datas and get the score of the task on the test datas"
   ]
  },
  {
   "cell_type": "code",
   "execution_count": 106,
   "id": "c456796f-4c45-47aa-ae71-a228f0dce4ed",
   "metadata": {},
   "outputs": [
    {
     "data": {
      "text/plain": [
       "0.7266081871345029"
      ]
     },
     "execution_count": 106,
     "metadata": {},
     "output_type": "execute_result"
    }
   ],
   "source": [
    "clf = ev.clf_fit(X_train, y_train, clf=xgb.XGBClassifier())\n",
    "ev.clf_score(clf, X_test, y_test)"
   ]
  },
  {
   "cell_type": "markdown",
   "id": "c835e86b-4466-4f75-bdd4-67f7da32222b",
   "metadata": {},
   "source": [
    "If you choose XGBoost, you can see the main dimensions used by the classifier"
   ]
  },
  {
   "cell_type": "code",
   "execution_count": 108,
   "id": "a3375414-ab2c-420f-9932-53352b948546",
   "metadata": {},
   "outputs": [
    {
     "data": {
      "text/plain": [
       "([{'dimension': 1133, 'stereotypes': [(0.14, 'mantis'), (0.09, 'supplication'), (0.07, 'thanksgiving'), (0.06, 'thankfulness'), (0.06, 'meditation')]},\n",
       "  {'dimension': 257, 'stereotypes': [(0.26, 'fructose'), (0.23, 'beet'), (0.18, 'cornflour'), (0.16, 'granulated'), (0.16, 'caster')]},\n",
       "  {'dimension': 619, 'stereotypes': [(0.19, 'bungee'), (0.13, 'bandwagon'), (0.09, 'ya'), (0.04, 'parachute'), (0.04, 'jumping')]},\n",
       "  {'dimension': 31, 'stereotypes': [(0.07, 'genocidal'), (0.06, 'tsarist'), (0.06, 'authoritarian'), (0.06, 'totalitarian'), (0.05, 'repressive')]},\n",
       "  {'dimension': 837, 'stereotypes': [(0.12, 'jerry'), (0.05, 'bodyshell'), (0.05, 'obsolescence'), (0.04, 'mw'), (0.04, 'basilican')]},\n",
       "  {'dimension': 1264, 'stereotypes': [(0.08, 'fourpence'), (0.07, 'thruppence'), (0.06, 'threepence'), (0.06, 'sixpence'), (0.06, 'ninepence')]},\n",
       "  {'dimension': 850, 'stereotypes': [(0.09, 'inhumation'), (0.07, 'cremate'), (0.07, 'hatchet'), (0.07, 'cemetery'), (0.06, 'churchyard')]},\n",
       "  {'dimension': 1055, 'stereotypes': [(0.08, 'tarnished'), (0.07, 'eidetic'), (0.06, 'retinal'), (0.05, 'digitised'), (0.05, 'silvered')]},\n",
       "  {'dimension': 1228, 'stereotypes': [(0.13, 'crus'), (0.12, 'cru'), (0.11, 'nil'), (0.1, 'meiotic'), (0.06, 'premier')]},\n",
       "  {'dimension': 939, 'stereotypes': [(0.06, 'chapter'), (0.06, 'subheading'), (0.06, 'vagotomy'), (0.05, 'incarnation'), (0.04, 'previous')]}],\n",
       " [('f1133', 24.363935470581055),\n",
       "  ('f257', 15.798433303833008),\n",
       "  ('f619', 14.831531524658203),\n",
       "  ('f31', 13.694483757019043),\n",
       "  ('f837', 13.539789199829102),\n",
       "  ('f1264', 13.243057250976562),\n",
       "  ('f850', 13.217266082763672),\n",
       "  ('f1055', 12.823446273803711),\n",
       "  ('f1228', 11.974653244018555),\n",
       "  ('f939', 11.934610366821289)])"
      ]
     },
     "execution_count": 108,
     "metadata": {},
     "output_type": "execute_result"
    }
   ],
   "source": [
    "ev.clf_xgb_interpretability(model, clf, 'stereotypes', topk_dim=10, topk=5, importance_type='gain')"
   ]
  },
  {
   "cell_type": "markdown",
   "id": "61114d00-ba3f-46b6-a509-54db6a722417",
   "metadata": {},
   "source": [
    "## Load a Word2vec model to evaluate it and compare it to your SINr model"
   ]
  },
  {
   "cell_type": "code",
   "execution_count": null,
   "id": "9ba6e592-df22-4e34-a84a-cfe539663f5b",
   "metadata": {},
   "outputs": [],
   "source": [
    "w2v_model = ge.SINrVectors.w2v_model(\"my_word2vec_model\")"
   ]
  }
 ],
 "metadata": {
  "kernelspec": {
   "display_name": "sinr",
   "language": "python",
   "name": "sinr"
  },
  "language_info": {
   "codemirror_mode": {
    "name": "ipython",
    "version": 3
   },
   "file_extension": ".py",
   "mimetype": "text/x-python",
   "name": "python",
   "nbconvert_exporter": "python",
   "pygments_lexer": "ipython3",
   "version": "3.9.0"
  }
 },
 "nbformat": 4,
 "nbformat_minor": 5
}
