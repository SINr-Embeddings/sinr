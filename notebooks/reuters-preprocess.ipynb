{
 "cells": [
  {
   "cell_type": "code",
   "execution_count": 1,
   "id": "e052ddd5-50bf-46f3-930e-0c7b25dd47de",
   "metadata": {},
   "outputs": [],
   "source": [
    "%load_ext autoreload\n",
    "%autoreload 2"
   ]
  },
  {
   "cell_type": "markdown",
   "id": "5c9896d2-0d38-45f2-9223-78d50fbf9d34",
   "metadata": {},
   "source": [
    "### Preprocessing reuters corpus"
   ]
  },
  {
   "cell_type": "code",
   "execution_count": 4,
   "id": "d59f4427-9401-452c-a874-d97c55500f8e",
   "metadata": {},
   "outputs": [],
   "source": [
    "# Store the corpus in a raw file\n",
    "from nltk.corpus import reuters\n",
    "fichier = open(\"reuters\", \"w\")\n",
    "fichier.write(reuters.raw())\n",
    "fichier.close()"
   ]
  },
  {
   "cell_type": "code",
   "execution_count": 7,
   "id": "57b8140a-8534-478a-a665-53928a0f700b",
   "metadata": {},
   "outputs": [],
   "source": [
    "import sinr.text.preprocess as ppcs"
   ]
  },
  {
   "cell_type": "code",
   "execution_count": 90,
   "id": "483ab6c0-b801-4eac-80eb-872e58d585e1",
   "metadata": {
    "collapsed": true,
    "jupyter": {
     "outputs_hidden": true
    },
    "tags": []
   },
   "outputs": [
    {
     "name": "stdout",
     "output_type": "stream",
     "text": [
      "Collecting en-core-web-lg==3.3.0\n",
      "  Downloading https://github.com/explosion/spacy-models/releases/download/en_core_web_lg-3.3.0/en_core_web_lg-3.3.0-py3-none-any.whl (400.7 MB)\n",
      "\u001b[K     |████████████████████████████████| 400.7 MB 21 kB/s  eta 0:00:012     |██████████████████▌             | 231.3 MB 4.3 MB/s eta 0:00:40\n",
      "\u001b[?25hRequirement already satisfied: spacy<3.4.0,>=3.3.0.dev0 in /home/dugue/miniconda3/envs/py39/lib/python3.9/site-packages (from en-core-web-lg==3.3.0) (3.3.1)\n",
      "Requirement already satisfied: blis<0.8.0,>=0.4.0 in /home/dugue/miniconda3/envs/py39/lib/python3.9/site-packages (from spacy<3.4.0,>=3.3.0.dev0->en-core-web-lg==3.3.0) (0.7.7)\n",
      "Requirement already satisfied: typer<0.5.0,>=0.3.0 in /home/dugue/miniconda3/envs/py39/lib/python3.9/site-packages (from spacy<3.4.0,>=3.3.0.dev0->en-core-web-lg==3.3.0) (0.4.1)\n",
      "Requirement already satisfied: jinja2 in /home/dugue/miniconda3/envs/py39/lib/python3.9/site-packages (from spacy<3.4.0,>=3.3.0.dev0->en-core-web-lg==3.3.0) (3.1.2)\n",
      "Requirement already satisfied: pathy>=0.3.5 in /home/dugue/miniconda3/envs/py39/lib/python3.9/site-packages (from spacy<3.4.0,>=3.3.0.dev0->en-core-web-lg==3.3.0) (0.6.1)\n",
      "Requirement already satisfied: cymem<2.1.0,>=2.0.2 in /home/dugue/miniconda3/envs/py39/lib/python3.9/site-packages (from spacy<3.4.0,>=3.3.0.dev0->en-core-web-lg==3.3.0) (2.0.6)\n",
      "Requirement already satisfied: wasabi<1.1.0,>=0.9.1 in /home/dugue/miniconda3/envs/py39/lib/python3.9/site-packages (from spacy<3.4.0,>=3.3.0.dev0->en-core-web-lg==3.3.0) (0.9.1)\n",
      "Requirement already satisfied: langcodes<4.0.0,>=3.2.0 in /home/dugue/miniconda3/envs/py39/lib/python3.9/site-packages (from spacy<3.4.0,>=3.3.0.dev0->en-core-web-lg==3.3.0) (3.3.0)\n",
      "Requirement already satisfied: preshed<3.1.0,>=3.0.2 in /home/dugue/miniconda3/envs/py39/lib/python3.9/site-packages (from spacy<3.4.0,>=3.3.0.dev0->en-core-web-lg==3.3.0) (3.0.6)\n",
      "Requirement already satisfied: srsly<3.0.0,>=2.4.3 in /home/dugue/miniconda3/envs/py39/lib/python3.9/site-packages (from spacy<3.4.0,>=3.3.0.dev0->en-core-web-lg==3.3.0) (2.4.3)\n",
      "Requirement already satisfied: catalogue<2.1.0,>=2.0.6 in /home/dugue/miniconda3/envs/py39/lib/python3.9/site-packages (from spacy<3.4.0,>=3.3.0.dev0->en-core-web-lg==3.3.0) (2.0.7)\n",
      "Requirement already satisfied: numpy>=1.15.0 in /home/dugue/miniconda3/envs/py39/lib/python3.9/site-packages (from spacy<3.4.0,>=3.3.0.dev0->en-core-web-lg==3.3.0) (1.23.5)\n",
      "Requirement already satisfied: pydantic!=1.8,!=1.8.1,<1.9.0,>=1.7.4 in /home/dugue/miniconda3/envs/py39/lib/python3.9/site-packages (from spacy<3.4.0,>=3.3.0.dev0->en-core-web-lg==3.3.0) (1.8.2)\n",
      "Requirement already satisfied: tqdm<5.0.0,>=4.38.0 in /home/dugue/miniconda3/envs/py39/lib/python3.9/site-packages (from spacy<3.4.0,>=3.3.0.dev0->en-core-web-lg==3.3.0) (4.64.1)\n",
      "Requirement already satisfied: setuptools in /home/dugue/miniconda3/envs/py39/lib/python3.9/site-packages (from spacy<3.4.0,>=3.3.0.dev0->en-core-web-lg==3.3.0) (61.2.0)\n",
      "Requirement already satisfied: murmurhash<1.1.0,>=0.28.0 in /home/dugue/miniconda3/envs/py39/lib/python3.9/site-packages (from spacy<3.4.0,>=3.3.0.dev0->en-core-web-lg==3.3.0) (1.0.7)\n",
      "Requirement already satisfied: requests<3.0.0,>=2.13.0 in /home/dugue/.local/lib/python3.9/site-packages (from spacy<3.4.0,>=3.3.0.dev0->en-core-web-lg==3.3.0) (2.28.1)\n",
      "Requirement already satisfied: packaging>=20.0 in /home/dugue/miniconda3/envs/py39/lib/python3.9/site-packages (from spacy<3.4.0,>=3.3.0.dev0->en-core-web-lg==3.3.0) (22.0)\n",
      "Requirement already satisfied: spacy-legacy<3.1.0,>=3.0.9 in /home/dugue/miniconda3/envs/py39/lib/python3.9/site-packages (from spacy<3.4.0,>=3.3.0.dev0->en-core-web-lg==3.3.0) (3.0.9)\n",
      "Requirement already satisfied: thinc<8.1.0,>=8.0.14 in /home/dugue/miniconda3/envs/py39/lib/python3.9/site-packages (from spacy<3.4.0,>=3.3.0.dev0->en-core-web-lg==3.3.0) (8.0.15)\n",
      "Requirement already satisfied: spacy-loggers<2.0.0,>=1.0.0 in /home/dugue/miniconda3/envs/py39/lib/python3.9/site-packages (from spacy<3.4.0,>=3.3.0.dev0->en-core-web-lg==3.3.0) (1.0.1)\n",
      "Requirement already satisfied: smart-open<6.0.0,>=5.0.0 in /home/dugue/miniconda3/envs/py39/lib/python3.9/site-packages (from pathy>=0.3.5->spacy<3.4.0,>=3.3.0.dev0->en-core-web-lg==3.3.0) (5.2.1)\n",
      "Requirement already satisfied: typing-extensions>=3.7.4.3 in /home/dugue/miniconda3/envs/py39/lib/python3.9/site-packages (from pydantic!=1.8,!=1.8.1,<1.9.0,>=1.7.4->spacy<3.4.0,>=3.3.0.dev0->en-core-web-lg==3.3.0) (4.4.0)\n",
      "Requirement already satisfied: charset-normalizer<3,>=2 in /home/dugue/.local/lib/python3.9/site-packages (from requests<3.0.0,>=2.13.0->spacy<3.4.0,>=3.3.0.dev0->en-core-web-lg==3.3.0) (2.1.1)\n",
      "Requirement already satisfied: certifi>=2017.4.17 in /home/dugue/miniconda3/envs/py39/lib/python3.9/site-packages (from requests<3.0.0,>=2.13.0->spacy<3.4.0,>=3.3.0.dev0->en-core-web-lg==3.3.0) (2022.12.7)\n",
      "Requirement already satisfied: urllib3<1.27,>=1.21.1 in /home/dugue/.local/lib/python3.9/site-packages (from requests<3.0.0,>=2.13.0->spacy<3.4.0,>=3.3.0.dev0->en-core-web-lg==3.3.0) (1.26.12)\n",
      "Requirement already satisfied: idna<4,>=2.5 in /home/dugue/.local/lib/python3.9/site-packages (from requests<3.0.0,>=2.13.0->spacy<3.4.0,>=3.3.0.dev0->en-core-web-lg==3.3.0) (3.3)\n",
      "Requirement already satisfied: click<9.0.0,>=7.1.1 in /home/dugue/miniconda3/envs/py39/lib/python3.9/site-packages (from typer<0.5.0,>=0.3.0->spacy<3.4.0,>=3.3.0.dev0->en-core-web-lg==3.3.0) (8.1.3)\n",
      "Requirement already satisfied: MarkupSafe>=2.0 in /home/dugue/miniconda3/envs/py39/lib/python3.9/site-packages (from jinja2->spacy<3.4.0,>=3.3.0.dev0->en-core-web-lg==3.3.0) (2.1.1)\n",
      "\u001b[38;5;2m✔ Download and installation successful\u001b[0m\n",
      "You can now load the package via spacy.load('en_core_web_lg')\n"
     ]
    }
   ],
   "source": [
    "# If required, download and install the spacy model used for preprocessin\n",
    "!python -m spacy download en_core_web_lg"
   ]
  },
  {
   "cell_type": "markdown",
   "id": "66638779-3330-4929-8276-58f80aa13de0",
   "metadata": {},
   "source": [
    "#### Creating the vrt file that can be used to play with distinct kind of preprocessing"
   ]
  },
  {
   "cell_type": "code",
   "execution_count": 19,
   "id": "d5cd2638-dd4c-497f-92b4-7f54bfb7a3ee",
   "metadata": {},
   "outputs": [
    {
     "name": "stderr",
     "output_type": "stream",
     "text": [
      "2023-01-23 11:25:55,993 - do_txt_to_vrt - INFO - 191926lines to preprocess\n",
      "100%|█████████████████████████████████| 191926/191926 [01:26<00:00, 2211.48it/s]\n",
      "2023-01-23 11:27:22,794 - do_txt_to_vrt - INFO - VRT-style file written in /home/dugue/Depotgit/sinr/notebooks/reuters.vrt\n"
     ]
    }
   ],
   "source": [
    "\n",
    "vrt_maker = ppcs.VRTMaker(ppcs.Corpus(ppcs.Corpus.REGISTER_NEWS, ppcs.Corpus.LANGUAGE_EN, \"reuters\"), \".\", n_jobs=8)\n",
    "vrt_maker.do_txt_to_vrt()"
   ]
  },
  {
   "cell_type": "markdown",
   "id": "cf8811d6-14ad-45ad-9e62-8330a6ab6b9e",
   "metadata": {},
   "source": [
    "#### Using the vrt file to create a lemmatized corpus with a min_freq filter, and keeping named entities (en)"
   ]
  },
  {
   "cell_type": "code",
   "execution_count": 50,
   "id": "2ebed073-9c18-451c-86a8-27f04f7ab55e",
   "metadata": {},
   "outputs": [
    {
     "name": "stderr",
     "output_type": "stream",
     "text": [
      "100%|█████████████████████████████| 1936485/1936485 [00:12<00:00, 158872.53it/s]\n"
     ]
    }
   ],
   "source": [
    "sentences = ppcs.extract_text(\"reuters.vrt\", lemmatize=True, min_freq=30, en=True)"
   ]
  },
  {
   "cell_type": "markdown",
   "id": "10b0c305-7daa-4391-91fb-53798b976db7",
   "metadata": {},
   "source": [
    "#### Building a cooccurrence matrix to deal with the corpus extracted"
   ]
  },
  {
   "cell_type": "code",
   "execution_count": 51,
   "id": "81aa6216-354a-41c5-8137-c9083f6a8471",
   "metadata": {},
   "outputs": [],
   "source": [
    "from sinr.text.cooccurrence import Cooccurrence\n",
    "from sinr.text.pmi import pmi_filter\n",
    "c = Cooccurrence()\n",
    "c.fit(sentences, window=20)\n",
    "c.matrix = pmi_filter(c.matrix)\n",
    "c.save(\"matrix.pk\")"
   ]
  },
  {
   "cell_type": "markdown",
   "id": "b10e1f21-0fed-4aa0-a586-3f78ae39f6ee",
   "metadata": {},
   "source": [
    "### Creating a SINr object from the cooccurrence matrix pickle, and detecting communities on the graph extracted from this matrix"
   ]
  },
  {
   "cell_type": "code",
   "execution_count": 52,
   "id": "98f2fe24-67cc-4640-b75a-443cadbfc358",
   "metadata": {},
   "outputs": [
    {
     "name": "stderr",
     "output_type": "stream",
     "text": [
      "2023-01-23 11:34:08,480 - load_from_cooc_pkl - INFO - Building Graph.\n",
      "2023-01-23 11:34:08,481 - load_pkl_text - INFO - Loading cooccurrence matrix and dictionary.\n",
      "2023-01-23 11:34:08,482 - load_pkl_text - INFO - Finished loading data.\n",
      "2023-01-23 11:34:08,546 - load_from_cooc_pkl - INFO - Finished building graph.\n",
      "2023-01-23 11:34:08,547 - detect_communities - INFO - Detecting communities.\n",
      "2023-01-23 11:34:08,578 - detect_communities - INFO - Finished detecting communities.\n"
     ]
    },
    {
     "name": "stdout",
     "output_type": "stream",
     "text": [
      "Communities detected in 0.02770 [s]\n",
      "solution properties:\n",
      "-------------------  ------------\n",
      "# communities           392\n",
      "min community size        1\n",
      "max community size       23\n",
      "avg. community size       5.50765\n",
      "imbalance                 3.83333\n",
      "edge cut             721430\n",
      "edge cut (portion)        4.70674\n",
      "modularity                0.11869\n",
      "-------------------  ------------\n"
     ]
    }
   ],
   "source": [
    "import sinr.graph_embeddings as ge\n",
    "sinr = ge.SINr.load_from_cooc_pkl(\"matrix.pk\")\n",
    "communities = sinr.detect_communities(gamma=10)"
   ]
  },
  {
   "cell_type": "markdown",
   "id": "d7eb7442-4003-4e48-b934-7dfedc36af76",
   "metadata": {},
   "source": [
    "### Extracting the embeddings using the SINr approach"
   ]
  },
  {
   "cell_type": "code",
   "execution_count": 53,
   "id": "fad005f7-a1aa-4507-929b-92ba0aa9d738",
   "metadata": {},
   "outputs": [
    {
     "name": "stderr",
     "output_type": "stream",
     "text": [
      "2023-01-23 11:34:14,932 - extract_embeddings - INFO - Extracting embeddings.\n",
      "2023-01-23 11:34:14,932 - extract_embeddings - INFO - Applying NFM.\n",
      "2023-01-23 11:34:14,933 - get_nfm_embeddings - INFO - Starting NFM\n",
      "2023-01-23 11:34:15,353 - extract_embeddings - INFO - NFM successfully applied.\n",
      "2023-01-23 11:34:15,353 - extract_embeddings - INFO - Finished extracting embeddings.\n"
     ]
    }
   ],
   "source": [
    "sinr.extract_embeddings(communities)"
   ]
  },
  {
   "cell_type": "markdown",
   "id": "ebb4a8e6-054e-406e-96e8-1afbbbcc7f83",
   "metadata": {},
   "source": [
    "### An InterpretableWordsModelBuilder is used to extract the model to play with"
   ]
  },
  {
   "cell_type": "code",
   "execution_count": 74,
   "id": "f8abc613-8d0e-48ed-89ab-881952bf934f",
   "metadata": {},
   "outputs": [],
   "source": [
    "sinr_vectors = ge.InterpretableWordsModelBuilder(sinr, \"reuters_preprocessed\", n_jobs=8, n_neighbors=15).build()"
   ]
  },
  {
   "cell_type": "markdown",
   "id": "7076803e-a3c1-4e74-8ad6-cb7bbe9e3d94",
   "metadata": {},
   "source": [
    "#### Which are the most similar words to \"grow\" in our corpus ?"
   ]
  },
  {
   "cell_type": "code",
   "execution_count": 75,
   "id": "78ea94d2-6383-45b1-b558-dd88acaf765a",
   "metadata": {},
   "outputs": [
    {
     "data": {
      "text/plain": [
       "{'object ': 'grow',\n",
       " 'neighbors ': [('expand', 0.68),\n",
       "  ('domestic', 0.67),\n",
       "  ('rapidly', 0.62),\n",
       "  ('improve', 0.61),\n",
       "  ('reduce', 0.6),\n",
       "  ('this_year', 0.6),\n",
       "  ('economy', 0.59),\n",
       "  ('demand', 0.58),\n",
       "  ('external', 0.58),\n",
       "  ('turn', 0.58),\n",
       "  ('huge', 0.57),\n",
       "  ('consumption', 0.57),\n",
       "  (\"West_Germany's\", 0.56),\n",
       "  ('fast', 0.54)]}"
      ]
     },
     "execution_count": 75,
     "metadata": {},
     "output_type": "execute_result"
    }
   ],
   "source": [
    "sinr_vectors.most_similar(\"grow\")"
   ]
  },
  {
   "cell_type": "markdown",
   "id": "e5c4192f-9b86-4d39-8c12-16c02d42ba5b",
   "metadata": {},
   "source": [
    "#### What is the community which \"grow\" belongs to ?"
   ]
  },
  {
   "cell_type": "code",
   "execution_count": 76,
   "id": "cdfa556f-abc7-4b14-b211-a9de2b95059d",
   "metadata": {},
   "outputs": [
    {
     "data": {
      "text/plain": [
       "{'dimension': 359, 'descriptors': [(0.08, 'fast'), (0.03, 'grow'), (0.03, 'internal'), (0.02, 'increasingly')]}"
      ]
     },
     "execution_count": 76,
     "metadata": {},
     "output_type": "execute_result"
    }
   ],
   "source": [
    "sinr_vectors.get_dimension_descriptors(\"grow\")"
   ]
  },
  {
   "cell_type": "markdown",
   "id": "b6d3a35e-651b-4aa4-8d02-4e45dadc6088",
   "metadata": {},
   "source": [
    "### What are the dimensions/communities useful to describe \"grow\" and what are the words that belong to the corresponding communities ?"
   ]
  },
  {
   "cell_type": "code",
   "execution_count": 77,
   "id": "ffb7b071-df90-4282-a8df-f89e1f086ffa",
   "metadata": {},
   "outputs": [
    {
     "data": {
      "text/plain": [
       "[{'dimension': 246,\n",
       "  'value': 0.06423034330011075,\n",
       "  'descriptors': [(0.25, 'stimulate'),\n",
       "   (0.16, 'domestic'),\n",
       "   (0.15, 'demand'),\n",
       "   (0.09, 'boost'),\n",
       "   (0.08, 'economy')]},\n",
       " {'dimension': 90,\n",
       "  'value': 0.06090808416389812,\n",
       "  'descriptors': [(0.48, 'tariffs'),\n",
       "   (0.31, 'widen'),\n",
       "   (0.31, 'merchandise'),\n",
       "   (0.27, 'narrow'),\n",
       "   (0.25, 'friction')]},\n",
       " {'dimension': 194,\n",
       "  'value': 0.044296788482835,\n",
       "  'descriptors': [(0.3, 'gross'),\n",
       "   (0.18, 'national'),\n",
       "   (0.12, 'product'),\n",
       "   (0.1, 'refined'),\n",
       "   (0.1, 'wood')]}]"
      ]
     },
     "execution_count": 77,
     "metadata": {},
     "output_type": "execute_result"
    }
   ],
   "source": [
    "sinr_vectors.get_obj_descriptors(\"grow\", topk_dim=3,topk_val=5)"
   ]
  },
  {
   "cell_type": "markdown",
   "id": "6f69b570-df51-4589-bdb7-cdeb758f81d1",
   "metadata": {},
   "source": [
    "#### What are the words that have high values on the dimension corresponding to the community \"grow\" belongs to ?"
   ]
  },
  {
   "cell_type": "code",
   "execution_count": 92,
   "id": "d80da7ff-4742-4629-9a34-ce747a18e8f8",
   "metadata": {},
   "outputs": [
    {
     "data": {
      "text/plain": [
       "{'dimension': 359, 'stereotypes': [(0.08, 'fast'), (0.04, 'door'), (0.03, 'M-1'), (0.03, 'courier'), (0.03, 'dependence'), (0.03, 'grow'), (0.03, 'internal'), (0.03, 'ambassador'), (0.03, 'anger'), (0.03, 'restaurant')]}"
      ]
     },
     "execution_count": 92,
     "metadata": {},
     "output_type": "execute_result"
    }
   ],
   "source": [
    "sinr_vectors.get_dimension_stereotypes(\"grow\", topk=10)"
   ]
  },
  {
   "cell_type": "markdown",
   "id": "dd89eb8d-6af3-4845-9eb4-4b1e355cbeb6",
   "metadata": {},
   "source": [
    "It can be compared to the words that constitute the community"
   ]
  },
  {
   "cell_type": "code",
   "execution_count": 93,
   "id": "6803967c-b200-4bc5-b1db-8b8513a9b24c",
   "metadata": {},
   "outputs": [
    {
     "data": {
      "text/plain": [
       "{'dimension': 359, 'descriptors': [(0.08, 'fast'), (0.03, 'grow'), (0.03, 'internal'), (0.02, 'increasingly')]}"
      ]
     },
     "execution_count": 93,
     "metadata": {},
     "output_type": "execute_result"
    }
   ],
   "source": [
    "sinr_vectors.get_dimension_descriptors(\"grow\", topk=10)"
   ]
  },
  {
   "cell_type": "markdown",
   "id": "6717e075-8dc4-4512-bee4-a5d53a990b3c",
   "metadata": {},
   "source": [
    "### What are the 3 words that have high values on the 5 dimensions that are useful to describe \"grow\" ?"
   ]
  },
  {
   "cell_type": "code",
   "execution_count": 94,
   "id": "8e2a18e7-1710-4b71-bc46-3608b7c08cc6",
   "metadata": {},
   "outputs": [
    {
     "data": {
      "text/plain": [
       "[{'dimension': 246,\n",
       "  'value': 0.06423034330011075,\n",
       "  'stereotypes': [(0.25, 'stimulate'), (0.16, 'domestic'), (0.15, 'demand')]},\n",
       " {'dimension': 90,\n",
       "  'value': 0.06090808416389812,\n",
       "  'stereotypes': [(0.48, 'tariffs'), (0.31, 'merchandise'), (0.31, 'widen')]},\n",
       " {'dimension': 194,\n",
       "  'value': 0.044296788482835,\n",
       "  'stereotypes': [(0.3, 'gross'), (0.18, 'national'), (0.12, 'product')]},\n",
       " {'dimension': 277,\n",
       "  'value': 0.042081949058693245,\n",
       "  'stereotypes': [(0.09, 'closing'),\n",
       "   (0.08, 'first_quarter'),\n",
       "   (0.06, 'widely')]},\n",
       " {'dimension': 359,\n",
       "  'value': 0.028792912513842746,\n",
       "  'stereotypes': [(0.08, 'fast'), (0.04, 'door'), (0.03, 'M-1')]}]"
      ]
     },
     "execution_count": 94,
     "metadata": {},
     "output_type": "execute_result"
    }
   ],
   "source": [
    "sinr_vectors.get_obj_stereotypes(\"grow\", topk_dim=5, topk_val=3)"
   ]
  },
  {
   "cell_type": "markdown",
   "id": "da3be6c5-64ff-4c17-80f3-848b45405d8e",
   "metadata": {},
   "source": [
    "It can be compared with the words that constitute the communities representing these dimensions"
   ]
  },
  {
   "cell_type": "code",
   "execution_count": 81,
   "id": "9dcf5f37-2528-4128-a477-ce1e2b209581",
   "metadata": {},
   "outputs": [
    {
     "data": {
      "text/plain": [
       "[{'dimension': 246,\n",
       "  'value': 0.06423034330011075,\n",
       "  'stereotypes': [(0.25, 'stimulate'), (0.16, 'domestic'), (0.15, 'demand')],\n",
       "  'descriptors': [(0.25, 'stimulate'), (0.16, 'domestic'), (0.15, 'demand')]},\n",
       " {'dimension': 90,\n",
       "  'value': 0.06090808416389812,\n",
       "  'stereotypes': [(0.48, 'tariffs'), (0.31, 'merchandise'), (0.31, 'widen')],\n",
       "  'descriptors': [(0.48, 'tariffs'), (0.31, 'widen'), (0.31, 'merchandise')]},\n",
       " {'dimension': 194,\n",
       "  'value': 0.044296788482835,\n",
       "  'stereotypes': [(0.3, 'gross'), (0.18, 'national'), (0.12, 'product')],\n",
       "  'descriptors': [(0.3, 'gross'), (0.18, 'national'), (0.12, 'product')]},\n",
       " {'dimension': 277,\n",
       "  'value': 0.042081949058693245,\n",
       "  'stereotypes': [(0.09, 'closing'),\n",
       "   (0.08, 'first_quarter'),\n",
       "   (0.06, 'widely')],\n",
       "  'descriptors': [(0.09, 'closing'), (0.06, 'widely'), (0.06, 'soon')]},\n",
       " {'dimension': 359,\n",
       "  'value': 0.028792912513842746,\n",
       "  'stereotypes': [(0.08, 'fast'), (0.04, 'door'), (0.03, 'M-1')],\n",
       "  'descriptors': [(0.08, 'fast'), (0.03, 'grow'), (0.03, 'internal')]}]"
      ]
     },
     "execution_count": 81,
     "metadata": {},
     "output_type": "execute_result"
    }
   ],
   "source": [
    "sinr_vectors.get_obj_stereotypes_and_descriptors(\"grow\", topk_dim=5, topk_val=3)"
   ]
  },
  {
   "cell_type": "code",
   "execution_count": null,
   "id": "205e7e6c-d2f3-49fe-82ad-be51b2dc4d17",
   "metadata": {},
   "outputs": [],
   "source": []
  }
 ],
 "metadata": {
  "kernelspec": {
   "display_name": "py39",
   "language": "python",
   "name": "py39"
  },
  "language_info": {
   "codemirror_mode": {
    "name": "ipython",
    "version": 3
   },
   "file_extension": ".py",
   "mimetype": "text/x-python",
   "name": "python",
   "nbconvert_exporter": "python",
   "pygments_lexer": "ipython3",
   "version": "3.9.12"
  }
 },
 "nbformat": 4,
 "nbformat_minor": 5
}
